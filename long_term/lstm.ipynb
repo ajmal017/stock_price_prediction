{
 "cells": [
  {
   "cell_type": "code",
   "execution_count": 2,
   "metadata": {
    "id": "9Wd9PozEzZYR"
   },
   "outputs": [],
   "source": [
    "import pandas_datareader.data as web\n",
    "from pandas_datareader.nasdaq_trader import get_nasdaq_symbols\n",
    "from pandas_datareader._utils import RemoteDataError\n",
    "from datetime import datetime, timedelta\n",
    "import pandas as pd\n",
    "import matplotlib.pyplot as plt\n",
    "import numpy as np\n",
    "import pickle"
   ]
  },
  {
   "cell_type": "code",
   "execution_count": 3,
   "metadata": {
    "id": "aLYGPWfVzfu5"
   },
   "outputs": [],
   "source": [
    "def get_stock_dat(stock,start_date,end_date):\n",
    "  prices = web.DataReader(stock, 'yahoo', start=start_date, end=end_date).Close\n",
    "  return prices\n"
   ]
  },
  {
   "cell_type": "code",
   "execution_count": 35,
   "metadata": {
    "id": "3Mjh6TyvzkRQ"
   },
   "outputs": [],
   "source": [
    "start_date = datetime(2018,9,1)\n",
    "end_date = datetime(2020,10,6)\n",
    "stock = 'RUN'\n",
    "data = get_stock_dat(stock,start_date,end_date)"
   ]
  },
  {
   "cell_type": "code",
   "execution_count": 36,
   "metadata": {
    "id": "Rdd-Ql-B0cyQ"
   },
   "outputs": [],
   "source": [
    "df = data.reset_index()['Close']"
   ]
  },
  {
   "cell_type": "code",
   "execution_count": 37,
   "metadata": {
    "colab": {
     "base_uri": "https://localhost:8080/",
     "height": 282
    },
    "id": "9I_0NvFF0wl1",
    "outputId": "2cc79dd9-147d-403b-ef07-34199a976e03"
   },
   "outputs": [
    {
     "data": {
      "text/plain": [
       "<AxesSubplot:>"
      ]
     },
     "execution_count": 37,
     "metadata": {},
     "output_type": "execute_result"
    },
    {
     "data": {
      "image/png": "[encoded data removed]",
      "text/plain": [
       "<Figure size 432x288 with 1 Axes>"
      ]
     },
     "metadata": {
      "needs_background": "light"
     },
     "output_type": "display_data"
    }
   ],
   "source": [
    "df.plot()"
   ]
  },
  {
   "cell_type": "code",
   "execution_count": 38,
   "metadata": {
    "colab": {
     "base_uri": "https://localhost:8080/",
     "height": 85
    },
    "id": "dzySJ5uG1NS5",
    "outputId": "14360daa-787f-46b0-b943-aa717fedadd7"
   },
   "outputs": [
    {
     "data": {
      "text/plain": [
       "array([[0.0597682 ],\n",
       "       [0.05543919],\n",
       "       [0.05446167],\n",
       "       [0.05013266]])"
      ]
     },
     "execution_count": 38,
     "metadata": {},
     "output_type": "execute_result"
    }
   ],
   "source": [
    "from sklearn.preprocessing import MinMaxScaler\n",
    "scaler=MinMaxScaler(feature_range=(0,1))\n",
    "df=scaler.fit_transform(np.array(df).reshape(-1,1))\n",
    "df[1:5]"
   ]
  },
  {
   "cell_type": "code",
   "execution_count": 39,
   "metadata": {
    "colab": {
     "base_uri": "https://localhost:8080/",
     "height": 85
    },
    "id": "-fC_g36C_lmy",
    "outputId": "06072f93-7049-4bd8-ce55-04f908c349fc"
   },
   "outputs": [
    {
     "data": {
      "text/plain": [
       "array([[12.64000034],\n",
       "       [12.32999992],\n",
       "       [12.26000023],\n",
       "       [11.94999981]])"
      ]
     },
     "execution_count": 39,
     "metadata": {},
     "output_type": "execute_result"
    }
   ],
   "source": [
    "scaler.inverse_transform(df)[1:5]"
   ]
  },
  {
   "cell_type": "code",
   "execution_count": 40,
   "metadata": {
    "id": "qSs6P8jn2_h3"
   },
   "outputs": [],
   "source": [
    "training_size = int(len(df)*0.65)\n",
    "test_size = len(df) - training_size\n",
    "training_data,test_data = df[0:training_size,:],df[training_size:len(df),:1]"
   ]
  },
  {
   "cell_type": "code",
   "execution_count": null,
   "metadata": {
    "id": "v1GlQIK__a7f"
   },
   "outputs": [],
   "source": []
  },
  {
   "cell_type": "code",
   "execution_count": 41,
   "metadata": {
    "id": "TW2ySRm214Q-"
   },
   "outputs": [],
   "source": [
    "def create_dataset(dataset, time_step=1):\n",
    "\tdataX, dataY = [], []\n",
    "\tfor i in range(len(dataset)-time_step-1):\n",
    "\t\ta = dataset[i:(i+time_step), 0]   ###i=0, 0,1,2,3-----99   100 \n",
    "\t\tdataX.append(a)\n",
    "\t\tdataY.append(dataset[i + time_step, 0])\n",
    "\treturn np.array(dataX), np.array(dataY)\n"
   ]
  },
  {
   "cell_type": "code",
   "execution_count": 42,
   "metadata": {
    "id": "SeFz7b023ygR"
   },
   "outputs": [],
   "source": [
    "time_step = 50\n",
    "X_train,Y_train = create_dataset(training_data,time_step)\n",
    "X_test,Y_test = create_dataset(test_data,time_step)\n"
   ]
  },
  {
   "cell_type": "code",
   "execution_count": 43,
   "metadata": {
    "colab": {
     "base_uri": "https://localhost:8080/",
     "height": 34
    },
    "id": "gaakRIj95D8Z",
    "outputId": "1b461d16-f950-4535-d260-6a41ac6a8a9a"
   },
   "outputs": [
    {
     "data": {
      "text/plain": [
       "((291, 50), (134, 50))"
      ]
     },
     "execution_count": 43,
     "metadata": {},
     "output_type": "execute_result"
    }
   ],
   "source": [
    "X_train.shape,X_test.shape"
   ]
  },
  {
   "cell_type": "code",
   "execution_count": 44,
   "metadata": {
    "colab": {
     "base_uri": "https://localhost:8080/",
     "height": 34
    },
    "id": "FmKPpitF5Y9L",
    "outputId": "b77ccf39-4eb3-4259-fbb7-547343f6faef"
   },
   "outputs": [
    {
     "data": {
      "text/plain": [
       "((291,), (134,))"
      ]
     },
     "execution_count": 44,
     "metadata": {},
     "output_type": "execute_result"
    }
   ],
   "source": [
    "Y_train.shape,Y_test.shape"
   ]
  },
  {
   "cell_type": "code",
   "execution_count": 45,
   "metadata": {
    "id": "1b-mltdZ6Bpf"
   },
   "outputs": [],
   "source": [
    "X_train = X_train.reshape(X_train.shape[0],X_train.shape[1],1)\n",
    "X_test = X_test.reshape(X_test.shape[0],X_test.shape[1],1)"
   ]
  },
  {
   "cell_type": "code",
   "execution_count": 46,
   "metadata": {
    "id": "0ACQNxLR6ao7"
   },
   "outputs": [],
   "source": [
    "from tensorflow.keras.models import Sequential\n",
    "from tensorflow.keras.layers import Dense\n",
    "from tensorflow.keras.layers import LSTM"
   ]
  },
  {
   "cell_type": "code",
   "execution_count": 47,
   "metadata": {
    "id": "7b6ZSsnr6lWg"
   },
   "outputs": [],
   "source": [
    "model = Sequential()\n",
    "model.add(LSTM(50,return_sequences= True,input_shape=(time_step,1)))\n",
    "model.add(LSTM(50,return_sequences = True,))\n",
    "model.add(LSTM(50))\n",
    "model.add(Dense(1))\n",
    "model.compile(loss= 'mean_squared_error',optimizer = 'adam')"
   ]
  },
  {
   "cell_type": "code",
   "execution_count": 48,
   "metadata": {
    "colab": {
     "base_uri": "https://localhost:8080/",
     "height": 289
    },
    "id": "k0ygoshx7dsd",
    "outputId": "ea854739-ce24-4040-96f8-16d1ce4406bc"
   },
   "outputs": [
    {
     "name": "stdout",
     "output_type": "stream",
     "text": [
      "Model: \"sequential_1\"\n",
      "_________________________________________________________________\n",
      "Layer (type)                 Output Shape              Param #   \n",
      "=================================================================\n",
      "lstm_3 (LSTM)                (None, 50, 50)            10400     \n",
      "_________________________________________________________________\n",
      "lstm_4 (LSTM)                (None, 50, 50)            20200     \n",
      "_________________________________________________________________\n",
      "lstm_5 (LSTM)                (None, 50)                20200     \n",
      "_________________________________________________________________\n",
      "dense_1 (Dense)              (None, 1)                 51        \n",
      "=================================================================\n",
      "Total params: 50,851\n",
      "Trainable params: 50,851\n",
      "Non-trainable params: 0\n",
      "_________________________________________________________________\n"
     ]
    }
   ],
   "source": [
    "model.summary()"
   ]
  },
  {
   "cell_type": "code",
   "execution_count": 49,
   "metadata": {
    "colab": {
     "base_uri": "https://localhost:8080/",
     "height": 1000
    },
    "id": "BG7GNpQY7nC5",
    "outputId": "a23b0377-51f5-4a2e-a911-7fb70b2fb37e"
   },
   "outputs": [
    {
     "name": "stdout",
     "output_type": "stream",
     "text": [
      "Epoch 1/100\n",
      "5/5 [==============================] - 1s 216ms/step - loss: 0.0049 - val_loss: 0.0525\n",
      "Epoch 2/100\n",
      "5/5 [==============================] - 0s 42ms/step - loss: 0.0015 - val_loss: 0.0774\n",
      "Epoch 3/100\n",
      "5/5 [==============================] - 0s 43ms/step - loss: 8.9894e-04 - val_loss: 0.0903\n",
      "Epoch 4/100\n",
      "5/5 [==============================] - 0s 42ms/step - loss: 7.6569e-04 - val_loss: 0.0730\n",
      "Epoch 5/100\n",
      "5/5 [==============================] - 0s 42ms/step - loss: 6.8230e-04 - val_loss: 0.0660\n",
      "Epoch 6/100\n",
      "5/5 [==============================] - 0s 41ms/step - loss: 6.0355e-04 - val_loss: 0.0748\n",
      "Epoch 7/100\n",
      "5/5 [==============================] - 0s 40ms/step - loss: 5.9345e-04 - val_loss: 0.0717\n",
      "Epoch 8/100\n",
      "5/5 [==============================] - 0s 43ms/step - loss: 5.0988e-04 - val_loss: 0.0592\n",
      "Epoch 9/100\n",
      "5/5 [==============================] - 0s 40ms/step - loss: 5.0269e-04 - val_loss: 0.0549\n",
      "Epoch 10/100\n",
      "5/5 [==============================] - 0s 41ms/step - loss: 4.4397e-04 - val_loss: 0.0533\n",
      "Epoch 11/100\n",
      "5/5 [==============================] - 0s 41ms/step - loss: 4.2088e-04 - val_loss: 0.0418\n",
      "Epoch 12/100\n",
      "5/5 [==============================] - 0s 41ms/step - loss: 3.7959e-04 - val_loss: 0.0353\n",
      "Epoch 13/100\n",
      "5/5 [==============================] - 0s 40ms/step - loss: 3.4824e-04 - val_loss: 0.0295\n",
      "Epoch 14/100\n",
      "5/5 [==============================] - 0s 43ms/step - loss: 3.3319e-04 - val_loss: 0.0218\n",
      "Epoch 15/100\n",
      "5/5 [==============================] - 0s 46ms/step - loss: 3.2077e-04 - val_loss: 0.0192\n",
      "Epoch 16/100\n",
      "5/5 [==============================] - 0s 47ms/step - loss: 3.1522e-04 - val_loss: 0.0172\n",
      "Epoch 17/100\n",
      "5/5 [==============================] - 0s 46ms/step - loss: 3.0670e-04 - val_loss: 0.0176\n",
      "Epoch 18/100\n",
      "5/5 [==============================] - 0s 42ms/step - loss: 3.0268e-04 - val_loss: 0.0170\n",
      "Epoch 19/100\n",
      "5/5 [==============================] - 0s 41ms/step - loss: 2.9410e-04 - val_loss: 0.0181\n",
      "Epoch 20/100\n",
      "5/5 [==============================] - 0s 41ms/step - loss: 2.8592e-04 - val_loss: 0.0187\n",
      "Epoch 21/100\n",
      "5/5 [==============================] - 0s 40ms/step - loss: 2.8004e-04 - val_loss: 0.0186\n",
      "Epoch 22/100\n",
      "5/5 [==============================] - 0s 44ms/step - loss: 2.8193e-04 - val_loss: 0.0170\n",
      "Epoch 23/100\n",
      "5/5 [==============================] - 0s 44ms/step - loss: 2.7870e-04 - val_loss: 0.0169\n",
      "Epoch 24/100\n",
      "5/5 [==============================] - 0s 46ms/step - loss: 2.7417e-04 - val_loss: 0.0146\n",
      "Epoch 25/100\n",
      "5/5 [==============================] - 0s 41ms/step - loss: 2.5593e-04 - val_loss: 0.0152\n",
      "Epoch 26/100\n",
      "5/5 [==============================] - 0s 40ms/step - loss: 2.5163e-04 - val_loss: 0.0134\n",
      "Epoch 27/100\n",
      "5/5 [==============================] - 0s 42ms/step - loss: 2.3990e-04 - val_loss: 0.0150\n",
      "Epoch 28/100\n",
      "5/5 [==============================] - 0s 40ms/step - loss: 2.4443e-04 - val_loss: 0.0129\n",
      "Epoch 29/100\n",
      "5/5 [==============================] - 0s 40ms/step - loss: 2.2660e-04 - val_loss: 0.0143\n",
      "Epoch 30/100\n",
      "5/5 [==============================] - 0s 44ms/step - loss: 2.2708e-04 - val_loss: 0.0109\n",
      "Epoch 31/100\n",
      "5/5 [==============================] - 0s 45ms/step - loss: 2.1624e-04 - val_loss: 0.0116\n",
      "Epoch 32/100\n",
      "5/5 [==============================] - 0s 41ms/step - loss: 2.0946e-04 - val_loss: 0.0109\n",
      "Epoch 33/100\n",
      "5/5 [==============================] - 0s 47ms/step - loss: 2.0372e-04 - val_loss: 0.0115\n",
      "Epoch 34/100\n",
      "5/5 [==============================] - 0s 48ms/step - loss: 2.0817e-04 - val_loss: 0.0083\n",
      "Epoch 35/100\n",
      "5/5 [==============================] - 0s 50ms/step - loss: 2.0597e-04 - val_loss: 0.0086\n",
      "Epoch 36/100\n",
      "5/5 [==============================] - 0s 44ms/step - loss: 2.1306e-04 - val_loss: 0.0116\n",
      "Epoch 37/100\n",
      "5/5 [==============================] - 0s 42ms/step - loss: 2.1120e-04 - val_loss: 0.0084\n",
      "Epoch 38/100\n",
      "5/5 [==============================] - 0s 46ms/step - loss: 2.0205e-04 - val_loss: 0.0067\n",
      "Epoch 39/100\n",
      "5/5 [==============================] - 0s 63ms/step - loss: 2.0976e-04 - val_loss: 0.0082\n",
      "Epoch 40/100\n",
      "5/5 [==============================] - 0s 43ms/step - loss: 2.0199e-04 - val_loss: 0.0097\n",
      "Epoch 41/100\n",
      "5/5 [==============================] - 0s 39ms/step - loss: 1.9561e-04 - val_loss: 0.0082\n",
      "Epoch 42/100\n",
      "5/5 [==============================] - 0s 39ms/step - loss: 1.7775e-04 - val_loss: 0.0076\n",
      "Epoch 43/100\n",
      "5/5 [==============================] - 0s 39ms/step - loss: 1.8067e-04 - val_loss: 0.0084\n",
      "Epoch 44/100\n",
      "5/5 [==============================] - 0s 39ms/step - loss: 1.7762e-04 - val_loss: 0.0077\n",
      "Epoch 45/100\n",
      "5/5 [==============================] - 0s 39ms/step - loss: 1.7433e-04 - val_loss: 0.0063\n",
      "Epoch 46/100\n",
      "5/5 [==============================] - 0s 39ms/step - loss: 1.7213e-04 - val_loss: 0.0062\n",
      "Epoch 47/100\n",
      "5/5 [==============================] - 0s 39ms/step - loss: 1.6789e-04 - val_loss: 0.0066\n",
      "Epoch 48/100\n",
      "5/5 [==============================] - 0s 39ms/step - loss: 1.6492e-04 - val_loss: 0.0049\n",
      "Epoch 49/100\n",
      "5/5 [==============================] - 0s 39ms/step - loss: 1.6847e-04 - val_loss: 0.0057\n",
      "Epoch 50/100\n",
      "5/5 [==============================] - 0s 38ms/step - loss: 1.6388e-04 - val_loss: 0.0056\n",
      "Epoch 51/100\n",
      "5/5 [==============================] - 0s 39ms/step - loss: 1.6265e-04 - val_loss: 0.0054\n",
      "Epoch 52/100\n",
      "5/5 [==============================] - 0s 39ms/step - loss: 1.6598e-04 - val_loss: 0.0068\n",
      "Epoch 53/100\n",
      "5/5 [==============================] - 0s 39ms/step - loss: 1.7868e-04 - val_loss: 0.0049\n",
      "Epoch 54/100\n",
      "5/5 [==============================] - 0s 42ms/step - loss: 1.6401e-04 - val_loss: 0.0041\n",
      "Epoch 55/100\n",
      "5/5 [==============================] - 0s 52ms/step - loss: 1.6539e-04 - val_loss: 0.0055\n",
      "Epoch 56/100\n",
      "5/5 [==============================] - 0s 53ms/step - loss: 1.5885e-04 - val_loss: 0.0060\n",
      "Epoch 57/100\n",
      "5/5 [==============================] - 0s 54ms/step - loss: 1.7596e-04 - val_loss: 0.0039\n",
      "Epoch 58/100\n",
      "5/5 [==============================] - 0s 41ms/step - loss: 1.6145e-04 - val_loss: 0.0057\n",
      "Epoch 59/100\n",
      "5/5 [==============================] - 0s 44ms/step - loss: 1.5849e-04 - val_loss: 0.0046\n",
      "Epoch 60/100\n",
      "5/5 [==============================] - 0s 49ms/step - loss: 1.5736e-04 - val_loss: 0.0046\n",
      "Epoch 61/100\n",
      "5/5 [==============================] - 0s 40ms/step - loss: 1.5714e-04 - val_loss: 0.0046\n",
      "Epoch 62/100\n",
      "5/5 [==============================] - 0s 41ms/step - loss: 1.5400e-04 - val_loss: 0.0045\n",
      "Epoch 63/100\n",
      "5/5 [==============================] - 0s 41ms/step - loss: 1.5138e-04 - val_loss: 0.0036\n",
      "Epoch 64/100\n",
      "5/5 [==============================] - 0s 41ms/step - loss: 1.5160e-04 - val_loss: 0.0038\n",
      "Epoch 65/100\n",
      "5/5 [==============================] - 0s 45ms/step - loss: 1.5010e-04 - val_loss: 0.0052\n",
      "Epoch 66/100\n",
      "5/5 [==============================] - 0s 44ms/step - loss: 1.6304e-04 - val_loss: 0.0036\n",
      "Epoch 67/100\n",
      "5/5 [==============================] - 0s 43ms/step - loss: 1.5083e-04 - val_loss: 0.0047\n",
      "Epoch 68/100\n",
      "5/5 [==============================] - 0s 49ms/step - loss: 1.5258e-04 - val_loss: 0.0040\n",
      "Epoch 69/100\n",
      "5/5 [==============================] - 0s 52ms/step - loss: 1.4707e-04 - val_loss: 0.0036\n",
      "Epoch 70/100\n",
      "5/5 [==============================] - 0s 75ms/step - loss: 1.4918e-04 - val_loss: 0.0038\n",
      "Epoch 71/100\n",
      "5/5 [==============================] - 0s 45ms/step - loss: 1.4724e-04 - val_loss: 0.0032\n",
      "Epoch 72/100\n",
      "5/5 [==============================] - 0s 49ms/step - loss: 1.5226e-04 - val_loss: 0.0035\n",
      "Epoch 73/100\n",
      "5/5 [==============================] - 0s 49ms/step - loss: 1.4340e-04 - val_loss: 0.0035\n",
      "Epoch 74/100\n",
      "5/5 [==============================] - 0s 47ms/step - loss: 1.4461e-04 - val_loss: 0.0031\n",
      "Epoch 75/100\n",
      "5/5 [==============================] - 0s 50ms/step - loss: 1.4733e-04 - val_loss: 0.0033\n",
      "Epoch 76/100\n",
      "5/5 [==============================] - 0s 60ms/step - loss: 1.4151e-04 - val_loss: 0.0033\n",
      "Epoch 77/100\n",
      "5/5 [==============================] - 0s 55ms/step - loss: 1.4082e-04 - val_loss: 0.0033\n",
      "Epoch 78/100\n",
      "5/5 [==============================] - 0s 68ms/step - loss: 1.4603e-04 - val_loss: 0.0039\n",
      "Epoch 79/100\n",
      "5/5 [==============================] - 0s 50ms/step - loss: 1.3859e-04 - val_loss: 0.0027\n",
      "Epoch 80/100\n",
      "5/5 [==============================] - 0s 43ms/step - loss: 1.4526e-04 - val_loss: 0.0026\n",
      "Epoch 81/100\n",
      "5/5 [==============================] - 0s 43ms/step - loss: 1.4245e-04 - val_loss: 0.0037\n",
      "Epoch 82/100\n",
      "5/5 [==============================] - 0s 42ms/step - loss: 1.6048e-04 - val_loss: 0.0029\n",
      "Epoch 83/100\n",
      "5/5 [==============================] - 0s 40ms/step - loss: 1.3914e-04 - val_loss: 0.0044\n",
      "Epoch 84/100\n",
      "5/5 [==============================] - 0s 40ms/step - loss: 1.3962e-04 - val_loss: 0.0026\n",
      "Epoch 85/100\n",
      "5/5 [==============================] - 0s 40ms/step - loss: 1.3888e-04 - val_loss: 0.0024\n",
      "Epoch 86/100\n",
      "5/5 [==============================] - 0s 43ms/step - loss: 1.3930e-04 - val_loss: 0.0024\n",
      "Epoch 87/100\n",
      "5/5 [==============================] - 0s 42ms/step - loss: 1.3680e-04 - val_loss: 0.0031\n",
      "Epoch 88/100\n",
      "5/5 [==============================] - 0s 42ms/step - loss: 1.4366e-04 - val_loss: 0.0029\n",
      "Epoch 89/100\n",
      "5/5 [==============================] - 0s 39ms/step - loss: 1.3713e-04 - val_loss: 0.0025\n",
      "Epoch 90/100\n",
      "5/5 [==============================] - 0s 42ms/step - loss: 1.4978e-04 - val_loss: 0.0030\n",
      "Epoch 91/100\n",
      "5/5 [==============================] - 0s 42ms/step - loss: 1.4220e-04 - val_loss: 0.0030\n",
      "Epoch 92/100\n",
      "5/5 [==============================] - 0s 41ms/step - loss: 1.3911e-04 - val_loss: 0.0023\n",
      "Epoch 93/100\n",
      "5/5 [==============================] - 0s 39ms/step - loss: 1.3277e-04 - val_loss: 0.0022\n",
      "Epoch 94/100\n",
      "5/5 [==============================] - 0s 43ms/step - loss: 1.3496e-04 - val_loss: 0.0028\n",
      "Epoch 95/100\n",
      "5/5 [==============================] - 0s 42ms/step - loss: 1.3060e-04 - val_loss: 0.0029\n",
      "Epoch 96/100\n",
      "5/5 [==============================] - 0s 42ms/step - loss: 1.3225e-04 - val_loss: 0.0024\n",
      "Epoch 97/100\n",
      "5/5 [==============================] - 0s 47ms/step - loss: 1.3556e-04 - val_loss: 0.0030\n",
      "Epoch 98/100\n",
      "5/5 [==============================] - 0s 44ms/step - loss: 1.3825e-04 - val_loss: 0.0021\n",
      "Epoch 99/100\n",
      "5/5 [==============================] - 0s 42ms/step - loss: 1.3033e-04 - val_loss: 0.0025\n",
      "Epoch 100/100\n",
      "5/5 [==============================] - 0s 39ms/step - loss: 1.2950e-04 - val_loss: 0.0024\n"
     ]
    },
    {
     "data": {
      "text/plain": [
       "<tensorflow.python.keras.callbacks.History at 0x7fb624b821c0>"
      ]
     },
     "execution_count": 49,
     "metadata": {},
     "output_type": "execute_result"
    }
   ],
   "source": [
    "model.fit(X_train,Y_train,validation_data = (X_test,Y_test),epochs = 100,batch_size = 64,verbose = 1)"
   ]
  },
  {
   "cell_type": "code",
   "execution_count": 50,
   "metadata": {
    "id": "ve8dbttL750M"
   },
   "outputs": [],
   "source": [
    "train_predict = model.predict(X_train)\n",
    "test_predict = model.predict(X_test)\n"
   ]
  },
  {
   "cell_type": "code",
   "execution_count": 51,
   "metadata": {
    "id": "q-1qOxOf_HAJ"
   },
   "outputs": [],
   "source": [
    "train_predict = scaler.inverse_transform(train_predict)\n",
    "test_predict = scaler.inverse_transform(test_predict)\n"
   ]
  },
  {
   "cell_type": "code",
   "execution_count": 52,
   "metadata": {
    "colab": {
     "base_uri": "https://localhost:8080/",
     "height": 34
    },
    "id": "WoxDokse8bYk",
    "outputId": "5737517d-f862-4fe3-b9ad-61d5b7947e6b"
   },
   "outputs": [
    {
     "data": {
      "text/plain": [
       "15.38748641882168"
      ]
     },
     "execution_count": 52,
     "metadata": {},
     "output_type": "execute_result"
    }
   ],
   "source": [
    "# root mean squared error\n",
    "import math\n",
    "from sklearn.metrics import mean_squared_error\n",
    "math.sqrt(mean_squared_error(Y_train,train_predict))"
   ]
  },
  {
   "cell_type": "code",
   "execution_count": 53,
   "metadata": {
    "colab": {
     "base_uri": "https://localhost:8080/",
     "height": 34
    },
    "id": "xY_V-OIy8sM1",
    "outputId": "130037e7-60c7-4bfa-b38e-accc9215d707"
   },
   "outputs": [
    {
     "data": {
      "text/plain": [
       "35.05548861991258"
      ]
     },
     "execution_count": 53,
     "metadata": {},
     "output_type": "execute_result"
    }
   ],
   "source": [
    "math.sqrt(mean_squared_error(Y_test,test_predict))"
   ]
  },
  {
   "cell_type": "code",
   "execution_count": 54,
   "metadata": {
    "colab": {
     "base_uri": "https://localhost:8080/",
     "height": 267
    },
    "id": "0WQTe4xG85dW",
    "outputId": "cfa25132-70f4-40f5-8b72-0e0e426ff581"
   },
   "outputs": [
    {
     "data": {
      "image/png": "[encoded data removed]",
      "text/plain": [
       "<Figure size 432x288 with 1 Axes>"
      ]
     },
     "metadata": {
      "needs_background": "light"
     },
     "output_type": "display_data"
    }
   ],
   "source": [
    "### Plotting \n",
    "# shift train predictions for plotting\n",
    "look_back= time_step\n",
    "trainPredictPlot = np.empty_like(df)\n",
    "trainPredictPlot[:, :] = np.nan\n",
    "trainPredictPlot[look_back:len(train_predict)+look_back, :] = train_predict\n",
    "# shift test predictions for plotting\n",
    "testPredictPlot = np.empty_like(df)\n",
    "testPredictPlot[:, :] = np.nan\n",
    "testPredictPlot[len(train_predict)+(look_back*2)+1:len(df)-1, :] = test_predict\n",
    "# plot baseline and predictions\n",
    "plt.plot(scaler.inverse_transform(df))\n",
    "plt.plot(trainPredictPlot)\n",
    "plt.plot(testPredictPlot)\n",
    "plt.show()\n"
   ]
  },
  {
   "cell_type": "code",
   "execution_count": 55,
   "metadata": {
    "id": "8E6MTkF39Qpp"
   },
   "outputs": [],
   "source": [
    "n = len(test_data)-100\n"
   ]
  },
  {
   "cell_type": "code",
   "execution_count": 56,
   "metadata": {
    "colab": {
     "base_uri": "https://localhost:8080/",
     "height": 34
    },
    "id": "0cnypTo79rPM",
    "outputId": "df55f0d9-b59c-43eb-d4e5-1273d4fb8776"
   },
   "outputs": [
    {
     "data": {
      "text/plain": [
       "(1, 100)"
      ]
     },
     "execution_count": 56,
     "metadata": {},
     "output_type": "execute_result"
    }
   ],
   "source": [
    "x_input=test_data[n:].reshape(1,-1)\n",
    "x_input.shape"
   ]
  },
  {
   "cell_type": "code",
   "execution_count": 57,
   "metadata": {
    "id": "j0C6Iz5d9tTC"
   },
   "outputs": [],
   "source": [
    "\n",
    "temp_input=list(x_input)\n",
    "temp_input=temp_input[0].tolist()"
   ]
  },
  {
   "cell_type": "code",
   "execution_count": 58,
   "metadata": {
    "id": "Ujfty6df9wXZ"
   },
   "outputs": [],
   "source": [
    "#\n"
   ]
  },
  {
   "cell_type": "code",
   "execution_count": 59,
   "metadata": {
    "colab": {
     "base_uri": "https://localhost:8080/",
     "height": 1000
    },
    "id": "KcAp63oB9yL4",
    "outputId": "28bf93e6-62c0-4ef8-93ac-110974ae53ac"
   },
   "outputs": [
    {
     "name": "stdout",
     "output_type": "stream",
     "text": [
      "WARNING:tensorflow:Model was constructed with shape (None, 50, 1) for input Tensor(\"lstm_3_input:0\", shape=(None, 50, 1), dtype=float32), but it was called on an input with incompatible shape (None, 100, 1).\n",
      "[1.03433]\n",
      "101\n",
      "1 day input [0.09467952 0.0998464  0.1054322  0.10766653 0.10473397 0.11129731\n",
      " 0.11855887 0.11269376 0.11646419 0.13000978 0.13378021 0.1429968\n",
      " 0.13859796 0.1442536  0.15751989 0.1531909  0.14327609 0.1229577\n",
      " 0.13364056 0.14844295 0.16394359 0.15263233 0.15975421 0.16108086\n",
      " 0.16212819 0.15891635 0.15863705 0.16087138 0.1427175  0.15584416\n",
      " 0.15863705 0.16031281 0.16254713 0.1812596  0.24870828 0.2780338\n",
      " 0.2718894  0.28662198 0.30344924 0.35497833 0.38339615 0.39505657\n",
      " 0.3972909  0.4194945  0.4275939  0.44672529 0.47619046 0.45566264\n",
      " 0.47674905 0.4482614  0.39442814 0.39533582 0.39561511 0.43876551\n",
      " 0.49127218 0.53121074 0.53302609 0.52562491 0.54349949 0.47493365\n",
      " 0.51082249 0.53581901 0.52045804 0.54978354 0.52995393 0.55550899\n",
      " 0.52555507 0.5567658  0.59544755 0.59251502 0.58190194 0.61080852\n",
      " 0.65842756 0.67302052 0.69696969 0.68028208 0.59754226 0.57066049\n",
      " 0.60787598 0.65465718 0.66792345 0.66359448 0.70856022 0.73523247\n",
      " 0.7536657  0.71442536 0.73313783 0.72392124 0.760229   0.74514733\n",
      " 0.72992599 0.81133917 0.88842344 0.89987435 0.95950284 1.\n",
      " 0.9508448  0.98114791 0.98044964 1.03433001]\n",
      "1 day output [[1.065841]]\n",
      "2 day input [0.0998464  0.1054322  0.10766653 0.10473397 0.11129731 0.11855887\n",
      " 0.11269376 0.11646419 0.13000978 0.13378021 0.1429968  0.13859796\n",
      " 0.1442536  0.15751989 0.1531909  0.14327609 0.1229577  0.13364056\n",
      " 0.14844295 0.16394359 0.15263233 0.15975421 0.16108086 0.16212819\n",
      " 0.15891635 0.15863705 0.16087138 0.1427175  0.15584416 0.15863705\n",
      " 0.16031281 0.16254713 0.1812596  0.24870828 0.2780338  0.2718894\n",
      " 0.28662198 0.30344924 0.35497833 0.38339615 0.39505657 0.3972909\n",
      " 0.4194945  0.4275939  0.44672529 0.47619046 0.45566264 0.47674905\n",
      " 0.4482614  0.39442814 0.39533582 0.39561511 0.43876551 0.49127218\n",
      " 0.53121074 0.53302609 0.52562491 0.54349949 0.47493365 0.51082249\n",
      " 0.53581901 0.52045804 0.54978354 0.52995393 0.55550899 0.52555507\n",
      " 0.5567658  0.59544755 0.59251502 0.58190194 0.61080852 0.65842756\n",
      " 0.67302052 0.69696969 0.68028208 0.59754226 0.57066049 0.60787598\n",
      " 0.65465718 0.66792345 0.66359448 0.70856022 0.73523247 0.7536657\n",
      " 0.71442536 0.73313783 0.72392124 0.760229   0.74514733 0.72992599\n",
      " 0.81133917 0.88842344 0.89987435 0.95950284 1.         0.9508448\n",
      " 0.98114791 0.98044964 1.03433001 1.06584096]\n",
      "2 day output [[1.0952123]]\n",
      "3 day input [0.1054322  0.10766653 0.10473397 0.11129731 0.11855887 0.11269376\n",
      " 0.11646419 0.13000978 0.13378021 0.1429968  0.13859796 0.1442536\n",
      " 0.15751989 0.1531909  0.14327609 0.1229577  0.13364056 0.14844295\n",
      " 0.16394359 0.15263233 0.15975421 0.16108086 0.16212819 0.15891635\n",
      " 0.15863705 0.16087138 0.1427175  0.15584416 0.15863705 0.16031281\n",
      " 0.16254713 0.1812596  0.24870828 0.2780338  0.2718894  0.28662198\n",
      " 0.30344924 0.35497833 0.38339615 0.39505657 0.3972909  0.4194945\n",
      " 0.4275939  0.44672529 0.47619046 0.45566264 0.47674905 0.4482614\n",
      " 0.39442814 0.39533582 0.39561511 0.43876551 0.49127218 0.53121074\n",
      " 0.53302609 0.52562491 0.54349949 0.47493365 0.51082249 0.53581901\n",
      " 0.52045804 0.54978354 0.52995393 0.55550899 0.52555507 0.5567658\n",
      " 0.59544755 0.59251502 0.58190194 0.61080852 0.65842756 0.67302052\n",
      " 0.69696969 0.68028208 0.59754226 0.57066049 0.60787598 0.65465718\n",
      " 0.66792345 0.66359448 0.70856022 0.73523247 0.7536657  0.71442536\n",
      " 0.73313783 0.72392124 0.760229   0.74514733 0.72992599 0.81133917\n",
      " 0.88842344 0.89987435 0.95950284 1.         0.9508448  0.98114791\n",
      " 0.98044964 1.03433001 1.06584096 1.09521234]\n",
      "3 day output [[1.1238507]]\n",
      "4 day input [0.10766653 0.10473397 0.11129731 0.11855887 0.11269376 0.11646419\n",
      " 0.13000978 0.13378021 0.1429968  0.13859796 0.1442536  0.15751989\n",
      " 0.1531909  0.14327609 0.1229577  0.13364056 0.14844295 0.16394359\n",
      " 0.15263233 0.15975421 0.16108086 0.16212819 0.15891635 0.15863705\n",
      " 0.16087138 0.1427175  0.15584416 0.15863705 0.16031281 0.16254713\n",
      " 0.1812596  0.24870828 0.2780338  0.2718894  0.28662198 0.30344924\n",
      " 0.35497833 0.38339615 0.39505657 0.3972909  0.4194945  0.4275939\n",
      " 0.44672529 0.47619046 0.45566264 0.47674905 0.4482614  0.39442814\n",
      " 0.39533582 0.39561511 0.43876551 0.49127218 0.53121074 0.53302609\n",
      " 0.52562491 0.54349949 0.47493365 0.51082249 0.53581901 0.52045804\n",
      " 0.54978354 0.52995393 0.55550899 0.52555507 0.5567658  0.59544755\n",
      " 0.59251502 0.58190194 0.61080852 0.65842756 0.67302052 0.69696969\n",
      " 0.68028208 0.59754226 0.57066049 0.60787598 0.65465718 0.66792345\n",
      " 0.66359448 0.70856022 0.73523247 0.7536657  0.71442536 0.73313783\n",
      " 0.72392124 0.760229   0.74514733 0.72992599 0.81133917 0.88842344\n",
      " 0.89987435 0.95950284 1.         0.9508448  0.98114791 0.98044964\n",
      " 1.03433001 1.06584096 1.09521234 1.1238507 ]\n",
      "4 day output [[1.1526202]]\n",
      "5 day input [0.10473397 0.11129731 0.11855887 0.11269376 0.11646419 0.13000978\n",
      " 0.13378021 0.1429968  0.13859796 0.1442536  0.15751989 0.1531909\n",
      " 0.14327609 0.1229577  0.13364056 0.14844295 0.16394359 0.15263233\n",
      " 0.15975421 0.16108086 0.16212819 0.15891635 0.15863705 0.16087138\n",
      " 0.1427175  0.15584416 0.15863705 0.16031281 0.16254713 0.1812596\n",
      " 0.24870828 0.2780338  0.2718894  0.28662198 0.30344924 0.35497833\n",
      " 0.38339615 0.39505657 0.3972909  0.4194945  0.4275939  0.44672529\n",
      " 0.47619046 0.45566264 0.47674905 0.4482614  0.39442814 0.39533582\n",
      " 0.39561511 0.43876551 0.49127218 0.53121074 0.53302609 0.52562491\n",
      " 0.54349949 0.47493365 0.51082249 0.53581901 0.52045804 0.54978354\n",
      " 0.52995393 0.55550899 0.52555507 0.5567658  0.59544755 0.59251502\n",
      " 0.58190194 0.61080852 0.65842756 0.67302052 0.69696969 0.68028208\n",
      " 0.59754226 0.57066049 0.60787598 0.65465718 0.66792345 0.66359448\n",
      " 0.70856022 0.73523247 0.7536657  0.71442536 0.73313783 0.72392124\n",
      " 0.760229   0.74514733 0.72992599 0.81133917 0.88842344 0.89987435\n",
      " 0.95950284 1.         0.9508448  0.98114791 0.98044964 1.03433001\n",
      " 1.06584096 1.09521234 1.1238507  1.1526202 ]\n",
      "5 day output [[1.181976]]\n",
      "6 day input [0.11129731 0.11855887 0.11269376 0.11646419 0.13000978 0.13378021\n",
      " 0.1429968  0.13859796 0.1442536  0.15751989 0.1531909  0.14327609\n",
      " 0.1229577  0.13364056 0.14844295 0.16394359 0.15263233 0.15975421\n",
      " 0.16108086 0.16212819 0.15891635 0.15863705 0.16087138 0.1427175\n",
      " 0.15584416 0.15863705 0.16031281 0.16254713 0.1812596  0.24870828\n",
      " 0.2780338  0.2718894  0.28662198 0.30344924 0.35497833 0.38339615\n",
      " 0.39505657 0.3972909  0.4194945  0.4275939  0.44672529 0.47619046\n",
      " 0.45566264 0.47674905 0.4482614  0.39442814 0.39533582 0.39561511\n",
      " 0.43876551 0.49127218 0.53121074 0.53302609 0.52562491 0.54349949\n",
      " 0.47493365 0.51082249 0.53581901 0.52045804 0.54978354 0.52995393\n",
      " 0.55550899 0.52555507 0.5567658  0.59544755 0.59251502 0.58190194\n",
      " 0.61080852 0.65842756 0.67302052 0.69696969 0.68028208 0.59754226\n",
      " 0.57066049 0.60787598 0.65465718 0.66792345 0.66359448 0.70856022\n",
      " 0.73523247 0.7536657  0.71442536 0.73313783 0.72392124 0.760229\n",
      " 0.74514733 0.72992599 0.81133917 0.88842344 0.89987435 0.95950284\n",
      " 1.         0.9508448  0.98114791 0.98044964 1.03433001 1.06584096\n",
      " 1.09521234 1.1238507  1.1526202  1.18197596]\n",
      "6 day output [[1.2121168]]\n",
      "7 day input [0.11855887 0.11269376 0.11646419 0.13000978 0.13378021 0.1429968\n",
      " 0.13859796 0.1442536  0.15751989 0.1531909  0.14327609 0.1229577\n",
      " 0.13364056 0.14844295 0.16394359 0.15263233 0.15975421 0.16108086\n",
      " 0.16212819 0.15891635 0.15863705 0.16087138 0.1427175  0.15584416\n",
      " 0.15863705 0.16031281 0.16254713 0.1812596  0.24870828 0.2780338\n",
      " 0.2718894  0.28662198 0.30344924 0.35497833 0.38339615 0.39505657\n",
      " 0.3972909  0.4194945  0.4275939  0.44672529 0.47619046 0.45566264\n",
      " 0.47674905 0.4482614  0.39442814 0.39533582 0.39561511 0.43876551\n",
      " 0.49127218 0.53121074 0.53302609 0.52562491 0.54349949 0.47493365\n",
      " 0.51082249 0.53581901 0.52045804 0.54978354 0.52995393 0.55550899\n",
      " 0.52555507 0.5567658  0.59544755 0.59251502 0.58190194 0.61080852\n",
      " 0.65842756 0.67302052 0.69696969 0.68028208 0.59754226 0.57066049\n",
      " 0.60787598 0.65465718 0.66792345 0.66359448 0.70856022 0.73523247\n",
      " 0.7536657  0.71442536 0.73313783 0.72392124 0.760229   0.74514733\n",
      " 0.72992599 0.81133917 0.88842344 0.89987435 0.95950284 1.\n",
      " 0.9508448  0.98114791 0.98044964 1.03433001 1.06584096 1.09521234\n",
      " 1.1238507  1.1526202  1.18197596 1.21211684]\n",
      "7 day output [[1.2431009]]\n",
      "8 day input [0.11269376 0.11646419 0.13000978 0.13378021 0.1429968  0.13859796\n",
      " 0.1442536  0.15751989 0.1531909  0.14327609 0.1229577  0.13364056\n",
      " 0.14844295 0.16394359 0.15263233 0.15975421 0.16108086 0.16212819\n",
      " 0.15891635 0.15863705 0.16087138 0.1427175  0.15584416 0.15863705\n",
      " 0.16031281 0.16254713 0.1812596  0.24870828 0.2780338  0.2718894\n",
      " 0.28662198 0.30344924 0.35497833 0.38339615 0.39505657 0.3972909\n",
      " 0.4194945  0.4275939  0.44672529 0.47619046 0.45566264 0.47674905\n",
      " 0.4482614  0.39442814 0.39533582 0.39561511 0.43876551 0.49127218\n",
      " 0.53121074 0.53302609 0.52562491 0.54349949 0.47493365 0.51082249\n",
      " 0.53581901 0.52045804 0.54978354 0.52995393 0.55550899 0.52555507\n",
      " 0.5567658  0.59544755 0.59251502 0.58190194 0.61080852 0.65842756\n",
      " 0.67302052 0.69696969 0.68028208 0.59754226 0.57066049 0.60787598\n",
      " 0.65465718 0.66792345 0.66359448 0.70856022 0.73523247 0.7536657\n",
      " 0.71442536 0.73313783 0.72392124 0.760229   0.74514733 0.72992599\n",
      " 0.81133917 0.88842344 0.89987435 0.95950284 1.         0.9508448\n",
      " 0.98114791 0.98044964 1.03433001 1.06584096 1.09521234 1.1238507\n",
      " 1.1526202  1.18197596 1.21211684 1.24310088]\n",
      "8 day output [[1.2749159]]\n",
      "9 day input [0.11646419 0.13000978 0.13378021 0.1429968  0.13859796 0.1442536\n",
      " 0.15751989 0.1531909  0.14327609 0.1229577  0.13364056 0.14844295\n",
      " 0.16394359 0.15263233 0.15975421 0.16108086 0.16212819 0.15891635\n",
      " 0.15863705 0.16087138 0.1427175  0.15584416 0.15863705 0.16031281\n",
      " 0.16254713 0.1812596  0.24870828 0.2780338  0.2718894  0.28662198\n",
      " 0.30344924 0.35497833 0.38339615 0.39505657 0.3972909  0.4194945\n",
      " 0.4275939  0.44672529 0.47619046 0.45566264 0.47674905 0.4482614\n",
      " 0.39442814 0.39533582 0.39561511 0.43876551 0.49127218 0.53121074\n",
      " 0.53302609 0.52562491 0.54349949 0.47493365 0.51082249 0.53581901\n",
      " 0.52045804 0.54978354 0.52995393 0.55550899 0.52555507 0.5567658\n",
      " 0.59544755 0.59251502 0.58190194 0.61080852 0.65842756 0.67302052\n",
      " 0.69696969 0.68028208 0.59754226 0.57066049 0.60787598 0.65465718\n",
      " 0.66792345 0.66359448 0.70856022 0.73523247 0.7536657  0.71442536\n",
      " 0.73313783 0.72392124 0.760229   0.74514733 0.72992599 0.81133917\n",
      " 0.88842344 0.89987435 0.95950284 1.         0.9508448  0.98114791\n",
      " 0.98044964 1.03433001 1.06584096 1.09521234 1.1238507  1.1526202\n",
      " 1.18197596 1.21211684 1.24310088 1.27491593]\n",
      "9 day output [[1.3075217]]\n",
      "10 day input [0.13000978 0.13378021 0.1429968  0.13859796 0.1442536  0.15751989\n",
      " 0.1531909  0.14327609 0.1229577  0.13364056 0.14844295 0.16394359\n",
      " 0.15263233 0.15975421 0.16108086 0.16212819 0.15891635 0.15863705\n",
      " 0.16087138 0.1427175  0.15584416 0.15863705 0.16031281 0.16254713\n",
      " 0.1812596  0.24870828 0.2780338  0.2718894  0.28662198 0.30344924\n",
      " 0.35497833 0.38339615 0.39505657 0.3972909  0.4194945  0.4275939\n",
      " 0.44672529 0.47619046 0.45566264 0.47674905 0.4482614  0.39442814\n",
      " 0.39533582 0.39561511 0.43876551 0.49127218 0.53121074 0.53302609\n",
      " 0.52562491 0.54349949 0.47493365 0.51082249 0.53581901 0.52045804\n",
      " 0.54978354 0.52995393 0.55550899 0.52555507 0.5567658  0.59544755\n",
      " 0.59251502 0.58190194 0.61080852 0.65842756 0.67302052 0.69696969\n",
      " 0.68028208 0.59754226 0.57066049 0.60787598 0.65465718 0.66792345\n",
      " 0.66359448 0.70856022 0.73523247 0.7536657  0.71442536 0.73313783\n",
      " 0.72392124 0.760229   0.74514733 0.72992599 0.81133917 0.88842344\n",
      " 0.89987435 0.95950284 1.         0.9508448  0.98114791 0.98044964\n",
      " 1.03433001 1.06584096 1.09521234 1.1238507  1.1526202  1.18197596\n",
      " 1.21211684 1.24310088 1.27491593 1.3075217 ]\n",
      "10 day output [[1.340867]]\n",
      "11 day input [0.13378021 0.1429968  0.13859796 0.1442536  0.15751989 0.1531909\n",
      " 0.14327609 0.1229577  0.13364056 0.14844295 0.16394359 0.15263233\n",
      " 0.15975421 0.16108086 0.16212819 0.15891635 0.15863705 0.16087138\n",
      " 0.1427175  0.15584416 0.15863705 0.16031281 0.16254713 0.1812596\n",
      " 0.24870828 0.2780338  0.2718894  0.28662198 0.30344924 0.35497833\n",
      " 0.38339615 0.39505657 0.3972909  0.4194945  0.4275939  0.44672529\n",
      " 0.47619046 0.45566264 0.47674905 0.4482614  0.39442814 0.39533582\n",
      " 0.39561511 0.43876551 0.49127218 0.53121074 0.53302609 0.52562491\n",
      " 0.54349949 0.47493365 0.51082249 0.53581901 0.52045804 0.54978354\n",
      " 0.52995393 0.55550899 0.52555507 0.5567658  0.59544755 0.59251502\n",
      " 0.58190194 0.61080852 0.65842756 0.67302052 0.69696969 0.68028208\n",
      " 0.59754226 0.57066049 0.60787598 0.65465718 0.66792345 0.66359448\n",
      " 0.70856022 0.73523247 0.7536657  0.71442536 0.73313783 0.72392124\n",
      " 0.760229   0.74514733 0.72992599 0.81133917 0.88842344 0.89987435\n",
      " 0.95950284 1.         0.9508448  0.98114791 0.98044964 1.03433001\n",
      " 1.06584096 1.09521234 1.1238507  1.1526202  1.18197596 1.21211684\n",
      " 1.24310088 1.27491593 1.3075217  1.34086704]\n",
      "11 day output [[1.3748919]]\n",
      "12 day input [0.1429968  0.13859796 0.1442536  0.15751989 0.1531909  0.14327609\n",
      " 0.1229577  0.13364056 0.14844295 0.16394359 0.15263233 0.15975421\n",
      " 0.16108086 0.16212819 0.15891635 0.15863705 0.16087138 0.1427175\n",
      " 0.15584416 0.15863705 0.16031281 0.16254713 0.1812596  0.24870828\n",
      " 0.2780338  0.2718894  0.28662198 0.30344924 0.35497833 0.38339615\n",
      " 0.39505657 0.3972909  0.4194945  0.4275939  0.44672529 0.47619046\n",
      " 0.45566264 0.47674905 0.4482614  0.39442814 0.39533582 0.39561511\n",
      " 0.43876551 0.49127218 0.53121074 0.53302609 0.52562491 0.54349949\n",
      " 0.47493365 0.51082249 0.53581901 0.52045804 0.54978354 0.52995393\n",
      " 0.55550899 0.52555507 0.5567658  0.59544755 0.59251502 0.58190194\n",
      " 0.61080852 0.65842756 0.67302052 0.69696969 0.68028208 0.59754226\n",
      " 0.57066049 0.60787598 0.65465718 0.66792345 0.66359448 0.70856022\n",
      " 0.73523247 0.7536657  0.71442536 0.73313783 0.72392124 0.760229\n",
      " 0.74514733 0.72992599 0.81133917 0.88842344 0.89987435 0.95950284\n",
      " 1.         0.9508448  0.98114791 0.98044964 1.03433001 1.06584096\n",
      " 1.09521234 1.1238507  1.1526202  1.18197596 1.21211684 1.24310088\n",
      " 1.27491593 1.3075217  1.34086704 1.37489188]\n",
      "12 day output [[1.4095304]]\n",
      "13 day input [0.13859796 0.1442536  0.15751989 0.1531909  0.14327609 0.1229577\n",
      " 0.13364056 0.14844295 0.16394359 0.15263233 0.15975421 0.16108086\n",
      " 0.16212819 0.15891635 0.15863705 0.16087138 0.1427175  0.15584416\n",
      " 0.15863705 0.16031281 0.16254713 0.1812596  0.24870828 0.2780338\n",
      " 0.2718894  0.28662198 0.30344924 0.35497833 0.38339615 0.39505657\n",
      " 0.3972909  0.4194945  0.4275939  0.44672529 0.47619046 0.45566264\n",
      " 0.47674905 0.4482614  0.39442814 0.39533582 0.39561511 0.43876551\n",
      " 0.49127218 0.53121074 0.53302609 0.52562491 0.54349949 0.47493365\n",
      " 0.51082249 0.53581901 0.52045804 0.54978354 0.52995393 0.55550899\n",
      " 0.52555507 0.5567658  0.59544755 0.59251502 0.58190194 0.61080852\n",
      " 0.65842756 0.67302052 0.69696969 0.68028208 0.59754226 0.57066049\n",
      " 0.60787598 0.65465718 0.66792345 0.66359448 0.70856022 0.73523247\n",
      " 0.7536657  0.71442536 0.73313783 0.72392124 0.760229   0.74514733\n",
      " 0.72992599 0.81133917 0.88842344 0.89987435 0.95950284 1.\n",
      " 0.9508448  0.98114791 0.98044964 1.03433001 1.06584096 1.09521234\n",
      " 1.1238507  1.1526202  1.18197596 1.21211684 1.24310088 1.27491593\n",
      " 1.3075217  1.34086704 1.37489188 1.4095304 ]\n",
      "13 day output [[1.4447081]]\n",
      "14 day input [0.1442536  0.15751989 0.1531909  0.14327609 0.1229577  0.13364056\n",
      " 0.14844295 0.16394359 0.15263233 0.15975421 0.16108086 0.16212819\n",
      " 0.15891635 0.15863705 0.16087138 0.1427175  0.15584416 0.15863705\n",
      " 0.16031281 0.16254713 0.1812596  0.24870828 0.2780338  0.2718894\n",
      " 0.28662198 0.30344924 0.35497833 0.38339615 0.39505657 0.3972909\n",
      " 0.4194945  0.4275939  0.44672529 0.47619046 0.45566264 0.47674905\n",
      " 0.4482614  0.39442814 0.39533582 0.39561511 0.43876551 0.49127218\n",
      " 0.53121074 0.53302609 0.52562491 0.54349949 0.47493365 0.51082249\n",
      " 0.53581901 0.52045804 0.54978354 0.52995393 0.55550899 0.52555507\n",
      " 0.5567658  0.59544755 0.59251502 0.58190194 0.61080852 0.65842756\n",
      " 0.67302052 0.69696969 0.68028208 0.59754226 0.57066049 0.60787598\n",
      " 0.65465718 0.66792345 0.66359448 0.70856022 0.73523247 0.7536657\n",
      " 0.71442536 0.73313783 0.72392124 0.760229   0.74514733 0.72992599\n",
      " 0.81133917 0.88842344 0.89987435 0.95950284 1.         0.9508448\n",
      " 0.98114791 0.98044964 1.03433001 1.06584096 1.09521234 1.1238507\n",
      " 1.1526202  1.18197596 1.21211684 1.24310088 1.27491593 1.3075217\n",
      " 1.34086704 1.37489188 1.4095304  1.44470811]\n",
      "14 day output [[1.4803382]]\n",
      "15 day input [0.15751989 0.1531909  0.14327609 0.1229577  0.13364056 0.14844295\n",
      " 0.16394359 0.15263233 0.15975421 0.16108086 0.16212819 0.15891635\n",
      " 0.15863705 0.16087138 0.1427175  0.15584416 0.15863705 0.16031281\n",
      " 0.16254713 0.1812596  0.24870828 0.2780338  0.2718894  0.28662198\n",
      " 0.30344924 0.35497833 0.38339615 0.39505657 0.3972909  0.4194945\n",
      " 0.4275939  0.44672529 0.47619046 0.45566264 0.47674905 0.4482614\n",
      " 0.39442814 0.39533582 0.39561511 0.43876551 0.49127218 0.53121074\n",
      " 0.53302609 0.52562491 0.54349949 0.47493365 0.51082249 0.53581901\n",
      " 0.52045804 0.54978354 0.52995393 0.55550899 0.52555507 0.5567658\n",
      " 0.59544755 0.59251502 0.58190194 0.61080852 0.65842756 0.67302052\n",
      " 0.69696969 0.68028208 0.59754226 0.57066049 0.60787598 0.65465718\n",
      " 0.66792345 0.66359448 0.70856022 0.73523247 0.7536657  0.71442536\n",
      " 0.73313783 0.72392124 0.760229   0.74514733 0.72992599 0.81133917\n",
      " 0.88842344 0.89987435 0.95950284 1.         0.9508448  0.98114791\n",
      " 0.98044964 1.03433001 1.06584096 1.09521234 1.1238507  1.1526202\n",
      " 1.18197596 1.21211684 1.24310088 1.27491593 1.3075217  1.34086704\n",
      " 1.37489188 1.4095304  1.44470811 1.48033822]\n",
      "15 day output [[1.5163227]]\n",
      "16 day input [0.1531909  0.14327609 0.1229577  0.13364056 0.14844295 0.16394359\n",
      " 0.15263233 0.15975421 0.16108086 0.16212819 0.15891635 0.15863705\n",
      " 0.16087138 0.1427175  0.15584416 0.15863705 0.16031281 0.16254713\n",
      " 0.1812596  0.24870828 0.2780338  0.2718894  0.28662198 0.30344924\n",
      " 0.35497833 0.38339615 0.39505657 0.3972909  0.4194945  0.4275939\n",
      " 0.44672529 0.47619046 0.45566264 0.47674905 0.4482614  0.39442814\n",
      " 0.39533582 0.39561511 0.43876551 0.49127218 0.53121074 0.53302609\n",
      " 0.52562491 0.54349949 0.47493365 0.51082249 0.53581901 0.52045804\n",
      " 0.54978354 0.52995393 0.55550899 0.52555507 0.5567658  0.59544755\n",
      " 0.59251502 0.58190194 0.61080852 0.65842756 0.67302052 0.69696969\n",
      " 0.68028208 0.59754226 0.57066049 0.60787598 0.65465718 0.66792345\n",
      " 0.66359448 0.70856022 0.73523247 0.7536657  0.71442536 0.73313783\n",
      " 0.72392124 0.760229   0.74514733 0.72992599 0.81133917 0.88842344\n",
      " 0.89987435 0.95950284 1.         0.9508448  0.98114791 0.98044964\n",
      " 1.03433001 1.06584096 1.09521234 1.1238507  1.1526202  1.18197596\n",
      " 1.21211684 1.24310088 1.27491593 1.3075217  1.34086704 1.37489188\n",
      " 1.4095304  1.44470811 1.48033822 1.51632273]\n",
      "16 day output [[1.5525521]]\n",
      "17 day input [0.14327609 0.1229577  0.13364056 0.14844295 0.16394359 0.15263233\n",
      " 0.15975421 0.16108086 0.16212819 0.15891635 0.15863705 0.16087138\n",
      " 0.1427175  0.15584416 0.15863705 0.16031281 0.16254713 0.1812596\n",
      " 0.24870828 0.2780338  0.2718894  0.28662198 0.30344924 0.35497833\n",
      " 0.38339615 0.39505657 0.3972909  0.4194945  0.4275939  0.44672529\n",
      " 0.47619046 0.45566264 0.47674905 0.4482614  0.39442814 0.39533582\n",
      " 0.39561511 0.43876551 0.49127218 0.53121074 0.53302609 0.52562491\n",
      " 0.54349949 0.47493365 0.51082249 0.53581901 0.52045804 0.54978354\n",
      " 0.52995393 0.55550899 0.52555507 0.5567658  0.59544755 0.59251502\n",
      " 0.58190194 0.61080852 0.65842756 0.67302052 0.69696969 0.68028208\n",
      " 0.59754226 0.57066049 0.60787598 0.65465718 0.66792345 0.66359448\n",
      " 0.70856022 0.73523247 0.7536657  0.71442536 0.73313783 0.72392124\n",
      " 0.760229   0.74514733 0.72992599 0.81133917 0.88842344 0.89987435\n",
      " 0.95950284 1.         0.9508448  0.98114791 0.98044964 1.03433001\n",
      " 1.06584096 1.09521234 1.1238507  1.1526202  1.18197596 1.21211684\n",
      " 1.24310088 1.27491593 1.3075217  1.34086704 1.37489188 1.4095304\n",
      " 1.44470811 1.48033822 1.51632273 1.5525521 ]\n",
      "17 day output [[1.588906]]\n",
      "18 day input [0.1229577  0.13364056 0.14844295 0.16394359 0.15263233 0.15975421\n",
      " 0.16108086 0.16212819 0.15891635 0.15863705 0.16087138 0.1427175\n",
      " 0.15584416 0.15863705 0.16031281 0.16254713 0.1812596  0.24870828\n",
      " 0.2780338  0.2718894  0.28662198 0.30344924 0.35497833 0.38339615\n",
      " 0.39505657 0.3972909  0.4194945  0.4275939  0.44672529 0.47619046\n",
      " 0.45566264 0.47674905 0.4482614  0.39442814 0.39533582 0.39561511\n",
      " 0.43876551 0.49127218 0.53121074 0.53302609 0.52562491 0.54349949\n",
      " 0.47493365 0.51082249 0.53581901 0.52045804 0.54978354 0.52995393\n",
      " 0.55550899 0.52555507 0.5567658  0.59544755 0.59251502 0.58190194\n",
      " 0.61080852 0.65842756 0.67302052 0.69696969 0.68028208 0.59754226\n",
      " 0.57066049 0.60787598 0.65465718 0.66792345 0.66359448 0.70856022\n",
      " 0.73523247 0.7536657  0.71442536 0.73313783 0.72392124 0.760229\n",
      " 0.74514733 0.72992599 0.81133917 0.88842344 0.89987435 0.95950284\n",
      " 1.         0.9508448  0.98114791 0.98044964 1.03433001 1.06584096\n",
      " 1.09521234 1.1238507  1.1526202  1.18197596 1.21211684 1.24310088\n",
      " 1.27491593 1.3075217  1.34086704 1.37489188 1.4095304  1.44470811\n",
      " 1.48033822 1.51632273 1.5525521  1.58890605]\n",
      "18 day output [[1.6252557]]\n",
      "19 day input [0.13364056 0.14844295 0.16394359 0.15263233 0.15975421 0.16108086\n",
      " 0.16212819 0.15891635 0.15863705 0.16087138 0.1427175  0.15584416\n",
      " 0.15863705 0.16031281 0.16254713 0.1812596  0.24870828 0.2780338\n",
      " 0.2718894  0.28662198 0.30344924 0.35497833 0.38339615 0.39505657\n",
      " 0.3972909  0.4194945  0.4275939  0.44672529 0.47619046 0.45566264\n",
      " 0.47674905 0.4482614  0.39442814 0.39533582 0.39561511 0.43876551\n",
      " 0.49127218 0.53121074 0.53302609 0.52562491 0.54349949 0.47493365\n",
      " 0.51082249 0.53581901 0.52045804 0.54978354 0.52995393 0.55550899\n",
      " 0.52555507 0.5567658  0.59544755 0.59251502 0.58190194 0.61080852\n",
      " 0.65842756 0.67302052 0.69696969 0.68028208 0.59754226 0.57066049\n",
      " 0.60787598 0.65465718 0.66792345 0.66359448 0.70856022 0.73523247\n",
      " 0.7536657  0.71442536 0.73313783 0.72392124 0.760229   0.74514733\n",
      " 0.72992599 0.81133917 0.88842344 0.89987435 0.95950284 1.\n",
      " 0.9508448  0.98114791 0.98044964 1.03433001 1.06584096 1.09521234\n",
      " 1.1238507  1.1526202  1.18197596 1.21211684 1.24310088 1.27491593\n",
      " 1.3075217  1.34086704 1.37489188 1.4095304  1.44470811 1.48033822\n",
      " 1.51632273 1.5525521  1.58890605 1.6252557 ]\n",
      "19 day output [[1.6614665]]\n",
      "20 day input [0.14844295 0.16394359 0.15263233 0.15975421 0.16108086 0.16212819\n",
      " 0.15891635 0.15863705 0.16087138 0.1427175  0.15584416 0.15863705\n",
      " 0.16031281 0.16254713 0.1812596  0.24870828 0.2780338  0.2718894\n",
      " 0.28662198 0.30344924 0.35497833 0.38339615 0.39505657 0.3972909\n",
      " 0.4194945  0.4275939  0.44672529 0.47619046 0.45566264 0.47674905\n",
      " 0.4482614  0.39442814 0.39533582 0.39561511 0.43876551 0.49127218\n",
      " 0.53121074 0.53302609 0.52562491 0.54349949 0.47493365 0.51082249\n",
      " 0.53581901 0.52045804 0.54978354 0.52995393 0.55550899 0.52555507\n",
      " 0.5567658  0.59544755 0.59251502 0.58190194 0.61080852 0.65842756\n",
      " 0.67302052 0.69696969 0.68028208 0.59754226 0.57066049 0.60787598\n",
      " 0.65465718 0.66792345 0.66359448 0.70856022 0.73523247 0.7536657\n",
      " 0.71442536 0.73313783 0.72392124 0.760229   0.74514733 0.72992599\n",
      " 0.81133917 0.88842344 0.89987435 0.95950284 1.         0.9508448\n",
      " 0.98114791 0.98044964 1.03433001 1.06584096 1.09521234 1.1238507\n",
      " 1.1526202  1.18197596 1.21211684 1.24310088 1.27491593 1.3075217\n",
      " 1.34086704 1.37489188 1.4095304  1.44470811 1.48033822 1.51632273\n",
      " 1.5525521  1.58890605 1.6252557  1.66146648]\n",
      "20 day output [[1.697402]]\n",
      "21 day input [0.16394359 0.15263233 0.15975421 0.16108086 0.16212819 0.15891635\n",
      " 0.15863705 0.16087138 0.1427175  0.15584416 0.15863705 0.16031281\n",
      " 0.16254713 0.1812596  0.24870828 0.2780338  0.2718894  0.28662198\n",
      " 0.30344924 0.35497833 0.38339615 0.39505657 0.3972909  0.4194945\n",
      " 0.4275939  0.44672529 0.47619046 0.45566264 0.47674905 0.4482614\n",
      " 0.39442814 0.39533582 0.39561511 0.43876551 0.49127218 0.53121074\n",
      " 0.53302609 0.52562491 0.54349949 0.47493365 0.51082249 0.53581901\n",
      " 0.52045804 0.54978354 0.52995393 0.55550899 0.52555507 0.5567658\n",
      " 0.59544755 0.59251502 0.58190194 0.61080852 0.65842756 0.67302052\n",
      " 0.69696969 0.68028208 0.59754226 0.57066049 0.60787598 0.65465718\n",
      " 0.66792345 0.66359448 0.70856022 0.73523247 0.7536657  0.71442536\n",
      " 0.73313783 0.72392124 0.760229   0.74514733 0.72992599 0.81133917\n",
      " 0.88842344 0.89987435 0.95950284 1.         0.9508448  0.98114791\n",
      " 0.98044964 1.03433001 1.06584096 1.09521234 1.1238507  1.1526202\n",
      " 1.18197596 1.21211684 1.24310088 1.27491593 1.3075217  1.34086704\n",
      " 1.37489188 1.4095304  1.44470811 1.48033822 1.51632273 1.5525521\n",
      " 1.58890605 1.6252557  1.66146648 1.697402  ]\n",
      "21 day output [[1.7329242]]\n",
      "22 day input [0.15263233 0.15975421 0.16108086 0.16212819 0.15891635 0.15863705\n",
      " 0.16087138 0.1427175  0.15584416 0.15863705 0.16031281 0.16254713\n",
      " 0.1812596  0.24870828 0.2780338  0.2718894  0.28662198 0.30344924\n",
      " 0.35497833 0.38339615 0.39505657 0.3972909  0.4194945  0.4275939\n",
      " 0.44672529 0.47619046 0.45566264 0.47674905 0.4482614  0.39442814\n",
      " 0.39533582 0.39561511 0.43876551 0.49127218 0.53121074 0.53302609\n",
      " 0.52562491 0.54349949 0.47493365 0.51082249 0.53581901 0.52045804\n",
      " 0.54978354 0.52995393 0.55550899 0.52555507 0.5567658  0.59544755\n",
      " 0.59251502 0.58190194 0.61080852 0.65842756 0.67302052 0.69696969\n",
      " 0.68028208 0.59754226 0.57066049 0.60787598 0.65465718 0.66792345\n",
      " 0.66359448 0.70856022 0.73523247 0.7536657  0.71442536 0.73313783\n",
      " 0.72392124 0.760229   0.74514733 0.72992599 0.81133917 0.88842344\n",
      " 0.89987435 0.95950284 1.         0.9508448  0.98114791 0.98044964\n",
      " 1.03433001 1.06584096 1.09521234 1.1238507  1.1526202  1.18197596\n",
      " 1.21211684 1.24310088 1.27491593 1.3075217  1.34086704 1.37489188\n",
      " 1.4095304  1.44470811 1.48033822 1.51632273 1.5525521  1.58890605\n",
      " 1.6252557  1.66146648 1.697402   1.73292422]\n",
      "22 day output [[1.7679006]]\n",
      "23 day input [0.15975421 0.16108086 0.16212819 0.15891635 0.15863705 0.16087138\n",
      " 0.1427175  0.15584416 0.15863705 0.16031281 0.16254713 0.1812596\n",
      " 0.24870828 0.2780338  0.2718894  0.28662198 0.30344924 0.35497833\n",
      " 0.38339615 0.39505657 0.3972909  0.4194945  0.4275939  0.44672529\n",
      " 0.47619046 0.45566264 0.47674905 0.4482614  0.39442814 0.39533582\n",
      " 0.39561511 0.43876551 0.49127218 0.53121074 0.53302609 0.52562491\n",
      " 0.54349949 0.47493365 0.51082249 0.53581901 0.52045804 0.54978354\n",
      " 0.52995393 0.55550899 0.52555507 0.5567658  0.59544755 0.59251502\n",
      " 0.58190194 0.61080852 0.65842756 0.67302052 0.69696969 0.68028208\n",
      " 0.59754226 0.57066049 0.60787598 0.65465718 0.66792345 0.66359448\n",
      " 0.70856022 0.73523247 0.7536657  0.71442536 0.73313783 0.72392124\n",
      " 0.760229   0.74514733 0.72992599 0.81133917 0.88842344 0.89987435\n",
      " 0.95950284 1.         0.9508448  0.98114791 0.98044964 1.03433001\n",
      " 1.06584096 1.09521234 1.1238507  1.1526202  1.18197596 1.21211684\n",
      " 1.24310088 1.27491593 1.3075217  1.34086704 1.37489188 1.4095304\n",
      " 1.44470811 1.48033822 1.51632273 1.5525521  1.58890605 1.6252557\n",
      " 1.66146648 1.697402   1.73292422 1.76790059]\n",
      "23 day output [[1.8022039]]\n",
      "24 day input [0.16108086 0.16212819 0.15891635 0.15863705 0.16087138 0.1427175\n",
      " 0.15584416 0.15863705 0.16031281 0.16254713 0.1812596  0.24870828\n",
      " 0.2780338  0.2718894  0.28662198 0.30344924 0.35497833 0.38339615\n",
      " 0.39505657 0.3972909  0.4194945  0.4275939  0.44672529 0.47619046\n",
      " 0.45566264 0.47674905 0.4482614  0.39442814 0.39533582 0.39561511\n",
      " 0.43876551 0.49127218 0.53121074 0.53302609 0.52562491 0.54349949\n",
      " 0.47493365 0.51082249 0.53581901 0.52045804 0.54978354 0.52995393\n",
      " 0.55550899 0.52555507 0.5567658  0.59544755 0.59251502 0.58190194\n",
      " 0.61080852 0.65842756 0.67302052 0.69696969 0.68028208 0.59754226\n",
      " 0.57066049 0.60787598 0.65465718 0.66792345 0.66359448 0.70856022\n",
      " 0.73523247 0.7536657  0.71442536 0.73313783 0.72392124 0.760229\n",
      " 0.74514733 0.72992599 0.81133917 0.88842344 0.89987435 0.95950284\n",
      " 1.         0.9508448  0.98114791 0.98044964 1.03433001 1.06584096\n",
      " 1.09521234 1.1238507  1.1526202  1.18197596 1.21211684 1.24310088\n",
      " 1.27491593 1.3075217  1.34086704 1.37489188 1.4095304  1.44470811\n",
      " 1.48033822 1.51632273 1.5525521  1.58890605 1.6252557  1.66146648\n",
      " 1.697402   1.73292422 1.76790059 1.80220389]\n",
      "24 day output [[1.8357167]]\n",
      "25 day input [0.16212819 0.15891635 0.15863705 0.16087138 0.1427175  0.15584416\n",
      " 0.15863705 0.16031281 0.16254713 0.1812596  0.24870828 0.2780338\n",
      " 0.2718894  0.28662198 0.30344924 0.35497833 0.38339615 0.39505657\n",
      " 0.3972909  0.4194945  0.4275939  0.44672529 0.47619046 0.45566264\n",
      " 0.47674905 0.4482614  0.39442814 0.39533582 0.39561511 0.43876551\n",
      " 0.49127218 0.53121074 0.53302609 0.52562491 0.54349949 0.47493365\n",
      " 0.51082249 0.53581901 0.52045804 0.54978354 0.52995393 0.55550899\n",
      " 0.52555507 0.5567658  0.59544755 0.59251502 0.58190194 0.61080852\n",
      " 0.65842756 0.67302052 0.69696969 0.68028208 0.59754226 0.57066049\n",
      " 0.60787598 0.65465718 0.66792345 0.66359448 0.70856022 0.73523247\n",
      " 0.7536657  0.71442536 0.73313783 0.72392124 0.760229   0.74514733\n",
      " 0.72992599 0.81133917 0.88842344 0.89987435 0.95950284 1.\n",
      " 0.9508448  0.98114791 0.98044964 1.03433001 1.06584096 1.09521234\n",
      " 1.1238507  1.1526202  1.18197596 1.21211684 1.24310088 1.27491593\n",
      " 1.3075217  1.34086704 1.37489188 1.4095304  1.44470811 1.48033822\n",
      " 1.51632273 1.5525521  1.58890605 1.6252557  1.66146648 1.697402\n",
      " 1.73292422 1.76790059 1.80220389 1.83571672]\n",
      "25 day output [[1.868333]]\n",
      "26 day input [0.15891635 0.15863705 0.16087138 0.1427175  0.15584416 0.15863705\n",
      " 0.16031281 0.16254713 0.1812596  0.24870828 0.2780338  0.2718894\n",
      " 0.28662198 0.30344924 0.35497833 0.38339615 0.39505657 0.3972909\n",
      " 0.4194945  0.4275939  0.44672529 0.47619046 0.45566264 0.47674905\n",
      " 0.4482614  0.39442814 0.39533582 0.39561511 0.43876551 0.49127218\n",
      " 0.53121074 0.53302609 0.52562491 0.54349949 0.47493365 0.51082249\n",
      " 0.53581901 0.52045804 0.54978354 0.52995393 0.55550899 0.52555507\n",
      " 0.5567658  0.59544755 0.59251502 0.58190194 0.61080852 0.65842756\n",
      " 0.67302052 0.69696969 0.68028208 0.59754226 0.57066049 0.60787598\n",
      " 0.65465718 0.66792345 0.66359448 0.70856022 0.73523247 0.7536657\n",
      " 0.71442536 0.73313783 0.72392124 0.760229   0.74514733 0.72992599\n",
      " 0.81133917 0.88842344 0.89987435 0.95950284 1.         0.9508448\n",
      " 0.98114791 0.98044964 1.03433001 1.06584096 1.09521234 1.1238507\n",
      " 1.1526202  1.18197596 1.21211684 1.24310088 1.27491593 1.3075217\n",
      " 1.34086704 1.37489188 1.4095304  1.44470811 1.48033822 1.51632273\n",
      " 1.5525521  1.58890605 1.6252557  1.66146648 1.697402   1.73292422\n",
      " 1.76790059 1.80220389 1.83571672 1.86833298]\n",
      "26 day output [[1.8999597]]\n",
      "27 day input [0.15863705 0.16087138 0.1427175  0.15584416 0.15863705 0.16031281\n",
      " 0.16254713 0.1812596  0.24870828 0.2780338  0.2718894  0.28662198\n",
      " 0.30344924 0.35497833 0.38339615 0.39505657 0.3972909  0.4194945\n",
      " 0.4275939  0.44672529 0.47619046 0.45566264 0.47674905 0.4482614\n",
      " 0.39442814 0.39533582 0.39561511 0.43876551 0.49127218 0.53121074\n",
      " 0.53302609 0.52562491 0.54349949 0.47493365 0.51082249 0.53581901\n",
      " 0.52045804 0.54978354 0.52995393 0.55550899 0.52555507 0.5567658\n",
      " 0.59544755 0.59251502 0.58190194 0.61080852 0.65842756 0.67302052\n",
      " 0.69696969 0.68028208 0.59754226 0.57066049 0.60787598 0.65465718\n",
      " 0.66792345 0.66359448 0.70856022 0.73523247 0.7536657  0.71442536\n",
      " 0.73313783 0.72392124 0.760229   0.74514733 0.72992599 0.81133917\n",
      " 0.88842344 0.89987435 0.95950284 1.         0.9508448  0.98114791\n",
      " 0.98044964 1.03433001 1.06584096 1.09521234 1.1238507  1.1526202\n",
      " 1.18197596 1.21211684 1.24310088 1.27491593 1.3075217  1.34086704\n",
      " 1.37489188 1.4095304  1.44470811 1.48033822 1.51632273 1.5525521\n",
      " 1.58890605 1.6252557  1.66146648 1.697402   1.73292422 1.76790059\n",
      " 1.80220389 1.83571672 1.86833298 1.89995968]\n",
      "27 day output [[1.9305182]]\n",
      "28 day input [0.16087138 0.1427175  0.15584416 0.15863705 0.16031281 0.16254713\n",
      " 0.1812596  0.24870828 0.2780338  0.2718894  0.28662198 0.30344924\n",
      " 0.35497833 0.38339615 0.39505657 0.3972909  0.4194945  0.4275939\n",
      " 0.44672529 0.47619046 0.45566264 0.47674905 0.4482614  0.39442814\n",
      " 0.39533582 0.39561511 0.43876551 0.49127218 0.53121074 0.53302609\n",
      " 0.52562491 0.54349949 0.47493365 0.51082249 0.53581901 0.52045804\n",
      " 0.54978354 0.52995393 0.55550899 0.52555507 0.5567658  0.59544755\n",
      " 0.59251502 0.58190194 0.61080852 0.65842756 0.67302052 0.69696969\n",
      " 0.68028208 0.59754226 0.57066049 0.60787598 0.65465718 0.66792345\n",
      " 0.66359448 0.70856022 0.73523247 0.7536657  0.71442536 0.73313783\n",
      " 0.72392124 0.760229   0.74514733 0.72992599 0.81133917 0.88842344\n",
      " 0.89987435 0.95950284 1.         0.9508448  0.98114791 0.98044964\n",
      " 1.03433001 1.06584096 1.09521234 1.1238507  1.1526202  1.18197596\n",
      " 1.21211684 1.24310088 1.27491593 1.3075217  1.34086704 1.37489188\n",
      " 1.4095304  1.44470811 1.48033822 1.51632273 1.5525521  1.58890605\n",
      " 1.6252557  1.66146648 1.697402   1.73292422 1.76790059 1.80220389\n",
      " 1.83571672 1.86833298 1.89995968 1.93051815]\n",
      "28 day output [[1.9599442]]\n",
      "29 day input [0.1427175  0.15584416 0.15863705 0.16031281 0.16254713 0.1812596\n",
      " 0.24870828 0.2780338  0.2718894  0.28662198 0.30344924 0.35497833\n",
      " 0.38339615 0.39505657 0.3972909  0.4194945  0.4275939  0.44672529\n",
      " 0.47619046 0.45566264 0.47674905 0.4482614  0.39442814 0.39533582\n",
      " 0.39561511 0.43876551 0.49127218 0.53121074 0.53302609 0.52562491\n",
      " 0.54349949 0.47493365 0.51082249 0.53581901 0.52045804 0.54978354\n",
      " 0.52995393 0.55550899 0.52555507 0.5567658  0.59544755 0.59251502\n",
      " 0.58190194 0.61080852 0.65842756 0.67302052 0.69696969 0.68028208\n",
      " 0.59754226 0.57066049 0.60787598 0.65465718 0.66792345 0.66359448\n",
      " 0.70856022 0.73523247 0.7536657  0.71442536 0.73313783 0.72392124\n",
      " 0.760229   0.74514733 0.72992599 0.81133917 0.88842344 0.89987435\n",
      " 0.95950284 1.         0.9508448  0.98114791 0.98044964 1.03433001\n",
      " 1.06584096 1.09521234 1.1238507  1.1526202  1.18197596 1.21211684\n",
      " 1.24310088 1.27491593 1.3075217  1.34086704 1.37489188 1.4095304\n",
      " 1.44470811 1.48033822 1.51632273 1.5525521  1.58890605 1.6252557\n",
      " 1.66146648 1.697402   1.73292422 1.76790059 1.80220389 1.83571672\n",
      " 1.86833298 1.89995968 1.93051815 1.95994425]\n",
      "29 day output [[1.9881902]]\n",
      "[[1.0343300104141235], [1.0658409595489502], [1.0952123403549194], [1.123850703239441], [1.1526201963424683], [1.1819759607315063], [1.2121168375015259], [1.243100881576538], [1.2749159336090088], [1.3075217008590698], [1.340867042541504], [1.3748918771743774], [1.4095304012298584], [1.4447081089019775], [1.480338215827942], [1.5163227319717407], [1.5525521039962769], [1.5889060497283936], [1.6252557039260864], [1.6614664793014526], [1.697402000427246], [1.732924222946167], [1.7679005861282349], [1.802203893661499], [1.835716724395752], [1.8683329820632935], [1.899959683418274], [1.9305181503295898], [1.959944248199463], [1.9881901741027832]]\n"
     ]
    }
   ],
   "source": [
    "lst_output=[]\n",
    "n_steps=100\n",
    "i=0\n",
    "while(i<30):\n",
    "    \n",
    "    if(len(temp_input)>100):\n",
    "        #print(temp_input)\n",
    "        x_input=np.array(temp_input[1:])\n",
    "        print(\"{} day input {}\".format(i,x_input))\n",
    "        x_input=x_input.reshape(1,-1)\n",
    "        x_input = x_input.reshape((1, n_steps, 1))\n",
    "        #print(x_input)\n",
    "        yhat = model.predict(x_input, verbose=0)\n",
    "        print(\"{} day output {}\".format(i,yhat))\n",
    "        temp_input.extend(yhat[0].tolist())\n",
    "        temp_input=temp_input[1:]\n",
    "        #print(temp_input)\n",
    "        lst_output.extend(yhat.tolist())\n",
    "        i=i+1\n",
    "    else:\n",
    "        x_input = x_input.reshape((1, n_steps,1))\n",
    "        yhat = model.predict(x_input, verbose=0)\n",
    "        print(yhat[0])\n",
    "        temp_input.extend(yhat[0].tolist())\n",
    "        print(len(temp_input))\n",
    "        lst_output.extend(yhat.tolist())\n",
    "        i=i+1\n",
    "    \n",
    "\n",
    "print(lst_output)"
   ]
  },
  {
   "cell_type": "code",
   "execution_count": 60,
   "metadata": {
    "id": "zfHZJy9f-JGs"
   },
   "outputs": [],
   "source": [
    "day_new=np.arange(1,101)\n",
    "day_pred=np.arange(101,131)"
   ]
  },
  {
   "cell_type": "code",
   "execution_count": 61,
   "metadata": {
    "id": "vISWHATM-Vik"
   },
   "outputs": [],
   "source": [
    "m = len(df) - 100"
   ]
  },
  {
   "cell_type": "code",
   "execution_count": 62,
   "metadata": {
    "colab": {
     "base_uri": "https://localhost:8080/",
     "height": 282
    },
    "id": "V89N716D-N50",
    "outputId": "871653bc-0523-4e72-9f68-5edbcc3dab02"
   },
   "outputs": [
    {
     "data": {
      "text/plain": [
       "[<matplotlib.lines.Line2D at 0x7fb6158c9340>]"
      ]
     },
     "execution_count": 62,
     "metadata": {},
     "output_type": "execute_result"
    },
    {
     "data": {
      "image/png": "[encoded data removed]",
      "text/plain": [
       "<Figure size 432x288 with 1 Axes>"
      ]
     },
     "metadata": {
      "needs_background": "light"
     },
     "output_type": "display_data"
    }
   ],
   "source": [
    "plt.plot(day_new,scaler.inverse_transform(df[m:]))\n",
    "plt.plot(day_pred,scaler.inverse_transform(lst_output))"
   ]
  },
  {
   "cell_type": "code",
   "execution_count": 63,
   "metadata": {
    "colab": {
     "base_uri": "https://localhost:8080/",
     "height": 282
    },
    "id": "jIMZjYKP-QDb",
    "outputId": "4b48fd4d-8496-4a76-b9b9-9a5260ce924e"
   },
   "outputs": [
    {
     "data": {
      "text/plain": [
       "[<matplotlib.lines.Line2D at 0x7fb61581c370>]"
      ]
     },
     "execution_count": 63,
     "metadata": {},
     "output_type": "execute_result"
    },
    {
     "data": {
      "image/png": "[encoded data removed]",
      "text/plain": [
       "<Figure size 432x288 with 1 Axes>"
      ]
     },
     "metadata": {
      "needs_background": "light"
     },
     "output_type": "display_data"
    }
   ],
   "source": [
    "df3=df.tolist()\n",
    "df3.extend(lst_output)\n",
    "plt.plot(df3[1:])"
   ]
  },
  {
   "cell_type": "code",
   "execution_count": 64,
   "metadata": {
    "colab": {
     "base_uri": "https://localhost:8080/",
     "height": 282
    },
    "id": "Edk58DH_-jJ4",
    "outputId": "7accc486-3278-4980-8aac-19d93c569128"
   },
   "outputs": [
    {
     "data": {
      "text/plain": [
       "[<matplotlib.lines.Line2D at 0x7fb615916bb0>]"
      ]
     },
     "execution_count": 64,
     "metadata": {},
     "output_type": "execute_result"
    },
    {
     "data": {
      "image/png": "[encoded data removed]",
      "text/plain": [
       "<Figure size 432x288 with 1 Axes>"
      ]
     },
     "metadata": {
      "needs_background": "light"
     },
     "output_type": "display_data"
    }
   ],
   "source": [
    "df3=scaler.inverse_transform(df3).tolist()\n",
    "plt.plot(df3)\n",
    "\n"
   ]
  },
  {
   "cell_type": "code",
   "execution_count": 32,
   "metadata": {
    "id": "G18lUD_I-zpM"
   },
   "outputs": [],
   "source": []
  }
 ],
 "metadata": {
  "colab": {
   "name": "Untitled0.ipynb",
   "provenance": []
  },
  "kernelspec": {
   "display_name": "Python 3",
   "language": "python",
   "name": "python3"
  },
  "language_info": {
   "codemirror_mode": {
    "name": "ipython",
    "version": 3
   },
   "file_extension": ".py",
   "mimetype": "text/x-python",
   "name": "python",
   "nbconvert_exporter": "python",
   "pygments_lexer": "ipython3",
   "version": "3.8.3"
  }
 },
 "nbformat": 4,
 "nbformat_minor": 4
}
