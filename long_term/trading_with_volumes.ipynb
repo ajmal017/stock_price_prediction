{
 "cells": [
  {
   "cell_type": "code",
   "execution_count": 8,
   "metadata": {},
   "outputs": [],
   "source": [
    "import pandas_datareader.data as web\n",
    "from pandas_datareader.nasdaq_trader import get_nasdaq_symbols\n",
    "from pandas_datareader._utils import RemoteDataError\n",
    "from datetime import datetime, timedelta\n",
    "import pandas as pd\n",
    "import matplotlib.pyplot as plt\n",
    "import numpy as np\n",
    "import pickle\n",
    "plt.rcParams['figure.figsize'] = [10, 6]\n"
   ]
  },
  {
   "cell_type": "markdown",
   "metadata": {},
   "source": [
    "### Stratgey : Look for the past data, get stocks where volumes of today and yesterday are both postive and prior to that there were two days with negative volume\n",
    "---"
   ]
  },
  {
   "cell_type": "markdown",
   "metadata": {},
   "source": [
    "- Our investigation space will be the list of stocks in series_tickers file"
   ]
  },
  {
   "cell_type": "code",
   "execution_count": 9,
   "metadata": {},
   "outputs": [],
   "source": [
    "#Download file \"series_tickers.p\" from github or create your own list of tickers\n",
    "series_tickers = pickle.load(open(\"series_tickers.p\", \"rb\" ))"
   ]
  },
  {
   "cell_type": "markdown",
   "metadata": {},
   "source": [
    "-  here will create a class for the stock"
   ]
  },
  {
   "cell_type": "code",
   "execution_count": 16,
   "metadata": {},
   "outputs": [],
   "source": [
    "class stock:\n",
    "    def __init__(self,stock = 'NIO'):\n",
    "        self.stock = stock\n",
    "    \n",
    "    def get_df(self):\n",
    "        \n",
    "        '''\n",
    "        create a data frame for the stocks and manipulate it, a new column reflecting postive or negative is created, green for postive\n",
    "        and red for negative\n",
    "        \n",
    "        inputs: \n",
    "        ------\n",
    "        None\n",
    "        \n",
    "        returns:\n",
    "        ------\n",
    "        df : a dataframe which will be used with the subsequent  functions\n",
    "        '''\n",
    "        end_date = datetime.now().date()\n",
    "        start_date = (datetime.now() - timedelta(days=6)).date()    \n",
    "        df = web.DataReader(self.stock, 'yahoo', start=start_date, end=end_date)\n",
    "        df = df.reset_index()\n",
    "\n",
    "        df['close_before'] = df['Close'].shift(1) \n",
    "        df['relative_price'] = df['Close'] - df['close_before']\n",
    "        df[\"Color\"] = np.where(df[\"relative_price\"]<0, 'red', 'green')\n",
    "\n",
    "        df = df.iloc[::-1]\n",
    "        df = df.reset_index(drop = True)\n",
    "        df = df.fillna(0)\n",
    "        self.df = df\n",
    "        return self.df  \n",
    "    \n",
    "    def is_this_a_winner(self,colors = ['green','green','red','red']):\n",
    "        '''\n",
    "        given a condition by the user this function will return wether a stock matches that condition or not        \n",
    "        inputs: \n",
    "        ------\n",
    "        colors : list of colors for today and the previous 3 days, green indicates a positive volume and red indicates a negative volume\n",
    "        \n",
    "        returns:\n",
    "        ------\n",
    "        result : Boolean, True if the conditions in the colors list are met\n",
    "        \n",
    "        '''\n",
    "        \n",
    "        df = self.df\n",
    "        result = np.where(df['Color'][0]== colors[0] and df['Color'][1]==colors[1] and df['Color'][2]==colors[2] and df['Color'][3]==colors[3],True,False)\n",
    "        #result = np.where(df['Color'][0]=='green' and df['Color'][1]=='red' and df['Color'][2]=='red' and df['Color'][3]=='red' ,True,False)\n",
    "        return result[()]\n",
    "    \n",
    "    def plot_df(self):\n",
    "        '''\n",
    "        displays a bar plot for the volume over time,green bar for positivie volume and red bar for negative volume         \n",
    "        inputs: \n",
    "        '''   \n",
    "        df = self.df\n",
    "\n",
    "        df1 = df[df['relative_price']<0]\n",
    "        df2 = df[df['relative_price']>=0]\n",
    "        plt.bar(df1['Date'], df1['Volume'], color='r')\n",
    "        plt.bar(df2['Date'], df2['Volume'], color='g')\n",
    "        plt.show()\n",
    "        return \n",
    "    "
   ]
  },
  {
   "cell_type": "code",
   "execution_count": 17,
   "metadata": {},
   "outputs": [],
   "source": [
    "### Example:  let's try UBER stock"
   ]
  },
  {
   "cell_type": "code",
   "execution_count": 23,
   "metadata": {},
   "outputs": [],
   "source": [
    "uber = stock('UBER')"
   ]
  },
  {
   "cell_type": "code",
   "execution_count": 24,
   "metadata": {},
   "outputs": [
    {
     "data": {
      "text/html": [
       "<div>\n",
       "<style scoped>\n",
       "    .dataframe tbody tr th:only-of-type {\n",
       "        vertical-align: middle;\n",
       "    }\n",
       "\n",
       "    .dataframe tbody tr th {\n",
       "        vertical-align: top;\n",
       "    }\n",
       "\n",
       "    .dataframe thead th {\n",
       "        text-align: right;\n",
       "    }\n",
       "</style>\n",
       "<table border=\"1\" class=\"dataframe\">\n",
       "  <thead>\n",
       "    <tr style=\"text-align: right;\">\n",
       "      <th></th>\n",
       "      <th>Date</th>\n",
       "      <th>High</th>\n",
       "      <th>Low</th>\n",
       "      <th>Open</th>\n",
       "      <th>Close</th>\n",
       "      <th>Volume</th>\n",
       "      <th>Adj Close</th>\n",
       "      <th>close_before</th>\n",
       "      <th>relative_price</th>\n",
       "      <th>Color</th>\n",
       "    </tr>\n",
       "  </thead>\n",
       "  <tbody>\n",
       "    <tr>\n",
       "      <th>0</th>\n",
       "      <td>2020-10-20</td>\n",
       "      <td>36.759998</td>\n",
       "      <td>34.529999</td>\n",
       "      <td>34.529999</td>\n",
       "      <td>36.310001</td>\n",
       "      <td>29780800</td>\n",
       "      <td>36.310001</td>\n",
       "      <td>34.220001</td>\n",
       "      <td>2.090000</td>\n",
       "      <td>green</td>\n",
       "    </tr>\n",
       "    <tr>\n",
       "      <th>1</th>\n",
       "      <td>2020-10-19</td>\n",
       "      <td>34.590000</td>\n",
       "      <td>34.000000</td>\n",
       "      <td>34.160000</td>\n",
       "      <td>34.220001</td>\n",
       "      <td>19278600</td>\n",
       "      <td>34.220001</td>\n",
       "      <td>33.720001</td>\n",
       "      <td>0.500000</td>\n",
       "      <td>green</td>\n",
       "    </tr>\n",
       "    <tr>\n",
       "      <th>2</th>\n",
       "      <td>2020-10-16</td>\n",
       "      <td>34.799999</td>\n",
       "      <td>33.610001</td>\n",
       "      <td>34.779999</td>\n",
       "      <td>33.720001</td>\n",
       "      <td>14899700</td>\n",
       "      <td>33.720001</td>\n",
       "      <td>34.259998</td>\n",
       "      <td>-0.539997</td>\n",
       "      <td>red</td>\n",
       "    </tr>\n",
       "    <tr>\n",
       "      <th>3</th>\n",
       "      <td>2020-10-15</td>\n",
       "      <td>34.810001</td>\n",
       "      <td>34.020000</td>\n",
       "      <td>34.680000</td>\n",
       "      <td>34.259998</td>\n",
       "      <td>15443800</td>\n",
       "      <td>34.259998</td>\n",
       "      <td>35.110001</td>\n",
       "      <td>-0.850002</td>\n",
       "      <td>red</td>\n",
       "    </tr>\n",
       "    <tr>\n",
       "      <th>4</th>\n",
       "      <td>2020-10-14</td>\n",
       "      <td>36.090000</td>\n",
       "      <td>35.075001</td>\n",
       "      <td>35.689999</td>\n",
       "      <td>35.110001</td>\n",
       "      <td>15402900</td>\n",
       "      <td>35.110001</td>\n",
       "      <td>0.000000</td>\n",
       "      <td>0.000000</td>\n",
       "      <td>green</td>\n",
       "    </tr>\n",
       "  </tbody>\n",
       "</table>\n",
       "</div>"
      ],
      "text/plain": [
       "        Date       High        Low       Open      Close    Volume  Adj Close  \\\n",
       "0 2020-10-20  36.759998  34.529999  34.529999  36.310001  29780800  36.310001   \n",
       "1 2020-10-19  34.590000  34.000000  34.160000  34.220001  19278600  34.220001   \n",
       "2 2020-10-16  34.799999  33.610001  34.779999  33.720001  14899700  33.720001   \n",
       "3 2020-10-15  34.810001  34.020000  34.680000  34.259998  15443800  34.259998   \n",
       "4 2020-10-14  36.090000  35.075001  35.689999  35.110001  15402900  35.110001   \n",
       "\n",
       "   close_before  relative_price  Color  \n",
       "0     34.220001        2.090000  green  \n",
       "1     33.720001        0.500000  green  \n",
       "2     34.259998       -0.539997    red  \n",
       "3     35.110001       -0.850002    red  \n",
       "4      0.000000        0.000000  green  "
      ]
     },
     "execution_count": 24,
     "metadata": {},
     "output_type": "execute_result"
    }
   ],
   "source": [
    "# first we will have a look at the dataframe we have\n",
    "uber.get_df()"
   ]
  },
  {
   "cell_type": "code",
   "execution_count": 27,
   "metadata": {},
   "outputs": [
    {
     "data": {
      "text/plain": [
       "True"
      ]
     },
     "execution_count": 27,
     "metadata": {},
     "output_type": "execute_result"
    }
   ],
   "source": [
    "# let's test UBER stock with a condition that we know it does meet\n",
    "\n",
    "conditions= ['green','green','red','red'] \n",
    "\n",
    "uber.is_this_a_winner(colors = conditions)"
   ]
  },
  {
   "cell_type": "code",
   "execution_count": 32,
   "metadata": {},
   "outputs": [
    {
     "data": {
      "text/html": [
       "<div>\n",
       "<style scoped>\n",
       "    .dataframe tbody tr th:only-of-type {\n",
       "        vertical-align: middle;\n",
       "    }\n",
       "\n",
       "    .dataframe tbody tr th {\n",
       "        vertical-align: top;\n",
       "    }\n",
       "\n",
       "    .dataframe thead th {\n",
       "        text-align: right;\n",
       "    }\n",
       "</style>\n",
       "<table border=\"1\" class=\"dataframe\">\n",
       "  <thead>\n",
       "    <tr style=\"text-align: right;\">\n",
       "      <th></th>\n",
       "      <th>Date</th>\n",
       "      <th>High</th>\n",
       "      <th>Low</th>\n",
       "      <th>Open</th>\n",
       "      <th>Close</th>\n",
       "      <th>Volume</th>\n",
       "      <th>Adj Close</th>\n",
       "      <th>close_before</th>\n",
       "      <th>relative_price</th>\n",
       "      <th>Color</th>\n",
       "    </tr>\n",
       "  </thead>\n",
       "  <tbody>\n",
       "    <tr>\n",
       "      <th>0</th>\n",
       "      <td>2020-10-20</td>\n",
       "      <td>431.750000</td>\n",
       "      <td>419.049988</td>\n",
       "      <td>431.750000</td>\n",
       "      <td>421.940002</td>\n",
       "      <td>31444700</td>\n",
       "      <td>421.940002</td>\n",
       "      <td>430.829987</td>\n",
       "      <td>-8.889984</td>\n",
       "      <td>red</td>\n",
       "    </tr>\n",
       "    <tr>\n",
       "      <th>1</th>\n",
       "      <td>2020-10-19</td>\n",
       "      <td>447.000000</td>\n",
       "      <td>428.869995</td>\n",
       "      <td>446.239990</td>\n",
       "      <td>430.829987</td>\n",
       "      <td>36287800</td>\n",
       "      <td>430.829987</td>\n",
       "      <td>439.670013</td>\n",
       "      <td>-8.840027</td>\n",
       "      <td>red</td>\n",
       "    </tr>\n",
       "    <tr>\n",
       "      <th>2</th>\n",
       "      <td>2020-10-16</td>\n",
       "      <td>455.950012</td>\n",
       "      <td>438.850006</td>\n",
       "      <td>454.440002</td>\n",
       "      <td>439.670013</td>\n",
       "      <td>32775900</td>\n",
       "      <td>439.670013</td>\n",
       "      <td>448.880005</td>\n",
       "      <td>-9.209991</td>\n",
       "      <td>red</td>\n",
       "    </tr>\n",
       "    <tr>\n",
       "      <th>3</th>\n",
       "      <td>2020-10-15</td>\n",
       "      <td>456.570007</td>\n",
       "      <td>442.500000</td>\n",
       "      <td>450.309998</td>\n",
       "      <td>448.880005</td>\n",
       "      <td>35672400</td>\n",
       "      <td>448.880005</td>\n",
       "      <td>461.299988</td>\n",
       "      <td>-12.419983</td>\n",
       "      <td>red</td>\n",
       "    </tr>\n",
       "    <tr>\n",
       "      <th>4</th>\n",
       "      <td>2020-10-14</td>\n",
       "      <td>465.899994</td>\n",
       "      <td>447.350006</td>\n",
       "      <td>449.779999</td>\n",
       "      <td>461.299988</td>\n",
       "      <td>48045400</td>\n",
       "      <td>461.299988</td>\n",
       "      <td>0.000000</td>\n",
       "      <td>0.000000</td>\n",
       "      <td>green</td>\n",
       "    </tr>\n",
       "  </tbody>\n",
       "</table>\n",
       "</div>"
      ],
      "text/plain": [
       "        Date        High         Low        Open       Close    Volume  \\\n",
       "0 2020-10-20  431.750000  419.049988  431.750000  421.940002  31444700   \n",
       "1 2020-10-19  447.000000  428.869995  446.239990  430.829987  36287800   \n",
       "2 2020-10-16  455.950012  438.850006  454.440002  439.670013  32775900   \n",
       "3 2020-10-15  456.570007  442.500000  450.309998  448.880005  35672400   \n",
       "4 2020-10-14  465.899994  447.350006  449.779999  461.299988  48045400   \n",
       "\n",
       "    Adj Close  close_before  relative_price  Color  \n",
       "0  421.940002    430.829987       -8.889984    red  \n",
       "1  430.829987    439.670013       -8.840027    red  \n",
       "2  439.670013    448.880005       -9.209991    red  \n",
       "3  448.880005    461.299988      -12.419983    red  \n",
       "4  461.299988      0.000000        0.000000  green  "
      ]
     },
     "execution_count": 32,
     "metadata": {},
     "output_type": "execute_result"
    }
   ],
   "source": [
    "# ok, how about TSLA\n",
    "tsla = stock('TSLA')\n",
    "tsla.get_df()"
   ]
  },
  {
   "cell_type": "markdown",
   "metadata": {},
   "source": [
    "> Obviously it does not meet the conditions, let's check that"
   ]
  },
  {
   "cell_type": "code",
   "execution_count": 33,
   "metadata": {},
   "outputs": [
    {
     "data": {
      "text/plain": [
       "False"
      ]
     },
     "execution_count": 33,
     "metadata": {},
     "output_type": "execute_result"
    }
   ],
   "source": [
    "tsla.is_this_a_winner(colors = conditions)"
   ]
  },
  {
   "cell_type": "markdown",
   "metadata": {},
   "source": [
    ">Voila, the code works fine"
   ]
  },
  {
   "cell_type": "code",
   "execution_count": 34,
   "metadata": {},
   "outputs": [],
   "source": [
    "# let's visualize the plot"
   ]
  },
  {
   "cell_type": "code",
   "execution_count": 35,
   "metadata": {},
   "outputs": [
    {
     "data": {
      "image/png": "[encoded data removed]",
      "text/plain": [
       "<Figure size 720x432 with 1 Axes>"
      ]
     },
     "metadata": {
      "needs_background": "light"
     },
     "output_type": "display_data"
    }
   ],
   "source": [
    "\n",
    "tsla.plot_df()"
   ]
  },
  {
   "cell_type": "markdown",
   "metadata": {},
   "source": [
    "### Hunting for winners"
   ]
  },
  {
   "cell_type": "markdown",
   "metadata": {},
   "source": [
    "- Now let's look at out list of stocks and find ones that meet our condition"
   ]
  },
  {
   "cell_type": "code",
   "execution_count": 51,
   "metadata": {},
   "outputs": [
    {
     "name": "stdout",
     "output_type": "stream",
     "text": [
      "Vonage Holdings Corp. - Common Stock is not a winner\n",
      "Cadence Design Systems, Inc. - Common Stock is not a winner\n",
      "Urban One, Inc.  - Class A Common Stock is not a winner\n",
      "Broadcom Inc. - Common Stock is not a winner\n",
      "Adobe Inc. - Common Stock is not a winner\n",
      "Alexion Pharmaceuticals, Inc. - Common Stock is not a winner\n",
      "Limelight Networks, Inc. - Common Stock is not a winner\n",
      "Maxim Integrated Products, Inc. - Common Stock is not a winner\n",
      "Ares Capital Corporation - Closed End Fund is not a winner\n",
      "Costco Wholesale Corporation - Common Stock is not a winner\n",
      "Genius Brands International, Inc. - Common Stock is not a winner\n",
      "Foresight Autonomous Holdings Ltd. - American Depositary Shares is not a winner\n",
      "Curis, Inc. - Common Stock is not a winner\n",
      "NortonLifeLock Inc. - Common Stock is not a winner\n",
      "Gevo, Inc. - Common Stock is not a winner\n",
      "Digital Ally, Inc. - Common Stock is a winner\n"
     ]
    },
    {
     "data": {
      "image/png": "[encoded data removed]",
      "text/plain": [
       "<Figure size 720x432 with 1 Axes>"
      ]
     },
     "metadata": {
      "needs_background": "light"
     },
     "output_type": "display_data"
    },
    {
     "name": "stdout",
     "output_type": "stream",
     "text": [
      "Qurate Retail, Inc. - Series A Common Stock is not a winner\n",
      "Marriott International - Class A Common Stock is not a winner\n",
      "Verastem, Inc. - Common Stock is not a winner\n",
      "MacroGenics, Inc. - Common Stock is not a winner\n",
      "Sabre Corporation - Common Stock is not a winner\n",
      "Endo International plc - Ordinary Shares is not a winner\n",
      "Beyond Meat, Inc. - Common stock is not a winner\n",
      "Yandex N.V. - Class A Ordinary Shares is a winner\n"
     ]
    },
    {
     "data": {
      "image/png": "[encoded data removed]",
      "text/plain": [
       "<Figure size 720x432 with 1 Axes>"
      ]
     },
     "metadata": {
      "needs_background": "light"
     },
     "output_type": "display_data"
    },
    {
     "name": "stdout",
     "output_type": "stream",
     "text": [
      "CommScope Holding Company, Inc. - Common Stock is not a winner\n",
      "Digital Turbine, Inc. - Common Stock is not a winner\n",
      "Duck Creek Technologies, Inc. - Common Stock is not a winner\n",
      "Agenus Inc. - Common Stock is not a winner\n",
      "Datadog, Inc. - Class A Common Stock is not a winner\n",
      "Precipio, Inc. - Common Stock is not a winner\n",
      "ZoomInfo Technologies Inc. - Class A Common Stock is not a winner\n",
      "The Michaels Companies, Inc. - Common Stock is not a winner\n",
      "eBay Inc. - Common Stock is not a winner\n",
      "Evofem Biosciences, Inc. - Common Stock is not a winner\n",
      "Chembio Diagnostics, Inc. - Common Stock is not a winner\n",
      "Bilibili Inc. - American Depositary Shares is not a winner\n",
      "Zions Bancorporation N.A. - Common Stock is not a winner\n",
      "Zoom Video Communications, Inc. - Class A Common Stock is not a winner\n",
      "People's United Financial, Inc. - Common Stock is not a winner\n",
      "Zosano Pharma Corporation - Common Stock is not a winner\n",
      "DISH Network Corporation - Class A Common Stock is not a winner\n",
      "Infinera Corporation - Common Stock is not a winner\n",
      "ViacomCBS Inc. - Class B Common Stock is not a winner\n",
      "The Carlyle Group Inc. - Common Stock is not a winner\n",
      "OpGen, Inc. - Common Stock is not a winner\n",
      "PepsiCo, Inc. - Common Stock is not a winner\n",
      "Workday, Inc. - Class A Common Stock is not a winner\n",
      "ImmunoGen, Inc. - Common Stock is not a winner\n",
      "AYRO, Inc. - Common Stock is not a winner\n",
      "Vanguard Total International Bond ETF is not a winner\n",
      "Teradyne, Inc. - Common Stock is not a winner\n",
      "Zillow Group, Inc. - Class C Capital Stock is not a winner\n",
      "The Goodyear Tire & Rubber Company - Common Stock is not a winner\n",
      "NantKwest, Inc. - Common Stock is not a winner\n",
      "Dynavax Technologies Corporation - Common Stock is not a winner\n",
      "Advanced Micro Devices, Inc. - Common Stock is not a winner\n",
      "QUALCOMM Incorporated - Common Stock is not a winner\n",
      "Arbutus Biopharma Corporation - Common Stock is not a winner\n",
      "Menlo Therapeutics Inc. - Common Stock is not a winner\n",
      "Waitr Holdings Inc. - Common Stock is not a winner\n",
      "Aerpio Pharmaceuticals, Inc. - Common Stock is not a winner\n",
      "New York Mortgage Trust, Inc. - Common Stock is not a winner\n",
      "Diffusion Pharmaceuticals Inc. - Common Stock is not a winner\n",
      "Kingsoft Cloud Holdings Limited - American Depositary Shares is not a winner\n",
      "DENTSPLY SIRONA Inc. - Common Stock is not a winner\n",
      "United Airlines Holdings, Inc. - Common Stock is not a winner\n",
      "Pan American Silver Corp. - Common Stock is not a winner\n",
      "Micron Technology, Inc. - Common Stock is not a winner\n",
      "Comcast Corporation - Class A Common Stock is not a winner\n",
      "iShares 1-3 Year Treasury Bond ETF is not a winner\n",
      "Glu Mobile Inc. - Common Stock is not a winner\n",
      "Fox Corporation - Class A Common Stock is not a winner\n",
      "Energous Corporation - Common Stock is a winner\n"
     ]
    },
    {
     "data": {
      "image/png": "[encoded data removed]",
      "text/plain": [
       "<Figure size 720x432 with 1 Axes>"
      ]
     },
     "metadata": {
      "needs_background": "light"
     },
     "output_type": "display_data"
    },
    {
     "name": "stdout",
     "output_type": "stream",
     "text": [
      "Midatech Pharma PLC - American Depositary Shares is not a winner\n",
      "Sprouts Farmers Market, Inc. - Common Stock is not a winner\n",
      "ON Semiconductor Corporation - Common Stock is not a winner\n",
      "Clovis Oncology, Inc. - Common Stock is not a winner\n",
      "Sangamo Therapeutics, Inc. - Common Stock is not a winner\n",
      "Dave & Buster's Entertainment, Inc. - Common Stock is not a winner\n",
      "Huntington Bancshares Incorporated - Common Stock is not a winner\n",
      "Roku, Inc. - Class A Common Stock is a winner\n"
     ]
    },
    {
     "data": {
      "image/png": "[encoded data removed]",
      "text/plain": [
       "<Figure size 720x432 with 1 Axes>"
      ]
     },
     "metadata": {
      "needs_background": "light"
     },
     "output_type": "display_data"
    },
    {
     "name": "stdout",
     "output_type": "stream",
     "text": [
      "Diversified Healthcare Trust  - Common Shares of Beneficial Interest is not a winner\n",
      "Akers Biosciences Inc. - Common Stock is not a winner\n",
      "Starbucks Corporation - Common Stock is not a winner\n",
      "Rigel Pharmaceuticals, Inc. - Common Stock is not a winner\n",
      "Mondelez International, Inc. - Class A Common Stock is not a winner\n",
      "Color Star Technology Co. Ltd. - Ordinary Shares is not a winner\n",
      "Baidu, Inc. - American Depositary Shares, each representing one tenth Class A ordinary share is not a winner\n",
      "Match Group, Inc. - Common Stock is not a winner\n",
      "Invesco QQQ Trust, Series 1 is not a winner\n",
      "Trip.com Group Limited - American Depositary Shares is not a winner\n",
      "Peloton Interactive, Inc. - Common Stock is not a winner\n",
      "Amarin Corporation plc - American Depositary Shares, each representing one Ordinary Share is not a winner\n",
      "SmileDirectClub, Inc. - Common Stock is not a winner\n",
      "Exelon Corporation - Common Stock is not a winner\n",
      "Extended Stay America, Inc. - Paired Shares is not a winner\n",
      "PayPal Holdings, Inc. - Common Stock is not a winner\n",
      "Horizon Therapeutics Public Limited Company - Ordinary Shares is not a winner\n",
      "DocuSign, Inc. - Common Stock is not a winner\n",
      "Sunworks, Inc. - Common Stock is a winner\n"
     ]
    },
    {
     "data": {
      "image/png": "[encoded data removed]",
      "text/plain": [
       "<Figure size 720x432 with 1 Axes>"
      ]
     },
     "metadata": {
      "needs_background": "light"
     },
     "output_type": "display_data"
    },
    {
     "name": "stdout",
     "output_type": "stream",
     "text": [
      "Phunware, Inc. - Common Stock is not a winner\n",
      "Allscripts Healthcare Solutions, Inc. - common stock is a winner\n"
     ]
    },
    {
     "data": {
      "image/png": "[encoded data removed]",
      "text/plain": [
       "<Figure size 720x432 with 1 Axes>"
      ]
     },
     "metadata": {
      "needs_background": "light"
     },
     "output_type": "display_data"
    },
    {
     "name": "stdout",
     "output_type": "stream",
     "text": [
      "Monster Beverage Corporation - Common Stock is not a winner\n",
      "Sunrun Inc. - Common Stock is not a winner\n",
      "ADiTx Therapeutics, Inc. - Common Stock is not a winner\n",
      "Ross Stores, Inc. - Common Stock is not a winner\n",
      "SLM Corporation - Common Stock is not a winner\n",
      "Arch Capital Group Ltd. - Common Stock is not a winner\n",
      "The Cheesecake Factory Incorporated - Common Stock is not a winner\n",
      "CSX Corporation - Common Stock is not a winner\n",
      "AGNC Investment Corp. - Common Stock is not a winner\n",
      "Ericsson - American Depositary Shares each representing 1 underlying Class B share is not a winner\n",
      "Celsion Corporation - Common Stock is not a winner\n",
      "Milestone Pharmaceuticals Inc. - Common Shares is not a winner\n",
      "Capricor Therapeutics, Inc. - Common Stock is not a winner\n",
      "Gilead Sciences, Inc. - Common Stock is not a winner\n",
      "VBI Vaccines, Inc. - Ordinary Shares is not a winner\n",
      "Novavax, Inc. - Common Stock is not a winner\n",
      "NetApp, Inc. - Common Stock is not a winner\n",
      "Houghton Mifflin Harcourt Company - Common Stock is not a winner\n",
      "Fluidigm Corporation - Common Stock is not a winner\n",
      "Momo Inc. - American Depositary Shares is not a winner\n",
      "iShares 20+ Year Treasury Bond ETF is not a winner\n",
      "FuelCell Energy, Inc. - Common Stock is not a winner\n",
      "GoPro, Inc. - Class A Common Stock is not a winner\n",
      "Ideanomics, Inc. - Common Stock is a winner\n"
     ]
    },
    {
     "data": {
      "image/png": "[encoded data removed]",
      "text/plain": [
       "<Figure size 720x432 with 1 Axes>"
      ]
     },
     "metadata": {
      "needs_background": "light"
     },
     "output_type": "display_data"
    },
    {
     "name": "stdout",
     "output_type": "stream",
     "text": [
      "Fastenal Company - Common Stock is not a winner\n",
      "Athersys, Inc. - Common Stock is not a winner\n",
      "Lyft, Inc. - Class A Common Stock is not a winner\n",
      "Polar Power, Inc. - Common Stock is not a winner\n",
      "MEI Pharma, Inc. - Common Stock is not a winner\n",
      "Aphria Inc. - Common Shares is not a winner\n",
      "Sonnet BioTherapeutics Holdings, Inc. - Common Stock is not a winner\n",
      "Clean Energy Fuels Corp. - Common Stock is not a winner\n",
      "VEON Ltd. - American Depositary Shares is not a winner\n",
      "Diamondback Energy, Inc. - Commmon Stock is not a winner\n",
      "Miragen Therapeutics, Inc. - Common Stock is not a winner\n",
      "Amicus Therapeutics, Inc. - Common Stock is not a winner\n",
      "Xilinx, Inc. - Common Stock is not a winner\n",
      "Discovery, Inc. - Series A Common Stock is not a winner\n",
      "TherapeuticsMD, Inc. - Common Stock is not a winner\n",
      "Outlook Therapeutics, Inc. - Common Stock is not a winner\n",
      "Vanguard Total Bond Market ETF is not a winner\n",
      "ANGI Homeservices Inc. - Class A Common Stock is not a winner\n",
      "Noble Energy Inc. - Common Stock is not a winner\n",
      "Amazon.com, Inc. - Common Stock is not a winner\n",
      "Fifth Third Bancorp - Common Stock is not a winner\n",
      "iShares MSCI ACWI ex US Index Fund is not a winner\n",
      "Workhorse Group, Inc. - Common Stock is not a winner\n",
      "Facebook, Inc. - Class A Common Stock is not a winner\n",
      "Stitch Fix, Inc. - Class A Common Stock is not a winner\n",
      "Liberty TripAdvisor Holdings, Inc. - Series A Common Stock is not a winner\n",
      "Xcel Energy Inc. - Common Stock is not a winner\n",
      "Red Rock Resorts, Inc. - Class A Common Stock is not a winner\n",
      "T-Mobile US, Inc. - Common Stock is not a winner\n",
      "Tesla, Inc.  - Common Stock is a winner\n"
     ]
    },
    {
     "data": {
      "image/png": "[encoded data removed]",
      "text/plain": [
       "<Figure size 720x432 with 1 Axes>"
      ]
     },
     "metadata": {
      "needs_background": "light"
     },
     "output_type": "display_data"
    },
    {
     "name": "stdout",
     "output_type": "stream",
     "text": [
      "NVIDIA Corporation - Common Stock is not a winner\n",
      "Western Digital Corporation - Common Stock is not a winner\n",
      "Creative Realities, Inc. - Common Stock is not a winner\n",
      "StoneCo Ltd. - Class A Common Share is not a winner\n",
      "CymaBay Therapeutics Inc. - Common Stock is not a winner\n",
      "TripAdvisor, Inc. - Common Stock is not a winner\n",
      "Altimmune, Inc. - Common Stock is not a winner\n",
      "Marvell Technology Group Ltd. - Common Stock is not a winner\n",
      "VanEck Vectors Semiconductor ETF is not a winner\n",
      "Livongo Health, Inc. - common stock is not a winner\n",
      "GAN Limited - Ordinary Shares is a winner\n"
     ]
    },
    {
     "data": {
      "image/png": "[encoded data removed]",
      "text/plain": [
       "<Figure size 720x432 with 1 Axes>"
      ]
     },
     "metadata": {
      "needs_background": "light"
     },
     "output_type": "display_data"
    },
    {
     "name": "stdout",
     "output_type": "stream",
     "text": [
      "Bloomin' Brands, Inc. - Common Stock is a winner\n"
     ]
    },
    {
     "data": {
      "image/png": "[encoded data removed]",
      "text/plain": [
       "<Figure size 720x432 with 1 Axes>"
      ]
     },
     "metadata": {
      "needs_background": "light"
     },
     "output_type": "display_data"
    },
    {
     "name": "stdout",
     "output_type": "stream",
     "text": [
      "Moleculin Biotech, Inc. - Common Stock is not a winner\n",
      "iShares Short Treasury Bond ETF is not a winner\n",
      "ProShares UltraPro Short QQQ is not a winner\n",
      "Royalty Pharma plc - Class A Ordinary Shares is not a winner\n",
      "iShares MSCI China ETF is not a winner\n",
      "Vislink Technologies, Inc. - Common Stock is not a winner\n",
      "Analog Devices, Inc. - Common Stock is not a winner\n",
      "Urban Outfitters, Inc. - Common Stock is a winner\n"
     ]
    },
    {
     "data": {
      "image/png": "[encoded data removed]",
      "text/plain": [
       "<Figure size 720x432 with 1 Axes>"
      ]
     },
     "metadata": {
      "needs_background": "light"
     },
     "output_type": "display_data"
    },
    {
     "name": "stdout",
     "output_type": "stream",
     "text": [
      "Jamf Holding Corp. - Common Stock is not a winner\n",
      "TG Therapeutics, Inc. - Common Stock is not a winner\n",
      "AIkido Pharma Inc. - Common Stock is not a winner\n",
      "Apple Inc. - Common Stock is not a winner\n",
      "Melco Resorts & Entertainment Limited - American Depositary Shares  is not a winner\n",
      "Walgreens Boots Alliance, Inc. - Common Stock is not a winner\n",
      "Sorrento Therapeutics, Inc. - Common Stock is not a winner\n",
      "News Corporation - Class A Common Stock is not a winner\n",
      "Liberty Global plc - Class C Ordinary Shares is not a winner\n",
      "Gulfport Energy Corporation - Common Stock is not a winner\n",
      "Ironwood Pharmaceuticals, Inc. - Class A Common Stock is not a winner\n",
      "YRC Worldwide, Inc. - Common Stock is not a winner\n",
      "Apache Corporation - Common Stock is not a winner\n",
      "MYOS RENS Technology Inc. - Common Stock is not a winner\n",
      "Vodafone Group Plc - American Depositary Shares each representing ten Ordinary Shares is not a winner\n",
      "NewAge, Inc. - Common Stock is not a winner\n",
      "Upwork Inc. - Common Stock is not a winner\n",
      "Minerva Neurosciences, Inc - Common Stock is not a winner\n",
      "Caesars Entertainment, Inc. - Common Stock is not a winner\n",
      "Wendy's Company (The) - Common Stock is not a winner\n",
      "Magnite, Inc. - Common Stock is not a winner\n",
      "CrowdStrike Holdings, Inc. - Class A Common Stock is not a winner\n",
      "Dollar Tree, Inc. - Common Stock is not a winner\n",
      "Microsoft Corporation - Common Stock is not a winner\n",
      "Fiserv, Inc. - Common Stock is not a winner\n",
      "GoHealth, Inc. - Class A Common Stock is not a winner\n",
      "IAC/InterActiveCorp - Common Stock is not a winner\n",
      "iShares Preferred and Income Securities ETF is not a winner\n",
      "XpresSpa Group, Inc.  - Common Stock is not a winner\n",
      "Cassava Sciences, Inc. - Common Stock is not a winner\n",
      "The Kraft Heinz Company - Common Stock is not a winner\n",
      "Broadway Financial Corporation - Common Stock is not a winner\n",
      "Applied Materials, Inc. - Common Stock is not a winner\n",
      "BioNTech SE - American Depositary Shares is not a winner\n",
      "Intel Corporation - Common Stock is not a winner\n",
      "Huazhu Group Limited - American Depositary Shares, each representing one Ordinary Share is not a winner\n",
      "Valley National Bancorp - Common Stock is not a winner\n",
      "Navient Corporation - Common Stock is not a winner\n",
      "JD.com, Inc. - American Depositary Shares is not a winner\n",
      "Electrameccanica Vehicles Corp. Ltd. - Common Stock is not a winner\n",
      "GenMark Diagnostics, Inc. - Common Stock is not a winner\n",
      "Overstock.com, Inc. - Common Stock is not a winner\n",
      "Mattel, Inc. - Common Stock is not a winner\n",
      "Onconova Therapeutics, Inc. - Common Stock is not a winner\n",
      "iShares J.P. Morgan USD Emerging Markets Bond ETF is not a winner\n",
      "Electronic Arts Inc. - Common Stock is not a winner\n",
      "BioCryst Pharmaceuticals, Inc. - Common Stock is a winner\n"
     ]
    },
    {
     "data": {
      "image/png": "[encoded data removed]",
      "text/plain": [
       "<Figure size 720x432 with 1 Axes>"
      ]
     },
     "metadata": {
      "needs_background": "light"
     },
     "output_type": "display_data"
    },
    {
     "name": "stdout",
     "output_type": "stream",
     "text": [
      "SiNtx Technologies, Inc. - Common Stock is not a winner\n",
      "Inseego Corp. - Common Stock is not a winner\n",
      "iQIYI, Inc. - American Depositary Shares is not a winner\n",
      "Lipocine Inc. - Common Stock is not a winner\n",
      "Urban One, Inc.  - Class D Common Stock is not a winner\n",
      "Geron Corporation - Common Stock is not a winner\n",
      "Pinduoduo Inc. - American Depositary Shares is not a winner\n",
      "Flex Ltd. - Ordinary Shares is not a winner\n",
      "BigCommerce Holdings, Inc. - Series 1 Common Stock is a winner\n"
     ]
    },
    {
     "data": {
      "image/png": "[encoded data removed]",
      "text/plain": [
       "<Figure size 720x432 with 1 Axes>"
      ]
     },
     "metadata": {
      "needs_background": "light"
     },
     "output_type": "display_data"
    },
    {
     "name": "stdout",
     "output_type": "stream",
     "text": [
      "CleanSpark, Inc. - Common Stock is a winner\n"
     ]
    },
    {
     "data": {
      "image/png": "[encoded data removed]",
      "text/plain": [
       "<Figure size 720x432 with 1 Axes>"
      ]
     },
     "metadata": {
      "needs_background": "light"
     },
     "output_type": "display_data"
    },
    {
     "name": "stdout",
     "output_type": "stream",
     "text": [
      "Activision Blizzard, Inc - Common Stock is not a winner\n",
      "Organigram Holdings Inc. - Common Shares is not a winner\n",
      "Newell Brands Inc. - Common Stock is not a winner\n",
      "Bed Bath & Beyond Inc. - Common Stock is not a winner\n",
      "Sirius XM Holdings Inc. - Common Stock is not a winner\n",
      "DraftKings Inc. - Class A Common Stock is not a winner\n",
      "MannKind Corporation - Common Stock is not a winner\n",
      "Microchip Technology Incorporated - Common Stock is not a winner\n",
      "Conduent Incorporated - Common Stock is not a winner\n",
      "Texas Instruments Incorporated - Common Stock is not a winner\n",
      "Kandi Technologies Group, Inc. - Common Stock is not a winner\n",
      "Automatic Data Processing, Inc. - Common Stock is not a winner\n",
      "Cemtrex Inc. - Common Stock is not a winner\n",
      "Remark Holdings, Inc. - Common Stock is not a winner\n",
      "Genprex, Inc. - Common Stock is not a winner\n",
      "Vanguard Intermediate-Term Corporate Bond ETF is not a winner\n",
      "Plug Power, Inc. - Common Stock is not a winner\n",
      "Cisco Systems, Inc. - Common Stock is not a winner\n",
      "Uniti Group Inc. - Common Stock is not a winner\n",
      "Cerner Corporation - Common Stock is not a winner\n",
      "Inovio Pharmaceuticals, Inc. - Common Stock is not a winner\n",
      "American Airlines Group, Inc. - Common Stock is not a winner\n",
      "iShares MSCI ACWI Index Fund is not a winner\n",
      "Xeris Pharmaceuticals, Inc. - Common Stock is not a winner\n",
      "Immunomedics, Inc. - Common Stock is not a winner\n",
      "Mylan N.V. - Common Stock is a winner\n"
     ]
    },
    {
     "data": {
      "image/png": "[encoded data removed]",
      "text/plain": [
       "<Figure size 720x432 with 1 Axes>"
      ]
     },
     "metadata": {
      "needs_background": "light"
     },
     "output_type": "display_data"
    },
    {
     "name": "stdout",
     "output_type": "stream",
     "text": [
      "UP Fintech Holding Limited - American Depositary Shares representing fifteen Class A Ordinary Shares is not a winner\n",
      "Cinedigm Corp - Class A Common Stock is not a winner\n",
      "Vanguard Total International Stock ETF is not a winner\n",
      "Nikola Corporation - Common Stock is not a winner\n",
      "Invesco Optimum Yield Diversified Commodity Strategy No K-1 ETF is not a winner\n",
      "SunPower Corporation - Common Stock is not a winner\n",
      "Opko Health, Inc. - Common Stock is not a winner\n",
      "JetBlue Airways Corporation - Common Stock is not a winner\n",
      "Pacific Ethanol, Inc. - Common Stock is not a winner\n",
      "Sonos, Inc. - Common Stock is not a winner\n",
      "Cronos Group Inc. - Common Share is not a winner\n",
      "Expedia Group, Inc. - Common Stock is not a winner\n",
      "Canaan Inc. - American Depositary Shares is not a winner\n",
      "Tellurian Inc. - Common Stock is not a winner\n",
      "China Jo-Jo Drugstores, Inc. - Common Stock is not a winner\n",
      "BELLUS Health Inc. - Common Shares is not a winner\n",
      "Take-Two Interactive Software, Inc. - Common Stock is not a winner\n",
      "Zynga Inc. - Class A Common Stock is a winner\n"
     ]
    },
    {
     "data": {
      "image/png": "[encoded data removed]",
      "text/plain": [
       "<Figure size 720x432 with 1 Axes>"
      ]
     },
     "metadata": {
      "needs_background": "light"
     },
     "output_type": "display_data"
    },
    {
     "name": "stdout",
     "output_type": "stream",
     "text": [
      "Boxlight Corporation - Class A Common Stock is not a winner\n",
      "WiMi Hologram Cloud Inc. - American Depositary Share is not a winner\n",
      "Discovery, Inc. - Series C Common Stock is not a winner\n",
      "iShares Short-Term Corporate Bond ETF is not a winner\n",
      "Viavi Solutions Inc. - Common Stock is not a winner\n",
      "Unum Therapeutics Inc. - Common Stock is not a winner\n",
      "Paychex, Inc. - Common Stock is not a winner\n",
      "Enphase Energy, Inc. - Common Stock is not a winner\n",
      "Safe-T Group Ltd. - American Depositary Shares is not a winner\n",
      "Blink Charging Co. - Common Stock is not a winner\n",
      "Cognizant Technology Solutions Corporation - Class A Common Stock is not a winner\n",
      "Amgen Inc. - Common Stock is not a winner\n",
      "Penn National Gaming, Inc. - Common Stock is not a winner\n",
      "CureVac N.V. - Ordinary Shares is not a winner\n",
      "Vanguard Short-Term Corporate Bond ETF is not a winner\n",
      "Trevena, Inc. - Common Stock is not a winner\n",
      "Adamis Pharmaceuticals Corporation - Common Stock is not a winner\n",
      "ProShares UltraPro QQQ is not a winner\n",
      "Skyworks Solutions, Inc. - Common Stock is not a winner\n",
      "Avis Budget Group, Inc. - Common Stock is not a winner\n",
      "Tonix Pharmaceuticals Holding Corp. - Common Stock is not a winner\n",
      "Zscaler, Inc. - Common Stock is not a winner\n",
      "Moneygram International, Inc. - Common Stock is not a winner\n",
      "Hologic, Inc. - Common Stock is not a winner\n"
     ]
    }
   ],
   "source": [
    "winners = []  # a list that we will append with stocks that meet out conditions\n",
    "\n",
    "for ticker, name in series_tickers.iteritems():\n",
    "    try:\n",
    "        my_stock = stock(ticker)\n",
    "        my_stock.get_df()\n",
    "        if my_stock.is_this_a_winner(colors = ['green','red','red','red']):\n",
    "            print(name,'is a winner')\n",
    "            my_stock.plot_df()\n",
    "            winners.append(ticker)\n",
    "        else:\n",
    "            print(name,'is not a winner')\n",
    "    except:\n",
    "        continue\n",
    "\n",
    " "
   ]
  },
  {
   "cell_type": "markdown",
   "metadata": {},
   "source": [
    "- Finally let's look at the list of our winners"
   ]
  },
  {
   "cell_type": "code",
   "execution_count": 41,
   "metadata": {},
   "outputs": [
    {
     "data": {
      "text/plain": [
       "['UONE', 'LLNW', 'UAL', 'ERIC', 'UONEK', 'KNDI', 'NKLA']"
      ]
     },
     "execution_count": 41,
     "metadata": {},
     "output_type": "execute_result"
    }
   ],
   "source": [
    "winners"
   ]
  },
  {
   "cell_type": "code",
   "execution_count": 47,
   "metadata": {},
   "outputs": [
    {
     "data": {
      "text/html": [
       "<div>\n",
       "<style scoped>\n",
       "    .dataframe tbody tr th:only-of-type {\n",
       "        vertical-align: middle;\n",
       "    }\n",
       "\n",
       "    .dataframe tbody tr th {\n",
       "        vertical-align: top;\n",
       "    }\n",
       "\n",
       "    .dataframe thead th {\n",
       "        text-align: right;\n",
       "    }\n",
       "</style>\n",
       "<table border=\"1\" class=\"dataframe\">\n",
       "  <thead>\n",
       "    <tr style=\"text-align: right;\">\n",
       "      <th></th>\n",
       "      <th>Date</th>\n",
       "      <th>High</th>\n",
       "      <th>Low</th>\n",
       "      <th>Open</th>\n",
       "      <th>Close</th>\n",
       "      <th>Volume</th>\n",
       "      <th>Adj Close</th>\n",
       "      <th>close_before</th>\n",
       "      <th>relative_price</th>\n",
       "      <th>Color</th>\n",
       "    </tr>\n",
       "  </thead>\n",
       "  <tbody>\n",
       "    <tr>\n",
       "      <th>0</th>\n",
       "      <td>2020-10-20</td>\n",
       "      <td>36.759998</td>\n",
       "      <td>34.529999</td>\n",
       "      <td>34.529999</td>\n",
       "      <td>36.310001</td>\n",
       "      <td>29780800</td>\n",
       "      <td>36.310001</td>\n",
       "      <td>34.220001</td>\n",
       "      <td>2.090000</td>\n",
       "      <td>green</td>\n",
       "    </tr>\n",
       "    <tr>\n",
       "      <th>1</th>\n",
       "      <td>2020-10-19</td>\n",
       "      <td>34.590000</td>\n",
       "      <td>34.000000</td>\n",
       "      <td>34.160000</td>\n",
       "      <td>34.220001</td>\n",
       "      <td>19278600</td>\n",
       "      <td>34.220001</td>\n",
       "      <td>33.720001</td>\n",
       "      <td>0.500000</td>\n",
       "      <td>green</td>\n",
       "    </tr>\n",
       "    <tr>\n",
       "      <th>2</th>\n",
       "      <td>2020-10-16</td>\n",
       "      <td>34.799999</td>\n",
       "      <td>33.610001</td>\n",
       "      <td>34.779999</td>\n",
       "      <td>33.720001</td>\n",
       "      <td>14899700</td>\n",
       "      <td>33.720001</td>\n",
       "      <td>34.259998</td>\n",
       "      <td>-0.539997</td>\n",
       "      <td>red</td>\n",
       "    </tr>\n",
       "    <tr>\n",
       "      <th>3</th>\n",
       "      <td>2020-10-15</td>\n",
       "      <td>34.810001</td>\n",
       "      <td>34.020000</td>\n",
       "      <td>34.680000</td>\n",
       "      <td>34.259998</td>\n",
       "      <td>15443800</td>\n",
       "      <td>34.259998</td>\n",
       "      <td>35.110001</td>\n",
       "      <td>-0.850002</td>\n",
       "      <td>red</td>\n",
       "    </tr>\n",
       "    <tr>\n",
       "      <th>4</th>\n",
       "      <td>2020-10-14</td>\n",
       "      <td>36.090000</td>\n",
       "      <td>35.075001</td>\n",
       "      <td>35.689999</td>\n",
       "      <td>35.110001</td>\n",
       "      <td>15402900</td>\n",
       "      <td>35.110001</td>\n",
       "      <td>0.000000</td>\n",
       "      <td>0.000000</td>\n",
       "      <td>green</td>\n",
       "    </tr>\n",
       "  </tbody>\n",
       "</table>\n",
       "</div>"
      ],
      "text/plain": [
       "        Date       High        Low       Open      Close    Volume  Adj Close  \\\n",
       "0 2020-10-20  36.759998  34.529999  34.529999  36.310001  29780800  36.310001   \n",
       "1 2020-10-19  34.590000  34.000000  34.160000  34.220001  19278600  34.220001   \n",
       "2 2020-10-16  34.799999  33.610001  34.779999  33.720001  14899700  33.720001   \n",
       "3 2020-10-15  34.810001  34.020000  34.680000  34.259998  15443800  34.259998   \n",
       "4 2020-10-14  36.090000  35.075001  35.689999  35.110001  15402900  35.110001   \n",
       "\n",
       "   close_before  relative_price  Color  \n",
       "0     34.220001        2.090000  green  \n",
       "1     33.720001        0.500000  green  \n",
       "2     34.259998       -0.539997    red  \n",
       "3     35.110001       -0.850002    red  \n",
       "4      0.000000        0.000000  green  "
      ]
     },
     "execution_count": 47,
     "metadata": {},
     "output_type": "execute_result"
    }
   ],
   "source": [
    "df = uber.get_df()\n",
    "df"
   ]
  },
  {
   "cell_type": "code",
   "execution_count": 49,
   "metadata": {},
   "outputs": [
    {
     "data": {
      "text/plain": [
       "0    0.000000\n",
       "1   -0.166724\n",
       "2   -0.335334\n",
       "3   -0.420537\n",
       "4   -0.414693\n",
       "Name: Close, dtype: float64"
      ]
     },
     "execution_count": 49,
     "metadata": {},
     "output_type": "execute_result"
    }
   ],
   "source": [
    "exp1 = df.Close.ewm(span=12, adjust=False).mean()\n",
    "exp2 = df.Close.ewm(span=26, adjust=False).mean()\n",
    "\n",
    "macd = exp1-exp2\n",
    "macd"
   ]
  },
  {
   "cell_type": "code",
   "execution_count": null,
   "metadata": {},
   "outputs": [],
   "source": []
  }
 ],
 "metadata": {
  "kernelspec": {
   "display_name": "Python 3",
   "language": "python",
   "name": "python3"
  },
  "language_info": {
   "codemirror_mode": {
    "name": "ipython",
    "version": 3
   },
   "file_extension": ".py",
   "mimetype": "text/x-python",
   "name": "python",
   "nbconvert_exporter": "python",
   "pygments_lexer": "ipython3",
   "version": "3.8.3"
  }
 },
 "nbformat": 4,
 "nbformat_minor": 4
}
