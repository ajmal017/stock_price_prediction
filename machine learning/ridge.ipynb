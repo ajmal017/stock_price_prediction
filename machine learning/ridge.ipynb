{
 "cells": [
  {
   "cell_type": "code",
   "execution_count": 687,
   "metadata": {},
   "outputs": [],
   "source": [
    "import pandas as pd\n",
    "import numpy as np\n",
    "from sklearn.compose import ColumnTransformer\n",
    "from sklearn.pipeline import Pipeline\n",
    "from sklearn.impute import SimpleImputer\n",
    "from sklearn.preprocessing import StandardScaler, OneHotEncoder\n",
    "from sklearn.linear_model import LogisticRegression, Ridge, LinearRegression\n",
    "from sklearn.model_selection import train_test_split, GridSearchCV\n",
    "from sklearn.ensemble import GradientBoostingRegressor\n",
    "from sklearn.pipeline import Pipeline\n",
    "from sklearn import metrics\n",
    "from sklearn.ensemble import RandomForestRegressor\n",
    "from sklearn.preprocessing import PolynomialFeatures\n",
    "\n",
    "import matplotlib.pyplot as plt\n",
    "import altair as alt\n",
    "import datetime as dt\n",
    "\n",
    "\n"
   ]
  },
  {
   "cell_type": "code",
   "execution_count": 223,
   "metadata": {},
   "outputs": [],
   "source": [
    "def SMA(ticker_df,periods = 20):\n",
    "    ticker_df['SMA'] = ticker_df['Adj Close'].rolling(window = periods).mean()\n",
    "    return ticker_df"
   ]
  },
  {
   "cell_type": "code",
   "execution_count": 27,
   "metadata": {},
   "outputs": [],
   "source": [
    "import pandas as pd\n",
    "import numpy as np\n",
    "import datetime as dt\n",
    "import yfinance as yf  # for data\n",
    "from pandas_datareader import data as pdr\n",
    "yf.pdr_override()"
   ]
  },
  {
   "cell_type": "code",
   "execution_count": 747,
   "metadata": {},
   "outputs": [],
   "source": [
    "def read_data(stock='LYFT'):\n",
    "\n",
    "\n",
    "    df = pdr.get_data_yahoo(stock,period = \"120d\",\n",
    "\n",
    "            # fetch data by interval (including intraday if period < 60 days)\n",
    "            # valid intervals: 1m,2m,5m,15m,30m,60m,90m,1h,1d,5d,1wk,1mo,3mo\n",
    "            # (optional, default is '1d')\n",
    "            interval = \"1d\",)\n",
    "\n",
    "\n",
    "#     emasUsed = [26,50]\n",
    "#     for ema in emasUsed:\n",
    "#         df['Ema_' + str(ema)] = round(df['Adj Close'].ewm(span = ema, adjust = False).mean(),2)\n",
    "#     df['Middle Band'] =df['Adj Close'].rolling(window=20).mean()\n",
    "#     df['Upper Band'] = df['Middle Band'] + 1.96*df['Close'].rolling(window=20).std()\n",
    "#     df['Lower Band'] = df['Middle Band'] - 1.96*df['Close'].rolling(window=20).std()\n",
    "#     df['status_lower'] = np.where(df['Close'] < df['Lower Band'],'below_ballinger','normal')\n",
    "#     df['status_upper'] = np.where(df['Close'] > df['Upper Band'],'above_ballinger','normal')\n",
    "    \n",
    "    return df"
   ]
  },
  {
   "cell_type": "code",
   "execution_count": 891,
   "metadata": {},
   "outputs": [
    {
     "name": "stdout",
     "output_type": "stream",
     "text": [
      "[*********************100%***********************]  1 of 1 completed\n"
     ]
    }
   ],
   "source": [
    "df = read_data(stock='LYFT').reset_index()"
   ]
  },
  {
   "cell_type": "code",
   "execution_count": 892,
   "metadata": {},
   "outputs": [
    {
     "data": {
      "text/html": [
       "<div>\n",
       "<style scoped>\n",
       "    .dataframe tbody tr th:only-of-type {\n",
       "        vertical-align: middle;\n",
       "    }\n",
       "\n",
       "    .dataframe tbody tr th {\n",
       "        vertical-align: top;\n",
       "    }\n",
       "\n",
       "    .dataframe thead th {\n",
       "        text-align: right;\n",
       "    }\n",
       "</style>\n",
       "<table border=\"1\" class=\"dataframe\">\n",
       "  <thead>\n",
       "    <tr style=\"text-align: right;\">\n",
       "      <th></th>\n",
       "      <th>Date</th>\n",
       "      <th>Open</th>\n",
       "      <th>High</th>\n",
       "      <th>Low</th>\n",
       "      <th>Close</th>\n",
       "      <th>Adj Close</th>\n",
       "      <th>Volume</th>\n",
       "    </tr>\n",
       "  </thead>\n",
       "  <tbody>\n",
       "    <tr>\n",
       "      <th>0</th>\n",
       "      <td>2020-05-18</td>\n",
       "      <td>29.870001</td>\n",
       "      <td>31.080000</td>\n",
       "      <td>29.389999</td>\n",
       "      <td>30.430000</td>\n",
       "      <td>30.430000</td>\n",
       "      <td>11939600</td>\n",
       "    </tr>\n",
       "    <tr>\n",
       "      <th>1</th>\n",
       "      <td>2020-05-19</td>\n",
       "      <td>30.480000</td>\n",
       "      <td>31.639999</td>\n",
       "      <td>29.559999</td>\n",
       "      <td>30.690001</td>\n",
       "      <td>30.690001</td>\n",
       "      <td>8398900</td>\n",
       "    </tr>\n",
       "    <tr>\n",
       "      <th>2</th>\n",
       "      <td>2020-05-20</td>\n",
       "      <td>31.400000</td>\n",
       "      <td>31.950001</td>\n",
       "      <td>30.080000</td>\n",
       "      <td>30.820000</td>\n",
       "      <td>30.820000</td>\n",
       "      <td>8503900</td>\n",
       "    </tr>\n",
       "    <tr>\n",
       "      <th>3</th>\n",
       "      <td>2020-05-21</td>\n",
       "      <td>30.740000</td>\n",
       "      <td>30.910000</td>\n",
       "      <td>29.570000</td>\n",
       "      <td>30.389999</td>\n",
       "      <td>30.389999</td>\n",
       "      <td>6281300</td>\n",
       "    </tr>\n",
       "    <tr>\n",
       "      <th>4</th>\n",
       "      <td>2020-05-22</td>\n",
       "      <td>30.309999</td>\n",
       "      <td>31.270000</td>\n",
       "      <td>29.570000</td>\n",
       "      <td>31.260000</td>\n",
       "      <td>31.260000</td>\n",
       "      <td>6699300</td>\n",
       "    </tr>\n",
       "    <tr>\n",
       "      <th>...</th>\n",
       "      <td>...</td>\n",
       "      <td>...</td>\n",
       "      <td>...</td>\n",
       "      <td>...</td>\n",
       "      <td>...</td>\n",
       "      <td>...</td>\n",
       "      <td>...</td>\n",
       "    </tr>\n",
       "    <tr>\n",
       "      <th>115</th>\n",
       "      <td>2020-10-29</td>\n",
       "      <td>22.230000</td>\n",
       "      <td>23.270000</td>\n",
       "      <td>21.910000</td>\n",
       "      <td>22.930000</td>\n",
       "      <td>22.930000</td>\n",
       "      <td>7482600</td>\n",
       "    </tr>\n",
       "    <tr>\n",
       "      <th>116</th>\n",
       "      <td>2020-10-30</td>\n",
       "      <td>22.820000</td>\n",
       "      <td>23.430000</td>\n",
       "      <td>22.400000</td>\n",
       "      <td>22.830000</td>\n",
       "      <td>22.830000</td>\n",
       "      <td>8012800</td>\n",
       "    </tr>\n",
       "    <tr>\n",
       "      <th>117</th>\n",
       "      <td>2020-11-02</td>\n",
       "      <td>23.190001</td>\n",
       "      <td>24.670000</td>\n",
       "      <td>22.900000</td>\n",
       "      <td>24.500000</td>\n",
       "      <td>24.500000</td>\n",
       "      <td>12181700</td>\n",
       "    </tr>\n",
       "    <tr>\n",
       "      <th>118</th>\n",
       "      <td>2020-11-03</td>\n",
       "      <td>24.910000</td>\n",
       "      <td>26.600000</td>\n",
       "      <td>24.860001</td>\n",
       "      <td>26.230000</td>\n",
       "      <td>26.230000</td>\n",
       "      <td>16311400</td>\n",
       "    </tr>\n",
       "    <tr>\n",
       "      <th>119</th>\n",
       "      <td>2020-11-04</td>\n",
       "      <td>31.700001</td>\n",
       "      <td>32.119999</td>\n",
       "      <td>28.309999</td>\n",
       "      <td>29.190001</td>\n",
       "      <td>29.190001</td>\n",
       "      <td>60890900</td>\n",
       "    </tr>\n",
       "  </tbody>\n",
       "</table>\n",
       "<p>120 rows × 7 columns</p>\n",
       "</div>"
      ],
      "text/plain": [
       "          Date       Open       High        Low      Close  Adj Close  \\\n",
       "0   2020-05-18  29.870001  31.080000  29.389999  30.430000  30.430000   \n",
       "1   2020-05-19  30.480000  31.639999  29.559999  30.690001  30.690001   \n",
       "2   2020-05-20  31.400000  31.950001  30.080000  30.820000  30.820000   \n",
       "3   2020-05-21  30.740000  30.910000  29.570000  30.389999  30.389999   \n",
       "4   2020-05-22  30.309999  31.270000  29.570000  31.260000  31.260000   \n",
       "..         ...        ...        ...        ...        ...        ...   \n",
       "115 2020-10-29  22.230000  23.270000  21.910000  22.930000  22.930000   \n",
       "116 2020-10-30  22.820000  23.430000  22.400000  22.830000  22.830000   \n",
       "117 2020-11-02  23.190001  24.670000  22.900000  24.500000  24.500000   \n",
       "118 2020-11-03  24.910000  26.600000  24.860001  26.230000  26.230000   \n",
       "119 2020-11-04  31.700001  32.119999  28.309999  29.190001  29.190001   \n",
       "\n",
       "       Volume  \n",
       "0    11939600  \n",
       "1     8398900  \n",
       "2     8503900  \n",
       "3     6281300  \n",
       "4     6699300  \n",
       "..        ...  \n",
       "115   7482600  \n",
       "116   8012800  \n",
       "117  12181700  \n",
       "118  16311400  \n",
       "119  60890900  \n",
       "\n",
       "[120 rows x 7 columns]"
      ]
     },
     "execution_count": 892,
     "metadata": {},
     "output_type": "execute_result"
    }
   ],
   "source": [
    "df"
   ]
  },
  {
   "cell_type": "code",
   "execution_count": 893,
   "metadata": {},
   "outputs": [],
   "source": [
    "df['High'] = df['High'].shift(1)\n",
    "df['Low'] = df['Low'].shift(1)\n",
    "df['Volume'] = df['Volume'].shift(1)"
   ]
  },
  {
   "cell_type": "code",
   "execution_count": null,
   "metadata": {},
   "outputs": [],
   "source": []
  },
  {
   "cell_type": "code",
   "execution_count": 894,
   "metadata": {},
   "outputs": [],
   "source": [
    "df['Date'] = pd.to_datetime(df['Date'])\n",
    "df['Date']=df['Date'].map(dt.datetime.toordinal)"
   ]
  },
  {
   "cell_type": "code",
   "execution_count": 895,
   "metadata": {},
   "outputs": [
    {
     "data": {
      "text/html": [
       "<div>\n",
       "<style scoped>\n",
       "    .dataframe tbody tr th:only-of-type {\n",
       "        vertical-align: middle;\n",
       "    }\n",
       "\n",
       "    .dataframe tbody tr th {\n",
       "        vertical-align: top;\n",
       "    }\n",
       "\n",
       "    .dataframe thead th {\n",
       "        text-align: right;\n",
       "    }\n",
       "</style>\n",
       "<table border=\"1\" class=\"dataframe\">\n",
       "  <thead>\n",
       "    <tr style=\"text-align: right;\">\n",
       "      <th></th>\n",
       "      <th>Date</th>\n",
       "      <th>Open</th>\n",
       "      <th>High</th>\n",
       "      <th>Low</th>\n",
       "      <th>Close</th>\n",
       "      <th>Adj Close</th>\n",
       "      <th>Volume</th>\n",
       "    </tr>\n",
       "  </thead>\n",
       "  <tbody>\n",
       "    <tr>\n",
       "      <th>0</th>\n",
       "      <td>737563</td>\n",
       "      <td>29.870001</td>\n",
       "      <td>NaN</td>\n",
       "      <td>NaN</td>\n",
       "      <td>30.430000</td>\n",
       "      <td>30.430000</td>\n",
       "      <td>NaN</td>\n",
       "    </tr>\n",
       "    <tr>\n",
       "      <th>1</th>\n",
       "      <td>737564</td>\n",
       "      <td>30.480000</td>\n",
       "      <td>31.080000</td>\n",
       "      <td>29.389999</td>\n",
       "      <td>30.690001</td>\n",
       "      <td>30.690001</td>\n",
       "      <td>11939600.0</td>\n",
       "    </tr>\n",
       "    <tr>\n",
       "      <th>2</th>\n",
       "      <td>737565</td>\n",
       "      <td>31.400000</td>\n",
       "      <td>31.639999</td>\n",
       "      <td>29.559999</td>\n",
       "      <td>30.820000</td>\n",
       "      <td>30.820000</td>\n",
       "      <td>8398900.0</td>\n",
       "    </tr>\n",
       "    <tr>\n",
       "      <th>3</th>\n",
       "      <td>737566</td>\n",
       "      <td>30.740000</td>\n",
       "      <td>31.950001</td>\n",
       "      <td>30.080000</td>\n",
       "      <td>30.389999</td>\n",
       "      <td>30.389999</td>\n",
       "      <td>8503900.0</td>\n",
       "    </tr>\n",
       "    <tr>\n",
       "      <th>4</th>\n",
       "      <td>737567</td>\n",
       "      <td>30.309999</td>\n",
       "      <td>30.910000</td>\n",
       "      <td>29.570000</td>\n",
       "      <td>31.260000</td>\n",
       "      <td>31.260000</td>\n",
       "      <td>6281300.0</td>\n",
       "    </tr>\n",
       "    <tr>\n",
       "      <th>...</th>\n",
       "      <td>...</td>\n",
       "      <td>...</td>\n",
       "      <td>...</td>\n",
       "      <td>...</td>\n",
       "      <td>...</td>\n",
       "      <td>...</td>\n",
       "      <td>...</td>\n",
       "    </tr>\n",
       "    <tr>\n",
       "      <th>115</th>\n",
       "      <td>737727</td>\n",
       "      <td>22.230000</td>\n",
       "      <td>22.620001</td>\n",
       "      <td>21.340000</td>\n",
       "      <td>22.930000</td>\n",
       "      <td>22.930000</td>\n",
       "      <td>17627600.0</td>\n",
       "    </tr>\n",
       "    <tr>\n",
       "      <th>116</th>\n",
       "      <td>737728</td>\n",
       "      <td>22.820000</td>\n",
       "      <td>23.270000</td>\n",
       "      <td>21.910000</td>\n",
       "      <td>22.830000</td>\n",
       "      <td>22.830000</td>\n",
       "      <td>7482600.0</td>\n",
       "    </tr>\n",
       "    <tr>\n",
       "      <th>117</th>\n",
       "      <td>737731</td>\n",
       "      <td>23.190001</td>\n",
       "      <td>23.430000</td>\n",
       "      <td>22.400000</td>\n",
       "      <td>24.500000</td>\n",
       "      <td>24.500000</td>\n",
       "      <td>8012800.0</td>\n",
       "    </tr>\n",
       "    <tr>\n",
       "      <th>118</th>\n",
       "      <td>737732</td>\n",
       "      <td>24.910000</td>\n",
       "      <td>24.670000</td>\n",
       "      <td>22.900000</td>\n",
       "      <td>26.230000</td>\n",
       "      <td>26.230000</td>\n",
       "      <td>12181700.0</td>\n",
       "    </tr>\n",
       "    <tr>\n",
       "      <th>119</th>\n",
       "      <td>737733</td>\n",
       "      <td>31.700001</td>\n",
       "      <td>26.600000</td>\n",
       "      <td>24.860001</td>\n",
       "      <td>29.190001</td>\n",
       "      <td>29.190001</td>\n",
       "      <td>16311400.0</td>\n",
       "    </tr>\n",
       "  </tbody>\n",
       "</table>\n",
       "<p>120 rows × 7 columns</p>\n",
       "</div>"
      ],
      "text/plain": [
       "       Date       Open       High        Low      Close  Adj Close      Volume\n",
       "0    737563  29.870001        NaN        NaN  30.430000  30.430000         NaN\n",
       "1    737564  30.480000  31.080000  29.389999  30.690001  30.690001  11939600.0\n",
       "2    737565  31.400000  31.639999  29.559999  30.820000  30.820000   8398900.0\n",
       "3    737566  30.740000  31.950001  30.080000  30.389999  30.389999   8503900.0\n",
       "4    737567  30.309999  30.910000  29.570000  31.260000  31.260000   6281300.0\n",
       "..      ...        ...        ...        ...        ...        ...         ...\n",
       "115  737727  22.230000  22.620001  21.340000  22.930000  22.930000  17627600.0\n",
       "116  737728  22.820000  23.270000  21.910000  22.830000  22.830000   7482600.0\n",
       "117  737731  23.190001  23.430000  22.400000  24.500000  24.500000   8012800.0\n",
       "118  737732  24.910000  24.670000  22.900000  26.230000  26.230000  12181700.0\n",
       "119  737733  31.700001  26.600000  24.860001  29.190001  29.190001  16311400.0\n",
       "\n",
       "[120 rows x 7 columns]"
      ]
     },
     "execution_count": 895,
     "metadata": {},
     "output_type": "execute_result"
    }
   ],
   "source": [
    "df"
   ]
  },
  {
   "cell_type": "code",
   "execution_count": 898,
   "metadata": {},
   "outputs": [
    {
     "name": "stderr",
     "output_type": "stream",
     "text": [
      "<ipython-input-898-9eac35aa948e>:1: SettingWithCopyWarning: \n",
      "A value is trying to be set on a copy of a slice from a DataFrame.\n",
      "Try using .loc[row_indexer,col_indexer] = value instead\n",
      "\n",
      "See the caveats in the documentation: https://pandas.pydata.org/pandas-docs/stable/user_guide/indexing.html#returning-a-view-versus-a-copy\n",
      "  df['SMA'] = df['Adj Close'].rolling(window = 20).mean()\n",
      "<ipython-input-898-9eac35aa948e>:2: SettingWithCopyWarning: \n",
      "A value is trying to be set on a copy of a slice from a DataFrame.\n",
      "Try using .loc[row_indexer,col_indexer] = value instead\n",
      "\n",
      "See the caveats in the documentation: https://pandas.pydata.org/pandas-docs/stable/user_guide/indexing.html#returning-a-view-versus-a-copy\n",
      "  df['Middle Band'] =df['Adj Close'].rolling(window=20).mean()\n",
      "<ipython-input-898-9eac35aa948e>:3: SettingWithCopyWarning: \n",
      "A value is trying to be set on a copy of a slice from a DataFrame.\n",
      "Try using .loc[row_indexer,col_indexer] = value instead\n",
      "\n",
      "See the caveats in the documentation: https://pandas.pydata.org/pandas-docs/stable/user_guide/indexing.html#returning-a-view-versus-a-copy\n",
      "  df['Upper Band'] = df['Middle Band'] + 1.96*df['Adj Close'].rolling(window=20).std()\n",
      "<ipython-input-898-9eac35aa948e>:4: SettingWithCopyWarning: \n",
      "A value is trying to be set on a copy of a slice from a DataFrame.\n",
      "Try using .loc[row_indexer,col_indexer] = value instead\n",
      "\n",
      "See the caveats in the documentation: https://pandas.pydata.org/pandas-docs/stable/user_guide/indexing.html#returning-a-view-versus-a-copy\n",
      "  df['Lower Band'] = df['Middle Band'] - 1.96*df['Adj Close'].rolling(window=20).std()\n",
      "<ipython-input-898-9eac35aa948e>:5: SettingWithCopyWarning: \n",
      "A value is trying to be set on a copy of a slice from a DataFrame.\n",
      "Try using .loc[row_indexer,col_indexer] = value instead\n",
      "\n",
      "See the caveats in the documentation: https://pandas.pydata.org/pandas-docs/stable/user_guide/indexing.html#returning-a-view-versus-a-copy\n",
      "  df['status_lower'] = np.where(df['Adj Close'] < df['Lower Band'],'below_ballinger','normal')\n",
      "<ipython-input-898-9eac35aa948e>:6: SettingWithCopyWarning: \n",
      "A value is trying to be set on a copy of a slice from a DataFrame.\n",
      "Try using .loc[row_indexer,col_indexer] = value instead\n",
      "\n",
      "See the caveats in the documentation: https://pandas.pydata.org/pandas-docs/stable/user_guide/indexing.html#returning-a-view-versus-a-copy\n",
      "  df['status_upper'] = np.where(df['Adj Close'] > df['Upper Band'],'above_ballinger','normal')\n"
     ]
    }
   ],
   "source": [
    "\n",
    "\n",
    "\n",
    "df['SMA'] = df['Adj Close'].rolling(window = 20).mean()\n",
    "df['Middle Band'] =df['Adj Close'].rolling(window=20).mean()\n",
    "df['Upper Band'] = df['Middle Band'] + 1.96*df['Adj Close'].rolling(window=20).std()\n",
    "df['Lower Band'] = df['Middle Band'] - 1.96*df['Adj Close'].rolling(window=20).std()\n",
    "df['status_lower'] = np.where(df['Adj Close'] < df['Lower Band'],'below_ballinger','normal')\n",
    "df['status_upper'] = np.where(df['Adj Close'] > df['Upper Band'],'above_ballinger','normal')"
   ]
  },
  {
   "cell_type": "code",
   "execution_count": 899,
   "metadata": {},
   "outputs": [],
   "source": [
    "df = df.dropna()"
   ]
  },
  {
   "cell_type": "code",
   "execution_count": 900,
   "metadata": {},
   "outputs": [],
   "source": [
    "df = df.drop(columns = ['Close'])\n",
    "y = df['Adj Close']\n",
    "X = df.drop(columns =['Adj Close','Volume' ,'Low','High'] )"
   ]
  },
  {
   "cell_type": "code",
   "execution_count": 901,
   "metadata": {},
   "outputs": [],
   "source": [
    "from sklearn.model_selection import train_test_split\n"
   ]
  },
  {
   "cell_type": "code",
   "execution_count": 902,
   "metadata": {},
   "outputs": [],
   "source": [
    "X_train, X_test, y_train, y_test = train_test_split(X,y,shuffle= False) "
   ]
  },
  {
   "cell_type": "code",
   "execution_count": 903,
   "metadata": {},
   "outputs": [
    {
     "data": {
      "text/html": [
       "<div>\n",
       "<style scoped>\n",
       "    .dataframe tbody tr th:only-of-type {\n",
       "        vertical-align: middle;\n",
       "    }\n",
       "\n",
       "    .dataframe tbody tr th {\n",
       "        vertical-align: top;\n",
       "    }\n",
       "\n",
       "    .dataframe thead th {\n",
       "        text-align: right;\n",
       "    }\n",
       "</style>\n",
       "<table border=\"1\" class=\"dataframe\">\n",
       "  <thead>\n",
       "    <tr style=\"text-align: right;\">\n",
       "      <th></th>\n",
       "      <th>Date</th>\n",
       "      <th>Open</th>\n",
       "      <th>SMA</th>\n",
       "      <th>Middle Band</th>\n",
       "      <th>Upper Band</th>\n",
       "      <th>Lower Band</th>\n",
       "      <th>status_lower</th>\n",
       "      <th>status_upper</th>\n",
       "    </tr>\n",
       "  </thead>\n",
       "  <tbody>\n",
       "    <tr>\n",
       "      <th>20</th>\n",
       "      <td>737592</td>\n",
       "      <td>38.099998</td>\n",
       "      <td>34.48225</td>\n",
       "      <td>34.48225</td>\n",
       "      <td>40.906548</td>\n",
       "      <td>28.057952</td>\n",
       "      <td>normal</td>\n",
       "      <td>normal</td>\n",
       "    </tr>\n",
       "    <tr>\n",
       "      <th>21</th>\n",
       "      <td>737593</td>\n",
       "      <td>36.869999</td>\n",
       "      <td>34.71375</td>\n",
       "      <td>34.71375</td>\n",
       "      <td>40.901566</td>\n",
       "      <td>28.525933</td>\n",
       "      <td>normal</td>\n",
       "      <td>normal</td>\n",
       "    </tr>\n",
       "    <tr>\n",
       "      <th>22</th>\n",
       "      <td>737594</td>\n",
       "      <td>35.049999</td>\n",
       "      <td>34.96425</td>\n",
       "      <td>34.96425</td>\n",
       "      <td>40.899046</td>\n",
       "      <td>29.029454</td>\n",
       "      <td>normal</td>\n",
       "      <td>normal</td>\n",
       "    </tr>\n",
       "    <tr>\n",
       "      <th>23</th>\n",
       "      <td>737595</td>\n",
       "      <td>36.369999</td>\n",
       "      <td>35.18575</td>\n",
       "      <td>35.18575</td>\n",
       "      <td>40.735259</td>\n",
       "      <td>29.636241</td>\n",
       "      <td>normal</td>\n",
       "      <td>normal</td>\n",
       "    </tr>\n",
       "    <tr>\n",
       "      <th>24</th>\n",
       "      <td>737598</td>\n",
       "      <td>34.799999</td>\n",
       "      <td>35.33525</td>\n",
       "      <td>35.33525</td>\n",
       "      <td>40.604753</td>\n",
       "      <td>30.065747</td>\n",
       "      <td>normal</td>\n",
       "      <td>normal</td>\n",
       "    </tr>\n",
       "    <tr>\n",
       "      <th>...</th>\n",
       "      <td>...</td>\n",
       "      <td>...</td>\n",
       "      <td>...</td>\n",
       "      <td>...</td>\n",
       "      <td>...</td>\n",
       "      <td>...</td>\n",
       "      <td>...</td>\n",
       "      <td>...</td>\n",
       "    </tr>\n",
       "    <tr>\n",
       "      <th>90</th>\n",
       "      <td>737692</td>\n",
       "      <td>26.860001</td>\n",
       "      <td>29.58150</td>\n",
       "      <td>29.58150</td>\n",
       "      <td>32.184627</td>\n",
       "      <td>26.978373</td>\n",
       "      <td>below_ballinger</td>\n",
       "      <td>normal</td>\n",
       "    </tr>\n",
       "    <tr>\n",
       "      <th>91</th>\n",
       "      <td>737693</td>\n",
       "      <td>26.660000</td>\n",
       "      <td>29.47300</td>\n",
       "      <td>29.47300</td>\n",
       "      <td>32.225594</td>\n",
       "      <td>26.720406</td>\n",
       "      <td>normal</td>\n",
       "      <td>normal</td>\n",
       "    </tr>\n",
       "    <tr>\n",
       "      <th>92</th>\n",
       "      <td>737696</td>\n",
       "      <td>28.139999</td>\n",
       "      <td>29.33700</td>\n",
       "      <td>29.33700</td>\n",
       "      <td>32.088594</td>\n",
       "      <td>26.585405</td>\n",
       "      <td>normal</td>\n",
       "      <td>normal</td>\n",
       "    </tr>\n",
       "    <tr>\n",
       "      <th>93</th>\n",
       "      <td>737697</td>\n",
       "      <td>27.950001</td>\n",
       "      <td>29.21050</td>\n",
       "      <td>29.21050</td>\n",
       "      <td>32.119120</td>\n",
       "      <td>26.301880</td>\n",
       "      <td>normal</td>\n",
       "      <td>normal</td>\n",
       "    </tr>\n",
       "    <tr>\n",
       "      <th>94</th>\n",
       "      <td>737698</td>\n",
       "      <td>27.360001</td>\n",
       "      <td>29.11650</td>\n",
       "      <td>29.11650</td>\n",
       "      <td>32.111845</td>\n",
       "      <td>26.121155</td>\n",
       "      <td>normal</td>\n",
       "      <td>normal</td>\n",
       "    </tr>\n",
       "  </tbody>\n",
       "</table>\n",
       "<p>75 rows × 8 columns</p>\n",
       "</div>"
      ],
      "text/plain": [
       "      Date       Open       SMA  Middle Band  Upper Band  Lower Band  \\\n",
       "20  737592  38.099998  34.48225     34.48225   40.906548   28.057952   \n",
       "21  737593  36.869999  34.71375     34.71375   40.901566   28.525933   \n",
       "22  737594  35.049999  34.96425     34.96425   40.899046   29.029454   \n",
       "23  737595  36.369999  35.18575     35.18575   40.735259   29.636241   \n",
       "24  737598  34.799999  35.33525     35.33525   40.604753   30.065747   \n",
       "..     ...        ...       ...          ...         ...         ...   \n",
       "90  737692  26.860001  29.58150     29.58150   32.184627   26.978373   \n",
       "91  737693  26.660000  29.47300     29.47300   32.225594   26.720406   \n",
       "92  737696  28.139999  29.33700     29.33700   32.088594   26.585405   \n",
       "93  737697  27.950001  29.21050     29.21050   32.119120   26.301880   \n",
       "94  737698  27.360001  29.11650     29.11650   32.111845   26.121155   \n",
       "\n",
       "       status_lower status_upper  \n",
       "20           normal       normal  \n",
       "21           normal       normal  \n",
       "22           normal       normal  \n",
       "23           normal       normal  \n",
       "24           normal       normal  \n",
       "..              ...          ...  \n",
       "90  below_ballinger       normal  \n",
       "91           normal       normal  \n",
       "92           normal       normal  \n",
       "93           normal       normal  \n",
       "94           normal       normal  \n",
       "\n",
       "[75 rows x 8 columns]"
      ]
     },
     "execution_count": 903,
     "metadata": {},
     "output_type": "execute_result"
    }
   ],
   "source": [
    "X_train"
   ]
  },
  {
   "cell_type": "code",
   "execution_count": 904,
   "metadata": {},
   "outputs": [
    {
     "name": "stdout",
     "output_type": "stream",
     "text": [
      "{'Regressor__alpha': 0.4}\n",
      "model score: 0.602\n"
     ]
    }
   ],
   "source": [
    "# first transformer for the numeric features\n",
    "numeric_features = list(set(list(X_train.columns)) - set(['status_lower','status_upper']))\n",
    "numeric_transformer = Pipeline(steps=[\n",
    "    ('imputer', SimpleImputer(strategy='median')),\n",
    "    ('scaler', StandardScaler()),\n",
    "   ])\n",
    "# now a taransformer for the categorical features\n",
    "categorical_features = ['status_lower','status_upper']\n",
    "categorical_transformer = Pipeline(steps=[\n",
    "    ('imputer', SimpleImputer(strategy='constant', fill_value='missing')),\n",
    "    ('onehot', OneHotEncoder(handle_unknown='ignore'))])\n",
    "# creating a preprocessor\n",
    "preprocessor = ColumnTransformer(\n",
    "    transformers=[\n",
    "        ('num', numeric_transformer, numeric_features),\n",
    "        ('cat', categorical_transformer, categorical_features)])\n",
    "\n",
    "ridge_model = Ridge()\n",
    "# include the preprocessor and the model in one pipeline.\n",
    "# Now we have a full prediction pipeline.\n",
    "reg_pipeline = Pipeline(steps=[('preprocessor', preprocessor),\n",
    "                      ('Regressor', ridge_model)])\n",
    "\n",
    "# finally we will pass the pipe line to gridsearchcv to find the optimum paramters for the model\n",
    "param_grid = {\n",
    "    'Regressor__alpha':[0.1,0.25,0.4],\n",
    "}\n",
    "search = GridSearchCV(reg_pipeline,param_grid,cv = 5)\n",
    "\n",
    "# fitting the model\n",
    "search.fit(X_train, y_train)\n",
    "\n",
    "# printing the first parameter\n",
    "print(search.best_params_)\n",
    "print(\"model score: %.3f\" % search.score(X_test, y_test))"
   ]
  },
  {
   "cell_type": "code",
   "execution_count": 905,
   "metadata": {},
   "outputs": [],
   "source": [
    "y_pred = search.predict(X_test)"
   ]
  },
  {
   "cell_type": "code",
   "execution_count": 906,
   "metadata": {},
   "outputs": [],
   "source": [
    "from sklearn.metrics import mean_squared_error\n",
    "\n"
   ]
  },
  {
   "cell_type": "code",
   "execution_count": 907,
   "metadata": {},
   "outputs": [
    {
     "data": {
      "text/plain": [
       "1.0808343844273127"
      ]
     },
     "execution_count": 907,
     "metadata": {},
     "output_type": "execute_result"
    }
   ],
   "source": [
    "np.sqrt(mean_squared_error(y_test,y_pred))"
   ]
  },
  {
   "cell_type": "code",
   "execution_count": 908,
   "metadata": {},
   "outputs": [
    {
     "data": {
      "text/plain": [
       "<matplotlib.collections.PathCollection at 0x7fa22fa20400>"
      ]
     },
     "execution_count": 908,
     "metadata": {},
     "output_type": "execute_result"
    },
    {
     "data": {
      "image/png": "[encoded data removed]",
      "text/plain": [
       "<Figure size 432x288 with 1 Axes>"
      ]
     },
     "metadata": {
      "needs_background": "light"
     },
     "output_type": "display_data"
    }
   ],
   "source": [
    "plt.scatter(X_train['Open'],y_train)\n"
   ]
  },
  {
   "cell_type": "code",
   "execution_count": 909,
   "metadata": {},
   "outputs": [
    {
     "data": {
      "text/plain": [
       "<matplotlib.collections.PathCollection at 0x7fa24d94a5b0>"
      ]
     },
     "execution_count": 909,
     "metadata": {},
     "output_type": "execute_result"
    },
    {
     "data": {
      "image/png": "[encoded data removed]",
      "text/plain": [
       "<Figure size 432x288 with 1 Axes>"
      ]
     },
     "metadata": {
      "needs_background": "light"
     },
     "output_type": "display_data"
    }
   ],
   "source": [
    "plt.scatter(y_test,y_pred)"
   ]
  },
  {
   "cell_type": "code",
   "execution_count": 910,
   "metadata": {},
   "outputs": [
    {
     "name": "stderr",
     "output_type": "stream",
     "text": [
      "<ipython-input-910-d1d29585976d>:1: SettingWithCopyWarning: \n",
      "A value is trying to be set on a copy of a slice from a DataFrame.\n",
      "Try using .loc[row_indexer,col_indexer] = value instead\n",
      "\n",
      "See the caveats in the documentation: https://pandas.pydata.org/pandas-docs/stable/user_guide/indexing.html#returning-a-view-versus-a-copy\n",
      "  X_test['actual'] = y_test\n",
      "<ipython-input-910-d1d29585976d>:2: SettingWithCopyWarning: \n",
      "A value is trying to be set on a copy of a slice from a DataFrame.\n",
      "Try using .loc[row_indexer,col_indexer] = value instead\n",
      "\n",
      "See the caveats in the documentation: https://pandas.pydata.org/pandas-docs/stable/user_guide/indexing.html#returning-a-view-versus-a-copy\n",
      "  X_test['pred'] = y_pred\n"
     ]
    }
   ],
   "source": [
    "X_test['actual'] = y_test\n",
    "X_test['pred'] = y_pred\n",
    "\n"
   ]
  },
  {
   "cell_type": "code",
   "execution_count": 911,
   "metadata": {},
   "outputs": [
    {
     "data": {
      "text/plain": [
       "[<matplotlib.lines.Line2D at 0x7fa22f60c700>]"
      ]
     },
     "execution_count": 911,
     "metadata": {},
     "output_type": "execute_result"
    },
    {
     "data": {
      "image/png": "[encoded data removed]",
      "text/plain": [
       "<Figure size 432x288 with 1 Axes>"
      ]
     },
     "metadata": {
      "needs_background": "light"
     },
     "output_type": "display_data"
    }
   ],
   "source": [
    "plt.plot(X_test['Date'],X_test['actual'],'b')\n",
    "plt.plot(X_test['Date'],X_test['pred'],'r')"
   ]
  },
  {
   "cell_type": "code",
   "execution_count": null,
   "metadata": {},
   "outputs": [],
   "source": []
  }
 ],
 "metadata": {
  "kernelspec": {
   "display_name": "Python 3",
   "language": "python",
   "name": "python3"
  },
  "language_info": {
   "codemirror_mode": {
    "name": "ipython",
    "version": 3
   },
   "file_extension": ".py",
   "mimetype": "text/x-python",
   "name": "python",
   "nbconvert_exporter": "python",
   "pygments_lexer": "ipython3",
   "version": "3.8.3"
  }
 },
 "nbformat": 4,
 "nbformat_minor": 4
}
