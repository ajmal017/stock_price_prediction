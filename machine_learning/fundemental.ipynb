{
 "cells": [
  {
   "cell_type": "code",
   "execution_count": 1,
   "metadata": {},
   "outputs": [],
   "source": [
    "import pandas as pd\n",
    "import numpy as np\n",
    "from sklearn.compose import ColumnTransformer\n",
    "from sklearn.pipeline import Pipeline\n",
    "from sklearn.impute import SimpleImputer\n",
    "from sklearn.preprocessing import StandardScaler, MinMaxScaler, OneHotEncoder\n",
    "from sklearn.linear_model import LogisticRegression, Ridge, LinearRegression\n",
    "from sklearn.model_selection import train_test_split, GridSearchCV\n",
    "from sklearn.ensemble import GradientBoostingRegressor\n",
    "from sklearn.pipeline import Pipeline\n",
    "from sklearn import metrics\n",
    "from sklearn.ensemble import RandomForestRegressor\n",
    "from sklearn.preprocessing import PolynomialFeatures\n",
    "from sklearn.model_selection import train_test_split\n",
    "from sklearn.ensemble import RandomForestClassifier, AdaBoostRegressor,  BaggingRegressor, ExtraTreesRegressor, GradientBoostingRegressor, RandomForestRegressor\n",
    "from sklearn.metrics import mean_squared_error\n",
    "import matplotlib.pyplot as plt\n",
    "import altair as alt\n",
    "import datetime as dt\n",
    "import pandas as pd\n",
    "import numpy as np\n",
    "import datetime as dt\n",
    "import yfinance as yf  # for data\n",
    "from pandas_datareader import data as pdr\n",
    "yf.pdr_override()"
   ]
  },
  {
   "cell_type": "code",
   "execution_count": 22,
   "metadata": {},
   "outputs": [],
   "source": [
    "def read_data(stock='TSLA', period = \"60d\", interval = \"2m\"):\n",
    "    '''\n",
    "    reading the data\n",
    "    '''\n",
    "\n",
    "\n",
    "    df = pdr.get_data_yahoo(stock,period = period,\n",
    "\n",
    "            # fetch data by interval (including intraday if period < 60 days)\n",
    "            # valid intervals: 1m,2m,5m,15m,30m,60m,90m,1h,1d,5d,1wk,1mo,3mo\n",
    "            # (optional, default is '1d')\n",
    "            interval = interval,)\n",
    "\n",
    "\n",
    "    return df"
   ]
  },
  {
   "cell_type": "code",
   "execution_count": 23,
   "metadata": {},
   "outputs": [
    {
     "name": "stdout",
     "output_type": "stream",
     "text": [
      "[*********************100%***********************]  1 of 1 completed\n"
     ]
    },
    {
     "data": {
      "text/html": [
       "<div>\n",
       "<style scoped>\n",
       "    .dataframe tbody tr th:only-of-type {\n",
       "        vertical-align: middle;\n",
       "    }\n",
       "\n",
       "    .dataframe tbody tr th {\n",
       "        vertical-align: top;\n",
       "    }\n",
       "\n",
       "    .dataframe thead th {\n",
       "        text-align: right;\n",
       "    }\n",
       "</style>\n",
       "<table border=\"1\" class=\"dataframe\">\n",
       "  <thead>\n",
       "    <tr style=\"text-align: right;\">\n",
       "      <th></th>\n",
       "      <th>Datetime</th>\n",
       "      <th>Open</th>\n",
       "      <th>High</th>\n",
       "      <th>Low</th>\n",
       "      <th>Close</th>\n",
       "      <th>Adj Close</th>\n",
       "      <th>Volume</th>\n",
       "    </tr>\n",
       "  </thead>\n",
       "  <tbody>\n",
       "    <tr>\n",
       "      <th>0</th>\n",
       "      <td>2020-08-31 09:30:00-04:00</td>\n",
       "      <td>NaN</td>\n",
       "      <td>NaN</td>\n",
       "      <td>NaN</td>\n",
       "      <td>NaN</td>\n",
       "      <td>NaN</td>\n",
       "      <td>NaN</td>\n",
       "    </tr>\n",
       "    <tr>\n",
       "      <th>1</th>\n",
       "      <td>2020-09-28 09:30:00-04:00</td>\n",
       "      <td>424.619995</td>\n",
       "      <td>427.000000</td>\n",
       "      <td>422.000000</td>\n",
       "      <td>425.429993</td>\n",
       "      <td>425.429993</td>\n",
       "      <td>3037163.0</td>\n",
       "    </tr>\n",
       "    <tr>\n",
       "      <th>2</th>\n",
       "      <td>2020-09-28 09:32:00-04:00</td>\n",
       "      <td>425.470001</td>\n",
       "      <td>428.079987</td>\n",
       "      <td>424.605011</td>\n",
       "      <td>426.649994</td>\n",
       "      <td>426.649994</td>\n",
       "      <td>875668.0</td>\n",
       "    </tr>\n",
       "    <tr>\n",
       "      <th>3</th>\n",
       "      <td>2020-09-28 09:34:00-04:00</td>\n",
       "      <td>426.899994</td>\n",
       "      <td>426.899994</td>\n",
       "      <td>423.451904</td>\n",
       "      <td>423.695007</td>\n",
       "      <td>423.695007</td>\n",
       "      <td>667923.0</td>\n",
       "    </tr>\n",
       "    <tr>\n",
       "      <th>4</th>\n",
       "      <td>2020-09-28 09:36:00-04:00</td>\n",
       "      <td>423.869995</td>\n",
       "      <td>425.290009</td>\n",
       "      <td>421.200012</td>\n",
       "      <td>422.690002</td>\n",
       "      <td>422.690002</td>\n",
       "      <td>728853.0</td>\n",
       "    </tr>\n",
       "  </tbody>\n",
       "</table>\n",
       "</div>"
      ],
      "text/plain": [
       "                   Datetime        Open        High         Low       Close  \\\n",
       "0 2020-08-31 09:30:00-04:00         NaN         NaN         NaN         NaN   \n",
       "1 2020-09-28 09:30:00-04:00  424.619995  427.000000  422.000000  425.429993   \n",
       "2 2020-09-28 09:32:00-04:00  425.470001  428.079987  424.605011  426.649994   \n",
       "3 2020-09-28 09:34:00-04:00  426.899994  426.899994  423.451904  423.695007   \n",
       "4 2020-09-28 09:36:00-04:00  423.869995  425.290009  421.200012  422.690002   \n",
       "\n",
       "    Adj Close     Volume  \n",
       "0         NaN        NaN  \n",
       "1  425.429993  3037163.0  \n",
       "2  426.649994   875668.0  \n",
       "3  423.695007   667923.0  \n",
       "4  422.690002   728853.0  "
      ]
     },
     "execution_count": 23,
     "metadata": {},
     "output_type": "execute_result"
    }
   ],
   "source": [
    "df = read_data(stock='TSLA').reset_index()\n",
    "df.head()"
   ]
  },
  {
   "cell_type": "markdown",
   "metadata": {},
   "source": [
    "> The most old data located at the top"
   ]
  },
  {
   "cell_type": "code",
   "execution_count": 4,
   "metadata": {},
   "outputs": [
    {
     "data": {
      "text/html": [
       "<div>\n",
       "<style scoped>\n",
       "    .dataframe tbody tr th:only-of-type {\n",
       "        vertical-align: middle;\n",
       "    }\n",
       "\n",
       "    .dataframe tbody tr th {\n",
       "        vertical-align: top;\n",
       "    }\n",
       "\n",
       "    .dataframe thead th {\n",
       "        text-align: right;\n",
       "    }\n",
       "</style>\n",
       "<table border=\"1\" class=\"dataframe\">\n",
       "  <thead>\n",
       "    <tr style=\"text-align: right;\">\n",
       "      <th></th>\n",
       "      <th>Datetime</th>\n",
       "      <th>Open</th>\n",
       "      <th>High</th>\n",
       "      <th>Low</th>\n",
       "      <th>Close</th>\n",
       "      <th>Adj Close</th>\n",
       "      <th>Volume</th>\n",
       "    </tr>\n",
       "  </thead>\n",
       "  <tbody>\n",
       "    <tr>\n",
       "      <th>6537</th>\n",
       "      <td>2020-11-12 12:58:00-05:00</td>\n",
       "      <td>413.589996</td>\n",
       "      <td>414.500000</td>\n",
       "      <td>413.559998</td>\n",
       "      <td>414.364990</td>\n",
       "      <td>414.364990</td>\n",
       "      <td>77142.0</td>\n",
       "    </tr>\n",
       "    <tr>\n",
       "      <th>6538</th>\n",
       "      <td>2020-11-12 13:00:00-05:00</td>\n",
       "      <td>414.299988</td>\n",
       "      <td>414.440002</td>\n",
       "      <td>413.160004</td>\n",
       "      <td>413.226105</td>\n",
       "      <td>413.226105</td>\n",
       "      <td>70579.0</td>\n",
       "    </tr>\n",
       "    <tr>\n",
       "      <th>6539</th>\n",
       "      <td>2020-11-12 13:02:00-05:00</td>\n",
       "      <td>413.320007</td>\n",
       "      <td>414.500000</td>\n",
       "      <td>413.299988</td>\n",
       "      <td>414.480011</td>\n",
       "      <td>414.480011</td>\n",
       "      <td>49894.0</td>\n",
       "    </tr>\n",
       "    <tr>\n",
       "      <th>6540</th>\n",
       "      <td>2020-11-12 13:04:00-05:00</td>\n",
       "      <td>414.399994</td>\n",
       "      <td>414.500000</td>\n",
       "      <td>413.725006</td>\n",
       "      <td>413.989899</td>\n",
       "      <td>413.989899</td>\n",
       "      <td>56497.0</td>\n",
       "    </tr>\n",
       "    <tr>\n",
       "      <th>6541</th>\n",
       "      <td>2020-11-12 13:06:27-05:00</td>\n",
       "      <td>413.924988</td>\n",
       "      <td>413.924988</td>\n",
       "      <td>413.924988</td>\n",
       "      <td>413.924988</td>\n",
       "      <td>413.924988</td>\n",
       "      <td>0.0</td>\n",
       "    </tr>\n",
       "  </tbody>\n",
       "</table>\n",
       "</div>"
      ],
      "text/plain": [
       "                      Datetime        Open        High         Low  \\\n",
       "6537 2020-11-12 12:58:00-05:00  413.589996  414.500000  413.559998   \n",
       "6538 2020-11-12 13:00:00-05:00  414.299988  414.440002  413.160004   \n",
       "6539 2020-11-12 13:02:00-05:00  413.320007  414.500000  413.299988   \n",
       "6540 2020-11-12 13:04:00-05:00  414.399994  414.500000  413.725006   \n",
       "6541 2020-11-12 13:06:27-05:00  413.924988  413.924988  413.924988   \n",
       "\n",
       "           Close   Adj Close   Volume  \n",
       "6537  414.364990  414.364990  77142.0  \n",
       "6538  413.226105  413.226105  70579.0  \n",
       "6539  414.480011  414.480011  49894.0  \n",
       "6540  413.989899  413.989899  56497.0  \n",
       "6541  413.924988  413.924988      0.0  "
      ]
     },
     "execution_count": 4,
     "metadata": {},
     "output_type": "execute_result"
    }
   ],
   "source": [
    "df.tail()"
   ]
  },
  {
   "cell_type": "markdown",
   "metadata": {},
   "source": [
    "> The most recent data located at the bottom"
   ]
  },
  {
   "cell_type": "markdown",
   "metadata": {},
   "source": [
    "### Data Size"
   ]
  },
  {
   "cell_type": "code",
   "execution_count": 5,
   "metadata": {},
   "outputs": [
    {
     "name": "stdout",
     "output_type": "stream",
     "text": [
      "[*********************100%***********************]  1 of 1 completed\n"
     ]
    },
    {
     "data": {
      "text/plain": [
       "2551"
      ]
     },
     "execution_count": 5,
     "metadata": {},
     "output_type": "execute_result"
    }
   ],
   "source": [
    "len(read_data(stock='TSLA', period = \"7d\", interval = \"1m\"))\n"
   ]
  },
  {
   "cell_type": "code",
   "execution_count": 6,
   "metadata": {},
   "outputs": [
    {
     "name": "stdout",
     "output_type": "stream",
     "text": [
      "[*********************100%***********************]  1 of 1 completed\n"
     ]
    },
    {
     "data": {
      "text/plain": [
       "6542"
      ]
     },
     "execution_count": 6,
     "metadata": {},
     "output_type": "execute_result"
    }
   ],
   "source": [
    "len(read_data(stock='TSLA', period = \"60d\", interval = \"2m\"))\n",
    "\n"
   ]
  },
  {
   "cell_type": "code",
   "execution_count": 7,
   "metadata": {},
   "outputs": [
    {
     "name": "stdout",
     "output_type": "stream",
     "text": [
      "[*********************100%***********************]  1 of 1 completed\n"
     ]
    },
    {
     "data": {
      "text/plain": [
       "4644"
      ]
     },
     "execution_count": 7,
     "metadata": {},
     "output_type": "execute_result"
    }
   ],
   "source": [
    "len(read_data(stock='TSLA', period = \"60d\", interval = \"5m\"))\n"
   ]
  },
  {
   "cell_type": "markdown",
   "metadata": {},
   "source": [
    "Sample size is very small for 5 minutes. We can't go beyond 7 days. One strategy to solve this problem is to get data everyday and then merge it with the previous data"
   ]
  },
  {
   "cell_type": "markdown",
   "metadata": {},
   "source": [
    "> In term of data size, the most promsing is the 2 minutes data unless we have old data from somewhere else"
   ]
  },
  {
   "cell_type": "code",
   "execution_count": 8,
   "metadata": {},
   "outputs": [],
   "source": [
    "df_sub1 = df[['Datetime','Open','Close','Volume']]\n"
   ]
  },
  {
   "cell_type": "code",
   "execution_count": 9,
   "metadata": {},
   "outputs": [],
   "source": [
    "df_sub2 = df_sub1.copy()"
   ]
  },
  {
   "cell_type": "code",
   "execution_count": 10,
   "metadata": {},
   "outputs": [],
   "source": [
    "# df_sub2['close_previous'] = df_sub2['Close'].shift(1)\n",
    "# df_sub2.tail()"
   ]
  },
  {
   "cell_type": "markdown",
   "metadata": {},
   "source": [
    "> shift(1) gives the previous time interval data, which is available"
   ]
  },
  {
   "cell_type": "code",
   "execution_count": 11,
   "metadata": {},
   "outputs": [],
   "source": [
    "# 1 change in price, open now/closed previously"
   ]
  },
  {
   "cell_type": "code",
   "execution_count": 12,
   "metadata": {},
   "outputs": [
    {
     "data": {
      "text/html": [
       "<div>\n",
       "<style scoped>\n",
       "    .dataframe tbody tr th:only-of-type {\n",
       "        vertical-align: middle;\n",
       "    }\n",
       "\n",
       "    .dataframe tbody tr th {\n",
       "        vertical-align: top;\n",
       "    }\n",
       "\n",
       "    .dataframe thead th {\n",
       "        text-align: right;\n",
       "    }\n",
       "</style>\n",
       "<table border=\"1\" class=\"dataframe\">\n",
       "  <thead>\n",
       "    <tr style=\"text-align: right;\">\n",
       "      <th></th>\n",
       "      <th>Datetime</th>\n",
       "      <th>Open</th>\n",
       "      <th>Close</th>\n",
       "      <th>Volume</th>\n",
       "      <th>f01</th>\n",
       "    </tr>\n",
       "  </thead>\n",
       "  <tbody>\n",
       "    <tr>\n",
       "      <th>0</th>\n",
       "      <td>2020-08-31 09:30:00-04:00</td>\n",
       "      <td>NaN</td>\n",
       "      <td>NaN</td>\n",
       "      <td>NaN</td>\n",
       "      <td>NaN</td>\n",
       "    </tr>\n",
       "    <tr>\n",
       "      <th>1</th>\n",
       "      <td>2020-09-28 09:30:00-04:00</td>\n",
       "      <td>424.619995</td>\n",
       "      <td>425.429993</td>\n",
       "      <td>3037163.0</td>\n",
       "      <td>NaN</td>\n",
       "    </tr>\n",
       "    <tr>\n",
       "      <th>2</th>\n",
       "      <td>2020-09-28 09:32:00-04:00</td>\n",
       "      <td>425.470001</td>\n",
       "      <td>426.649994</td>\n",
       "      <td>875668.0</td>\n",
       "      <td>0.009404</td>\n",
       "    </tr>\n",
       "    <tr>\n",
       "      <th>3</th>\n",
       "      <td>2020-09-28 09:34:00-04:00</td>\n",
       "      <td>426.899994</td>\n",
       "      <td>423.695007</td>\n",
       "      <td>667923.0</td>\n",
       "      <td>0.058596</td>\n",
       "    </tr>\n",
       "    <tr>\n",
       "      <th>4</th>\n",
       "      <td>2020-09-28 09:36:00-04:00</td>\n",
       "      <td>423.869995</td>\n",
       "      <td>422.690002</td>\n",
       "      <td>728853.0</td>\n",
       "      <td>0.041300</td>\n",
       "    </tr>\n",
       "  </tbody>\n",
       "</table>\n",
       "</div>"
      ],
      "text/plain": [
       "                   Datetime        Open       Close     Volume       f01\n",
       "0 2020-08-31 09:30:00-04:00         NaN         NaN        NaN       NaN\n",
       "1 2020-09-28 09:30:00-04:00  424.619995  425.429993  3037163.0       NaN\n",
       "2 2020-09-28 09:32:00-04:00  425.470001  426.649994   875668.0  0.009404\n",
       "3 2020-09-28 09:34:00-04:00  426.899994  423.695007   667923.0  0.058596\n",
       "4 2020-09-28 09:36:00-04:00  423.869995  422.690002   728853.0  0.041300"
      ]
     },
     "execution_count": 12,
     "metadata": {},
     "output_type": "execute_result"
    }
   ],
   "source": [
    "df_sub2['f01'] = ((df_sub2['Open']/df_sub2['Close'].shift(1))-1)*100\n",
    "df_sub2.head()\n"
   ]
  },
  {
   "cell_type": "code",
   "execution_count": 13,
   "metadata": {},
   "outputs": [
    {
     "data": {
      "text/html": [
       "<div>\n",
       "<style scoped>\n",
       "    .dataframe tbody tr th:only-of-type {\n",
       "        vertical-align: middle;\n",
       "    }\n",
       "\n",
       "    .dataframe tbody tr th {\n",
       "        vertical-align: top;\n",
       "    }\n",
       "\n",
       "    .dataframe thead th {\n",
       "        text-align: right;\n",
       "    }\n",
       "</style>\n",
       "<table border=\"1\" class=\"dataframe\">\n",
       "  <thead>\n",
       "    <tr style=\"text-align: right;\">\n",
       "      <th></th>\n",
       "      <th>Datetime</th>\n",
       "      <th>Open</th>\n",
       "      <th>Close</th>\n",
       "      <th>Volume</th>\n",
       "      <th>f01</th>\n",
       "    </tr>\n",
       "  </thead>\n",
       "  <tbody>\n",
       "    <tr>\n",
       "      <th>6537</th>\n",
       "      <td>2020-11-12 12:58:00-05:00</td>\n",
       "      <td>413.589996</td>\n",
       "      <td>414.364990</td>\n",
       "      <td>77142.0</td>\n",
       "      <td>0.021765</td>\n",
       "    </tr>\n",
       "    <tr>\n",
       "      <th>6538</th>\n",
       "      <td>2020-11-12 13:00:00-05:00</td>\n",
       "      <td>414.299988</td>\n",
       "      <td>413.226105</td>\n",
       "      <td>70579.0</td>\n",
       "      <td>-0.015687</td>\n",
       "    </tr>\n",
       "    <tr>\n",
       "      <th>6539</th>\n",
       "      <td>2020-11-12 13:02:00-05:00</td>\n",
       "      <td>413.320007</td>\n",
       "      <td>414.480011</td>\n",
       "      <td>49894.0</td>\n",
       "      <td>0.022724</td>\n",
       "    </tr>\n",
       "    <tr>\n",
       "      <th>6540</th>\n",
       "      <td>2020-11-12 13:04:00-05:00</td>\n",
       "      <td>414.399994</td>\n",
       "      <td>413.989899</td>\n",
       "      <td>56497.0</td>\n",
       "      <td>-0.019305</td>\n",
       "    </tr>\n",
       "    <tr>\n",
       "      <th>6541</th>\n",
       "      <td>2020-11-12 13:06:27-05:00</td>\n",
       "      <td>413.924988</td>\n",
       "      <td>413.924988</td>\n",
       "      <td>0.0</td>\n",
       "      <td>-0.015679</td>\n",
       "    </tr>\n",
       "  </tbody>\n",
       "</table>\n",
       "</div>"
      ],
      "text/plain": [
       "                      Datetime        Open       Close   Volume       f01\n",
       "6537 2020-11-12 12:58:00-05:00  413.589996  414.364990  77142.0  0.021765\n",
       "6538 2020-11-12 13:00:00-05:00  414.299988  413.226105  70579.0 -0.015687\n",
       "6539 2020-11-12 13:02:00-05:00  413.320007  414.480011  49894.0  0.022724\n",
       "6540 2020-11-12 13:04:00-05:00  414.399994  413.989899  56497.0 -0.019305\n",
       "6541 2020-11-12 13:06:27-05:00  413.924988  413.924988      0.0 -0.015679"
      ]
     },
     "execution_count": 13,
     "metadata": {},
     "output_type": "execute_result"
    }
   ],
   "source": [
    "df_sub2.tail()"
   ]
  },
  {
   "cell_type": "code",
   "execution_count": 14,
   "metadata": {},
   "outputs": [],
   "source": [
    "df_sub2['Datetime'] = pd.to_datetime(df_sub2['Datetime'])\n",
    "df_sub2['Datetime']=df_sub2['Datetime'].map(dt.datetime.toordinal)\n",
    "df_sub2 = df_sub2.dropna()"
   ]
  },
  {
   "cell_type": "code",
   "execution_count": 15,
   "metadata": {},
   "outputs": [
    {
     "data": {
      "text/plain": [
       "2       426.649994\n",
       "3       423.695007\n",
       "4       422.690002\n",
       "5       424.265015\n",
       "6       424.234985\n",
       "           ...    \n",
       "6537    414.364990\n",
       "6538    413.226105\n",
       "6539    414.480011\n",
       "6540    413.989899\n",
       "6541    413.924988\n",
       "Name: Close, Length: 6540, dtype: float64"
      ]
     },
     "execution_count": 15,
     "metadata": {},
     "output_type": "execute_result"
    }
   ],
   "source": [
    "y = df_sub2['Close']\n",
    "y"
   ]
  },
  {
   "cell_type": "code",
   "execution_count": 16,
   "metadata": {},
   "outputs": [],
   "source": [
    "X = df_sub2.drop(columns =['Close','Volume'])\n",
    "X_train, X_test, y_train, y_test = train_test_split(X,y,shuffle= False)"
   ]
  },
  {
   "cell_type": "code",
   "execution_count": 17,
   "metadata": {},
   "outputs": [
    {
     "data": {
      "text/plain": [
       "413.92498779296875"
      ]
     },
     "execution_count": 17,
     "metadata": {},
     "output_type": "execute_result"
    }
   ],
   "source": [
    "old = df_sub2.tail(1).loc[:,'Open'].to_numpy()[0]\n",
    "old"
   ]
  },
  {
   "cell_type": "code",
   "execution_count": 18,
   "metadata": {},
   "outputs": [
    {
     "data": {
      "text/html": [
       "<div>\n",
       "<style scoped>\n",
       "    .dataframe tbody tr th:only-of-type {\n",
       "        vertical-align: middle;\n",
       "    }\n",
       "\n",
       "    .dataframe tbody tr th {\n",
       "        vertical-align: top;\n",
       "    }\n",
       "\n",
       "    .dataframe thead th {\n",
       "        text-align: right;\n",
       "    }\n",
       "</style>\n",
       "<table border=\"1\" class=\"dataframe\">\n",
       "  <thead>\n",
       "    <tr style=\"text-align: right;\">\n",
       "      <th></th>\n",
       "      <th>Datetime</th>\n",
       "      <th>Open</th>\n",
       "      <th>Close</th>\n",
       "      <th>Volume</th>\n",
       "      <th>f01</th>\n",
       "    </tr>\n",
       "  </thead>\n",
       "  <tbody>\n",
       "    <tr>\n",
       "      <th>6541</th>\n",
       "      <td>737741</td>\n",
       "      <td>413.924988</td>\n",
       "      <td>413.924988</td>\n",
       "      <td>0.0</td>\n",
       "      <td>-0.015679</td>\n",
       "    </tr>\n",
       "  </tbody>\n",
       "</table>\n",
       "</div>"
      ],
      "text/plain": [
       "      Datetime        Open       Close  Volume       f01\n",
       "6541    737741  413.924988  413.924988     0.0 -0.015679"
      ]
     },
     "execution_count": 18,
     "metadata": {},
     "output_type": "execute_result"
    }
   ],
   "source": [
    "df_sub2.tail(1)"
   ]
  },
  {
   "cell_type": "code",
   "execution_count": 19,
   "metadata": {},
   "outputs": [
    {
     "name": "stdout",
     "output_type": "stream",
     "text": [
      "0.9996041351962721\n",
      "training error 0.30086800675529596\n",
      "model score: 0.907\n",
      "test error 3.6621883052450594\n"
     ]
    }
   ],
   "source": [
    "numeric_features = list(X_train.columns)\n",
    "numeric_transformer = Pipeline(steps=[\n",
    "    ('imputer', SimpleImputer(strategy='median')),\n",
    "    ('scaler', StandardScaler()),\n",
    "   ])\n",
    "# now a taransformer for the categorical features\n",
    "categorical_features = ['status_lower','status_upper']\n",
    "categorical_transformer = Pipeline(steps=[\n",
    "    ('imputer', SimpleImputer(strategy='constant', fill_value='missing')),\n",
    "    ('onehot', OneHotEncoder(handle_unknown='ignore'))])\n",
    "# creating a preprocessor\n",
    "preprocessor = ColumnTransformer(\n",
    "    transformers=[\n",
    "        ('num', numeric_transformer, numeric_features)])\n",
    "\n",
    "ridge_model = RandomForestRegressor()\n",
    "# include the preprocessor and the model in one pipeline.\n",
    "# Now we have a full prediction pipeline.\n",
    "reg_pipeline = Pipeline(steps=[('preprocessor', preprocessor),\n",
    "                      ('Regressor', ridge_model)])\n",
    "\n",
    "\n",
    "param_grid = {\n",
    "    'Regressor__n_estimators':[100],\n",
    "}\n",
    "\n",
    "search = GridSearchCV(reg_pipeline,param_grid,cv = 5)\n",
    "\n",
    "# fitting the model\n",
    "search.fit(X_train, y_train)\n",
    "print(search.score(X_train, y_train))\n",
    "y_pred = search.predict(X_train)\n",
    "print('training error',np.sqrt(mean_squared_error(y_train,y_pred)))\n",
    "print(\"model score: %.3f\" % search.score(X_test, y_test))\n",
    "y_pred1 = search.predict(X_test)\n",
    "print('test error',np.sqrt(mean_squared_error(y_test,y_pred1)))\n",
    "\n",
    "\n",
    "# printing the first parameter\n",
    "#rint(search.best_params_)\n",
    "# print(\"model score: %.3f\" % search.score(X_test, y_test))\n",
    "# X_train = X[:-1]\n",
    "# y_train = y[:-1]\n",
    "# X_test = X[-1:]\n",
    "# y_test = y[-1:]\n",
    "# search.fit(X_train,y_train)\n",
    "# y_pred = search.predict(X_train)\n",
    "# print('error',np.sqrt(mean_squared_error(y_train,y_pred)))\n",
    "# y_test = search.predict(X_test)[0]\n",
    "# diff = y_test - old\n",
    "\n",
    "# print('old price = ',old)\n",
    "# print('predicted = ',y_test)\n",
    "# print('difference = ', diff)\n",
    "\n",
    "\n"
   ]
  },
  {
   "cell_type": "code",
   "execution_count": 21,
   "metadata": {},
   "outputs": [
    {
     "ename": "NameError",
     "evalue": "name 'dfx' is not defined",
     "output_type": "error",
     "traceback": [
      "\u001b[0;31m---------------------------------------------------------------------------\u001b[0m",
      "\u001b[0;31mNameError\u001b[0m                                 Traceback (most recent call last)",
      "\u001b[0;32m<ipython-input-21-948f021fa982>\u001b[0m in \u001b[0;36m<module>\u001b[0;34m\u001b[0m\n\u001b[0;32m----> 1\u001b[0;31m \u001b[0mdf\u001b[0m \u001b[0;34m=\u001b[0m \u001b[0mdfx\u001b[0m\u001b[0;34m.\u001b[0m\u001b[0mcopy\u001b[0m\u001b[0;34m(\u001b[0m\u001b[0;34m)\u001b[0m\u001b[0;34m\u001b[0m\u001b[0;34m\u001b[0m\u001b[0m\n\u001b[0m\u001b[1;32m      2\u001b[0m \u001b[0;34m\u001b[0m\u001b[0m\n\u001b[1;32m      3\u001b[0m \u001b[0;31m# for now the following do not add any predictiv power\u001b[0m\u001b[0;34m\u001b[0m\u001b[0;34m\u001b[0m\u001b[0;34m\u001b[0m\u001b[0m\n\u001b[1;32m      4\u001b[0m \u001b[0;31m#df['day_of_the_week'] = df['Datetime'].dt.dayofweek\u001b[0m\u001b[0;34m\u001b[0m\u001b[0;34m\u001b[0m\u001b[0;34m\u001b[0m\u001b[0m\n\u001b[1;32m      5\u001b[0m \u001b[0;31m#df['day_of_month'] = df['Datetime'].apply(lambda x:int(str(x)[8:10]))\u001b[0m\u001b[0;34m\u001b[0m\u001b[0;34m\u001b[0m\u001b[0;34m\u001b[0m\u001b[0m\n",
      "\u001b[0;31mNameError\u001b[0m: name 'dfx' is not defined"
     ]
    }
   ],
   "source": [
    "\n",
    "\n",
    "df = dfx.copy()\n",
    "\n",
    "# for now the following do not add any predictiv power\n",
    "#df['day_of_the_week'] = df['Datetime'].dt.dayofweek\n",
    "#df['day_of_month'] = df['Datetime'].apply(lambda x:int(str(x)[8:10]))\n",
    "\n",
    "\n",
    "print(df.tail(1)['Datetime'])\n",
    "old = df.tail(1).loc[:,'Open'].to_numpy()[0]\n",
    "\n",
    "df['Datetime'] = pd.to_datetime(df['Datetime'])\n",
    "df['Datetime']=df['Datetime'].map(dt.datetime.toordinal)\n",
    "df['SMA_1'] = df['Adj Close'].rolling(window = 26).mean()\n",
    "df['SMA_2'] = df['Adj Close'].rolling(window = 50).mean()\n",
    "df['status_sma_lower'] = np.where(df['Adj Close'] < df['SMA_1'],'below_movavg','normal')\n",
    "\n",
    "df['High'] = df['High'].shift(1)\n",
    "df['Low'] = df['Low'].shift(1)\n",
    "df['Volume'] = df['Volume'].shift(1)\n",
    "df['Middle Band'] =df['Adj Close'].rolling(window=26).mean()\n",
    "df['Upper Band'] = df['Middle Band'] + 1.96*df['Adj Close'].rolling(window=20).std()\n",
    "df['Lower Band'] = df['Middle Band'] - 1.96*df['Adj Close'].rolling(window=20).std()\n",
    "df['status_lower'] = np.where(df['Adj Close'] < df['Lower Band'],'below_ballinger','normal')\n",
    "df['status_upper'] = np.where(df['Adj Close'] > df['Upper Band'],'above_ballinger','normal')\n",
    "#df['f01'] = df['Close']/df['Open']-1\n",
    "\n",
    "\n",
    "df = df.dropna()\n",
    "df = df.drop(columns = ['Close'])\n",
    "y = df['Adj Close']\n",
    "X = df.drop(columns =['Adj Close','Volume' ,'Low','High'])\n",
    "X_train, X_test, y_train, y_test = train_test_split(X,y,shuffle= False)\n",
    "    # first transformer for the numeric features\n",
    "print(X_train)\n",
    "numeric_features = list(set(list(X_train.columns)) - set(['status_lower','status_upper','status_sma_lower','status_sma_upper']))\n",
    "numeric_transformer = Pipeline(steps=[\n",
    "    ('imputer', SimpleImputer(strategy='median')),\n",
    "    ('scaler', StandardScaler()),\n",
    "   ])\n",
    "# now a taransformer for the categorical features\n",
    "categorical_features = ['status_lower','status_upper']\n",
    "categorical_transformer = Pipeline(steps=[\n",
    "    ('imputer', SimpleImputer(strategy='constant', fill_value='missing')),\n",
    "    ('onehot', OneHotEncoder(handle_unknown='ignore'))])\n",
    "# creating a preprocessor\n",
    "preprocessor = ColumnTransformer(\n",
    "    transformers=[\n",
    "        ('num', numeric_transformer, numeric_features),\n",
    "        ('cat', categorical_transformer, categorical_features)])\n",
    "\n",
    "ridge_model = Ridge()\n",
    "# include the preprocessor and the model in one pipeline.\n",
    "# Now we have a full prediction pipeline.\n",
    "reg_pipeline = Pipeline(steps=[('preprocessor', preprocessor),\n",
    "                      ('Regressor', ridge_model)])\n",
    "\n",
    "# finally we will pass the pipe line to gridsearchcv to find the optimum paramters for the model\n",
    "param_grid = {\n",
    "    'Regressor__alpha':[0.1,0.25,0.4],\n",
    "}\n",
    "\n",
    "\n",
    "\n",
    "search = GridSearchCV(reg_pipeline,param_grid,cv = 5)\n",
    "\n",
    "# fitting the model\n",
    "search.fit(X_train, y_train)\n",
    "\n",
    "# printing the first parameter\n",
    "#rint(search.best_params_)\n",
    "print(\"model score: %.3f\" % search.score(X_test, y_test))\n",
    "X_train = X[:-1]\n",
    "y_train = y[:-1]\n",
    "X_test = X[-1:]\n",
    "y_test = y[-1:]\n",
    "search.fit(X_train,y_train)\n",
    "y_pred = search.predict(X_train)\n",
    "print('error',np.sqrt(mean_squared_error(y_train,y_pred)))\n",
    "y_test = search.predict(X_test)[0]\n",
    "diff = y_test - old\n",
    "\n",
    "print('old price = ',old)\n",
    "print('predicted = ',y_test)\n",
    "print('difference = ', diff)\n",
    "\n",
    "\n",
    "\n",
    "\n",
    "\n",
    "\n"
   ]
  },
  {
   "cell_type": "code",
   "execution_count": null,
   "metadata": {},
   "outputs": [],
   "source": []
  }
 ],
 "metadata": {
  "kernelspec": {
   "display_name": "Python 3",
   "language": "python",
   "name": "python3"
  },
  "language_info": {
   "codemirror_mode": {
    "name": "ipython",
    "version": 3
   },
   "file_extension": ".py",
   "mimetype": "text/x-python",
   "name": "python",
   "nbconvert_exporter": "python",
   "pygments_lexer": "ipython3",
   "version": "3.8.3"
  }
 },
 "nbformat": 4,
 "nbformat_minor": 4
}
