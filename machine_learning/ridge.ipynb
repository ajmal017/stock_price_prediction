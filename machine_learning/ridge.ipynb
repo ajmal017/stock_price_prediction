{
 "cells": [
  {
   "cell_type": "code",
   "execution_count": 4,
   "metadata": {},
   "outputs": [],
   "source": [
    "import pandas as pd\n",
    "import numpy as np\n",
    "from sklearn.compose import ColumnTransformer\n",
    "from sklearn.pipeline import Pipeline\n",
    "from sklearn.impute import SimpleImputer\n",
    "from sklearn.preprocessing import StandardScaler, MinMaxScaler, OneHotEncoder\n",
    "from sklearn.linear_model import LogisticRegression, Ridge, LinearRegression\n",
    "from sklearn.model_selection import train_test_split, GridSearchCV\n",
    "from sklearn.ensemble import GradientBoostingRegressor\n",
    "from sklearn.pipeline import Pipeline\n",
    "from sklearn import metrics\n",
    "from sklearn.ensemble import RandomForestRegressor\n",
    "from sklearn.preprocessing import PolynomialFeatures\n",
    "from sklearn.model_selection import train_test_split\n",
    "from sklearn.ensemble import RandomForestClassifier, AdaBoostRegressor,  BaggingRegressor, ExtraTreesRegressor, GradientBoostingRegressor, RandomForestRegressor\n",
    "\n",
    "\n",
    "from sklearn.metrics import mean_squared_error\n",
    "\n",
    "import matplotlib.pyplot as plt\n",
    "import altair as alt\n",
    "import datetime as dt"
   ]
  },
  {
   "cell_type": "code",
   "execution_count": 5,
   "metadata": {},
   "outputs": [],
   "source": [
    "import pandas as pd\n",
    "import numpy as np\n",
    "import datetime as dt\n",
    "import yfinance as yf  # for data\n",
    "from pandas_datareader import data as pdr\n",
    "yf.pdr_override()"
   ]
  },
  {
   "cell_type": "code",
   "execution_count": 6,
   "metadata": {},
   "outputs": [],
   "source": [
    "def read_data(stock='TSLA', period = \"360d\", interval = \"1d\"):\n",
    "    '''\n",
    "    reading the data\n",
    "    '''\n",
    "\n",
    "\n",
    "    df = pdr.get_data_yahoo(stock,period = period,\n",
    "\n",
    "            # fetch data by interval (including intraday if period < 60 days)\n",
    "            # valid intervals: 1m,2m,5m,15m,30m,60m,90m,1h,1d,5d,1wk,1mo,3mo\n",
    "            # (optional, default is '1d')\n",
    "            interval = interval,)\n",
    "\n",
    "\n",
    "    return df"
   ]
  },
  {
   "cell_type": "code",
   "execution_count": 7,
   "metadata": {},
   "outputs": [
    {
     "name": "stdout",
     "output_type": "stream",
     "text": [
      "[*********************100%***********************]  1 of 1 completed\n"
     ]
    }
   ],
   "source": [
    "df = read_data(stock='TSLA').reset_index()"
   ]
  },
  {
   "cell_type": "code",
   "execution_count": 6,
   "metadata": {},
   "outputs": [
    {
     "data": {
      "text/html": [
       "<div>\n",
       "<style scoped>\n",
       "    .dataframe tbody tr th:only-of-type {\n",
       "        vertical-align: middle;\n",
       "    }\n",
       "\n",
       "    .dataframe tbody tr th {\n",
       "        vertical-align: top;\n",
       "    }\n",
       "\n",
       "    .dataframe thead th {\n",
       "        text-align: right;\n",
       "    }\n",
       "</style>\n",
       "<table border=\"1\" class=\"dataframe\">\n",
       "  <thead>\n",
       "    <tr style=\"text-align: right;\">\n",
       "      <th></th>\n",
       "      <th>Date</th>\n",
       "      <th>Open</th>\n",
       "      <th>High</th>\n",
       "      <th>Low</th>\n",
       "      <th>Close</th>\n",
       "      <th>Adj Close</th>\n",
       "      <th>Volume</th>\n",
       "    </tr>\n",
       "  </thead>\n",
       "  <tbody>\n",
       "    <tr>\n",
       "      <th>355</th>\n",
       "      <td>2020-11-03</td>\n",
       "      <td>409.730011</td>\n",
       "      <td>427.769989</td>\n",
       "      <td>406.690002</td>\n",
       "      <td>423.899994</td>\n",
       "      <td>423.899994</td>\n",
       "      <td>34351700</td>\n",
       "    </tr>\n",
       "    <tr>\n",
       "      <th>356</th>\n",
       "      <td>2020-11-04</td>\n",
       "      <td>430.619995</td>\n",
       "      <td>435.399994</td>\n",
       "      <td>417.100006</td>\n",
       "      <td>420.980011</td>\n",
       "      <td>420.980011</td>\n",
       "      <td>32143100</td>\n",
       "    </tr>\n",
       "    <tr>\n",
       "      <th>357</th>\n",
       "      <td>2020-11-05</td>\n",
       "      <td>428.299988</td>\n",
       "      <td>440.000000</td>\n",
       "      <td>424.000000</td>\n",
       "      <td>438.089996</td>\n",
       "      <td>438.089996</td>\n",
       "      <td>28414500</td>\n",
       "    </tr>\n",
       "    <tr>\n",
       "      <th>358</th>\n",
       "      <td>2020-11-06</td>\n",
       "      <td>436.100006</td>\n",
       "      <td>436.570007</td>\n",
       "      <td>424.279999</td>\n",
       "      <td>429.950012</td>\n",
       "      <td>429.950012</td>\n",
       "      <td>21653600</td>\n",
       "    </tr>\n",
       "    <tr>\n",
       "      <th>359</th>\n",
       "      <td>2020-11-09</td>\n",
       "      <td>439.500000</td>\n",
       "      <td>452.500000</td>\n",
       "      <td>431.709991</td>\n",
       "      <td>437.760010</td>\n",
       "      <td>437.760010</td>\n",
       "      <td>22086023</td>\n",
       "    </tr>\n",
       "  </tbody>\n",
       "</table>\n",
       "</div>"
      ],
      "text/plain": [
       "          Date        Open        High         Low       Close   Adj Close  \\\n",
       "355 2020-11-03  409.730011  427.769989  406.690002  423.899994  423.899994   \n",
       "356 2020-11-04  430.619995  435.399994  417.100006  420.980011  420.980011   \n",
       "357 2020-11-05  428.299988  440.000000  424.000000  438.089996  438.089996   \n",
       "358 2020-11-06  436.100006  436.570007  424.279999  429.950012  429.950012   \n",
       "359 2020-11-09  439.500000  452.500000  431.709991  437.760010  437.760010   \n",
       "\n",
       "       Volume  \n",
       "355  34351700  \n",
       "356  32143100  \n",
       "357  28414500  \n",
       "358  21653600  \n",
       "359  22086023  "
      ]
     },
     "execution_count": 6,
     "metadata": {},
     "output_type": "execute_result"
    }
   ],
   "source": [
    "# here is the tail of the df which has the most recent data\n",
    "df.tail()"
   ]
  },
  {
   "cell_type": "markdown",
   "metadata": {},
   "source": [
    "### Feature Engineering:\n",
    "\n",
    "- The idea is to create a useful set of features for the model. For stock price prediction, we are trying to predict the price of stock in the next timestep given it's current price and also the history of the prices that we have. We also have the volume that was traded at each time step. But we have to note here that we don't have the volume of the current trade but we have the volume at the previous step. So we are trying to use this lagged information as out innputs. Additionally we can create new feartures, by applying technical analysis. For example calculating the simple moving average, ballinger bands which we we will include in this analysis, macd, etc.\n",
    "\n",
    "- First let's start with the lagged information, we will shift the high, low, and volume columns one row, which is equivelant to use the previous time steps information which is know for predicting the price. For the open price we don't need to do that because it's just the price at the start of this time step which is know. \n"
   ]
  },
  {
   "cell_type": "code",
   "execution_count": 8,
   "metadata": {},
   "outputs": [],
   "source": [
    "df['High'] = df['High'].shift(1)\n",
    "df['Low'] = df['Low'].shift(1)\n",
    "df['Volume'] = df['Volume'].shift(1)"
   ]
  },
  {
   "cell_type": "code",
   "execution_count": 9,
   "metadata": {},
   "outputs": [],
   "source": [
    "# we will also convert the datetime columns to be ordinal as our model can not process datetime data"
   ]
  },
  {
   "cell_type": "code",
   "execution_count": 11,
   "metadata": {},
   "outputs": [],
   "source": [
    "# df['Datetime'] = pd.to_datetime(df['Datetime'])\n",
    "# df['Datetime']=df['Datetime'].map(dt.datetime.toordinal)"
   ]
  },
  {
   "cell_type": "code",
   "execution_count": 279,
   "metadata": {},
   "outputs": [],
   "source": [
    "# now we will calculate a bunch of technical indicators, sma and ballinger bands, additionally we will create two additional columns , status lower and status upper which we will serve as \n",
    "# indicators if the price crossed below the ballinger lower band or above the ballinger band\n",
    "df['SMA'] = df['Adj Close'].rolling(window = 20).mean()\n",
    "df['Middle Band'] =df['Adj Close'].rolling(window=20).mean()\n",
    "df['Upper Band'] = df['Middle Band'] + 1.96*df['Adj Close'].rolling(window=20).std()\n",
    "df['Lower Band'] = df['Middle Band'] - 1.96*df['Adj Close'].rolling(window=20).std()\n",
    "df['status_lower'] = np.where(df['Adj Close'] < df['Lower Band'],'below_ballinger','normal')\n",
    "df['status_upper'] = np.where(df['Adj Close'] > df['Upper Band'],'above_ballinger','normal')"
   ]
  },
  {
   "cell_type": "code",
   "execution_count": 280,
   "metadata": {},
   "outputs": [],
   "source": [
    "# now we will drop na, we will have many of those due to the way SMA is calculated. Also we will drop the close column since we are only using the adj close price columns. This will be the\n",
    "# the column that we are trying to predict, y. Finally we will create our X using all the columns except, adj close, low and high price"
   ]
  },
  {
   "cell_type": "code",
   "execution_count": 281,
   "metadata": {},
   "outputs": [],
   "source": [
    "df = df.dropna()\n",
    "df = df.drop(columns = ['Close'])\n",
    "y = df['Adj Close']\n",
    "X = df.drop(columns =['Adj Close','Volume' ,'Low','High'] )"
   ]
  },
  {
   "cell_type": "code",
   "execution_count": 282,
   "metadata": {},
   "outputs": [],
   "source": [
    "# now let's split the data into train and test set"
   ]
  },
  {
   "cell_type": "code",
   "execution_count": 283,
   "metadata": {},
   "outputs": [],
   "source": [
    "X_train, X_test, y_train, y_test = train_test_split(X,y,shuffle= False) "
   ]
  },
  {
   "cell_type": "code",
   "execution_count": 284,
   "metadata": {},
   "outputs": [
    {
     "data": {
      "text/html": [
       "<div>\n",
       "<style scoped>\n",
       "    .dataframe tbody tr th:only-of-type {\n",
       "        vertical-align: middle;\n",
       "    }\n",
       "\n",
       "    .dataframe tbody tr th {\n",
       "        vertical-align: top;\n",
       "    }\n",
       "\n",
       "    .dataframe thead th {\n",
       "        text-align: right;\n",
       "    }\n",
       "</style>\n",
       "<table border=\"1\" class=\"dataframe\">\n",
       "  <thead>\n",
       "    <tr style=\"text-align: right;\">\n",
       "      <th></th>\n",
       "      <th>Datetime</th>\n",
       "      <th>Open</th>\n",
       "      <th>SMA</th>\n",
       "      <th>Middle Band</th>\n",
       "      <th>Upper Band</th>\n",
       "      <th>Lower Band</th>\n",
       "      <th>status_lower</th>\n",
       "      <th>status_upper</th>\n",
       "    </tr>\n",
       "  </thead>\n",
       "  <tbody>\n",
       "    <tr>\n",
       "      <th>19</th>\n",
       "      <td>737726</td>\n",
       "      <td>410.149994</td>\n",
       "      <td>411.393298</td>\n",
       "      <td>411.393298</td>\n",
       "      <td>415.958382</td>\n",
       "      <td>406.828215</td>\n",
       "      <td>normal</td>\n",
       "      <td>normal</td>\n",
       "    </tr>\n",
       "    <tr>\n",
       "      <th>20</th>\n",
       "      <td>737726</td>\n",
       "      <td>411.292603</td>\n",
       "      <td>411.046448</td>\n",
       "      <td>411.046448</td>\n",
       "      <td>414.710346</td>\n",
       "      <td>407.382550</td>\n",
       "      <td>normal</td>\n",
       "      <td>normal</td>\n",
       "    </tr>\n",
       "    <tr>\n",
       "      <th>21</th>\n",
       "      <td>737726</td>\n",
       "      <td>410.339996</td>\n",
       "      <td>410.990588</td>\n",
       "      <td>410.990588</td>\n",
       "      <td>414.597767</td>\n",
       "      <td>407.383410</td>\n",
       "      <td>normal</td>\n",
       "      <td>normal</td>\n",
       "    </tr>\n",
       "    <tr>\n",
       "      <th>22</th>\n",
       "      <td>737726</td>\n",
       "      <td>411.390015</td>\n",
       "      <td>410.815738</td>\n",
       "      <td>410.815738</td>\n",
       "      <td>414.068709</td>\n",
       "      <td>407.562767</td>\n",
       "      <td>normal</td>\n",
       "      <td>normal</td>\n",
       "    </tr>\n",
       "    <tr>\n",
       "      <th>23</th>\n",
       "      <td>737726</td>\n",
       "      <td>410.929993</td>\n",
       "      <td>410.609239</td>\n",
       "      <td>410.609239</td>\n",
       "      <td>413.517268</td>\n",
       "      <td>407.701210</td>\n",
       "      <td>normal</td>\n",
       "      <td>normal</td>\n",
       "    </tr>\n",
       "    <tr>\n",
       "      <th>...</th>\n",
       "      <td>...</td>\n",
       "      <td>...</td>\n",
       "      <td>...</td>\n",
       "      <td>...</td>\n",
       "      <td>...</td>\n",
       "      <td>...</td>\n",
       "      <td>...</td>\n",
       "      <td>...</td>\n",
       "    </tr>\n",
       "    <tr>\n",
       "      <th>967</th>\n",
       "      <td>737732</td>\n",
       "      <td>422.471985</td>\n",
       "      <td>422.900832</td>\n",
       "      <td>422.900832</td>\n",
       "      <td>424.561710</td>\n",
       "      <td>421.239953</td>\n",
       "      <td>normal</td>\n",
       "      <td>normal</td>\n",
       "    </tr>\n",
       "    <tr>\n",
       "      <th>968</th>\n",
       "      <td>737732</td>\n",
       "      <td>422.500000</td>\n",
       "      <td>422.858751</td>\n",
       "      <td>422.858751</td>\n",
       "      <td>424.522597</td>\n",
       "      <td>421.194905</td>\n",
       "      <td>normal</td>\n",
       "      <td>normal</td>\n",
       "    </tr>\n",
       "    <tr>\n",
       "      <th>969</th>\n",
       "      <td>737732</td>\n",
       "      <td>422.390015</td>\n",
       "      <td>422.883391</td>\n",
       "      <td>422.883391</td>\n",
       "      <td>424.567624</td>\n",
       "      <td>421.199158</td>\n",
       "      <td>normal</td>\n",
       "      <td>normal</td>\n",
       "    </tr>\n",
       "    <tr>\n",
       "      <th>970</th>\n",
       "      <td>737732</td>\n",
       "      <td>423.410004</td>\n",
       "      <td>422.842522</td>\n",
       "      <td>422.842522</td>\n",
       "      <td>424.415290</td>\n",
       "      <td>421.269753</td>\n",
       "      <td>normal</td>\n",
       "      <td>normal</td>\n",
       "    </tr>\n",
       "    <tr>\n",
       "      <th>971</th>\n",
       "      <td>737732</td>\n",
       "      <td>423.554993</td>\n",
       "      <td>422.833771</td>\n",
       "      <td>422.833771</td>\n",
       "      <td>424.386856</td>\n",
       "      <td>421.280686</td>\n",
       "      <td>normal</td>\n",
       "      <td>normal</td>\n",
       "    </tr>\n",
       "  </tbody>\n",
       "</table>\n",
       "<p>953 rows × 8 columns</p>\n",
       "</div>"
      ],
      "text/plain": [
       "     Datetime        Open         SMA  Middle Band  Upper Band  Lower Band  \\\n",
       "19     737726  410.149994  411.393298   411.393298  415.958382  406.828215   \n",
       "20     737726  411.292603  411.046448   411.046448  414.710346  407.382550   \n",
       "21     737726  410.339996  410.990588   410.990588  414.597767  407.383410   \n",
       "22     737726  411.390015  410.815738   410.815738  414.068709  407.562767   \n",
       "23     737726  410.929993  410.609239   410.609239  413.517268  407.701210   \n",
       "..        ...         ...         ...          ...         ...         ...   \n",
       "967    737732  422.471985  422.900832   422.900832  424.561710  421.239953   \n",
       "968    737732  422.500000  422.858751   422.858751  424.522597  421.194905   \n",
       "969    737732  422.390015  422.883391   422.883391  424.567624  421.199158   \n",
       "970    737732  423.410004  422.842522   422.842522  424.415290  421.269753   \n",
       "971    737732  423.554993  422.833771   422.833771  424.386856  421.280686   \n",
       "\n",
       "    status_lower status_upper  \n",
       "19        normal       normal  \n",
       "20        normal       normal  \n",
       "21        normal       normal  \n",
       "22        normal       normal  \n",
       "23        normal       normal  \n",
       "..           ...          ...  \n",
       "967       normal       normal  \n",
       "968       normal       normal  \n",
       "969       normal       normal  \n",
       "970       normal       normal  \n",
       "971       normal       normal  \n",
       "\n",
       "[953 rows x 8 columns]"
      ]
     },
     "execution_count": 284,
     "metadata": {},
     "output_type": "execute_result"
    }
   ],
   "source": [
    "# a quick look athe X_train\n",
    "X_train"
   ]
  },
  {
   "cell_type": "code",
   "execution_count": 147,
   "metadata": {},
   "outputs": [
    {
     "data": {
      "text/plain": [
       "0     -0.009309\n",
       "1     -0.061404\n",
       "2      0.016779\n",
       "3      0.017373\n",
       "4      0.044320\n",
       "         ...   \n",
       "355   -0.022386\n",
       "356    0.022858\n",
       "357   -0.014102\n",
       "358   -0.041502\n",
       "359   -0.023162\n",
       "Name: f01, Length: 360, dtype: float64"
      ]
     },
     "execution_count": 147,
     "metadata": {},
     "output_type": "execute_result"
    }
   ],
   "source": [
    "# first let's look at the data head\n",
    "df['f01'] = df['Close']/df['Open']-1\n",
    "df['f01']"
   ]
  },
  {
   "cell_type": "code",
   "execution_count": null,
   "metadata": {},
   "outputs": [],
   "source": [
    "### Modeling"
   ]
  },
  {
   "cell_type": "code",
   "execution_count": 211,
   "metadata": {},
   "outputs": [
    {
     "name": "stdout",
     "output_type": "stream",
     "text": [
      "{'Regressor__alpha': 0.1}\n",
      "model score: 0.925\n"
     ]
    }
   ],
   "source": [
    "# first transformer for the numeric features\n",
    "numeric_features = list(set(list(X_train.columns)) - set(['status_lower','status_upper']))\n",
    "numeric_transformer = Pipeline(steps=[\n",
    "    ('imputer', SimpleImputer(strategy='median')),\n",
    "    ('scaler', StandardScaler()),\n",
    "   ])\n",
    "# now a taransformer for the categorical features\n",
    "categorical_features = ['status_lower','status_upper']\n",
    "categorical_transformer = Pipeline(steps=[\n",
    "    ('imputer', SimpleImputer(strategy='constant', fill_value='missing')),\n",
    "    ('onehot', OneHotEncoder(handle_unknown='ignore'))])\n",
    "# creating a preprocessor\n",
    "preprocessor = ColumnTransformer(\n",
    "    transformers=[\n",
    "        ('num', numeric_transformer, numeric_features),\n",
    "        ('cat', categorical_transformer, categorical_features)])\n",
    "\n",
    "ridge_model = Ridge()\n",
    "# include the preprocessor and the model in one pipeline.\n",
    "# Now we have a full prediction pipeline.\n",
    "reg_pipeline = Pipeline(steps=[('preprocessor', preprocessor),\n",
    "                      ('Regressor', ridge_model)])\n",
    "\n",
    "# finally we will pass the pipe line to gridsearchcv to find the optimum paramters for the model\n",
    "param_grid = {\n",
    "    'Regressor__alpha':[0.1,0.25,0.4],\n",
    "}\n",
    "search = GridSearchCV(reg_pipeline,param_grid,cv = 5)\n",
    "\n",
    "# fitting the model\n",
    "search.fit(X_train, y_train)\n",
    "\n",
    "# printing the first parameter\n",
    "print(search.best_params_)\n",
    "print(\"model score: %.3f\" % search.score(X_test, y_test))"
   ]
  },
  {
   "cell_type": "code",
   "execution_count": null,
   "metadata": {},
   "outputs": [],
   "source": [
    "# let's check the prediction of the model, we are specifically interested in the last raw which has the most recent data, and we want to see the prediction of the close price for that time step"
   ]
  },
  {
   "cell_type": "code",
   "execution_count": 228,
   "metadata": {},
   "outputs": [
    {
     "data": {
      "text/plain": [
       "429.46199040624674"
      ]
     },
     "execution_count": 228,
     "metadata": {},
     "output_type": "execute_result"
    }
   ],
   "source": [
    "y_pred = search.predict(X_test)\n",
    "y_pred[-1]"
   ]
  },
  {
   "cell_type": "code",
   "execution_count": 229,
   "metadata": {},
   "outputs": [],
   "source": [
    "### Model Evaluation"
   ]
  },
  {
   "cell_type": "code",
   "execution_count": 231,
   "metadata": {},
   "outputs": [
    {
     "data": {
      "text/plain": [
       "1.4387108372940598"
      ]
     },
     "execution_count": 231,
     "metadata": {},
     "output_type": "execute_result"
    }
   ],
   "source": [
    "np.sqrt(mean_squared_error(y_test,y_pred))"
   ]
  },
  {
   "cell_type": "code",
   "execution_count": 232,
   "metadata": {},
   "outputs": [],
   "source": [
    "# how the actual and predicted prices are correlated"
   ]
  },
  {
   "cell_type": "code",
   "execution_count": 233,
   "metadata": {},
   "outputs": [
    {
     "data": {
      "image/png": "[encoded data removed]",
      "text/plain": [
       "<Figure size 432x288 with 1 Axes>"
      ]
     },
     "metadata": {
      "needs_background": "light"
     },
     "output_type": "display_data"
    }
   ],
   "source": [
    "plt.scatter(y_test,y_pred);"
   ]
  },
  {
   "cell_type": "code",
   "execution_count": 234,
   "metadata": {},
   "outputs": [],
   "source": [
    "X_test['actual'] = y_test\n",
    "X_test['pred'] = y_pred"
   ]
  },
  {
   "cell_type": "code",
   "execution_count": 235,
   "metadata": {},
   "outputs": [
    {
     "data": {
      "text/html": [
       "<div>\n",
       "<style scoped>\n",
       "    .dataframe tbody tr th:only-of-type {\n",
       "        vertical-align: middle;\n",
       "    }\n",
       "\n",
       "    .dataframe tbody tr th {\n",
       "        vertical-align: top;\n",
       "    }\n",
       "\n",
       "    .dataframe thead th {\n",
       "        text-align: right;\n",
       "    }\n",
       "</style>\n",
       "<table border=\"1\" class=\"dataframe\">\n",
       "  <thead>\n",
       "    <tr style=\"text-align: right;\">\n",
       "      <th></th>\n",
       "      <th>Datetime</th>\n",
       "      <th>Open</th>\n",
       "      <th>Volume</th>\n",
       "      <th>SMA</th>\n",
       "      <th>Middle Band</th>\n",
       "      <th>Upper Band</th>\n",
       "      <th>Lower Band</th>\n",
       "      <th>status_lower</th>\n",
       "      <th>status_upper</th>\n",
       "      <th>actual</th>\n",
       "      <th>pred</th>\n",
       "    </tr>\n",
       "  </thead>\n",
       "  <tbody>\n",
       "    <tr>\n",
       "      <th>384</th>\n",
       "      <td>737732</td>\n",
       "      <td>422.640015</td>\n",
       "      <td>322692.0</td>\n",
       "      <td>423.052052</td>\n",
       "      <td>423.052052</td>\n",
       "      <td>425.797445</td>\n",
       "      <td>420.306660</td>\n",
       "      <td>normal</td>\n",
       "      <td>normal</td>\n",
       "      <td>422.690002</td>\n",
       "      <td>422.750531</td>\n",
       "    </tr>\n",
       "    <tr>\n",
       "      <th>385</th>\n",
       "      <td>737732</td>\n",
       "      <td>422.690002</td>\n",
       "      <td>314357.0</td>\n",
       "      <td>423.088048</td>\n",
       "      <td>423.088048</td>\n",
       "      <td>425.735737</td>\n",
       "      <td>420.440359</td>\n",
       "      <td>normal</td>\n",
       "      <td>normal</td>\n",
       "      <td>421.619995</td>\n",
       "      <td>422.799092</td>\n",
       "    </tr>\n",
       "    <tr>\n",
       "      <th>386</th>\n",
       "      <td>737732</td>\n",
       "      <td>421.769989</td>\n",
       "      <td>307561.0</td>\n",
       "      <td>423.112048</td>\n",
       "      <td>423.112048</td>\n",
       "      <td>425.697796</td>\n",
       "      <td>420.526301</td>\n",
       "      <td>normal</td>\n",
       "      <td>normal</td>\n",
       "      <td>421.670013</td>\n",
       "      <td>421.881103</td>\n",
       "    </tr>\n",
       "    <tr>\n",
       "      <th>387</th>\n",
       "      <td>737732</td>\n",
       "      <td>421.725006</td>\n",
       "      <td>412024.0</td>\n",
       "      <td>423.278838</td>\n",
       "      <td>423.278838</td>\n",
       "      <td>425.468150</td>\n",
       "      <td>421.089525</td>\n",
       "      <td>normal</td>\n",
       "      <td>normal</td>\n",
       "      <td>423.459991</td>\n",
       "      <td>421.924252</td>\n",
       "    </tr>\n",
       "    <tr>\n",
       "      <th>388</th>\n",
       "      <td>737732</td>\n",
       "      <td>423.410004</td>\n",
       "      <td>397009.0</td>\n",
       "      <td>423.398587</td>\n",
       "      <td>423.398587</td>\n",
       "      <td>425.513371</td>\n",
       "      <td>421.283804</td>\n",
       "      <td>normal</td>\n",
       "      <td>normal</td>\n",
       "      <td>424.204987</td>\n",
       "      <td>423.595683</td>\n",
       "    </tr>\n",
       "    <tr>\n",
       "      <th>...</th>\n",
       "      <td>...</td>\n",
       "      <td>...</td>\n",
       "      <td>...</td>\n",
       "      <td>...</td>\n",
       "      <td>...</td>\n",
       "      <td>...</td>\n",
       "      <td>...</td>\n",
       "      <td>...</td>\n",
       "      <td>...</td>\n",
       "      <td>...</td>\n",
       "      <td>...</td>\n",
       "    </tr>\n",
       "    <tr>\n",
       "      <th>501</th>\n",
       "      <td>737734</td>\n",
       "      <td>431.500000</td>\n",
       "      <td>146640.0</td>\n",
       "      <td>432.113467</td>\n",
       "      <td>432.113467</td>\n",
       "      <td>434.892717</td>\n",
       "      <td>429.334218</td>\n",
       "      <td>normal</td>\n",
       "      <td>normal</td>\n",
       "      <td>430.519501</td>\n",
       "      <td>431.535358</td>\n",
       "    </tr>\n",
       "    <tr>\n",
       "      <th>502</th>\n",
       "      <td>737734</td>\n",
       "      <td>430.489197</td>\n",
       "      <td>127995.0</td>\n",
       "      <td>432.018967</td>\n",
       "      <td>432.018967</td>\n",
       "      <td>434.948326</td>\n",
       "      <td>429.089607</td>\n",
       "      <td>normal</td>\n",
       "      <td>normal</td>\n",
       "      <td>430.000000</td>\n",
       "      <td>430.509430</td>\n",
       "    </tr>\n",
       "    <tr>\n",
       "      <th>503</th>\n",
       "      <td>737734</td>\n",
       "      <td>429.900085</td>\n",
       "      <td>221544.0</td>\n",
       "      <td>431.912967</td>\n",
       "      <td>431.912967</td>\n",
       "      <td>434.946696</td>\n",
       "      <td>428.879238</td>\n",
       "      <td>normal</td>\n",
       "      <td>normal</td>\n",
       "      <td>430.179993</td>\n",
       "      <td>429.980789</td>\n",
       "    </tr>\n",
       "    <tr>\n",
       "      <th>504</th>\n",
       "      <td>737734</td>\n",
       "      <td>430.279999</td>\n",
       "      <td>147008.0</td>\n",
       "      <td>431.662971</td>\n",
       "      <td>431.662971</td>\n",
       "      <td>434.625219</td>\n",
       "      <td>428.700724</td>\n",
       "      <td>normal</td>\n",
       "      <td>normal</td>\n",
       "      <td>429.500000</td>\n",
       "      <td>430.311807</td>\n",
       "    </tr>\n",
       "    <tr>\n",
       "      <th>505</th>\n",
       "      <td>737734</td>\n",
       "      <td>429.434998</td>\n",
       "      <td>119258.0</td>\n",
       "      <td>431.390791</td>\n",
       "      <td>431.390791</td>\n",
       "      <td>434.108931</td>\n",
       "      <td>428.672651</td>\n",
       "      <td>normal</td>\n",
       "      <td>normal</td>\n",
       "      <td>429.434998</td>\n",
       "      <td>429.461990</td>\n",
       "    </tr>\n",
       "  </tbody>\n",
       "</table>\n",
       "<p>122 rows × 11 columns</p>\n",
       "</div>"
      ],
      "text/plain": [
       "     Datetime        Open    Volume         SMA  Middle Band  Upper Band  \\\n",
       "384    737732  422.640015  322692.0  423.052052   423.052052  425.797445   \n",
       "385    737732  422.690002  314357.0  423.088048   423.088048  425.735737   \n",
       "386    737732  421.769989  307561.0  423.112048   423.112048  425.697796   \n",
       "387    737732  421.725006  412024.0  423.278838   423.278838  425.468150   \n",
       "388    737732  423.410004  397009.0  423.398587   423.398587  425.513371   \n",
       "..        ...         ...       ...         ...          ...         ...   \n",
       "501    737734  431.500000  146640.0  432.113467   432.113467  434.892717   \n",
       "502    737734  430.489197  127995.0  432.018967   432.018967  434.948326   \n",
       "503    737734  429.900085  221544.0  431.912967   431.912967  434.946696   \n",
       "504    737734  430.279999  147008.0  431.662971   431.662971  434.625219   \n",
       "505    737734  429.434998  119258.0  431.390791   431.390791  434.108931   \n",
       "\n",
       "     Lower Band status_lower status_upper      actual        pred  \n",
       "384  420.306660       normal       normal  422.690002  422.750531  \n",
       "385  420.440359       normal       normal  421.619995  422.799092  \n",
       "386  420.526301       normal       normal  421.670013  421.881103  \n",
       "387  421.089525       normal       normal  423.459991  421.924252  \n",
       "388  421.283804       normal       normal  424.204987  423.595683  \n",
       "..          ...          ...          ...         ...         ...  \n",
       "501  429.334218       normal       normal  430.519501  431.535358  \n",
       "502  429.089607       normal       normal  430.000000  430.509430  \n",
       "503  428.879238       normal       normal  430.179993  429.980789  \n",
       "504  428.700724       normal       normal  429.500000  430.311807  \n",
       "505  428.672651       normal       normal  429.434998  429.461990  \n",
       "\n",
       "[122 rows x 11 columns]"
      ]
     },
     "execution_count": 235,
     "metadata": {},
     "output_type": "execute_result"
    }
   ],
   "source": [
    "X_test"
   ]
  },
  {
   "cell_type": "code",
   "execution_count": 236,
   "metadata": {},
   "outputs": [
    {
     "data": {
      "text/plain": [
       "[<matplotlib.lines.Line2D at 0x7fc330ef7d90>]"
      ]
     },
     "execution_count": 236,
     "metadata": {},
     "output_type": "execute_result"
    },
    {
     "data": {
      "image/png": "[encoded data removed]",
      "text/plain": [
       "<Figure size 432x288 with 1 Axes>"
      ]
     },
     "metadata": {
      "needs_background": "light"
     },
     "output_type": "display_data"
    }
   ],
   "source": [
    "# finally let's plot the actual and predicted price with time\n",
    "plt.plot(X_test['Datetime'],X_test['actual'],'b')\n",
    "plt.plot(X_test['Datetime'],X_test['pred'],'r')"
   ]
  },
  {
   "cell_type": "code",
   "execution_count": null,
   "metadata": {},
   "outputs": [],
   "source": [
    "# let's create a funciton to do all this steps for us:"
   ]
  },
  {
   "cell_type": "code",
   "execution_count": 65,
   "metadata": {},
   "outputs": [],
   "source": [
    "def test_stock(stock, intra = True, period = \"7d\", interval = \"1m\"):\n",
    "    \"\"\"\n",
    "    predict the price for the closing price for the bext inerval. \n",
    "    \n",
    "    inputs:\n",
    "    ------\n",
    "    - stock: string, symobol for the stick, eg. 'TSLA'\n",
    "    - intra : Boolean, if True then the period and interval should be 1m, 5m, etc, if False it should be 1d, 7d, etc\n",
    "    - period : total period\n",
    "    - interval : interval for the data\n",
    "    \n",
    "    \"\"\"\n",
    "\n",
    "    \n",
    "    if intra ==True:\n",
    "        \n",
    "            df = read_data(stock=stock, period = period, interval = interval).reset_index()\n",
    "            df_nasaq = read_data(stock='NDAQ', period = period, interval = interval).reset_index()[['Datetime','Open']]\n",
    "            df_nasaq.columns = ['Datetime','NASAQ']\n",
    "            df = pd.merge(df,df_nasaq,on = ['Datetime'], how = 'left')\n",
    "            #df['f01'] = df['Close']/df['Open']-1\n",
    "\n",
    "\n",
    "\n",
    "\n",
    "            #print(len(df))\n",
    "            print(df['Datetime'])\n",
    "            old = df.tail(1).loc[:,'Open'].to_numpy()[0]\n",
    "            df['Datetime'] = pd.to_datetime(df['Datetime'])\n",
    "            df['Datetime']=df['Datetime'].map(dt.datetime.toordinal)\n",
    "            df['SMA_1'] = df['Adj Close'].rolling(window = 26).mean()\n",
    "            df['SMA_2'] = df['Adj Close'].rolling(window = 50).mean()\n",
    "            df['status_sma_lower'] = np.where(df['Adj Close'] < df['SMA_1'],1,0)\n",
    "            df['status_sma_upper'] = np.where(df['Adj Close'] > df['SMA_2'],1,0)\n",
    "    \n",
    "\n",
    "    elif intra ==False:\n",
    "            df = read_data(stock=stock, period = period, interval = interval).reset_index()\n",
    "            df_nasaq = read_data(stock='NDAQ', period = period, interval = interval).reset_index()[['Date','Open']]\n",
    "            df_nasaq.columns = ['Date','NASAQ']\n",
    "            df = pd.merge(df,df_nasaq,on = ['Date'], how = 'left')\n",
    "            #df['f01'] = df['Close']/df['Open']-1\n",
    "\n",
    "\n",
    "\n",
    "\n",
    "            #print(len(df))\n",
    "            old = df.tail(1).loc[:,'Open'].to_numpy()[0]\n",
    "            df['Date'] = pd.to_datetime(df['Date'])\n",
    "            df['Date']=df['Date'].map(dt.datetime.toordinal)\n",
    "#             df['SMA_1'] = df['Adj Close'].rolling(window = 50).mean()\n",
    "#             df['SMA_2'] = df['Adj Close'].rolling(window = 100).mean()\n",
    "#             df['status_sma_lower'] = np.where(df['Adj Close'] < df['SMA_1'],'below_movavg','normal')\n",
    "#             df['status_sma_upper'] = np.where(df['Adj Close'] > df['SMA_2'],'above_movavg','normal'\n",
    "\n",
    "    df['High'] = df['High'].shift(1)\n",
    "    df['Low'] = df['Low'].shift(1)\n",
    "    df['Volume'] = df['Volume'].shift(1) \n",
    "    df['Middle Band'] =df['Adj Close'].rolling(window=26).mean()\n",
    "    df['Upper Band'] = df['Middle Band'] + 1.96*df['Adj Close'].rolling(window=20).std()\n",
    "    df['Lower Band'] = df['Middle Band'] - 1.96*df['Adj Close'].rolling(window=20).std()\n",
    "    df['status_lower'] = np.where(df['Adj Close'] < df['Lower Band'],1,0)\n",
    "    df['status_upper'] = np.where(df['Adj Close'] > df['Upper Band'],1,0)\n",
    "    #df['f01'] = df['Close']/df['Open']-1\n",
    "\n",
    "\n",
    "    df = df.dropna()\n",
    "    df = df.drop(columns = ['Close'])\n",
    "    y = df['Adj Close']\n",
    "    X = df.drop(columns =['Adj Close','Volume' ,'Low','High'])\n",
    "    X_train, X_test, y_train, y_test = train_test_split(X,y,shuffle= False)\n",
    "        # first transformer for the numeric features\n",
    "    numeric_features = list(X_train.columns)\n",
    "    numeric_transformer = Pipeline(steps=[\n",
    "        ('imputer', SimpleImputer(strategy='median')),\n",
    "        ('scaler', StandardScaler()),\n",
    "       ])\n",
    "    # now a taransformer for the categorical features\n",
    "    categorical_features = ['status_lower']\n",
    "    categorical_transformer = Pipeline(steps=[\n",
    "        ('imputer', SimpleImputer(strategy='constant', fill_value='missing')),\n",
    "        ('onehot', OneHotEncoder(handle_unknown='ignore'))])\n",
    "    # creating a preprocessor\n",
    "    preprocessor = ColumnTransformer(\n",
    "        transformers=[\n",
    "            ('num', numeric_transformer, numeric_features)])\n",
    "    \n",
    "    ridge_model = Ridge()\n",
    "    # include the preprocessor and the model in one pipeline.\n",
    "    # Now we have a full prediction pipeline.\n",
    "    reg_pipeline = Pipeline(steps=[('preprocessor', preprocessor),\n",
    "                          ('Regressor', ridge_model)])\n",
    "\n",
    "    # finally we will pass the pipe line to gridsearchcv to find the optimum paramters for the model\n",
    "    param_grid = {\n",
    "        'Regressor__alpha':[0.1,0.25,0.4],\n",
    "    }\n",
    "\n",
    "\n",
    "\n",
    "    search = GridSearchCV(reg_pipeline,param_grid,cv = 5)\n",
    "\n",
    "    # fitting the model\n",
    "    search.fit(X_train, y_train)\n",
    "\n",
    "    # printing the first parameter\n",
    "    #rint(search.best_params_)\n",
    "    print(\"model score: %.3f\" % search.score(X_test, y_test))\n",
    "    X_train = X[:-1]\n",
    "    y_train = y[:-1]\n",
    "    X_test = X[-1:]\n",
    "    y_test = y[-1:]\n",
    "    search.fit(X_train,y_train)\n",
    "    y_pred = search.predict(X_train)\n",
    "    print('error',np.sqrt(mean_squared_error(y_train,y_pred)))\n",
    "    y_test = search.predict(X_test)[0]\n",
    "    diff = y_test - old\n",
    "   \n",
    "    print('old price = ',old)\n",
    "    print('predicted = ',y_test)\n",
    "    print('difference = ', diff)\n",
    "    \n",
    "\n"
   ]
  },
  {
   "cell_type": "code",
   "execution_count": 84,
   "metadata": {},
   "outputs": [],
   "source": [
    "def test_stock_grad(stock, intra = True, period = \"7d\", interval = \"1m\"):\n",
    "    \"\"\"\n",
    "    predict the price for the closing price for the bext inerval. \n",
    "    \n",
    "    inputs:\n",
    "    ------\n",
    "    - stock: string, symobol for the stick, eg. 'TSLA'\n",
    "    - intra : Boolean, if True then the period and interval should be 1m, 5m, etc, if False it should be 1d, 7d, etc\n",
    "    - period : total period\n",
    "    - interval : interval for the data\n",
    "    \n",
    "    \"\"\"\n",
    "\n",
    "    \n",
    "    if intra ==True:\n",
    "\n",
    "                df = read_data(stock=stock, period = period, interval = interval).reset_index()\n",
    "                df_nasaq = read_data(stock='NDAQ', period = period, interval = interval).reset_index()[['Datetime','Open']]\n",
    "                df_nasaq.columns = ['Datetime','NASAQ']\n",
    "                df = pd.merge(df,df_nasaq,on = ['Datetime'], how = 'left')\n",
    "                #df['f01'] = df['Close']/df['Open']-1\n",
    "\n",
    "\n",
    "\n",
    "\n",
    "                #print(len(df))\n",
    "                print(df['Datetime'])\n",
    "                old = df.tail(1).loc[:,'Open'].to_numpy()[0]\n",
    "                df['Datetime'] = pd.to_datetime(df['Datetime'])\n",
    "                df['Datetime']=df['Datetime'].map(dt.datetime.toordinal)\n",
    "                df['SMA_1'] = df['Adj Close'].rolling(window = 26).mean()\n",
    "                df['SMA_2'] = df['Adj Close'].rolling(window = 50).mean()\n",
    "                df['status_sma_lower'] = np.where(df['Adj Close'] < df['SMA_1'],1,0)\n",
    "                df['status_sma_upper'] = np.where(df['Adj Close'] > df['SMA_2'],1,0)\n",
    "\n",
    "    elif intra ==False:\n",
    "        \n",
    "            df = read_data(stock=stock, period = period, interval = interval).reset_index()\n",
    "            df_nasaq = read_data(stock='NDAQ', period = period, interval = interval).reset_index()[['Date','Open']]\n",
    "            df_nasaq.columns = ['Date','NASAQ']\n",
    "            df = pd.merge(df,df_nasaq,on = ['Date'], how = 'left')\n",
    "            #df['f01'] = df['Close']/df['Open']-1\n",
    "\n",
    "\n",
    "\n",
    "\n",
    "            #print(len(df))\n",
    "            old = df.tail(1).loc[:,'Open'].to_numpy()[0]\n",
    "            df['Date'] = pd.to_datetime(df['Date'])\n",
    "            df['Date']=df['Date'].map(dt.datetime.toordinal)\n",
    "#             df['SMA_1'] = df['Adj Close'].rolling(window = 50).mean()\n",
    "#             df['SMA_2'] = df['Adj Close'].rolling(window = 100).mean()\n",
    "#             df['status_sma_lower'] = np.where(df['Adj Close'] < df['SMA_1'],'below_movavg','normal')\n",
    "#             df['status_sma_upper'] = np.where(df['Adj Close'] > df['SMA_2'],'above_movavg','normal')\n",
    "\n",
    "    df['f01'] = ((df['Open']/df['Adj Close'].shift(1))-1)*100\n",
    "    df['High'] = df['High'].shift(1)\n",
    "    df['Low'] = df['Low'].shift(1)\n",
    "    df['Volume'] = df['Volume'].shift(1) \n",
    "    df['Middle Band'] =df['Adj Close'].rolling(window=26).mean()\n",
    "    df['Upper Band'] = df['Middle Band'] + 1.96*df['Adj Close'].rolling(window=20).std()\n",
    "    df['Lower Band'] = df['Middle Band'] - 1.96*df['Adj Close'].rolling(window=20).std()\n",
    "    df['status_lower'] = np.where(df['Adj Close'] < df['Lower Band'],1,0)\n",
    "    df['status_upper'] = np.where(df['Adj Close'] > df['Upper Band'],1,0)\n",
    "\n",
    "    df = df.dropna()\n",
    "    df = df.drop(columns = ['Close'])\n",
    "    y = df['Adj Close']\n",
    "    X = df.drop(columns =['Adj Close','Volume' ,'Low','High'])\n",
    "    X_train, X_test, y_train, y_test = train_test_split(X,y,shuffle= False)\n",
    "        # first transformer for the numeric features\n",
    "    numeric_features = list(X_train.columns)\n",
    "    numeric_transformer = Pipeline(steps=[\n",
    "        ('imputer', SimpleImputer(strategy='median')),\n",
    "        ('scaler', StandardScaler()),\n",
    "       ])\n",
    "    # now a taransformer for the categorical features\n",
    "    categorical_features = ['status_lower']\n",
    "    categorical_transformer = Pipeline(steps=[\n",
    "        ('imputer', SimpleImputer(strategy='constant', fill_value='missing')),\n",
    "        ('onehot', OneHotEncoder(handle_unknown='ignore'))])\n",
    "    # creating a preprocessor\n",
    "    preprocessor = ColumnTransformer(\n",
    "        transformers=[\n",
    "            ('num', numeric_transformer, numeric_features),\n",
    "])\n",
    "\n",
    "    ridge_model = RandomForestRegressor()\n",
    "    # include the preprocessor and the model in one pipeline.\n",
    "    # Now we have a full prediction pipeline.\n",
    "    reg_pipeline = Pipeline(steps=[('preprocessor', preprocessor),\n",
    "                          ('Regressor', ridge_model)])\n",
    "\n",
    "    # finally we will pass the pipe line to gridsearchcv to find the optimum paramters for the model\n",
    "    param_grid = {\n",
    "        'Regressor__n_estimators':[100],\n",
    "    }\n",
    "    search = GridSearchCV(reg_pipeline,param_grid,cv = 5)\n",
    "\n",
    "    # fitting the model\n",
    "    search.fit(X_train, y_train)\n",
    "\n",
    "    # printing the first parameter\n",
    "    #rint(search.best_params_)\n",
    "    print(\"model score: %.3f\" % search.score(X_test, y_test))\n",
    "    X_train = X[:-1]\n",
    "    y_train = y[:-1]\n",
    "    X_test = X[-1:]\n",
    "    y_test = y[-1:]\n",
    "    search.fit(X_train,y_train)\n",
    "    y_pred = search.predict(X_train)\n",
    "    print('error',np.sqrt(mean_squared_error(y_train,y_pred)))\n",
    "    y_test = search.predict(X_test)[0]\n",
    "    diff = y_test - old\n",
    "   \n",
    "    print('old price = ',old)\n",
    "    print('predicted = ',y_test)\n",
    "    print('difference = ', diff)\n",
    "    \n",
    "    \n"
   ]
  },
  {
   "cell_type": "markdown",
   "metadata": {},
   "source": [
    "## Intra-day example"
   ]
  },
  {
   "cell_type": "code",
   "execution_count": 103,
   "metadata": {},
   "outputs": [
    {
     "name": "stdout",
     "output_type": "stream",
     "text": [
      "[*********************100%***********************]  1 of 1 completed\n",
      "[*********************100%***********************]  1 of 1 completed\n",
      "0      2020-09-28 09:30:00-04:00\n",
      "1      2020-09-28 09:32:00-04:00\n",
      "2      2020-09-28 09:34:00-04:00\n",
      "3      2020-09-28 09:36:00-04:00\n",
      "4      2020-09-28 09:38:00-04:00\n",
      "                  ...           \n",
      "6408   2020-11-11 15:12:00-05:00\n",
      "6409   2020-11-11 15:14:00-05:00\n",
      "6410   2020-11-11 15:16:00-05:00\n",
      "6411   2020-11-11 15:18:00-05:00\n",
      "6412   2020-11-11 15:19:52-05:00\n",
      "Name: Datetime, Length: 6413, dtype: datetime64[ns, America/New_York]\n",
      "model score: 0.998\n",
      "error 1.1319697281550984\n",
      "old price =  407.3999938964844\n",
      "predicted =  407.1230726578909\n",
      "difference =  -0.27692123859350204\n"
     ]
    }
   ],
   "source": [
    "# let's predict he clost price for TSLA after 5 minutes\n",
    "test_stock('ZM', intra = True, period = \"60d\", interval = \"2m\")"
   ]
  },
  {
   "cell_type": "code",
   "execution_count": 104,
   "metadata": {},
   "outputs": [
    {
     "name": "stdout",
     "output_type": "stream",
     "text": [
      "[*********************100%***********************]  1 of 1 completed\n",
      "[*********************100%***********************]  1 of 1 completed\n",
      "0      2020-09-28 09:30:00-04:00\n",
      "1      2020-09-28 09:32:00-04:00\n",
      "2      2020-09-28 09:34:00-04:00\n",
      "3      2020-09-28 09:36:00-04:00\n",
      "4      2020-09-28 09:38:00-04:00\n",
      "                  ...           \n",
      "6408   2020-11-11 15:12:00-05:00\n",
      "6409   2020-11-11 15:14:00-05:00\n",
      "6410   2020-11-11 15:16:00-05:00\n",
      "6411   2020-11-11 15:18:00-05:00\n",
      "6412   2020-11-11 15:19:52-05:00\n",
      "Name: Datetime, Length: 6413, dtype: datetime64[ns, America/New_York]\n",
      "model score: 0.023\n",
      "error 0.45204291713796624\n",
      "old price =  407.3999938964844\n",
      "predicted =  407.00475830078125\n",
      "difference =  -0.3952355957031273\n"
     ]
    }
   ],
   "source": [
    "test_stock_grad('ZM', intra = True, period = \"60d\", interval = \"2m\")"
   ]
  },
  {
   "cell_type": "markdown",
   "metadata": {},
   "source": [
    "----"
   ]
  },
  {
   "cell_type": "markdown",
   "metadata": {},
   "source": [
    "### Long term"
   ]
  },
  {
   "cell_type": "code",
   "execution_count": 107,
   "metadata": {},
   "outputs": [
    {
     "name": "stdout",
     "output_type": "stream",
     "text": [
      "[*********************100%***********************]  1 of 1 completed\n",
      "[*********************100%***********************]  1 of 1 completed\n",
      "1332   2020-11-10 14:53:16-05:00\n",
      "Name: Datetime, dtype: datetime64[ns, America/New_York]\n",
      "model score: 0.994\n",
      "error 0.617127566152161\n",
      "old price =  213.9600067138672\n",
      "predicted =  213.3003643147357\n",
      "difference =  -0.659642399131485\n"
     ]
    }
   ],
   "source": [
    "# let's predict he clost price for TSLA after 5 minutes\n",
    "test_stock('ROKU', intra = True, period = \"7d\", interval = \"2m\")"
   ]
  },
  {
   "cell_type": "code",
   "execution_count": 108,
   "metadata": {},
   "outputs": [
    {
     "name": "stdout",
     "output_type": "stream",
     "text": [
      "[*********************100%***********************]  1 of 1 completed\n",
      "[*********************100%***********************]  1 of 1 completed\n",
      "1332   2020-11-10 14:53:16-05:00\n",
      "Name: Datetime, dtype: datetime64[ns, America/New_York]\n",
      "model score: 0.939\n",
      "error 0.2572455635993869\n",
      "old price =  213.9600067138672\n",
      "predicted =  213.64721099853514\n",
      "difference =  -0.31279571533204376\n"
     ]
    }
   ],
   "source": [
    "test_stock_grad('ROKU', intra = True, period = \"7d\", interval = \"2m\")"
   ]
  },
  {
   "cell_type": "code",
   "execution_count": 39,
   "metadata": {},
   "outputs": [
    {
     "name": "stdout",
     "output_type": "stream",
     "text": [
      "[*********************100%***********************]  1 of 1 completed\n",
      "model score: 0.955\n",
      "error 1.2924458995876162\n",
      "old price =  129.27000427246094\n",
      "predicted =  128.72795329489483\n",
      "difference =  -0.542050977566106\n"
     ]
    }
   ],
   "source": [
    "# let's predict he clost price for TSLA after 1 day\n",
    "test_stock('NDAQ', intra = False, period = \"1000d\", interval = \"1d\")"
   ]
  },
  {
   "cell_type": "code",
   "execution_count": null,
   "metadata": {},
   "outputs": [],
   "source": []
  }
 ],
 "metadata": {
  "kernelspec": {
   "display_name": "Python 3",
   "language": "python",
   "name": "python3"
  },
  "language_info": {
   "codemirror_mode": {
    "name": "ipython",
    "version": 3
   },
   "file_extension": ".py",
   "mimetype": "text/x-python",
   "name": "python",
   "nbconvert_exporter": "python",
   "pygments_lexer": "ipython3",
   "version": "3.8.3"
  }
 },
 "nbformat": 4,
 "nbformat_minor": 4
}
