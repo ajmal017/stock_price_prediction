{
 "cells": [
  {
   "cell_type": "code",
   "execution_count": 1,
   "metadata": {},
   "outputs": [],
   "source": [
    "import pandas as pd\n",
    "import numpy as np\n",
    "from sklearn.compose import ColumnTransformer\n",
    "from sklearn.pipeline import Pipeline\n",
    "from sklearn.impute import SimpleImputer\n",
    "from sklearn.preprocessing import StandardScaler, OneHotEncoder\n",
    "from sklearn.linear_model import LogisticRegression, Ridge, LinearRegression\n",
    "from sklearn.model_selection import train_test_split, GridSearchCV\n",
    "from sklearn.ensemble import GradientBoostingRegressor\n",
    "from sklearn.pipeline import Pipeline\n",
    "from sklearn import metrics\n",
    "from sklearn.ensemble import RandomForestRegressor\n",
    "from sklearn.preprocessing import PolynomialFeatures\n",
    "\n",
    "import matplotlib.pyplot as plt\n",
    "import altair as alt\n",
    "import datetime as dt"
   ]
  },
  {
   "cell_type": "code",
   "execution_count": 2,
   "metadata": {},
   "outputs": [],
   "source": [
    "import pandas as pd\n",
    "import numpy as np\n",
    "import datetime as dt\n",
    "import yfinance as yf  # for data\n",
    "from pandas_datareader import data as pdr\n",
    "yf.pdr_override()"
   ]
  },
  {
   "cell_type": "code",
   "execution_count": 227,
   "metadata": {},
   "outputs": [],
   "source": [
    "def read_data(stock='AAPL'):\n",
    "\n",
    "\n",
    "    df = pdr.get_data_yahoo(stock,period = \"7d\",\n",
    "\n",
    "            # fetch data by interval (including intraday if period < 60 days)\n",
    "            # valid intervals: 1m,2m,5m,15m,30m,60m,90m,1h,1d,5d,1wk,1mo,3mo\n",
    "            # (optional, default is '1d')\n",
    "            interval = \"15m\",)\n",
    "\n",
    "\n",
    "    return df"
   ]
  },
  {
   "cell_type": "code",
   "execution_count": 229,
   "metadata": {},
   "outputs": [
    {
     "name": "stdout",
     "output_type": "stream",
     "text": [
      "[*********************100%***********************]  1 of 1 completed\n"
     ]
    }
   ],
   "source": [
    "df = read_data(stock='AAPL').reset_index()"
   ]
  },
  {
   "cell_type": "code",
   "execution_count": 230,
   "metadata": {},
   "outputs": [
    {
     "data": {
      "text/html": [
       "<div>\n",
       "<style scoped>\n",
       "    .dataframe tbody tr th:only-of-type {\n",
       "        vertical-align: middle;\n",
       "    }\n",
       "\n",
       "    .dataframe tbody tr th {\n",
       "        vertical-align: top;\n",
       "    }\n",
       "\n",
       "    .dataframe thead th {\n",
       "        text-align: right;\n",
       "    }\n",
       "</style>\n",
       "<table border=\"1\" class=\"dataframe\">\n",
       "  <thead>\n",
       "    <tr style=\"text-align: right;\">\n",
       "      <th></th>\n",
       "      <th>Datetime</th>\n",
       "      <th>Open</th>\n",
       "      <th>High</th>\n",
       "      <th>Low</th>\n",
       "      <th>Close</th>\n",
       "      <th>Adj Close</th>\n",
       "      <th>Volume</th>\n",
       "    </tr>\n",
       "  </thead>\n",
       "  <tbody>\n",
       "    <tr>\n",
       "      <th>0</th>\n",
       "      <td>2020-10-27 09:30:00-04:00</td>\n",
       "      <td>115.489998</td>\n",
       "      <td>115.830002</td>\n",
       "      <td>114.660004</td>\n",
       "      <td>115.355003</td>\n",
       "      <td>115.355003</td>\n",
       "      <td>7970737</td>\n",
       "    </tr>\n",
       "    <tr>\n",
       "      <th>1</th>\n",
       "      <td>2020-10-27 09:45:00-04:00</td>\n",
       "      <td>115.360001</td>\n",
       "      <td>116.029999</td>\n",
       "      <td>114.961502</td>\n",
       "      <td>116.000000</td>\n",
       "      <td>116.000000</td>\n",
       "      <td>5291182</td>\n",
       "    </tr>\n",
       "    <tr>\n",
       "      <th>2</th>\n",
       "      <td>2020-10-27 10:00:00-04:00</td>\n",
       "      <td>116.014999</td>\n",
       "      <td>116.449997</td>\n",
       "      <td>115.860001</td>\n",
       "      <td>115.970001</td>\n",
       "      <td>115.970001</td>\n",
       "      <td>5062601</td>\n",
       "    </tr>\n",
       "    <tr>\n",
       "      <th>3</th>\n",
       "      <td>2020-10-27 10:15:00-04:00</td>\n",
       "      <td>115.963097</td>\n",
       "      <td>116.050003</td>\n",
       "      <td>115.449997</td>\n",
       "      <td>115.839996</td>\n",
       "      <td>115.839996</td>\n",
       "      <td>4067641</td>\n",
       "    </tr>\n",
       "    <tr>\n",
       "      <th>4</th>\n",
       "      <td>2020-10-27 10:30:00-04:00</td>\n",
       "      <td>115.840202</td>\n",
       "      <td>116.125000</td>\n",
       "      <td>115.660103</td>\n",
       "      <td>115.800003</td>\n",
       "      <td>115.800003</td>\n",
       "      <td>2656236</td>\n",
       "    </tr>\n",
       "    <tr>\n",
       "      <th>...</th>\n",
       "      <td>...</td>\n",
       "      <td>...</td>\n",
       "      <td>...</td>\n",
       "      <td>...</td>\n",
       "      <td>...</td>\n",
       "      <td>...</td>\n",
       "      <td>...</td>\n",
       "    </tr>\n",
       "    <tr>\n",
       "      <th>177</th>\n",
       "      <td>2020-11-04 14:45:00-05:00</td>\n",
       "      <td>114.650002</td>\n",
       "      <td>115.169998</td>\n",
       "      <td>114.635002</td>\n",
       "      <td>115.029999</td>\n",
       "      <td>115.029999</td>\n",
       "      <td>2957593</td>\n",
       "    </tr>\n",
       "    <tr>\n",
       "      <th>178</th>\n",
       "      <td>2020-11-04 15:00:00-05:00</td>\n",
       "      <td>115.035004</td>\n",
       "      <td>115.349998</td>\n",
       "      <td>114.820000</td>\n",
       "      <td>115.054497</td>\n",
       "      <td>115.054497</td>\n",
       "      <td>3123536</td>\n",
       "    </tr>\n",
       "    <tr>\n",
       "      <th>179</th>\n",
       "      <td>2020-11-04 15:15:00-05:00</td>\n",
       "      <td>115.050003</td>\n",
       "      <td>115.059998</td>\n",
       "      <td>114.570000</td>\n",
       "      <td>114.772400</td>\n",
       "      <td>114.772400</td>\n",
       "      <td>3760082</td>\n",
       "    </tr>\n",
       "    <tr>\n",
       "      <th>180</th>\n",
       "      <td>2020-11-04 15:30:00-05:00</td>\n",
       "      <td>114.775002</td>\n",
       "      <td>115.099998</td>\n",
       "      <td>114.680000</td>\n",
       "      <td>114.860001</td>\n",
       "      <td>114.860001</td>\n",
       "      <td>3923812</td>\n",
       "    </tr>\n",
       "    <tr>\n",
       "      <th>181</th>\n",
       "      <td>2020-11-04 15:45:00-05:00</td>\n",
       "      <td>114.860001</td>\n",
       "      <td>115.500000</td>\n",
       "      <td>114.739998</td>\n",
       "      <td>114.940002</td>\n",
       "      <td>114.940002</td>\n",
       "      <td>8710606</td>\n",
       "    </tr>\n",
       "  </tbody>\n",
       "</table>\n",
       "<p>182 rows × 7 columns</p>\n",
       "</div>"
      ],
      "text/plain": [
       "                     Datetime        Open        High         Low       Close  \\\n",
       "0   2020-10-27 09:30:00-04:00  115.489998  115.830002  114.660004  115.355003   \n",
       "1   2020-10-27 09:45:00-04:00  115.360001  116.029999  114.961502  116.000000   \n",
       "2   2020-10-27 10:00:00-04:00  116.014999  116.449997  115.860001  115.970001   \n",
       "3   2020-10-27 10:15:00-04:00  115.963097  116.050003  115.449997  115.839996   \n",
       "4   2020-10-27 10:30:00-04:00  115.840202  116.125000  115.660103  115.800003   \n",
       "..                        ...         ...         ...         ...         ...   \n",
       "177 2020-11-04 14:45:00-05:00  114.650002  115.169998  114.635002  115.029999   \n",
       "178 2020-11-04 15:00:00-05:00  115.035004  115.349998  114.820000  115.054497   \n",
       "179 2020-11-04 15:15:00-05:00  115.050003  115.059998  114.570000  114.772400   \n",
       "180 2020-11-04 15:30:00-05:00  114.775002  115.099998  114.680000  114.860001   \n",
       "181 2020-11-04 15:45:00-05:00  114.860001  115.500000  114.739998  114.940002   \n",
       "\n",
       "      Adj Close   Volume  \n",
       "0    115.355003  7970737  \n",
       "1    116.000000  5291182  \n",
       "2    115.970001  5062601  \n",
       "3    115.839996  4067641  \n",
       "4    115.800003  2656236  \n",
       "..          ...      ...  \n",
       "177  115.029999  2957593  \n",
       "178  115.054497  3123536  \n",
       "179  114.772400  3760082  \n",
       "180  114.860001  3923812  \n",
       "181  114.940002  8710606  \n",
       "\n",
       "[182 rows x 7 columns]"
      ]
     },
     "execution_count": 230,
     "metadata": {},
     "output_type": "execute_result"
    }
   ],
   "source": [
    "df"
   ]
  },
  {
   "cell_type": "code",
   "execution_count": 231,
   "metadata": {},
   "outputs": [
    {
     "data": {
      "image/png": "[encoded data removed]",
      "text/plain": [
       "<Figure size 432x288 with 1 Axes>"
      ]
     },
     "metadata": {
      "needs_background": "light"
     },
     "output_type": "display_data"
    }
   ],
   "source": [
    "plt.plot(df['Datetime'],df['Open'],'b')\n",
    "plt.plot(df['Datetime'],df['Adj Close'],'r');"
   ]
  },
  {
   "cell_type": "code",
   "execution_count": 232,
   "metadata": {},
   "outputs": [],
   "source": [
    "df['High'] = df['High'].shift(1)\n",
    "df['Low'] = df['Low'].shift(1)\n",
    "df['Volume'] = df['Volume'].shift(1)"
   ]
  },
  {
   "cell_type": "code",
   "execution_count": 233,
   "metadata": {},
   "outputs": [],
   "source": [
    "df['Datetime'] = pd.to_datetime(df['Datetime'])\n",
    "df['Datetime']=df['Datetime'].map(dt.datetime.toordinal)"
   ]
  },
  {
   "cell_type": "code",
   "execution_count": 234,
   "metadata": {},
   "outputs": [
    {
     "data": {
      "text/html": [
       "<div>\n",
       "<style scoped>\n",
       "    .dataframe tbody tr th:only-of-type {\n",
       "        vertical-align: middle;\n",
       "    }\n",
       "\n",
       "    .dataframe tbody tr th {\n",
       "        vertical-align: top;\n",
       "    }\n",
       "\n",
       "    .dataframe thead th {\n",
       "        text-align: right;\n",
       "    }\n",
       "</style>\n",
       "<table border=\"1\" class=\"dataframe\">\n",
       "  <thead>\n",
       "    <tr style=\"text-align: right;\">\n",
       "      <th></th>\n",
       "      <th>Datetime</th>\n",
       "      <th>Open</th>\n",
       "      <th>High</th>\n",
       "      <th>Low</th>\n",
       "      <th>Close</th>\n",
       "      <th>Adj Close</th>\n",
       "      <th>Volume</th>\n",
       "    </tr>\n",
       "  </thead>\n",
       "  <tbody>\n",
       "    <tr>\n",
       "      <th>0</th>\n",
       "      <td>737725</td>\n",
       "      <td>115.489998</td>\n",
       "      <td>NaN</td>\n",
       "      <td>NaN</td>\n",
       "      <td>115.355003</td>\n",
       "      <td>115.355003</td>\n",
       "      <td>NaN</td>\n",
       "    </tr>\n",
       "    <tr>\n",
       "      <th>1</th>\n",
       "      <td>737725</td>\n",
       "      <td>115.360001</td>\n",
       "      <td>115.830002</td>\n",
       "      <td>114.660004</td>\n",
       "      <td>116.000000</td>\n",
       "      <td>116.000000</td>\n",
       "      <td>7970737.0</td>\n",
       "    </tr>\n",
       "    <tr>\n",
       "      <th>2</th>\n",
       "      <td>737725</td>\n",
       "      <td>116.014999</td>\n",
       "      <td>116.029999</td>\n",
       "      <td>114.961502</td>\n",
       "      <td>115.970001</td>\n",
       "      <td>115.970001</td>\n",
       "      <td>5291182.0</td>\n",
       "    </tr>\n",
       "    <tr>\n",
       "      <th>3</th>\n",
       "      <td>737725</td>\n",
       "      <td>115.963097</td>\n",
       "      <td>116.449997</td>\n",
       "      <td>115.860001</td>\n",
       "      <td>115.839996</td>\n",
       "      <td>115.839996</td>\n",
       "      <td>5062601.0</td>\n",
       "    </tr>\n",
       "    <tr>\n",
       "      <th>4</th>\n",
       "      <td>737725</td>\n",
       "      <td>115.840202</td>\n",
       "      <td>116.050003</td>\n",
       "      <td>115.449997</td>\n",
       "      <td>115.800003</td>\n",
       "      <td>115.800003</td>\n",
       "      <td>4067641.0</td>\n",
       "    </tr>\n",
       "    <tr>\n",
       "      <th>...</th>\n",
       "      <td>...</td>\n",
       "      <td>...</td>\n",
       "      <td>...</td>\n",
       "      <td>...</td>\n",
       "      <td>...</td>\n",
       "      <td>...</td>\n",
       "      <td>...</td>\n",
       "    </tr>\n",
       "    <tr>\n",
       "      <th>177</th>\n",
       "      <td>737733</td>\n",
       "      <td>114.650002</td>\n",
       "      <td>115.010002</td>\n",
       "      <td>114.470001</td>\n",
       "      <td>115.029999</td>\n",
       "      <td>115.029999</td>\n",
       "      <td>2855836.0</td>\n",
       "    </tr>\n",
       "    <tr>\n",
       "      <th>178</th>\n",
       "      <td>737733</td>\n",
       "      <td>115.035004</td>\n",
       "      <td>115.169998</td>\n",
       "      <td>114.635002</td>\n",
       "      <td>115.054497</td>\n",
       "      <td>115.054497</td>\n",
       "      <td>2957593.0</td>\n",
       "    </tr>\n",
       "    <tr>\n",
       "      <th>179</th>\n",
       "      <td>737733</td>\n",
       "      <td>115.050003</td>\n",
       "      <td>115.349998</td>\n",
       "      <td>114.820000</td>\n",
       "      <td>114.772400</td>\n",
       "      <td>114.772400</td>\n",
       "      <td>3123536.0</td>\n",
       "    </tr>\n",
       "    <tr>\n",
       "      <th>180</th>\n",
       "      <td>737733</td>\n",
       "      <td>114.775002</td>\n",
       "      <td>115.059998</td>\n",
       "      <td>114.570000</td>\n",
       "      <td>114.860001</td>\n",
       "      <td>114.860001</td>\n",
       "      <td>3760082.0</td>\n",
       "    </tr>\n",
       "    <tr>\n",
       "      <th>181</th>\n",
       "      <td>737733</td>\n",
       "      <td>114.860001</td>\n",
       "      <td>115.099998</td>\n",
       "      <td>114.680000</td>\n",
       "      <td>114.940002</td>\n",
       "      <td>114.940002</td>\n",
       "      <td>3923812.0</td>\n",
       "    </tr>\n",
       "  </tbody>\n",
       "</table>\n",
       "<p>182 rows × 7 columns</p>\n",
       "</div>"
      ],
      "text/plain": [
       "     Datetime        Open        High         Low       Close   Adj Close  \\\n",
       "0      737725  115.489998         NaN         NaN  115.355003  115.355003   \n",
       "1      737725  115.360001  115.830002  114.660004  116.000000  116.000000   \n",
       "2      737725  116.014999  116.029999  114.961502  115.970001  115.970001   \n",
       "3      737725  115.963097  116.449997  115.860001  115.839996  115.839996   \n",
       "4      737725  115.840202  116.050003  115.449997  115.800003  115.800003   \n",
       "..        ...         ...         ...         ...         ...         ...   \n",
       "177    737733  114.650002  115.010002  114.470001  115.029999  115.029999   \n",
       "178    737733  115.035004  115.169998  114.635002  115.054497  115.054497   \n",
       "179    737733  115.050003  115.349998  114.820000  114.772400  114.772400   \n",
       "180    737733  114.775002  115.059998  114.570000  114.860001  114.860001   \n",
       "181    737733  114.860001  115.099998  114.680000  114.940002  114.940002   \n",
       "\n",
       "        Volume  \n",
       "0          NaN  \n",
       "1    7970737.0  \n",
       "2    5291182.0  \n",
       "3    5062601.0  \n",
       "4    4067641.0  \n",
       "..         ...  \n",
       "177  2855836.0  \n",
       "178  2957593.0  \n",
       "179  3123536.0  \n",
       "180  3760082.0  \n",
       "181  3923812.0  \n",
       "\n",
       "[182 rows x 7 columns]"
      ]
     },
     "execution_count": 234,
     "metadata": {},
     "output_type": "execute_result"
    }
   ],
   "source": [
    "df"
   ]
  },
  {
   "cell_type": "code",
   "execution_count": 235,
   "metadata": {},
   "outputs": [],
   "source": [
    "df['SMA'] = df['Adj Close'].rolling(window = 20).mean()\n",
    "df['Middle Band'] =df['Adj Close'].rolling(window=20).mean()\n",
    "df['Upper Band'] = df['Middle Band'] + 1.96*df['Adj Close'].rolling(window=20).std()\n",
    "df['Lower Band'] = df['Middle Band'] - 1.96*df['Adj Close'].rolling(window=20).std()\n",
    "df['status_lower'] = np.where(df['Adj Close'] < df['Lower Band'],'below_ballinger','normal')\n",
    "df['status_upper'] = np.where(df['Adj Close'] > df['Upper Band'],'above_ballinger','normal')"
   ]
  },
  {
   "cell_type": "code",
   "execution_count": 236,
   "metadata": {},
   "outputs": [],
   "source": [
    "df = df.dropna()"
   ]
  },
  {
   "cell_type": "code",
   "execution_count": 237,
   "metadata": {},
   "outputs": [],
   "source": [
    "df = df.drop(columns = ['Close'])\n",
    "y = df['Adj Close']\n",
    "X = df.drop(columns =['Adj Close','Volume' ,'Low','High'] )"
   ]
  },
  {
   "cell_type": "code",
   "execution_count": 238,
   "metadata": {},
   "outputs": [],
   "source": [
    "from sklearn.model_selection import train_test_split\n"
   ]
  },
  {
   "cell_type": "code",
   "execution_count": 239,
   "metadata": {},
   "outputs": [],
   "source": [
    "X_train, X_test, y_train, y_test = train_test_split(X,y,shuffle= False) "
   ]
  },
  {
   "cell_type": "code",
   "execution_count": 240,
   "metadata": {},
   "outputs": [
    {
     "data": {
      "text/html": [
       "<div>\n",
       "<style scoped>\n",
       "    .dataframe tbody tr th:only-of-type {\n",
       "        vertical-align: middle;\n",
       "    }\n",
       "\n",
       "    .dataframe tbody tr th {\n",
       "        vertical-align: top;\n",
       "    }\n",
       "\n",
       "    .dataframe thead th {\n",
       "        text-align: right;\n",
       "    }\n",
       "</style>\n",
       "<table border=\"1\" class=\"dataframe\">\n",
       "  <thead>\n",
       "    <tr style=\"text-align: right;\">\n",
       "      <th></th>\n",
       "      <th>Datetime</th>\n",
       "      <th>Open</th>\n",
       "      <th>SMA</th>\n",
       "      <th>Middle Band</th>\n",
       "      <th>Upper Band</th>\n",
       "      <th>Lower Band</th>\n",
       "      <th>status_lower</th>\n",
       "      <th>status_upper</th>\n",
       "    </tr>\n",
       "  </thead>\n",
       "  <tbody>\n",
       "    <tr>\n",
       "      <th>19</th>\n",
       "      <td>737725</td>\n",
       "      <td>116.180000</td>\n",
       "      <td>116.395960</td>\n",
       "      <td>116.395960</td>\n",
       "      <td>117.295059</td>\n",
       "      <td>115.496861</td>\n",
       "      <td>normal</td>\n",
       "      <td>normal</td>\n",
       "    </tr>\n",
       "    <tr>\n",
       "      <th>20</th>\n",
       "      <td>737725</td>\n",
       "      <td>116.290001</td>\n",
       "      <td>116.438970</td>\n",
       "      <td>116.438970</td>\n",
       "      <td>117.206051</td>\n",
       "      <td>115.671888</td>\n",
       "      <td>normal</td>\n",
       "      <td>normal</td>\n",
       "    </tr>\n",
       "    <tr>\n",
       "      <th>21</th>\n",
       "      <td>737725</td>\n",
       "      <td>116.209999</td>\n",
       "      <td>116.449720</td>\n",
       "      <td>116.449720</td>\n",
       "      <td>117.197469</td>\n",
       "      <td>115.701971</td>\n",
       "      <td>normal</td>\n",
       "      <td>normal</td>\n",
       "    </tr>\n",
       "    <tr>\n",
       "      <th>22</th>\n",
       "      <td>737725</td>\n",
       "      <td>116.220001</td>\n",
       "      <td>116.462989</td>\n",
       "      <td>116.462989</td>\n",
       "      <td>117.184913</td>\n",
       "      <td>115.741066</td>\n",
       "      <td>normal</td>\n",
       "      <td>normal</td>\n",
       "    </tr>\n",
       "    <tr>\n",
       "      <th>23</th>\n",
       "      <td>737725</td>\n",
       "      <td>116.239998</td>\n",
       "      <td>116.501490</td>\n",
       "      <td>116.501490</td>\n",
       "      <td>117.165625</td>\n",
       "      <td>115.837354</td>\n",
       "      <td>normal</td>\n",
       "      <td>normal</td>\n",
       "    </tr>\n",
       "    <tr>\n",
       "      <th>...</th>\n",
       "      <td>...</td>\n",
       "      <td>...</td>\n",
       "      <td>...</td>\n",
       "      <td>...</td>\n",
       "      <td>...</td>\n",
       "      <td>...</td>\n",
       "      <td>...</td>\n",
       "      <td>...</td>\n",
       "    </tr>\n",
       "    <tr>\n",
       "      <th>136</th>\n",
       "      <td>737732</td>\n",
       "      <td>111.190002</td>\n",
       "      <td>108.799905</td>\n",
       "      <td>108.799905</td>\n",
       "      <td>111.333280</td>\n",
       "      <td>106.266529</td>\n",
       "      <td>normal</td>\n",
       "      <td>normal</td>\n",
       "    </tr>\n",
       "    <tr>\n",
       "      <th>137</th>\n",
       "      <td>737732</td>\n",
       "      <td>110.750000</td>\n",
       "      <td>108.937234</td>\n",
       "      <td>108.937234</td>\n",
       "      <td>111.607163</td>\n",
       "      <td>106.267306</td>\n",
       "      <td>normal</td>\n",
       "      <td>normal</td>\n",
       "    </tr>\n",
       "    <tr>\n",
       "      <th>138</th>\n",
       "      <td>737732</td>\n",
       "      <td>110.889999</td>\n",
       "      <td>109.107004</td>\n",
       "      <td>109.107004</td>\n",
       "      <td>111.922139</td>\n",
       "      <td>106.291869</td>\n",
       "      <td>normal</td>\n",
       "      <td>normal</td>\n",
       "    </tr>\n",
       "    <tr>\n",
       "      <th>139</th>\n",
       "      <td>737732</td>\n",
       "      <td>111.294998</td>\n",
       "      <td>109.250254</td>\n",
       "      <td>109.250254</td>\n",
       "      <td>112.125223</td>\n",
       "      <td>106.375285</td>\n",
       "      <td>normal</td>\n",
       "      <td>normal</td>\n",
       "    </tr>\n",
       "    <tr>\n",
       "      <th>140</th>\n",
       "      <td>737732</td>\n",
       "      <td>110.910004</td>\n",
       "      <td>109.382544</td>\n",
       "      <td>109.382544</td>\n",
       "      <td>112.260582</td>\n",
       "      <td>106.504506</td>\n",
       "      <td>normal</td>\n",
       "      <td>normal</td>\n",
       "    </tr>\n",
       "  </tbody>\n",
       "</table>\n",
       "<p>122 rows × 8 columns</p>\n",
       "</div>"
      ],
      "text/plain": [
       "     Datetime        Open         SMA  Middle Band  Upper Band  Lower Band  \\\n",
       "19     737725  116.180000  116.395960   116.395960  117.295059  115.496861   \n",
       "20     737725  116.290001  116.438970   116.438970  117.206051  115.671888   \n",
       "21     737725  116.209999  116.449720   116.449720  117.197469  115.701971   \n",
       "22     737725  116.220001  116.462989   116.462989  117.184913  115.741066   \n",
       "23     737725  116.239998  116.501490   116.501490  117.165625  115.837354   \n",
       "..        ...         ...         ...          ...         ...         ...   \n",
       "136    737732  111.190002  108.799905   108.799905  111.333280  106.266529   \n",
       "137    737732  110.750000  108.937234   108.937234  111.607163  106.267306   \n",
       "138    737732  110.889999  109.107004   109.107004  111.922139  106.291869   \n",
       "139    737732  111.294998  109.250254   109.250254  112.125223  106.375285   \n",
       "140    737732  110.910004  109.382544   109.382544  112.260582  106.504506   \n",
       "\n",
       "    status_lower status_upper  \n",
       "19        normal       normal  \n",
       "20        normal       normal  \n",
       "21        normal       normal  \n",
       "22        normal       normal  \n",
       "23        normal       normal  \n",
       "..           ...          ...  \n",
       "136       normal       normal  \n",
       "137       normal       normal  \n",
       "138       normal       normal  \n",
       "139       normal       normal  \n",
       "140       normal       normal  \n",
       "\n",
       "[122 rows x 8 columns]"
      ]
     },
     "execution_count": 240,
     "metadata": {},
     "output_type": "execute_result"
    }
   ],
   "source": [
    "X_train"
   ]
  },
  {
   "cell_type": "code",
   "execution_count": 241,
   "metadata": {},
   "outputs": [
    {
     "name": "stdout",
     "output_type": "stream",
     "text": [
      "{'Regressor__alpha': 0.1}\n",
      "model score: 0.957\n"
     ]
    }
   ],
   "source": [
    "# first transformer for the numeric features\n",
    "numeric_features = list(set(list(X_train.columns)) - set(['status_lower','status_upper']))\n",
    "numeric_transformer = Pipeline(steps=[\n",
    "    ('imputer', SimpleImputer(strategy='median')),\n",
    "    ('scaler', StandardScaler()),\n",
    "   ])\n",
    "# now a taransformer for the categorical features\n",
    "categorical_features = ['status_lower','status_upper']\n",
    "categorical_transformer = Pipeline(steps=[\n",
    "    ('imputer', SimpleImputer(strategy='constant', fill_value='missing')),\n",
    "    ('onehot', OneHotEncoder(handle_unknown='ignore'))])\n",
    "# creating a preprocessor\n",
    "preprocessor = ColumnTransformer(\n",
    "    transformers=[\n",
    "        ('num', numeric_transformer, numeric_features),\n",
    "        ('cat', categorical_transformer, categorical_features)])\n",
    "\n",
    "ridge_model = Ridge()\n",
    "# include the preprocessor and the model in one pipeline.\n",
    "# Now we have a full prediction pipeline.\n",
    "reg_pipeline = Pipeline(steps=[('preprocessor', preprocessor),\n",
    "                      ('Regressor', ridge_model)])\n",
    "\n",
    "# finally we will pass the pipe line to gridsearchcv to find the optimum paramters for the model\n",
    "param_grid = {\n",
    "    'Regressor__alpha':[0.1,0.25,0.4],\n",
    "}\n",
    "search = GridSearchCV(reg_pipeline,param_grid,cv = 5)\n",
    "\n",
    "# fitting the model\n",
    "search.fit(X_train, y_train)\n",
    "\n",
    "# printing the first parameter\n",
    "print(search.best_params_)\n",
    "print(\"model score: %.3f\" % search.score(X_test, y_test))"
   ]
  },
  {
   "cell_type": "code",
   "execution_count": 242,
   "metadata": {},
   "outputs": [],
   "source": [
    "y_pred = search.predict(X_test)"
   ]
  },
  {
   "cell_type": "code",
   "execution_count": 243,
   "metadata": {},
   "outputs": [],
   "source": [
    "from sklearn.metrics import mean_squared_error\n",
    "\n"
   ]
  },
  {
   "cell_type": "code",
   "execution_count": 244,
   "metadata": {},
   "outputs": [
    {
     "data": {
      "text/plain": [
       "0.43571758738630656"
      ]
     },
     "execution_count": 244,
     "metadata": {},
     "output_type": "execute_result"
    }
   ],
   "source": [
    "np.sqrt(mean_squared_error(y_test,y_pred))"
   ]
  },
  {
   "cell_type": "code",
   "execution_count": 245,
   "metadata": {},
   "outputs": [
    {
     "data": {
      "text/plain": [
       "<matplotlib.collections.PathCollection at 0x7ff3bc2d8190>"
      ]
     },
     "execution_count": 245,
     "metadata": {},
     "output_type": "execute_result"
    },
    {
     "data": {
      "image/png": "[encoded data removed]",
      "text/plain": [
       "<Figure size 432x288 with 1 Axes>"
      ]
     },
     "metadata": {
      "needs_background": "light"
     },
     "output_type": "display_data"
    }
   ],
   "source": [
    "plt.scatter(X_train['Open'],y_train)\n"
   ]
  },
  {
   "cell_type": "code",
   "execution_count": 246,
   "metadata": {},
   "outputs": [
    {
     "data": {
      "text/plain": [
       "<matplotlib.collections.PathCollection at 0x7ff3bddddcd0>"
      ]
     },
     "execution_count": 246,
     "metadata": {},
     "output_type": "execute_result"
    },
    {
     "data": {
      "image/png": "[encoded data removed]",
      "text/plain": [
       "<Figure size 432x288 with 1 Axes>"
      ]
     },
     "metadata": {
      "needs_background": "light"
     },
     "output_type": "display_data"
    }
   ],
   "source": [
    "plt.scatter(y_test,y_pred)"
   ]
  },
  {
   "cell_type": "code",
   "execution_count": 247,
   "metadata": {},
   "outputs": [
    {
     "name": "stderr",
     "output_type": "stream",
     "text": [
      "<ipython-input-247-d1d29585976d>:1: SettingWithCopyWarning: \n",
      "A value is trying to be set on a copy of a slice from a DataFrame.\n",
      "Try using .loc[row_indexer,col_indexer] = value instead\n",
      "\n",
      "See the caveats in the documentation: https://pandas.pydata.org/pandas-docs/stable/user_guide/indexing.html#returning-a-view-versus-a-copy\n",
      "  X_test['actual'] = y_test\n",
      "<ipython-input-247-d1d29585976d>:2: SettingWithCopyWarning: \n",
      "A value is trying to be set on a copy of a slice from a DataFrame.\n",
      "Try using .loc[row_indexer,col_indexer] = value instead\n",
      "\n",
      "See the caveats in the documentation: https://pandas.pydata.org/pandas-docs/stable/user_guide/indexing.html#returning-a-view-versus-a-copy\n",
      "  X_test['pred'] = y_pred\n"
     ]
    }
   ],
   "source": [
    "X_test['actual'] = y_test\n",
    "X_test['pred'] = y_pred\n",
    "\n"
   ]
  },
  {
   "cell_type": "code",
   "execution_count": 248,
   "metadata": {},
   "outputs": [
    {
     "data": {
      "text/plain": [
       "[<matplotlib.lines.Line2D at 0x7ff3bdf17ee0>]"
      ]
     },
     "execution_count": 248,
     "metadata": {},
     "output_type": "execute_result"
    },
    {
     "data": {
      "image/png": "[encoded data removed]",
      "text/plain": [
       "<Figure size 432x288 with 1 Axes>"
      ]
     },
     "metadata": {
      "needs_background": "light"
     },
     "output_type": "display_data"
    }
   ],
   "source": [
    "plt.plot(X_test['Datetime'],X_test['actual'],'b')\n",
    "plt.plot(X_test['Datetime'],X_test['pred'],'r')"
   ]
  },
  {
   "cell_type": "code",
   "execution_count": 249,
   "metadata": {},
   "outputs": [
    {
     "data": {
      "text/plain": [
       "[<matplotlib.lines.Line2D at 0x7ff3bdff9d60>]"
      ]
     },
     "execution_count": 249,
     "metadata": {},
     "output_type": "execute_result"
    },
    {
     "data": {
      "image/png": "[encoded data removed]",
      "text/plain": [
       "<Figure size 432x288 with 1 Axes>"
      ]
     },
     "metadata": {
      "needs_background": "light"
     },
     "output_type": "display_data"
    }
   ],
   "source": [
    "plt.plot(df['Datetime'],df['Open'],'b')\n",
    "plt.plot(df['Datetime'],df['Adj Close'],'r')"
   ]
  },
  {
   "cell_type": "code",
   "execution_count": null,
   "metadata": {},
   "outputs": [],
   "source": [
    "# let's make a function"
   ]
  },
  {
   "cell_type": "code",
   "execution_count": null,
   "metadata": {},
   "outputs": [],
   "source": [
    "df['High'] = df['High'].shift(1)\n",
    "df['Low'] = df['Low'].shift(1)\n",
    "df['Volume'] = df['Volume'].shift(1)"
   ]
  },
  {
   "cell_type": "code",
   "execution_count": 250,
   "metadata": {},
   "outputs": [
    {
     "data": {
      "text/html": [
       "<div>\n",
       "<style scoped>\n",
       "    .dataframe tbody tr th:only-of-type {\n",
       "        vertical-align: middle;\n",
       "    }\n",
       "\n",
       "    .dataframe tbody tr th {\n",
       "        vertical-align: top;\n",
       "    }\n",
       "\n",
       "    .dataframe thead th {\n",
       "        text-align: right;\n",
       "    }\n",
       "</style>\n",
       "<table border=\"1\" class=\"dataframe\">\n",
       "  <thead>\n",
       "    <tr style=\"text-align: right;\">\n",
       "      <th></th>\n",
       "      <th>Datetime</th>\n",
       "      <th>Open</th>\n",
       "      <th>SMA</th>\n",
       "      <th>Middle Band</th>\n",
       "      <th>Upper Band</th>\n",
       "      <th>Lower Band</th>\n",
       "      <th>status_lower</th>\n",
       "      <th>status_upper</th>\n",
       "    </tr>\n",
       "  </thead>\n",
       "  <tbody>\n",
       "    <tr>\n",
       "      <th>19</th>\n",
       "      <td>737725</td>\n",
       "      <td>116.180000</td>\n",
       "      <td>116.395960</td>\n",
       "      <td>116.395960</td>\n",
       "      <td>117.295059</td>\n",
       "      <td>115.496861</td>\n",
       "      <td>normal</td>\n",
       "      <td>normal</td>\n",
       "    </tr>\n",
       "    <tr>\n",
       "      <th>20</th>\n",
       "      <td>737725</td>\n",
       "      <td>116.290001</td>\n",
       "      <td>116.438970</td>\n",
       "      <td>116.438970</td>\n",
       "      <td>117.206051</td>\n",
       "      <td>115.671888</td>\n",
       "      <td>normal</td>\n",
       "      <td>normal</td>\n",
       "    </tr>\n",
       "    <tr>\n",
       "      <th>21</th>\n",
       "      <td>737725</td>\n",
       "      <td>116.209999</td>\n",
       "      <td>116.449720</td>\n",
       "      <td>116.449720</td>\n",
       "      <td>117.197469</td>\n",
       "      <td>115.701971</td>\n",
       "      <td>normal</td>\n",
       "      <td>normal</td>\n",
       "    </tr>\n",
       "    <tr>\n",
       "      <th>22</th>\n",
       "      <td>737725</td>\n",
       "      <td>116.220001</td>\n",
       "      <td>116.462989</td>\n",
       "      <td>116.462989</td>\n",
       "      <td>117.184913</td>\n",
       "      <td>115.741066</td>\n",
       "      <td>normal</td>\n",
       "      <td>normal</td>\n",
       "    </tr>\n",
       "    <tr>\n",
       "      <th>23</th>\n",
       "      <td>737725</td>\n",
       "      <td>116.239998</td>\n",
       "      <td>116.501490</td>\n",
       "      <td>116.501490</td>\n",
       "      <td>117.165625</td>\n",
       "      <td>115.837354</td>\n",
       "      <td>normal</td>\n",
       "      <td>normal</td>\n",
       "    </tr>\n",
       "    <tr>\n",
       "      <th>...</th>\n",
       "      <td>...</td>\n",
       "      <td>...</td>\n",
       "      <td>...</td>\n",
       "      <td>...</td>\n",
       "      <td>...</td>\n",
       "      <td>...</td>\n",
       "      <td>...</td>\n",
       "      <td>...</td>\n",
       "    </tr>\n",
       "    <tr>\n",
       "      <th>136</th>\n",
       "      <td>737732</td>\n",
       "      <td>111.190002</td>\n",
       "      <td>108.799905</td>\n",
       "      <td>108.799905</td>\n",
       "      <td>111.333280</td>\n",
       "      <td>106.266529</td>\n",
       "      <td>normal</td>\n",
       "      <td>normal</td>\n",
       "    </tr>\n",
       "    <tr>\n",
       "      <th>137</th>\n",
       "      <td>737732</td>\n",
       "      <td>110.750000</td>\n",
       "      <td>108.937234</td>\n",
       "      <td>108.937234</td>\n",
       "      <td>111.607163</td>\n",
       "      <td>106.267306</td>\n",
       "      <td>normal</td>\n",
       "      <td>normal</td>\n",
       "    </tr>\n",
       "    <tr>\n",
       "      <th>138</th>\n",
       "      <td>737732</td>\n",
       "      <td>110.889999</td>\n",
       "      <td>109.107004</td>\n",
       "      <td>109.107004</td>\n",
       "      <td>111.922139</td>\n",
       "      <td>106.291869</td>\n",
       "      <td>normal</td>\n",
       "      <td>normal</td>\n",
       "    </tr>\n",
       "    <tr>\n",
       "      <th>139</th>\n",
       "      <td>737732</td>\n",
       "      <td>111.294998</td>\n",
       "      <td>109.250254</td>\n",
       "      <td>109.250254</td>\n",
       "      <td>112.125223</td>\n",
       "      <td>106.375285</td>\n",
       "      <td>normal</td>\n",
       "      <td>normal</td>\n",
       "    </tr>\n",
       "    <tr>\n",
       "      <th>140</th>\n",
       "      <td>737732</td>\n",
       "      <td>110.910004</td>\n",
       "      <td>109.382544</td>\n",
       "      <td>109.382544</td>\n",
       "      <td>112.260582</td>\n",
       "      <td>106.504506</td>\n",
       "      <td>normal</td>\n",
       "      <td>normal</td>\n",
       "    </tr>\n",
       "  </tbody>\n",
       "</table>\n",
       "<p>122 rows × 8 columns</p>\n",
       "</div>"
      ],
      "text/plain": [
       "     Datetime        Open         SMA  Middle Band  Upper Band  Lower Band  \\\n",
       "19     737725  116.180000  116.395960   116.395960  117.295059  115.496861   \n",
       "20     737725  116.290001  116.438970   116.438970  117.206051  115.671888   \n",
       "21     737725  116.209999  116.449720   116.449720  117.197469  115.701971   \n",
       "22     737725  116.220001  116.462989   116.462989  117.184913  115.741066   \n",
       "23     737725  116.239998  116.501490   116.501490  117.165625  115.837354   \n",
       "..        ...         ...         ...          ...         ...         ...   \n",
       "136    737732  111.190002  108.799905   108.799905  111.333280  106.266529   \n",
       "137    737732  110.750000  108.937234   108.937234  111.607163  106.267306   \n",
       "138    737732  110.889999  109.107004   109.107004  111.922139  106.291869   \n",
       "139    737732  111.294998  109.250254   109.250254  112.125223  106.375285   \n",
       "140    737732  110.910004  109.382544   109.382544  112.260582  106.504506   \n",
       "\n",
       "    status_lower status_upper  \n",
       "19        normal       normal  \n",
       "20        normal       normal  \n",
       "21        normal       normal  \n",
       "22        normal       normal  \n",
       "23        normal       normal  \n",
       "..           ...          ...  \n",
       "136       normal       normal  \n",
       "137       normal       normal  \n",
       "138       normal       normal  \n",
       "139       normal       normal  \n",
       "140       normal       normal  \n",
       "\n",
       "[122 rows x 8 columns]"
      ]
     },
     "execution_count": 250,
     "metadata": {},
     "output_type": "execute_result"
    }
   ],
   "source": [
    "X_train"
   ]
  },
  {
   "cell_type": "code",
   "execution_count": 251,
   "metadata": {},
   "outputs": [],
   "source": [
    "one_sample = X_train[-1:]"
   ]
  },
  {
   "cell_type": "code",
   "execution_count": 252,
   "metadata": {},
   "outputs": [
    {
     "data": {
      "text/plain": [
       "array([110.61802849])"
      ]
     },
     "execution_count": 252,
     "metadata": {},
     "output_type": "execute_result"
    }
   ],
   "source": [
    "search.predict(one_sample)\n"
   ]
  },
  {
   "cell_type": "code",
   "execution_count": 279,
   "metadata": {},
   "outputs": [],
   "source": [
    "# next step is to handle data that come continously and predict"
   ]
  },
  {
   "cell_type": "code",
   "execution_count": null,
   "metadata": {},
   "outputs": [],
   "source": []
  },
  {
   "cell_type": "code",
   "execution_count": null,
   "metadata": {},
   "outputs": [],
   "source": []
  }
 ],
 "metadata": {
  "kernelspec": {
   "display_name": "Python 3",
   "language": "python",
   "name": "python3"
  },
  "language_info": {
   "codemirror_mode": {
    "name": "ipython",
    "version": 3
   },
   "file_extension": ".py",
   "mimetype": "text/x-python",
   "name": "python",
   "nbconvert_exporter": "python",
   "pygments_lexer": "ipython3",
   "version": "3.8.3"
  }
 },
 "nbformat": 4,
 "nbformat_minor": 4
}
