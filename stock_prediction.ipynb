{
 "cells": [
  {
   "cell_type": "code",
   "execution_count": null,
   "metadata": {},
   "outputs": [],
   "source": [
    "import yfinance as yf\n",
    "import matplotlib.pyplot as plt\n",
    "import altair as alt\n",
    "import pandas as pd\n",
    "from datetime import datetime, timedelta\n",
    "\n",
    "\n",
    "\n",
    "import requests, json, os, warnings, re\n",
    "import pandas as pd\n",
    "import datetime\n"
   ]
  },
  {
   "cell_type": "markdown",
   "metadata": {},
   "source": [
    "### Long-interval"
   ]
  },
  {
   "cell_type": "code",
   "execution_count": null,
   "metadata": {},
   "outputs": [],
   "source": [
    "#define the ticker symbol\n",
    "tickerSymbol = 'TSLA'\n",
    "\n",
    "#get data on this ticker\n",
    "tickerData = yf.Ticker(tickerSymbol)\n",
    "\n",
    "#get the historical prices for this ticker\n",
    "tickerDf = tickerData.history(period='1d', start='2020-01-1', end='2020-09-12')\n",
    "\n",
    "#see your data\n",
    "tickerDf.tail()\n"
   ]
  },
  {
   "cell_type": "code",
   "execution_count": null,
   "metadata": {},
   "outputs": [],
   "source": [
    "tickerData.calendar"
   ]
  },
  {
   "cell_type": "code",
   "execution_count": null,
   "metadata": {},
   "outputs": [],
   "source": [
    "tickerData.recommendations"
   ]
  },
  {
   "cell_type": "code",
   "execution_count": null,
   "metadata": {},
   "outputs": [],
   "source": [
    "priceData = tickerDf.Open\n"
   ]
  },
  {
   "cell_type": "code",
   "execution_count": null,
   "metadata": {},
   "outputs": [],
   "source": [
    "priceData = priceData.asfreq(pd.infer_freq(priceData.index))\n"
   ]
  },
  {
   "cell_type": "code",
   "execution_count": null,
   "metadata": {},
   "outputs": [],
   "source": [
    "priceData "
   ]
  },
  {
   "cell_type": "code",
   "execution_count": null,
   "metadata": {},
   "outputs": [],
   "source": [
    "plt.figure(figsize=(10,4))\n",
    "plt.plot(priceData)\n",
    "for year in range(priceData.index[0].year, priceData.index[-1].year+1):\n",
    "    plt.axvline(datetime(year,1,1), color='k', linestyle='--', alpha=0.2)\n",
    "plt.title(\"%s Price Data\"%tickerSymbol, fontsize=20)"
   ]
  },
  {
   "cell_type": "markdown",
   "metadata": {},
   "source": [
    "### Short-interval"
   ]
  },
  {
   "cell_type": "code",
   "execution_count": null,
   "metadata": {},
   "outputs": [],
   "source": [
    "from datetime import datetime\n",
    "from alpha_realtime_stock import AlphaRealtimeStock\n",
    "import time\n",
    "import timeit\n",
    "import requests\n",
    "from bs4 import BeautifulSoup\n",
    "import re\n",
    "\n",
    "def get_crumbs():\n",
    "    \"\"\"\n",
    "    get crumb  from yahoo finance\n",
    "    returns crumb\n",
    "    \"\"\"\n",
    "    url = 'https://finance.yahoo.com/quote'\n",
    "    header = {'Connection': 'keep-alive',\n",
    "              'Expires': '-1',\n",
    "              'Upgrade-Insecure-Requests': '1',\n",
    "              'User-Agent': 'Mozilla/5.0 (Macintosh; Intel Mac OS X 10_15_4) \\\n",
    "               AppleWebKit/537.36 (KHTML, like Gecko) Chrome/81.0.4044.138 Safari/537.36'\n",
    "              }\n",
    "\n",
    "    website = requests.get(url, headers=header)\n",
    "    soup = BeautifulSoup(website.text, 'lxml')\n",
    "    crumb = re.findall('\"CrumbStore\":{\"crumb\":\"(.+?)\"}', str(soup))\n",
    "    return crumb[0]\n",
    "\n",
    "crumb = get_crumbs()\n",
    "ticker_list = ['TSLA']\n",
    "stock_collection = {}\n",
    "for ticker in ticker_list:\n",
    "    stock = AlphaRealtimeStock(ticker, crumb)\n",
    "    stock_collection[ticker] = stock\n",
    "# while True:\n",
    "#     print(datetime.now().strftime(\"%H:%M:%S\"))\n",
    "    for ticker in ticker_list:\n",
    "        stock = stock_collection[ticker]\n",
    "        stock.fetch_webdata()\n",
    "#         df = stock.get_Stoch_RSI_Indicator()\n",
    "#         print(df.tail())\n",
    "#     end = timeit.default_timer()\n",
    "#     time.sleep(5)"
   ]
  },
  {
   "cell_type": "code",
   "execution_count": null,
   "metadata": {},
   "outputs": [],
   "source": []
  },
  {
   "cell_type": "code",
   "execution_count": null,
   "metadata": {},
   "outputs": [],
   "source": [
    "stock.fetch_webdata().tail()"
   ]
  },
  {
   "cell_type": "markdown",
   "metadata": {},
   "source": [
    "#### Using API"
   ]
  },
  {
   "cell_type": "code",
   "execution_count": null,
   "metadata": {},
   "outputs": [],
   "source": [
    "params={}\n",
    "\n",
    "params['function']='TIME_SERIES_INTRADAY'\n",
    "params['symbol']='TSLA'\n",
    "params['interval']='5min'\n",
    "params"
   ]
  },
  {
   "cell_type": "code",
   "execution_count": null,
   "metadata": {},
   "outputs": [],
   "source": [
    "def data_request(params):\n",
    "    url = \"https://www.alphavantage.co/query\"\n",
    "    params['apikey'] = os.environ['ALPHA_PAT']\n",
    "\n",
    "    return requests.get(url, params)"
   ]
  },
  {
   "cell_type": "code",
   "execution_count": null,
   "metadata": {},
   "outputs": [],
   "source": [
    "def data_request(params):\n",
    "    url = \"https://www.alphavantage.co/query\"\n",
    "    params['apikey'] = os.environ['ALPHA_PAT']\n",
    "\n",
    "    return requests.get(url, params)\n",
    "                        \n",
    "def Get_TimeSeries(stock, period):\n",
    "    \"\"\"\n",
    "    A wrapper function to obtain the the time series of a the desired stock from the Alpha Vantage API.\n",
    "    \n",
    "    Parameters:\n",
    "    -----------\n",
    "    stock: the desired stock symbol (e.g., \"GOOG\", \"AMD\", \"FB\", \"INTC\").\n",
    "    period: \"daily\", \"weekly\", \"monthly\"\n",
    "    \n",
    "    Returns:\n",
    "    --------\n",
    "    A pandas dataframe with the columns `open`, `high`, `low`, `close`, and `volume`.\n",
    "    \"\"\"\n",
    "    \n",
    "    # Process here the parameter `period`\n",
    "    # which affects the function parameter in the API\n",
    "    \n",
    "    # TODO\n",
    "\n",
    "    params={}\n",
    "    if period=='daily':\n",
    "        params['function'] = 'TIME_SERIES_DAILY'\n",
    "        series='Time Series (Daily)'\n",
    "    elif period=='weekly':\n",
    "         params['function'] = 'TIME_SERIES_WEEKLY'\n",
    "         series='Weekly Time Series'\n",
    "    elif period=='monthly':\n",
    "         params['function'] = 'TIME_SERIES_MONTHLY'\n",
    "         series='Monthly Time Series'\n",
    "    \n",
    " \n",
    "    \n",
    "    # Now let's create a dictionary to hold the parameters of \n",
    "    # our request.\n",
    "    \n",
    "    # TODO\n",
    "    params['symbol'] = stock\n",
    "\n",
    "    # Requesting the data\n",
    "    \n",
    "    # TODO\n",
    "    r=data_request(params) \n",
    "    \n",
    "    # Check if the request was successful, if not raise an\n",
    "    # exception\n",
    "    \n",
    "    # TODO\n",
    "        \n",
    "    \n",
    "    \n",
    "    # Create the pandas dataframe (see: pd.read_json() )\n",
    "    \n",
    "    # TODO\n",
    "    json = r.json()\n",
    "   \n",
    "    data = pd.DataFrame.from_dict(json[series], orient=\"index\")\n",
    "    data=data.reset_index()\n",
    "    data=data.rename(columns={\"index\": \"date\", \"1. open\": \"open\",\"2. high\": \"high\",\"3. low\": \"low\",\"4. close\":\"close\",\"5. volume\":\"volume\"})\n",
    "\n",
    "    data.stock= json['Meta Data']['2. Symbol']\n",
    "    \n",
    "\n",
    "\n",
    "    \n",
    "    return data"
   ]
  },
  {
   "cell_type": "code",
   "execution_count": null,
   "metadata": {},
   "outputs": [],
   "source": [
    "stock_data=Get_TimeSeries('TSLA', 'daily')\n",
    "stock_data"
   ]
  },
  {
   "cell_type": "code",
   "execution_count": null,
   "metadata": {},
   "outputs": [],
   "source": [
    "stock_data.columns"
   ]
  },
  {
   "cell_type": "code",
   "execution_count": null,
   "metadata": {},
   "outputs": [],
   "source": [
    "def Plot_TimeSeries(data):\n",
    "    \n",
    "    title_price='Stock price of '+data.stock\n",
    "    title_volume= 'Volume of '+data.stock\n",
    "    stock_color = alt.condition(\"datum.open <= datum.close\",\n",
    "                                     alt.value(\"#06982d\"),\n",
    "                                     alt.value(\"#ae1325\"))\n",
    "    \n",
    "    base = alt.Chart(data,title=title_price).encode(\n",
    "        alt.X('date:T',\n",
    "              axis=alt.Axis(\n",
    "                  title='Date'\n",
    "              )\n",
    "        ),\n",
    "        color=stock_color\n",
    "    )\n",
    "\n",
    "    rule = base.mark_rule().encode(\n",
    "        alt.Y(\n",
    "            'low:Q',\n",
    "            title='Price',\n",
    "            scale=alt.Scale(zero=False),\n",
    "        ),\n",
    "        alt.Y2('high:Q')\n",
    "    )\n",
    "\n",
    "    bar = base.mark_bar().encode(\n",
    "        alt.Y('open:Q'),\n",
    "        alt.Y2('close:Q')\n",
    "    )\n",
    "    price_plot=rule + bar\n",
    "    volume_plot=alt.Chart(data,title=title_volume).mark_bar().encode(\n",
    "        alt.X('date:T',\n",
    "              axis=alt.Axis(\n",
    "                  title='Date'\n",
    "              )),\n",
    "        alt.Y('volume:Q')\n",
    "   ).properties(height=100)\n",
    "    \n",
    "    return(price_plot & volume_plot)"
   ]
  },
  {
   "cell_type": "code",
   "execution_count": null,
   "metadata": {},
   "outputs": [],
   "source": [
    "Plot_TimeSeries(stock_data)"
   ]
  },
  {
   "cell_type": "markdown",
   "metadata": {},
   "source": [
    "### Modeling"
   ]
  },
  {
   "cell_type": "code",
   "execution_count": null,
   "metadata": {},
   "outputs": [],
   "source": [
    "import numpy as np\n",
    "import tensorflow as tf\n",
    "import pandas as pd\n",
    "import matplotlib.pyplot as plt\n",
    "from sklearn.preprocessing import StandardScaler, MinMaxScaler\n",
    "\n"
   ]
  },
  {
   "cell_type": "code",
   "execution_count": null,
   "metadata": {},
   "outputs": [],
   "source": [
    "# using different model"
   ]
  },
  {
   "cell_type": "code",
   "execution_count": null,
   "metadata": {},
   "outputs": [],
   "source": [
    "df1 = yf.download('TSLA','2019-01-29','2020-09-11',interval='1d')"
   ]
  },
  {
   "cell_type": "code",
   "execution_count": null,
   "metadata": {},
   "outputs": [],
   "source": [
    "df1"
   ]
  },
  {
   "cell_type": "code",
   "execution_count": null,
   "metadata": {},
   "outputs": [],
   "source": [
    "plt.figure(figsize=(12,7))\n",
    "plt.title('Scaled TESLA stocks from August 2014 to August 2017')\n",
    "plt.xlabel('Days')\n",
    "plt.ylabel('Scaled value of stocks')\n",
    "plt.plot(df1['Open'], label='Stocks data')\n",
    "plt.legend()\n",
    "plt.show()"
   ]
  },
  {
   "cell_type": "code",
   "execution_count": null,
   "metadata": {},
   "outputs": [],
   "source": [
    "df1 = df1.reset_index()"
   ]
  },
  {
   "cell_type": "code",
   "execution_count": null,
   "metadata": {},
   "outputs": [],
   "source": [
    "plt.figure(figsize = (18,9))\n",
    "plt.plot(range(df1.shape[0]),(df1['Low']+df1['High'])/2.0)\n",
    "plt.xticks(range(0,df1.shape[0],50),df1['Date'].loc[::50],rotation=45)\n",
    "plt.xlabel('Date',fontsize=18)\n",
    "plt.ylabel('Mid Price',fontsize=18)\n",
    "plt.show()"
   ]
  },
  {
   "cell_type": "code",
   "execution_count": null,
   "metadata": {},
   "outputs": [],
   "source": [
    "# long term prediciton"
   ]
  },
  {
   "cell_type": "code",
   "execution_count": null,
   "metadata": {},
   "outputs": [],
   "source": [
    "df = df1['Open'].values\n",
    "print(\"Total No. of days of TSLA's Stocks :\",df.shape[0])"
   ]
  },
  {
   "cell_type": "code",
   "execution_count": null,
   "metadata": {},
   "outputs": [],
   "source": [
    "dataset_train = np.array(df[:int(df.shape[0]*0.8)])\n",
    "dataset_test = np.array(df[int(df.shape[0]*0.8)-50:])\n",
    "print('Training stock :',dataset_train.shape[0],'days')\n",
    "print('Test stock :',dataset_test.shape[0],'days')"
   ]
  },
  {
   "cell_type": "code",
   "execution_count": null,
   "metadata": {},
   "outputs": [],
   "source": [
    "scaler = MinMaxScaler(feature_range=(0,1))\n",
    "dataset_train = scaler.fit_transform(dataset_train.reshape(-1, 1))"
   ]
  },
  {
   "cell_type": "code",
   "execution_count": null,
   "metadata": {},
   "outputs": [],
   "source": [
    "dataset_test = scaler.transform(dataset_test.reshape(-1, 1))\n"
   ]
  },
  {
   "cell_type": "code",
   "execution_count": null,
   "metadata": {},
   "outputs": [],
   "source": [
    "def create_dataset(df,n):\n",
    "    '''\n",
    "    Function to prepare data for the LSTM\n",
    "    \n",
    "    '''\n",
    "    \n",
    "    x = []\n",
    "    y = []\n",
    "  \n",
    "    for i in range(n, df.shape[0]):\n",
    "        x.append(df[i-n:i, 0])\n",
    "        y.append(df[i, 0])\n",
    "    x = np.array(x)\n",
    "    y = np.array(y)\n",
    "    return x,y"
   ]
  },
  {
   "cell_type": "code",
   "execution_count": null,
   "metadata": {},
   "outputs": [],
   "source": [
    "x_train, y_train = create_dataset(dataset_train,50)\n",
    "x_test, y_test = create_dataset(dataset_test,50)\n",
    "x_train = x_train.reshape(x_train.shape[0], x_train.shape[1], 1)\n",
    "x_test = x_test.reshape(x_test.shape[0], x_test.shape[1], 1)\n",
    "print('Training data shape',x_train.shape)\n",
    "print('Test data shape',x_test.shape)\n",
    "\n"
   ]
  },
  {
   "cell_type": "code",
   "execution_count": null,
   "metadata": {},
   "outputs": [],
   "source": []
  },
  {
   "cell_type": "code",
   "execution_count": null,
   "metadata": {},
   "outputs": [],
   "source": []
  },
  {
   "cell_type": "code",
   "execution_count": null,
   "metadata": {},
   "outputs": [],
   "source": []
  },
  {
   "cell_type": "code",
   "execution_count": null,
   "metadata": {},
   "outputs": [],
   "source": [
    "model = Sequential()\n",
    "\n",
    "model.add(LSTM(units=96, \n",
    "               return_sequences=True,\n",
    "               input_shape=(x_train.shape[1], 1)))\n",
    "\n",
    "model.add(Dropout(0.2))\n",
    "\n",
    "model.add(LSTM(units=96, \n",
    "               return_sequences=True))\n",
    "\n",
    "model.add(Dropout(0.2))\n",
    "\n",
    "model.add(LSTM(units=96, \n",
    "               return_sequences=True))\n",
    "\n",
    "model.add(Dropout(0.2))\n",
    "\n",
    "model.add(LSTM(units=96))\n",
    "\n",
    "model.add(Dropout(0.2))\n",
    "\n",
    "model.add(Dense(units=1))"
   ]
  },
  {
   "cell_type": "code",
   "execution_count": null,
   "metadata": {},
   "outputs": [],
   "source": [
    "\n",
    "from keras.models import Sequential, load_model\n",
    "from keras.layers import LSTM, Dense, Dropout   ## importing layers of Neural network\n",
    "from keras.callbacks import ModelCheckpoint     ## imporing modelcheck pointer\n",
    "from keras.losses import MSE                  ## importing error function\n",
    "from keras.optimizers import Adam              ## importing optimizer\n",
    "from keras.activations import relu"
   ]
  },
  {
   "cell_type": "code",
   "execution_count": null,
   "metadata": {},
   "outputs": [],
   "source": [
    "model.summary()\n"
   ]
  },
  {
   "cell_type": "code",
   "execution_count": null,
   "metadata": {},
   "outputs": [],
   "source": [
    "model.compile(loss=MSE, optimizer=Adam())\n"
   ]
  },
  {
   "cell_type": "code",
   "execution_count": null,
   "metadata": {},
   "outputs": [],
   "source": [
    "checkpointer = ModelCheckpoint(filepath='tesla.stock_prediction.hdf5',save_best_only=True,verbose=1)\n",
    "\n",
    "callbacks = [checkpointer]"
   ]
  },
  {
   "cell_type": "code",
   "execution_count": null,
   "metadata": {},
   "outputs": [],
   "source": [
    "history = model.fit(x_train,y_train,batch_size=32,epochs=70,verbose=1,callbacks=[checkpointer],validation_split=0.05)\n"
   ]
  },
  {
   "cell_type": "code",
   "execution_count": null,
   "metadata": {},
   "outputs": [],
   "source": [
    "model = load_model('tesla.stock_prediction.hdf5')\n"
   ]
  },
  {
   "cell_type": "code",
   "execution_count": null,
   "metadata": {},
   "outputs": [],
   "source": [
    "predictions = model.predict(x_test)\n",
    "predictions = scaler.inverse_transform(predictions)\n",
    "\n",
    "fig, ax = plt.subplots(figsize=(35,10))\n",
    "plt.plot(df, color='red',  label=\"True Stock Price\",)\n",
    "ax.plot(range(len(y_train)+50,len(y_train)+50+len(predictions)),predictions, color='blue', label='Predicted Stock Price')\n",
    "plt.legend()"
   ]
  },
  {
   "cell_type": "code",
   "execution_count": null,
   "metadata": {},
   "outputs": [],
   "source": [
    "y_test_scaled = scaler.inverse_transform(y_test.reshape(-1, 1))\n",
    "\n",
    "\n",
    "fig, ax = plt.subplots(figsize=(35,10))\n",
    "ax.plot(y_test_scaled, color='red', label='True Stock Price')\n",
    "plt.plot(predictions, color='blue', label='Predicted Stock Price')\n",
    "plt.legend()"
   ]
  },
  {
   "cell_type": "code",
   "execution_count": null,
   "metadata": {},
   "outputs": [],
   "source": []
  }
 ],
 "metadata": {
  "kernelspec": {
   "display_name": "Python 3",
   "language": "python",
   "name": "python3"
  },
  "language_info": {
   "codemirror_mode": {
    "name": "ipython",
    "version": 3
   },
   "file_extension": ".py",
   "mimetype": "text/x-python",
   "name": "python",
   "nbconvert_exporter": "python",
   "pygments_lexer": "ipython3",
   "version": "3.8.3"
  }
 },
 "nbformat": 4,
 "nbformat_minor": 4
}
