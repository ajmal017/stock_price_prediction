{
 "cells": [
  {
   "cell_type": "markdown",
   "metadata": {},
   "source": [
    "### Basic trading\n",
    "\n",
    "- entry: do I use only the data for that stock endogenous, or also include the data from other stocks, exagenous.\n",
    "- entry and exit :\n",
    "- exit : take profit, stop loss, time out"
   ]
  },
  {
   "cell_type": "code",
   "execution_count": 1,
   "metadata": {},
   "outputs": [],
   "source": [
    "import pandas as pd\n",
    "import numpy as np\n",
    "import datetime as dt\n",
    "import yfinance as yf  # for data\n",
    "from pandas_datareader import data as pdr"
   ]
  },
  {
   "cell_type": "code",
   "execution_count": 2,
   "metadata": {},
   "outputs": [],
   "source": [
    "yf.pdr_override()"
   ]
  },
  {
   "cell_type": "code",
   "execution_count": 3,
   "metadata": {},
   "outputs": [
    {
     "name": "stdin",
     "output_type": "stream",
     "text": [
      "Enter stock tikcer symbol: BB\n"
     ]
    }
   ],
   "source": [
    "stock = input('Enter stock tikcer symbol:')"
   ]
  },
  {
   "cell_type": "code",
   "execution_count": 4,
   "metadata": {},
   "outputs": [
    {
     "data": {
      "text/plain": [
       "'BB'"
      ]
     },
     "execution_count": 4,
     "metadata": {},
     "output_type": "execute_result"
    }
   ],
   "source": [
    "stock"
   ]
  },
  {
   "cell_type": "code",
   "execution_count": 5,
   "metadata": {},
   "outputs": [
    {
     "name": "stdout",
     "output_type": "stream",
     "text": [
      "[*********************100%***********************]  1 of 1 completed\n"
     ]
    }
   ],
   "source": [
    "start_year = 2018\n",
    "start_month = 1\n",
    "start_day = 1\n",
    "\n",
    "start = dt.datetime(start_year,start_month,start_day)\n",
    "now = dt.datetime.now()\n",
    "df = pdr.get_data_yahoo(stock,period = \"35d\",\n",
    "\n",
    "        # fetch data by interval (including intraday if period < 60 days)\n",
    "        # valid intervals: 1m,2m,5m,15m,30m,60m,90m,1h,1d,5d,1wk,1mo,3mo\n",
    "        # (optional, default is '1d')\n",
    "        interval = \"5m\",)\n",
    "\n",
    "\n",
    "emasUsed = [26,50]\n",
    "for ema in emasUsed:\n",
    "    df['Ema_' + str(ema)] = round(df['Adj Close'].ewm(span = ema, adjust = False).mean(),2)\n",
    "    df['Middle Band'] =df['Adj Close'].rolling(window=20).mean()\n",
    "    df['Upper Band'] = df['Middle Band'] + 1.96*df['Close'].rolling(window=20).std()\n",
    "    df['Lower Band'] = df['Middle Band'] - 1.96*df['Close'].rolling(window=20).std()\n",
    "    df['status_lower'] = np.where(df['Close'] < df['Lower Band'],'below_ballinger','normal')\n",
    "    df['status_upper'] = np.where(df['Close'] > df['Upper Band'],'above_ballinger','normal')\n",
    "    \n",
    "df = df.iloc[20:,:]\n"
   ]
  },
  {
   "cell_type": "code",
   "execution_count": null,
   "metadata": {},
   "outputs": [],
   "source": [
    "#### 1. STRATEGY CROSSING"
   ]
  },
  {
   "cell_type": "code",
   "execution_count": null,
   "metadata": {},
   "outputs": [],
   "source": [
    "pos = 0\n",
    "num = 0\n",
    "percentchange = []\n",
    "\n",
    "for i in df.index:\n",
    "    cmin = df['Ema_26'][i]\n",
    "    cmax = df['Ema_50'][i]\n",
    "    status_lower = df['status_lower'][i]\n",
    "    \n",
    "    close = df['Adj Close'][i]\n",
    "    \n",
    "    #if(status_lower=='below_ballinger'):\n",
    "   # if (cmin>cmax) and (status_lower=='below_ballinger'):\n",
    "    if (cmin>cmax):\n",
    "       # print('red white blue')\n",
    "        if pos ==0:\n",
    "            bp =close\n",
    "            pos=1\n",
    "            #print('Buying now at'+ str(bp))\n",
    "            #print(i)\n",
    "            \n",
    "        \n",
    "    elif(cmin<cmax):\n",
    "        #print('blue white red')\n",
    "        if pos ==1:\n",
    "            pos = 0\n",
    "            sp = close\n",
    "            #print('Selling now at'+ str(sp))\n",
    "            #print(i)\n",
    "            pc = (sp/bp-1)*100\n",
    "            percentchange.append(pc)\n",
    "            \n",
    "    if num ==df['Adj Close'].count()-1 and pos==1:\n",
    "        pos = 0\n",
    "        sp = close\n",
    "        print('Selling now at'+ str(sp))\n",
    "        pc = (sp/bp-1)*100\n",
    "        percentchange.append(pc)      \n",
    "    num +=1"
   ]
  },
  {
   "cell_type": "code",
   "execution_count": null,
   "metadata": {},
   "outputs": [],
   "source": [
    "#### 2. BALLINGER "
   ]
  },
  {
   "cell_type": "code",
   "execution_count": null,
   "metadata": {},
   "outputs": [],
   "source": [
    "pos = 0\n",
    "num = 0\n",
    "percentchange = []\n",
    "\n",
    "for i in df.index:\n",
    "    cmin = df['Ema_26'][i]\n",
    "    cmax = df['Ema_50'][i]\n",
    "    status_upper = df['status_upper'][i]\n",
    "    status_lower = df['status_lower'][i]\n",
    "\n",
    "    \n",
    "    close = df['Adj Close'][i]\n",
    "    \n",
    "    if(status_lower=='below_ballinger'):\n",
    "       # print('red white blue')\n",
    "        if pos ==0:\n",
    "            bp =close\n",
    "            pos=1\n",
    "            #print('Buying now at'+ str(bp))\n",
    "            #print(i)\n",
    "            \n",
    "        \n",
    "    elif(status_upper=='upper_ballinger'):\n",
    "        #print('blue white red')\n",
    "        if pos ==1:\n",
    "            pos = 0\n",
    "            sp = close\n",
    "            #print('Selling now at'+ str(sp))\n",
    "            #print(i)\n",
    "            pc = (sp/bp-1)*100\n",
    "            percentchange.append(pc)\n",
    "            \n",
    "    if num ==df['Adj Close'].count()-1 and pos==1:\n",
    "        pos = 0\n",
    "        sp = close\n",
    "        #print('Selling now at'+ str(sp))\n",
    "        pc = (sp/bp-1)*100\n",
    "        percentchange.append(pc)      \n",
    "    num +=1\n",
    "    \n",
    "#print(percentchange)\n"
   ]
  },
  {
   "cell_type": "code",
   "execution_count": null,
   "metadata": {},
   "outputs": [],
   "source": [
    "#### 3. STRATEGY BUY CROSSING, SELL BALLINGER"
   ]
  },
  {
   "cell_type": "code",
   "execution_count": null,
   "metadata": {},
   "outputs": [],
   "source": [
    "pos = 0\n",
    "num = 0\n",
    "percentchange = []\n",
    "\n",
    "for i in df.index:\n",
    "    cmin = df['Ema_26'][i]\n",
    "    cmax = df['Ema_50'][i]\n",
    "    status_upper = df['status_upper'][i]\n",
    "    \n",
    "    close = df['Adj Close'][i]\n",
    "    \n",
    "    #if(status_lower=='below_ballinger'):\n",
    "   # if (cmin>cmax) and (status_lower=='below_ballinger'):\n",
    "    if (cmin>cmax):\n",
    "       # print('red white blue')\n",
    "        if pos ==0:\n",
    "            bp =close\n",
    "            pos=1\n",
    "            #print('Buying now at'+ str(bp))\n",
    "            #print(i)\n",
    "            \n",
    "        \n",
    "    elif(status_upper=='upper_ballinger'):\n",
    "        #print('blue white red')\n",
    "        if pos ==1:\n",
    "            pos = 0\n",
    "            sp = close\n",
    "            #print('Selling now at'+ str(sp))\n",
    "            #print(i)\n",
    "            pc = (sp/bp-1)*100\n",
    "            percentchange.append(pc)\n",
    "            \n",
    "    if num ==df['Adj Close'].count()-1 and pos==1:\n",
    "        pos = 0\n",
    "        sp = close\n",
    "        #print('Selling now at'+ str(sp))\n",
    "        pc = (sp/bp-1)*100\n",
    "        percentchange.append(pc)      \n",
    "    num +=1\n",
    "    \n",
    "#print(percentchange)\n"
   ]
  },
  {
   "cell_type": "code",
   "execution_count": null,
   "metadata": {},
   "outputs": [],
   "source": [
    "#### 4. STRATEGY BUY BALLINGER, SELL CROSSING"
   ]
  },
  {
   "cell_type": "code",
   "execution_count": null,
   "metadata": {},
   "outputs": [],
   "source": [
    "pos = 0\n",
    "num = 0\n",
    "percentchange = []\n",
    "\n",
    "for i in df.index:\n",
    "    cmin = df['Ema_26'][i]\n",
    "    cmax = df['Ema_50'][i]\n",
    "    status_lower = df['status_lower'][i]\n",
    "    \n",
    "    close = df['Adj Close'][i]\n",
    "    \n",
    "    if(status_lower=='below_ballinger'):\n",
    "   # if (cmin>cmax) and (status_lower=='below_ballinger'):\n",
    "       # print('red white blue')\n",
    "        if pos ==0:\n",
    "            bp =close\n",
    "            pos=1\n",
    "            #print('Buying now at'+ str(bp))\n",
    "            #print(i)\n",
    "            \n",
    "        \n",
    "    elif(cmin<cmax):\n",
    "        #print('blue white red')\n",
    "        if pos ==1:\n",
    "            pos = 0\n",
    "            sp = close\n",
    "            #print('Selling now at'+ str(sp))\n",
    "            #print(i)\n",
    "            pc = (sp/bp-1)*100\n",
    "            percentchange.append(pc)\n",
    "            \n",
    "    if num ==df['Adj Close'].count()-1 and pos==1:\n",
    "        pos = 0\n",
    "        sp = close\n",
    "        print('Selling now at'+ str(sp))\n",
    "        pc = (sp/bp-1)*100\n",
    "        percentchange.append(pc)      \n",
    "    num +=1\n",
    "    \n",
    "    \n",
    "#print(percentchange)"
   ]
  },
  {
   "cell_type": "code",
   "execution_count": null,
   "metadata": {},
   "outputs": [],
   "source": [
    "## print results\n",
    "\n",
    "gains = 0\n",
    "ng = 0\n",
    "losses = 0\n",
    "nl = 0\n",
    "totallR = 1\n",
    "for i in percentchange:\n",
    "    if i >0:\n",
    "        gains +=i\n",
    "        ng +=1\n",
    "    else:\n",
    "        losses +=i\n",
    "        nl +=1\n",
    "    totallR = totallR*((i/100)+1)\n",
    "totallR = round((totallR-1)*100)\n",
    "if ng > 0:\n",
    "    avgGain = gains/ng\n",
    "    maxR = str(max(percentchange))\n",
    "else:\n",
    "    avgGain = 0\n",
    "    maxR = 'undefined'\n",
    "\n",
    "if nl>0:\n",
    "    avgLoss = losses/nl\n",
    "    maxL = str(min(percentchange))\n",
    "    ratio = str(-(avgGain/avgLoss))\n",
    "else:\n",
    "    avgLoss = 0\n",
    "    maxL = 'undefined'\n",
    "    ratio = 'inf'\n",
    "\n",
    "if ng >0 and nl >0:\n",
    "    bettingAvg = ng/ng+nl\n",
    "else:\n",
    "    bettingAvg = 0\n",
    "    \n",
    "    \n",
    "print()\n",
    "print('Result for'+stock+\"going back to \"+str(df.index[0])+\" Sample size: \"+str(ng+nl)+\"trades\")\n",
    "print('EMAs used : ',str(emasUsed))\n",
    "print('Batting Avg : '+str(bettingAvg))\n",
    "print('Gain/loss ratio: ' + ratio)\n",
    "print('Avg gain: ' + str(avgGain))\n",
    "print('Avg loss: '+ str(avgLoss))\n",
    "print('Max return: '+ str(maxR))\n",
    "print('Max loss: ' + str(maxL))\n",
    "print('Total return over '+str(ng+nl)+' trades: '+str(totallR)+'%')\n",
    "print()"
   ]
  },
  {
   "cell_type": "code",
   "execution_count": null,
   "metadata": {},
   "outputs": [],
   "source": []
  }
 ],
 "metadata": {
  "kernelspec": {
   "display_name": "Python 3",
   "language": "python",
   "name": "python3"
  },
  "language_info": {
   "codemirror_mode": {
    "name": "ipython",
    "version": 3
   },
   "file_extension": ".py",
   "mimetype": "text/x-python",
   "name": "python",
   "nbconvert_exporter": "python",
   "pygments_lexer": "ipython3",
   "version": "3.8.3"
  }
 },
 "nbformat": 4,
 "nbformat_minor": 4
}
