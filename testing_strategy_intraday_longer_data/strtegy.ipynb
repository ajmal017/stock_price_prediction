{
 "cells": [
  {
   "cell_type": "markdown",
   "metadata": {},
   "source": [
    "### Basic trading\n",
    "\n",
    "- entry: do I use only the data for that stock endogenous, or also include the data from other stocks, exagenous.\n",
    "- entry and exit :\n",
    "- exit : take profit, stop loss, time out"
   ]
  },
  {
   "cell_type": "code",
   "execution_count": 83,
   "metadata": {},
   "outputs": [],
   "source": [
    "import pandas as pd\n",
    "import numpy as np\n",
    "import datetime as dt\n",
    "import yfinance as yf  # for data\n",
    "from pandas_datareader import data as pdr"
   ]
  },
  {
   "cell_type": "code",
   "execution_count": 2,
   "metadata": {},
   "outputs": [],
   "source": [
    "yf.pdr_override()"
   ]
  },
  {
   "cell_type": "code",
   "execution_count": 108,
   "metadata": {},
   "outputs": [
    {
     "name": "stdin",
     "output_type": "stream",
     "text": [
      "Enter stock tikcer symbol: SAVA\n"
     ]
    }
   ],
   "source": [
    "stock = input('Enter stock tikcer symbol:')"
   ]
  },
  {
   "cell_type": "code",
   "execution_count": 138,
   "metadata": {},
   "outputs": [
    {
     "data": {
      "text/plain": [
       "'SAVA'"
      ]
     },
     "execution_count": 138,
     "metadata": {},
     "output_type": "execute_result"
    }
   ],
   "source": [
    "stock"
   ]
  },
  {
   "cell_type": "code",
   "execution_count": 144,
   "metadata": {},
   "outputs": [
    {
     "name": "stdout",
     "output_type": "stream",
     "text": [
      "[*********************100%***********************]  1 of 1 completed\n"
     ]
    }
   ],
   "source": [
    "start_year = 2018\n",
    "start_month = 1\n",
    "start_day = 1\n",
    "\n",
    "start = dt.datetime(start_year,start_month,start_day)\n",
    "now = dt.datetime.now()\n",
    "df = pdr.get_data_yahoo(stock,period = \"60d\",\n",
    "\n",
    "        # fetch data by interval (including intraday if period < 60 days)\n",
    "        # valid intervals: 1m,2m,5m,15m,30m,60m,90m,1h,1d,5d,1wk,1mo,3mo\n",
    "        # (optional, default is '1d')\n",
    "        interval = \"5m\",)\n",
    "\n",
    "\n",
    "emasUsed = [26,50]\n",
    "for ema in emasUsed:\n",
    "    df['Ema_' + str(ema)] = round(df['Adj Close'].ewm(span = ema, adjust = False).mean(),2)\n",
    "    df['Middle Band'] =df['Adj Close'].rolling(window=20).mean()\n",
    "    df['Upper Band'] = df['Middle Band'] + 1.96*df['Close'].rolling(window=20).std()\n",
    "    df['Lower Band'] = df['Middle Band'] - 1.96*df['Close'].rolling(window=20).std()\n",
    "    df['status_lower'] = np.where(df['Close'] < df['Lower Band'],'below_ballinger','normal')\n",
    "    df['status_upper'] = np.where(df['Close'] > df['Upper Band'],'above_ballinger','normal')\n",
    "    \n",
    "df = df.iloc[20:,:]\n"
   ]
  },
  {
   "cell_type": "code",
   "execution_count": 145,
   "metadata": {},
   "outputs": [
    {
     "data": {
      "text/html": [
       "<div>\n",
       "<style scoped>\n",
       "    .dataframe tbody tr th:only-of-type {\n",
       "        vertical-align: middle;\n",
       "    }\n",
       "\n",
       "    .dataframe tbody tr th {\n",
       "        vertical-align: top;\n",
       "    }\n",
       "\n",
       "    .dataframe thead th {\n",
       "        text-align: right;\n",
       "    }\n",
       "</style>\n",
       "<table border=\"1\" class=\"dataframe\">\n",
       "  <thead>\n",
       "    <tr style=\"text-align: right;\">\n",
       "      <th></th>\n",
       "      <th>Open</th>\n",
       "      <th>High</th>\n",
       "      <th>Low</th>\n",
       "      <th>Close</th>\n",
       "      <th>Adj Close</th>\n",
       "      <th>Volume</th>\n",
       "      <th>Ema_26</th>\n",
       "      <th>Middle Band</th>\n",
       "      <th>Upper Band</th>\n",
       "      <th>Lower Band</th>\n",
       "      <th>status_lower</th>\n",
       "      <th>status_upper</th>\n",
       "      <th>Ema_50</th>\n",
       "    </tr>\n",
       "    <tr>\n",
       "      <th>Datetime</th>\n",
       "      <th></th>\n",
       "      <th></th>\n",
       "      <th></th>\n",
       "      <th></th>\n",
       "      <th></th>\n",
       "      <th></th>\n",
       "      <th></th>\n",
       "      <th></th>\n",
       "      <th></th>\n",
       "      <th></th>\n",
       "      <th></th>\n",
       "      <th></th>\n",
       "      <th></th>\n",
       "    </tr>\n",
       "  </thead>\n",
       "  <tbody>\n",
       "    <tr>\n",
       "      <th>2020-08-04 11:10:00-04:00</th>\n",
       "      <td>3.1550</td>\n",
       "      <td>3.1600</td>\n",
       "      <td>3.1515</td>\n",
       "      <td>3.16</td>\n",
       "      <td>3.16</td>\n",
       "      <td>4456</td>\n",
       "      <td>3.17</td>\n",
       "      <td>3.160630</td>\n",
       "      <td>3.182882</td>\n",
       "      <td>3.138378</td>\n",
       "      <td>normal</td>\n",
       "      <td>normal</td>\n",
       "      <td>3.19</td>\n",
       "    </tr>\n",
       "    <tr>\n",
       "      <th>2020-08-04 11:15:00-04:00</th>\n",
       "      <td>3.1604</td>\n",
       "      <td>3.1604</td>\n",
       "      <td>3.1500</td>\n",
       "      <td>3.16</td>\n",
       "      <td>3.16</td>\n",
       "      <td>2933</td>\n",
       "      <td>3.17</td>\n",
       "      <td>3.160630</td>\n",
       "      <td>3.182882</td>\n",
       "      <td>3.138378</td>\n",
       "      <td>normal</td>\n",
       "      <td>normal</td>\n",
       "      <td>3.19</td>\n",
       "    </tr>\n",
       "    <tr>\n",
       "      <th>2020-08-04 11:20:00-04:00</th>\n",
       "      <td>3.1600</td>\n",
       "      <td>3.1600</td>\n",
       "      <td>3.1600</td>\n",
       "      <td>3.16</td>\n",
       "      <td>3.16</td>\n",
       "      <td>305</td>\n",
       "      <td>3.17</td>\n",
       "      <td>3.159630</td>\n",
       "      <td>3.180010</td>\n",
       "      <td>3.139250</td>\n",
       "      <td>normal</td>\n",
       "      <td>normal</td>\n",
       "      <td>3.18</td>\n",
       "    </tr>\n",
       "    <tr>\n",
       "      <th>2020-08-04 11:25:00-04:00</th>\n",
       "      <td>3.1600</td>\n",
       "      <td>3.1600</td>\n",
       "      <td>3.1401</td>\n",
       "      <td>3.15</td>\n",
       "      <td>3.15</td>\n",
       "      <td>14815</td>\n",
       "      <td>3.17</td>\n",
       "      <td>3.158630</td>\n",
       "      <td>3.178837</td>\n",
       "      <td>3.138423</td>\n",
       "      <td>normal</td>\n",
       "      <td>normal</td>\n",
       "      <td>3.18</td>\n",
       "    </tr>\n",
       "    <tr>\n",
       "      <th>2020-08-04 11:30:00-04:00</th>\n",
       "      <td>3.1500</td>\n",
       "      <td>3.1500</td>\n",
       "      <td>3.1500</td>\n",
       "      <td>3.15</td>\n",
       "      <td>3.15</td>\n",
       "      <td>400</td>\n",
       "      <td>3.17</td>\n",
       "      <td>3.159125</td>\n",
       "      <td>3.177912</td>\n",
       "      <td>3.140338</td>\n",
       "      <td>normal</td>\n",
       "      <td>normal</td>\n",
       "      <td>3.18</td>\n",
       "    </tr>\n",
       "  </tbody>\n",
       "</table>\n",
       "</div>"
      ],
      "text/plain": [
       "                             Open    High     Low  Close  Adj Close  Volume  \\\n",
       "Datetime                                                                      \n",
       "2020-08-04 11:10:00-04:00  3.1550  3.1600  3.1515   3.16       3.16    4456   \n",
       "2020-08-04 11:15:00-04:00  3.1604  3.1604  3.1500   3.16       3.16    2933   \n",
       "2020-08-04 11:20:00-04:00  3.1600  3.1600  3.1600   3.16       3.16     305   \n",
       "2020-08-04 11:25:00-04:00  3.1600  3.1600  3.1401   3.15       3.15   14815   \n",
       "2020-08-04 11:30:00-04:00  3.1500  3.1500  3.1500   3.15       3.15     400   \n",
       "\n",
       "                           Ema_26  Middle Band  Upper Band  Lower Band  \\\n",
       "Datetime                                                                 \n",
       "2020-08-04 11:10:00-04:00    3.17     3.160630    3.182882    3.138378   \n",
       "2020-08-04 11:15:00-04:00    3.17     3.160630    3.182882    3.138378   \n",
       "2020-08-04 11:20:00-04:00    3.17     3.159630    3.180010    3.139250   \n",
       "2020-08-04 11:25:00-04:00    3.17     3.158630    3.178837    3.138423   \n",
       "2020-08-04 11:30:00-04:00    3.17     3.159125    3.177912    3.140338   \n",
       "\n",
       "                          status_lower status_upper  Ema_50  \n",
       "Datetime                                                     \n",
       "2020-08-04 11:10:00-04:00       normal       normal    3.19  \n",
       "2020-08-04 11:15:00-04:00       normal       normal    3.19  \n",
       "2020-08-04 11:20:00-04:00       normal       normal    3.18  \n",
       "2020-08-04 11:25:00-04:00       normal       normal    3.18  \n",
       "2020-08-04 11:30:00-04:00       normal       normal    3.18  "
      ]
     },
     "execution_count": 145,
     "metadata": {},
     "output_type": "execute_result"
    }
   ],
   "source": [
    "df.head()"
   ]
  },
  {
   "cell_type": "code",
   "execution_count": 146,
   "metadata": {},
   "outputs": [
    {
     "data": {
      "text/html": [
       "<div>\n",
       "<style scoped>\n",
       "    .dataframe tbody tr th:only-of-type {\n",
       "        vertical-align: middle;\n",
       "    }\n",
       "\n",
       "    .dataframe tbody tr th {\n",
       "        vertical-align: top;\n",
       "    }\n",
       "\n",
       "    .dataframe thead th {\n",
       "        text-align: right;\n",
       "    }\n",
       "</style>\n",
       "<table border=\"1\" class=\"dataframe\">\n",
       "  <thead>\n",
       "    <tr style=\"text-align: right;\">\n",
       "      <th></th>\n",
       "      <th>Open</th>\n",
       "      <th>High</th>\n",
       "      <th>Low</th>\n",
       "      <th>Close</th>\n",
       "      <th>Adj Close</th>\n",
       "      <th>Volume</th>\n",
       "      <th>Ema_26</th>\n",
       "      <th>Middle Band</th>\n",
       "      <th>Upper Band</th>\n",
       "      <th>Lower Band</th>\n",
       "      <th>status_lower</th>\n",
       "      <th>status_upper</th>\n",
       "      <th>Ema_50</th>\n",
       "    </tr>\n",
       "    <tr>\n",
       "      <th>Datetime</th>\n",
       "      <th></th>\n",
       "      <th></th>\n",
       "      <th></th>\n",
       "      <th></th>\n",
       "      <th></th>\n",
       "      <th></th>\n",
       "      <th></th>\n",
       "      <th></th>\n",
       "      <th></th>\n",
       "      <th></th>\n",
       "      <th></th>\n",
       "      <th></th>\n",
       "      <th></th>\n",
       "    </tr>\n",
       "  </thead>\n",
       "  <tbody>\n",
       "    <tr>\n",
       "      <th>2020-10-27 15:35:00-04:00</th>\n",
       "      <td>9.1600</td>\n",
       "      <td>9.2000</td>\n",
       "      <td>9.1600</td>\n",
       "      <td>9.200</td>\n",
       "      <td>9.200</td>\n",
       "      <td>28803</td>\n",
       "      <td>9.07</td>\n",
       "      <td>9.04394</td>\n",
       "      <td>9.147287</td>\n",
       "      <td>8.940593</td>\n",
       "      <td>normal</td>\n",
       "      <td>above_ballinger</td>\n",
       "      <td>9.08</td>\n",
       "    </tr>\n",
       "    <tr>\n",
       "      <th>2020-10-27 15:40:00-04:00</th>\n",
       "      <td>9.1800</td>\n",
       "      <td>9.1999</td>\n",
       "      <td>9.1101</td>\n",
       "      <td>9.125</td>\n",
       "      <td>9.125</td>\n",
       "      <td>20028</td>\n",
       "      <td>9.07</td>\n",
       "      <td>9.04869</td>\n",
       "      <td>9.157679</td>\n",
       "      <td>8.939701</td>\n",
       "      <td>normal</td>\n",
       "      <td>normal</td>\n",
       "      <td>9.08</td>\n",
       "    </tr>\n",
       "    <tr>\n",
       "      <th>2020-10-27 15:45:00-04:00</th>\n",
       "      <td>9.1188</td>\n",
       "      <td>9.1700</td>\n",
       "      <td>9.1000</td>\n",
       "      <td>9.100</td>\n",
       "      <td>9.100</td>\n",
       "      <td>19369</td>\n",
       "      <td>9.07</td>\n",
       "      <td>9.05219</td>\n",
       "      <td>9.163053</td>\n",
       "      <td>8.941327</td>\n",
       "      <td>normal</td>\n",
       "      <td>normal</td>\n",
       "      <td>9.08</td>\n",
       "    </tr>\n",
       "    <tr>\n",
       "      <th>2020-10-27 15:50:00-04:00</th>\n",
       "      <td>9.1100</td>\n",
       "      <td>9.1400</td>\n",
       "      <td>9.0800</td>\n",
       "      <td>9.110</td>\n",
       "      <td>9.110</td>\n",
       "      <td>17628</td>\n",
       "      <td>9.07</td>\n",
       "      <td>9.05819</td>\n",
       "      <td>9.167912</td>\n",
       "      <td>8.948469</td>\n",
       "      <td>normal</td>\n",
       "      <td>normal</td>\n",
       "      <td>9.08</td>\n",
       "    </tr>\n",
       "    <tr>\n",
       "      <th>2020-10-27 15:55:00-04:00</th>\n",
       "      <td>9.1100</td>\n",
       "      <td>9.1500</td>\n",
       "      <td>9.0900</td>\n",
       "      <td>9.110</td>\n",
       "      <td>9.110</td>\n",
       "      <td>48017</td>\n",
       "      <td>9.08</td>\n",
       "      <td>9.06369</td>\n",
       "      <td>9.172201</td>\n",
       "      <td>8.955179</td>\n",
       "      <td>normal</td>\n",
       "      <td>normal</td>\n",
       "      <td>9.08</td>\n",
       "    </tr>\n",
       "  </tbody>\n",
       "</table>\n",
       "</div>"
      ],
      "text/plain": [
       "                             Open    High     Low  Close  Adj Close  Volume  \\\n",
       "Datetime                                                                      \n",
       "2020-10-27 15:35:00-04:00  9.1600  9.2000  9.1600  9.200      9.200   28803   \n",
       "2020-10-27 15:40:00-04:00  9.1800  9.1999  9.1101  9.125      9.125   20028   \n",
       "2020-10-27 15:45:00-04:00  9.1188  9.1700  9.1000  9.100      9.100   19369   \n",
       "2020-10-27 15:50:00-04:00  9.1100  9.1400  9.0800  9.110      9.110   17628   \n",
       "2020-10-27 15:55:00-04:00  9.1100  9.1500  9.0900  9.110      9.110   48017   \n",
       "\n",
       "                           Ema_26  Middle Band  Upper Band  Lower Band  \\\n",
       "Datetime                                                                 \n",
       "2020-10-27 15:35:00-04:00    9.07      9.04394    9.147287    8.940593   \n",
       "2020-10-27 15:40:00-04:00    9.07      9.04869    9.157679    8.939701   \n",
       "2020-10-27 15:45:00-04:00    9.07      9.05219    9.163053    8.941327   \n",
       "2020-10-27 15:50:00-04:00    9.07      9.05819    9.167912    8.948469   \n",
       "2020-10-27 15:55:00-04:00    9.08      9.06369    9.172201    8.955179   \n",
       "\n",
       "                          status_lower     status_upper  Ema_50  \n",
       "Datetime                                                         \n",
       "2020-10-27 15:35:00-04:00       normal  above_ballinger    9.08  \n",
       "2020-10-27 15:40:00-04:00       normal           normal    9.08  \n",
       "2020-10-27 15:45:00-04:00       normal           normal    9.08  \n",
       "2020-10-27 15:50:00-04:00       normal           normal    9.08  \n",
       "2020-10-27 15:55:00-04:00       normal           normal    9.08  "
      ]
     },
     "execution_count": 146,
     "metadata": {},
     "output_type": "execute_result"
    }
   ],
   "source": [
    "df.tail()"
   ]
  },
  {
   "cell_type": "code",
   "execution_count": 7,
   "metadata": {},
   "outputs": [],
   "source": [
    "#### 1. STRATEGY CROSSING"
   ]
  },
  {
   "cell_type": "code",
   "execution_count": 147,
   "metadata": {},
   "outputs": [
    {
     "name": "stdout",
     "output_type": "stream",
     "text": [
      "Buying now at6.880000114440918\n",
      "2020-09-16 14:05:00-04:00\n",
      "Selling now at6.845900058746338\n",
      "2020-09-17 11:25:00-04:00\n",
      "Buying now at7.130000114440918\n",
      "2020-09-17 14:05:00-04:00\n",
      "Selling now at9.199999809265137\n",
      "2020-09-21 10:10:00-04:00\n",
      "Buying now at9.789999961853027\n",
      "2020-09-21 15:05:00-04:00\n",
      "Selling now at9.977700233459473\n",
      "2020-09-23 10:25:00-04:00\n",
      "Buying now at9.929699897766113\n",
      "2020-09-24 12:25:00-04:00\n",
      "Selling now at9.569999694824219\n",
      "2020-09-24 15:45:00-04:00\n",
      "Buying now at10.100000381469727\n",
      "2020-09-25 09:30:00-04:00\n",
      "Selling now at10.610099792480469\n",
      "2020-09-28 10:30:00-04:00\n",
      "Buying now at10.938400268554688\n",
      "2020-09-28 12:35:00-04:00\n",
      "Selling now at11.329999923706055\n",
      "2020-09-30 10:05:00-04:00\n",
      "Buying now at11.503800392150879\n",
      "2020-09-30 11:00:00-04:00\n",
      "Selling now at11.489999771118164\n",
      "2020-09-30 14:25:00-04:00\n",
      "Buying now at11.749799728393555\n",
      "2020-10-01 10:40:00-04:00\n",
      "Selling now at11.469900131225586\n",
      "2020-10-01 12:50:00-04:00\n",
      "Buying now at10.88010025024414\n",
      "2020-10-05 10:05:00-04:00\n",
      "Selling now at11.380000114440918\n",
      "2020-10-06 15:05:00-04:00\n",
      "Buying now at11.729999542236328\n",
      "2020-10-07 12:05:00-04:00\n",
      "Selling now at12.03499984741211\n",
      "2020-10-08 10:30:00-04:00\n",
      "Buying now at12.25\n",
      "2020-10-08 11:40:00-04:00\n",
      "Selling now at12.140000343322754\n",
      "2020-10-09 10:45:00-04:00\n",
      "Buying now at11.880000114440918\n",
      "2020-10-12 12:15:00-04:00\n",
      "Selling now at11.720000267028809\n",
      "2020-10-12 14:20:00-04:00\n",
      "Buying now at11.5649995803833\n",
      "2020-10-13 12:45:00-04:00\n",
      "Selling now at11.3149995803833\n",
      "2020-10-13 13:55:00-04:00\n",
      "Buying now at10.960000038146973\n",
      "2020-10-15 14:00:00-04:00\n",
      "Selling now at10.801799774169922\n",
      "2020-10-16 09:45:00-04:00\n",
      "Buying now at8.84000015258789\n",
      "2020-10-22 15:50:00-04:00\n",
      "Selling now at9.229999542236328\n",
      "2020-10-23 13:45:00-04:00\n",
      "Buying now at9.199999809265137\n",
      "2020-10-26 14:20:00-04:00\n",
      "Selling now at9.039999961853027\n",
      "2020-10-27 13:05:00-04:00\n"
     ]
    }
   ],
   "source": [
    "pos = 0\n",
    "num = 0\n",
    "percentchange = []\n",
    "start_of_this_month = int((len(df.index[:])/60)*30)\n",
    "\n",
    "for i in df.index[start_of_this_month:]:\n",
    "    cmin = df['Ema_26'][i]\n",
    "    cmax = df['Ema_50'][i]\n",
    "    status_lower = df['status_lower'][i]\n",
    "    \n",
    "    close = df['Adj Close'][i]\n",
    "    \n",
    "    #if(status_lower=='below_ballinger'):\n",
    "   # if (cmin>cmax) and (status_lower=='below_ballinger'):\n",
    "    if (cmin>cmax):\n",
    "       # print('red white blue')\n",
    "        if pos ==0:\n",
    "            bp =close\n",
    "            pos=1\n",
    "            print('Buying now at'+ str(bp))\n",
    "            print(i)\n",
    "            \n",
    "        \n",
    "    elif(cmin<cmax):\n",
    "        #print('blue white red')\n",
    "        if pos ==1:\n",
    "            pos = 0\n",
    "            sp = close\n",
    "            print('Selling now at'+ str(sp))\n",
    "            print(i)\n",
    "            pc = (sp/bp-1)*100\n",
    "            percentchange.append(pc)\n",
    "\n",
    "            \n",
    "    if num ==df['Adj Close'].count()-1 and pos==1:\n",
    "        pos = 0\n",
    "        sp = close\n",
    "        print('Selling now at'+ str(sp))\n",
    "        pc = (sp/bp-1)*100\n",
    "        percentchange.append(pc)      \n",
    "    num +=1"
   ]
  },
  {
   "cell_type": "code",
   "execution_count": 11,
   "metadata": {},
   "outputs": [],
   "source": [
    "#### 2. BALLINGER "
   ]
  },
  {
   "cell_type": "code",
   "execution_count": 12,
   "metadata": {},
   "outputs": [],
   "source": [
    "pos = 0\n",
    "num = 0\n",
    "percentchange = []\n",
    "\n",
    "for i in df.index:\n",
    "    cmin = df['Ema_26'][i]\n",
    "    cmax = df['Ema_50'][i]\n",
    "    status_upper = df['status_upper'][i]\n",
    "    status_lower = df['status_lower'][i]\n",
    "\n",
    "    \n",
    "    close = df['Adj Close'][i]\n",
    "    \n",
    "    if(status_lower=='below_ballinger'):\n",
    "       # print('red white blue')\n",
    "        if pos ==0:\n",
    "            bp =close\n",
    "            pos=1\n",
    "            #print('Buying now at'+ str(bp))\n",
    "            #print(i)\n",
    "            \n",
    "        \n",
    "    elif(status_upper=='upper_ballinger'):\n",
    "        #print('blue white red')\n",
    "        if pos ==1:\n",
    "            pos = 0\n",
    "            sp = close\n",
    "            #print('Selling now at'+ str(sp))\n",
    "            #print(i)\n",
    "            pc = (sp/bp-1)*100\n",
    "            percentchange.append(pc)\n",
    "            \n",
    "    if num ==df['Adj Close'].count()-1 and pos==1:\n",
    "        pos = 0\n",
    "        sp = close\n",
    "        #print('Selling now at'+ str(sp))\n",
    "        pc = (sp/bp-1)*100\n",
    "        percentchange.append(pc)      \n",
    "    num +=1\n",
    "    \n",
    "#print(percentchange)\n"
   ]
  },
  {
   "cell_type": "code",
   "execution_count": 13,
   "metadata": {},
   "outputs": [],
   "source": [
    "#### 3. STRATEGY BUY CROSSING, SELL BALLINGER"
   ]
  },
  {
   "cell_type": "code",
   "execution_count": 65,
   "metadata": {},
   "outputs": [
    {
     "name": "stdout",
     "output_type": "stream",
     "text": [
      "Buying now at0.6798999905586243\n",
      "2020-09-11 10:40:00-04:00\n"
     ]
    }
   ],
   "source": [
    "pos = 0\n",
    "num = 0\n",
    "percentchange = []\n",
    "\n",
    "for i in df.index:\n",
    "    cmin = df['Ema_26'][i]\n",
    "    cmax = df['Ema_50'][i]\n",
    "    status_upper = df['status_upper'][i]\n",
    "    \n",
    "    close = df['Adj Close'][i]\n",
    "    \n",
    "    #if(status_lower=='below_ballinger'):\n",
    "   # if (cmin>cmax) and (status_lower=='below_ballinger'):\n",
    "    if (cmin>cmax):\n",
    "       # print('red white blue')\n",
    "        if pos ==0:\n",
    "            bp =close\n",
    "            pos=1\n",
    "            print('Buying now at'+ str(bp))\n",
    "            print(i)\n",
    "            \n",
    "        \n",
    "    elif(status_upper=='upper_ballinger'):\n",
    "        #print('blue white red')\n",
    "        if pos ==1:\n",
    "            pos = 0\n",
    "            sp = close\n",
    "            #print('Selling now at'+ str(sp))\n",
    "            #print(i)\n",
    "            pc = (sp/bp-1)*100\n",
    "            percentchange.append(pc)\n",
    "            \n",
    "    if num ==df['Adj Close'].count()-1 and pos==1:\n",
    "        pos = 0\n",
    "        sp = close\n",
    "        #print('Selling now at'+ str(sp))\n",
    "        pc = (sp/bp-1)*100\n",
    "        percentchange.append(pc)      \n",
    "    num +=1\n",
    "    \n",
    "#print(percentchange)\n"
   ]
  },
  {
   "cell_type": "code",
   "execution_count": null,
   "metadata": {},
   "outputs": [],
   "source": [
    "#### 4. STRATEGY BUY BALLINGER, SELL CROSSING"
   ]
  },
  {
   "cell_type": "code",
   "execution_count": 74,
   "metadata": {},
   "outputs": [
    {
     "name": "stdout",
     "output_type": "stream",
     "text": [
      "Buying now at2.5399999618530273\n",
      "2020-10-06 11:05:00-04:00\n",
      "Buying now at3.3965001106262207\n",
      "2020-10-08 13:25:00-04:00\n",
      "Buying now at3.434999942779541\n",
      "2020-10-08 13:35:00-04:00\n",
      "Buying now at3.430000066757202\n",
      "2020-10-09 11:40:00-04:00\n",
      "Buying now at3.4600000381469727\n",
      "2020-10-09 14:00:00-04:00\n",
      "Buying now at3.4600000381469727\n",
      "2020-10-09 14:30:00-04:00\n",
      "Buying now at3.380000114440918\n",
      "2020-10-12 09:30:00-04:00\n",
      "Buying now at3.122299909591675\n",
      "2020-10-12 13:05:00-04:00\n",
      "Buying now at3.244999885559082\n",
      "2020-10-13 11:20:00-04:00\n",
      "Buying now at3.0743000507354736\n",
      "2020-10-14 10:05:00-04:00\n",
      "Buying now at3.0399999618530273\n",
      "2020-10-14 10:25:00-04:00\n",
      "Buying now at3.049999952316284\n",
      "2020-10-14 12:20:00-04:00\n",
      "Buying now at3.2149999141693115\n",
      "2020-10-16 09:30:00-04:00\n",
      "Buying now at3.180000066757202\n",
      "2020-10-16 13:45:00-04:00\n",
      "Buying now at3.190000057220459\n",
      "2020-10-16 15:45:00-04:00\n",
      "Buying now at3.180000066757202\n",
      "2020-10-16 15:55:00-04:00\n",
      "Buying now at3.069999933242798\n",
      "2020-10-19 09:55:00-04:00\n",
      "Buying now at3.0000998973846436\n",
      "2020-10-20 09:35:00-04:00\n",
      "Buying now at2.9700000286102295\n",
      "2020-10-20 09:45:00-04:00\n",
      "Buying now at2.7699999809265137\n",
      "2020-10-21 09:30:00-04:00\n",
      "Buying now at2.7899999618530273\n",
      "2020-10-21 15:55:00-04:00\n",
      "Buying now at2.732100009918213\n",
      "2020-10-22 10:20:00-04:00\n",
      "Buying now at2.700000047683716\n",
      "2020-10-22 10:30:00-04:00\n",
      "Buying now at2.8450000286102295\n",
      "2020-10-23 09:40:00-04:00\n",
      "Buying now at2.755000114440918\n",
      "2020-10-26 12:55:00-04:00\n",
      "Buying now at2.734999895095825\n",
      "2020-10-26 13:20:00-04:00\n",
      "Buying now at2.700000047683716\n",
      "2020-10-26 13:35:00-04:00\n",
      "Buying now at2.7100000381469727\n",
      "2020-10-26 15:40:00-04:00\n",
      "Buying now at2.7699999809265137\n",
      "2020-10-27 12:05:00-04:00\n",
      "Buying now at2.7699999809265137\n",
      "2020-10-27 14:40:00-04:00\n"
     ]
    }
   ],
   "source": [
    "pos = 0\n",
    "num = 0\n",
    "percentchange = []\n",
    "\n",
    "\n",
    "start_of_this_month = int((len(df.index[:])/60)*30)\n",
    "\n",
    "\n",
    "new_index = df.index[start_of_this_month:]\n",
    "for i in new_index:\n",
    "    cmin = df['Ema_26'][i]\n",
    "    cmax = df['Ema_50'][i]\n",
    "    status_lower = df['status_lower'][i]\n",
    "    \n",
    "    close = df['Adj Close'][i]\n",
    "    \n",
    "    if(status_lower=='below_ballinger'):\n",
    "   # if (cmin>cmax) and (status_lower=='below_ballinger'):\n",
    "       # print('red white blue')\n",
    "        if pos ==0:\n",
    "            bp =close\n",
    "            pos=1\n",
    "            print('Buying now at'+ str(bp))\n",
    "            print(i)\n",
    "            \n",
    "        \n",
    "    elif(cmin<cmax):\n",
    "        #print('blue white red')\n",
    "        if pos ==1:\n",
    "            pos = 0\n",
    "            sp = close\n",
    "            #print('Selling now at'+ str(sp))\n",
    "            #print(i)\n",
    "            pc = (sp/bp-1)*100\n",
    "            percentchange.append(pc)\n",
    "            \n",
    "    if num ==df['Adj Close'].count()-1 and pos==1:\n",
    "        pos = 0\n",
    "        sp = close\n",
    "        print('Selling now at'+ str(sp))\n",
    "        pc = (sp/bp-1)*100\n",
    "        percentchange.append(pc)      \n",
    "    num +=1\n",
    "    \n",
    "    \n",
    "    \n",
    "    \n",
    "#print(percentchange)"
   ]
  },
  {
   "cell_type": "code",
   "execution_count": 87,
   "metadata": {},
   "outputs": [
    {
     "name": "stdout",
     "output_type": "stream",
     "text": [
      "\n",
      "Result forSUNWgoing back to 2020-08-04 11:10:00-04:00 Sample size: 16trades\n",
      "EMAs used :  [26, 50]\n",
      "Batting Avg : 13.0\n",
      "Gain/loss ratio: 21.34279774282376\n",
      "Avg gain: 99.83509380882168\n",
      "Avg loss: -4.6776947901495225\n",
      "Max return: 341.19291580166254\n",
      "Max loss: -7.760166032369876\n",
      "Total return over 16 trades: 297.0%\n",
      "\n"
     ]
    }
   ],
   "source": [
    "## print results\n",
    "\n",
    "gains = 0\n",
    "ng = 0\n",
    "losses = 0\n",
    "nl = 0\n",
    "totallR = 1\n",
    "for i in percentchange:\n",
    "    if i >0:\n",
    "        gains +=i\n",
    "        ng +=1\n",
    "    else:\n",
    "        losses +=i\n",
    "        nl +=1\n",
    "    totallR = totallR*((i/100)+1)\n",
    "totallR = round((totallR-1)*100)\n",
    "if ng > 0:\n",
    "    avgGain = gains/ng\n",
    "    maxR = str(max(percentchange))\n",
    "else:\n",
    "    avgGain = 0\n",
    "    maxR = 'undefined'\n",
    "\n",
    "if nl>0:\n",
    "    avgLoss = losses/nl\n",
    "    maxL = str(min(percentchange))\n",
    "    ratio = str(-(avgGain/avgLoss))\n",
    "else:\n",
    "    avgLoss = 0\n",
    "    maxL = 'undefined'\n",
    "    ratio = 'inf'\n",
    "\n",
    "if ng >0 and nl >0:\n",
    "    bettingAvg = ng/ng+nl\n",
    "else:\n",
    "    bettingAvg = 0\n",
    "    \n",
    "    \n",
    "print()\n",
    "print('Result for'+stock+\"going back to \"+str(df.index[0])+\" Sample size: \"+str(ng+nl)+\"trades\")\n",
    "print('EMAs used : ',str(emasUsed))\n",
    "print('Batting Avg : '+str(bettingAvg))\n",
    "print('Gain/loss ratio: ' + ratio)\n",
    "print('Avg gain: ' + str(avgGain))\n",
    "print('Avg loss: '+ str(avgLoss))\n",
    "print('Max return: '+ str(maxR))\n",
    "print('Max loss: ' + str(maxL))\n",
    "print('Total return over '+str(ng+nl)+' trades: '+str(totallR)+'%')\n",
    "print()"
   ]
  },
  {
   "cell_type": "code",
   "execution_count": 148,
   "metadata": {},
   "outputs": [
    {
     "name": "stdout",
     "output_type": "stream",
     "text": [
      "\n",
      "Result forSAVAgoing back to 2020-08-04 11:10:00-04:00 Sample size: 16trades\n",
      "EMAs used :  [26, 50]\n",
      "Batting Avg : 10.0\n",
      "Gain/loss ratio: 4.631584700957396\n",
      "Avg gain: 7.312372733581321\n",
      "Avg loss: -1.5788057880210586\n",
      "Max return: 29.032253318365232\n",
      "Max loss: -3.6224680166096146\n",
      "Total return over 16 trades: 39.0%\n",
      "\n"
     ]
    }
   ],
   "source": [
    "## print results\n",
    "\n",
    "gains = 0\n",
    "ng = 0\n",
    "losses = 0\n",
    "nl = 0\n",
    "totallR = 1\n",
    "for i in percentchange:\n",
    "    if i >0:\n",
    "        gains +=i\n",
    "        ng +=1\n",
    "    else:\n",
    "        losses +=i\n",
    "        nl +=1\n",
    "    totallR = totallR*((i/100)+1)\n",
    "totallR = round((totallR-1)*100)\n",
    "if ng > 0:\n",
    "    avgGain = gains/ng\n",
    "    maxR = str(max(percentchange))\n",
    "else:\n",
    "    avgGain = 0\n",
    "    maxR = 'undefined'\n",
    "\n",
    "if nl>0:\n",
    "    avgLoss = losses/nl\n",
    "    maxL = str(min(percentchange))\n",
    "    ratio = str(-(avgGain/avgLoss))\n",
    "else:\n",
    "    avgLoss = 0\n",
    "    maxL = 'undefined'\n",
    "    ratio = 'inf'\n",
    "\n",
    "if ng >0 or nl >0:\n",
    "    bettingAvg = ng/ng+nl\n",
    "else:\n",
    "    bettingAvg = 0\n",
    "    \n",
    "    \n",
    "print()\n",
    "print('Result for'+stock+\"going back to \"+str(df.index[0])+\" Sample size: \"+str(ng+nl)+\"trades\")\n",
    "print('EMAs used : ',str(emasUsed))\n",
    "print('Batting Avg : '+str(bettingAvg))\n",
    "print('Gain/loss ratio: ' + ratio)\n",
    "print('Avg gain: ' + str(avgGain))\n",
    "print('Avg loss: '+ str(avgLoss))\n",
    "print('Max return: '+ str(maxR))\n",
    "print('Max loss: ' + str(maxL))\n",
    "print('Total return over '+str(ng+nl)+' trades: '+str(totallR)+'%')\n",
    "print()"
   ]
  },
  {
   "cell_type": "code",
   "execution_count": 119,
   "metadata": {},
   "outputs": [
    {
     "data": {
      "text/plain": [
       "160.13534916283754"
      ]
     },
     "execution_count": 119,
     "metadata": {},
     "output_type": "execute_result"
    }
   ],
   "source": [
    "gains"
   ]
  },
  {
   "cell_type": "code",
   "execution_count": 120,
   "metadata": {},
   "outputs": [
    {
     "data": {
      "text/plain": [
       "11"
      ]
     },
     "execution_count": 120,
     "metadata": {},
     "output_type": "execute_result"
    }
   ],
   "source": [
    "ng"
   ]
  },
  {
   "cell_type": "code",
   "execution_count": 121,
   "metadata": {},
   "outputs": [
    {
     "data": {
      "text/plain": [
       "-35.93427437755373"
      ]
     },
     "execution_count": 121,
     "metadata": {},
     "output_type": "execute_result"
    }
   ],
   "source": [
    "losses"
   ]
  },
  {
   "cell_type": "code",
   "execution_count": 122,
   "metadata": {},
   "outputs": [
    {
     "data": {
      "text/plain": [
       "20"
      ]
     },
     "execution_count": 122,
     "metadata": {},
     "output_type": "execute_result"
    }
   ],
   "source": [
    "nl"
   ]
  },
  {
   "cell_type": "code",
   "execution_count": 131,
   "metadata": {},
   "outputs": [
    {
     "data": {
      "text/plain": [
       "0.55"
      ]
     },
     "execution_count": 131,
     "metadata": {},
     "output_type": "execute_result"
    }
   ],
   "source": [
    "ng/(nl)"
   ]
  },
  {
   "cell_type": "code",
   "execution_count": 125,
   "metadata": {},
   "outputs": [
    {
     "data": {
      "text/plain": [
       "'8.10243661071219'"
      ]
     },
     "execution_count": 125,
     "metadata": {},
     "output_type": "execute_result"
    }
   ],
   "source": [
    "ratio"
   ]
  },
  {
   "cell_type": "code",
   "execution_count": 133,
   "metadata": {},
   "outputs": [
    {
     "data": {
      "text/plain": [
       "4.456340135891704"
      ]
     },
     "execution_count": 133,
     "metadata": {},
     "output_type": "execute_result"
    }
   ],
   "source": [
    "abs(gains/losses)"
   ]
  },
  {
   "cell_type": "code",
   "execution_count": 134,
   "metadata": {},
   "outputs": [
    {
     "data": {
      "text/plain": [
       "'8.10243661071219'"
      ]
     },
     "execution_count": 134,
     "metadata": {},
     "output_type": "execute_result"
    }
   ],
   "source": [
    "ratio"
   ]
  },
  {
   "cell_type": "code",
   "execution_count": null,
   "metadata": {},
   "outputs": [],
   "source": [
    "ng/nl.   gains/lossess"
   ]
  },
  {
   "cell_type": "code",
   "execution_count": 142,
   "metadata": {},
   "outputs": [
    {
     "data": {
      "text/plain": [
       "19.5"
      ]
     },
     "execution_count": 142,
     "metadata": {},
     "output_type": "execute_result"
    }
   ],
   "source": [
    "1.5*13"
   ]
  },
  {
   "cell_type": "code",
   "execution_count": 143,
   "metadata": {},
   "outputs": [
    {
     "data": {
      "text/plain": [
       "1.5"
      ]
     },
     "execution_count": 143,
     "metadata": {},
     "output_type": "execute_result"
    }
   ],
   "source": [
    "19.5/13"
   ]
  },
  {
   "cell_type": "code",
   "execution_count": 149,
   "metadata": {},
   "outputs": [
    {
     "data": {
      "text/plain": [
       "0.25"
      ]
     },
     "execution_count": 149,
     "metadata": {},
     "output_type": "execute_result"
    }
   ],
   "source": [
    "1/4"
   ]
  },
  {
   "cell_type": "code",
   "execution_count": null,
   "metadata": {},
   "outputs": [],
   "source": []
  }
 ],
 "metadata": {
  "kernelspec": {
   "display_name": "Python 3",
   "language": "python",
   "name": "python3"
  },
  "language_info": {
   "codemirror_mode": {
    "name": "ipython",
    "version": 3
   },
   "file_extension": ".py",
   "mimetype": "text/x-python",
   "name": "python",
   "nbconvert_exporter": "python",
   "pygments_lexer": "ipython3",
   "version": "3.8.3"
  }
 },
 "nbformat": 4,
 "nbformat_minor": 4
}
