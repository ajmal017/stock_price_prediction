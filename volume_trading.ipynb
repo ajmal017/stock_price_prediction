{
 "cells": [
  {
   "cell_type": "code",
   "execution_count": null,
   "metadata": {},
   "outputs": [],
   "source": [
    "import pandas_datareader.data as web\n",
    "from pandas_datareader.nasdaq_trader import get_nasdaq_symbols\n",
    "from pandas_datareader._utils import RemoteDataError\n",
    "from datetime import datetime, timedelta\n",
    "import pandas as pd\n",
    "import matplotlib.pyplot as plt\n",
    "import numpy as np\n",
    "import pickle"
   ]
  },
  {
   "cell_type": "code",
   "execution_count": null,
   "metadata": {},
   "outputs": [],
   "source": [
    "def plot_stock_trend_and_returns(ticker, titles, start_date, end_date, all_returns):\n",
    "    \n",
    "    #get the data for this ticker\n",
    "    prices = web.DataReader(ticker, 'yahoo', start=start_date, end=end_date).Close\n",
    "    volume = web.DataReader(ticker, 'yahoo', start=start_date, end=end_date).Volume\n",
    "    prices.index = [d.date() for d in prices.index]\n",
    "    \n",
    "    plt.figure(figsize=(10,6))\n",
    "    \n",
    "    #plot stock price\n",
    "    plt.subplot(2,1,1)\n",
    "    plt.plot(prices)\n",
    "    plt.title(titles[0], fontsize=16)\n",
    "    plt.ylabel('Price ($)', fontsize=14)\n",
    "    \n",
    "    #plot stock returns\n",
    "    plt.subplot(2,1,2)\n",
    "    plt.plot(all_returns[0], all_returns[1], color='g')\n",
    "    plt.title(titles[1], fontsize=16)\n",
    "    plt.ylabel('Pct. Return', fontsize=14)\n",
    "    plt.axhline(0, color='k', linestyle='--')\n",
    "    \n",
    "    plt.tight_layout()\n",
    "    \n",
    "    plt.show()"
   ]
  },
  {
   "cell_type": "code",
   "execution_count": null,
   "metadata": {},
   "outputs": [],
   "source": [
    "\n",
    "def perform_analysis_for_stock(ticker, start_date, end_date, return_period_weeks, verbose=False):\n",
    "    \"\"\"\n",
    "    Inputs:\n",
    "        ticker: the ticker symbol to analyze\n",
    "        start_date: the first date considered in simulation\n",
    "        end_date: the last date considered in simulation\n",
    "        return_period_weeks: the number of weeks in which to calculate returns\n",
    "        verbose: True if you want to print simulation steps\n",
    "        \n",
    "    Outputs:\n",
    "        average and standard deviation of returns for simulated runs of this ticker within the given date range\n",
    "    \"\"\"\n",
    "    \n",
    "    #get the data for this ticker\n",
    "    try:\n",
    "        prices = web.DataReader(ticker, 'yahoo', start=start_date, end=end_date).Close\n",
    "        volume = web.DataReader(ticker, 'yahoo', start=start_date, end=end_date).Volume\n",
    "        \n",
    "    #could not find data on this ticker\n",
    "    except (RemoteDataError, KeyError):\n",
    "        #return default values\n",
    "        return -np.inf, np.inf, None\n",
    "    \n",
    "    prices.index = [d.date() for d in prices.index]\n",
    "    \n",
    "    #this will store all simulated returns\n",
    "    pct_return_after_period = []\n",
    "    pct_v_return_after_period = []\n",
    "    \n",
    "    buy_dates = []\n",
    "\n",
    "    #assume we buy the stock on each day in the range\n",
    "    for buy_date, buy_price in prices.iteritems():\n",
    "        #get price of the stock after given number of weeks\n",
    "        sell_date = buy_date + timedelta(weeks=return_period_weeks)\n",
    "        \n",
    "        try:\n",
    "            sell_price = prices[prices.index == sell_date].iloc[0]\n",
    "            sell_v = volume[prices.index == sell_date].iloc[0]\n",
    "            buy_v = volume[prices.index == buy_date].iloc[0]\n",
    "        #trying to sell on a non-trading day, skip\n",
    "        except IndexError:\n",
    "            continue\n",
    "        \n",
    "        #compute the percent return\n",
    "        pct_return = (sell_price - buy_price)/buy_price\n",
    "        pct_volume = (sell_v - buy_v)/buy_v\n",
    "        \n",
    "        pct_return_after_period.append(pct_return)\n",
    "        pct_v_return_after_period.append(pct_volume)\n",
    "        \n",
    "        buy_dates.append(buy_date)\n",
    "        \n",
    "        if verbose:\n",
    "            print('Date Buy: %s, Price Buy: %s'%(buy_date,round(buy_price,2)))\n",
    "            print('Date Sell: %s, Price Sell: %s'%(sell_date,round(sell_price,2)))\n",
    "            print('Return: %s%%'%round(pct_return*100,1))\n",
    "            print('-------------------')\n",
    "    \n",
    "    #if no data collected return default values\n",
    "    if len(pct_return_after_period) == 0:\n",
    "        return -np.inf, np.inf, None\n",
    "    \n",
    "        #if no data collected return default values\n",
    "    if len(pct_v_return_after_period) == 0:\n",
    "        return -np.inf, np.inf, None\n",
    "    \n",
    "    #report average and deviation of the percent returns\n",
    "    return np.mean(pct_return_after_period), np.std(pct_return_after_period), np.mean(pct_v_return_after_period),np.std(pct_v_return_after_period),[buy_dates, pct_return_after_period]"
   ]
  },
  {
   "cell_type": "code",
   "execution_count": null,
   "metadata": {},
   "outputs": [],
   "source": [
    "#start date for simulation. \n",
    "#Further back means more training data but risk of including patterns that no longer exist\n",
    "#More recent means less training data but only using recent patterns\n",
    "start_date, end_date = datetime(2020,10,1), datetime.now().date()\n",
    "\n",
    "#set number of weeks in which you want to see return\n",
    "return_period_weeks = 1\n",
    "\n",
    "#I want at least this much average return\n",
    "min_avg_return  = 0.15\n",
    "\n",
    "#I want at most this much volatility in return\n",
    "max_dev_return = 0.1\n",
    "min_avg_vol = 0.0"
   ]
  },
  {
   "cell_type": "code",
   "execution_count": null,
   "metadata": {},
   "outputs": [],
   "source": [
    "#Download file \"series_tickers.p\" from github or create your own list of tickers\n",
    "series_tickers = pickle.load(open(\"series_tickers.p\", \"rb\" ))"
   ]
  },
  {
   "cell_type": "code",
   "execution_count": null,
   "metadata": {},
   "outputs": [],
   "source": [
    "#filter_col = [col for col in series_tickers if col.startswith('Tesla')]\n",
    "#filter_col\n"
   ]
  },
  {
   "cell_type": "code",
   "execution_count": null,
   "metadata": {},
   "outputs": [],
   "source": [
    "for ticker, name in series_tickers.iteritems():\n",
    "    try:\n",
    "        avg_return, dev_return, avg_volume, dev_vol, all_returns = perform_analysis_for_stock(ticker, start_date, end_date, return_period_weeks)\n",
    "\n",
    "        if avg_return > min_avg_return and dev_return < max_dev_return:\n",
    "            title_price = '%s\\n%s'%(ticker, name)\n",
    "            title_return = 'Avg Return: %s%% |Avg Volume: %s%% | Dev Return: %s%%'%(round(100*avg_return,2), round(100*dev_return,2), round(100* avg_volume,2))\n",
    "            plot_stock_trend_and_returns(ticker, [title_price, title_return], start_date, end_date, all_returns)\n",
    "    except:\n",
    "          print(\"An exception occurred\")\n"
   ]
  },
  {
   "cell_type": "code",
   "execution_count": null,
   "metadata": {},
   "outputs": [],
   "source": [
    "# tickers = ['GE','TSLA','AMD']"
   ]
  },
  {
   "cell_type": "code",
   "execution_count": null,
   "metadata": {},
   "outputs": [],
   "source": [
    "# for ticker in tickers:\n",
    "#     avg_return, dev_return, avg_volume, dev_vol, all_returns = perform_analysis_for_stock(ticker, start_date, end_date, return_period_weeks)\n",
    "\n",
    "#     if avg_return > min_avg_return and dev_return < max_dev_return:\n",
    "#         plot_stock_trend_and_returns(ticker, [title_price, title_return], start_date, end_date, all_returns)\n",
    "#         title_price = '%s\\n%s'%(ticker, str(ticker))\n",
    "#         title_return = 'Avg Return: %s%% |Avg Volume: %s%% | Dev Return: %s%%'%(round(100*avg_return,2), round(100*dev_return,2), round(100* avg_volume,2))\n"
   ]
  },
  {
   "cell_type": "code",
   "execution_count": null,
   "metadata": {},
   "outputs": [],
   "source": [
    "web.DataReader('AAPL', 'yahoo', start=start_date, end=end_date)"
   ]
  },
  {
   "cell_type": "code",
   "execution_count": null,
   "metadata": {},
   "outputs": [],
   "source": [
    "import pandas as pd\n",
    "import plotly.graph_objects as go\n",
    "import numpy as np\n",
    "\n",
    "# Data\n",
    "\n",
    "df = pd.DataFrame({\n",
    "     'Net':[15,20,-10,-15], \n",
    "     'Date':['07/14/2020','07/15/2020','07/16/2020','07/17/2020']\n",
    "})\n",
    "\n",
    "df['Date'] = pd.to_datetime(df['Date'])\n",
    "\n",
    "## here I'm adding a column with colors\n",
    "df[\"Color\"] = np.where(df[\"Net\"]<0, 'red', 'green')\n",
    "\n",
    "# Plot\n",
    "df"
   ]
  },
  {
   "cell_type": "code",
   "execution_count": null,
   "metadata": {},
   "outputs": [],
   "source": [
    "avg_return, dev_return, avg_volume, dev_vol, all_returns = perform_analysis_for_stock(ticker, start_date, end_date, return_period_weeks)\n"
   ]
  },
  {
   "cell_type": "code",
   "execution_count": null,
   "metadata": {},
   "outputs": [],
   "source": [
    "df = web.DataReader('NIO', 'yahoo', start=start_date, end=end_date)\n",
    "\n",
    "df.head()"
   ]
  },
  {
   "cell_type": "code",
   "execution_count": null,
   "metadata": {},
   "outputs": [],
   "source": [
    "df['volume_before'] = df['Volume'].shift(1)\n",
    "df['close_before'] = df['Close'].shift(1)\n",
    "df = df.fillna(0)\n",
    "\n",
    "df['relative_volume'] = (df['Volume'] - df['volume_before'])\n",
    "df['relative_price'] = df['Close'] - df['close_before']\n",
    "df[\"Color\"] = np.where(df[\"relative_price\"]<0, 'red', 'green')\n",
    "df = df.reset_index()\n",
    "df"
   ]
  },
  {
   "cell_type": "code",
   "execution_count": null,
   "metadata": {},
   "outputs": [],
   "source": [
    "t1"
   ]
  },
  {
   "cell_type": "code",
   "execution_count": null,
   "metadata": {},
   "outputs": [],
   "source": []
  },
  {
   "cell_type": "code",
   "execution_count": null,
   "metadata": {},
   "outputs": [],
   "source": [
    "t1 = df[df['relative_price']<0]\n",
    "t2 = df[df['relative_price']>=0]\n",
    "plt.bar(t1['Date'], t1['Volume'], color='r')\n",
    "plt.bar(t2['Date'], t2['Volume'], color='g')"
   ]
  },
  {
   "cell_type": "code",
   "execution_count": null,
   "metadata": {},
   "outputs": [],
   "source": [
    "df"
   ]
  },
  {
   "cell_type": "code",
   "execution_count": null,
   "metadata": {},
   "outputs": [],
   "source": [
    "df['color_one_before'] = df['Color'].shift(1)\n",
    "df['color_tw_before'] = df['Color'].shift(2)\n",
    "df = df.fillna(0)\n",
    "df"
   ]
  },
  {
   "cell_type": "code",
   "execution_count": null,
   "metadata": {},
   "outputs": [],
   "source": [
    "df = df.tail(3)\n",
    "df = df.iloc[::-1]\n",
    "df"
   ]
  },
  {
   "cell_type": "code",
   "execution_count": null,
   "metadata": {},
   "outputs": [],
   "source": [
    "result = np.where(df['Color'][0]=='green' and df['Color'][1]=='red' and df['Color'][2]=='green'  ,'yes','no')\n",
    "print(result)"
   ]
  },
  {
   "cell_type": "code",
   "execution_count": null,
   "metadata": {},
   "outputs": [],
   "source": [
    "df"
   ]
  },
  {
   "cell_type": "code",
   "execution_count": null,
   "metadata": {},
   "outputs": [],
   "source": [
    "df['Color']["
   ]
  },
  {
   "cell_type": "code",
   "execution_count": null,
   "metadata": {},
   "outputs": [],
   "source": []
  },
  {
   "cell_type": "code",
   "execution_count": null,
   "metadata": {},
   "outputs": [],
   "source": []
  },
  {
   "cell_type": "code",
   "execution_count": null,
   "metadata": {},
   "outputs": [],
   "source": []
  },
  {
   "cell_type": "code",
   "execution_count": null,
   "metadata": {},
   "outputs": [],
   "source": []
  },
  {
   "cell_type": "code",
   "execution_count": 1,
   "metadata": {},
   "outputs": [],
   "source": [
    "import pandas_datareader.data as web\n",
    "from pandas_datareader.nasdaq_trader import get_nasdaq_symbols\n",
    "from pandas_datareader._utils import RemoteDataError\n",
    "from datetime import datetime, timedelta\n",
    "import pandas as pd\n",
    "import matplotlib.pyplot as plt\n",
    "import numpy as np\n",
    "import pickle"
   ]
  },
  {
   "cell_type": "code",
   "execution_count": 2,
   "metadata": {},
   "outputs": [],
   "source": [
    "#Download file \"series_tickers.p\" from github or create your own list of tickers\n",
    "series_tickers = pickle.load(open(\"series_tickers.p\", \"rb\" ))"
   ]
  },
  {
   "cell_type": "code",
   "execution_count": 3,
   "metadata": {},
   "outputs": [],
   "source": [
    "def is_this_a_winner(stock = 'NIO'):\n",
    "    '''\n",
    "    determine if a stock is winner, if the volume bar is green and the previous three are red\n",
    "    \n",
    "    inputs:\n",
    "    ------ \n",
    "    dataframe\n",
    "    \n",
    "    returne:\n",
    "    boolean: True, False\n",
    "    '''\n",
    "    \n",
    "    start_date = datetime(2020,10,15)\n",
    "    end_date = datetime.now().date()\n",
    "    df = web.DataReader(stock, 'yahoo', start=start_date, end=end_date)\n",
    "    df = df.reset_index()\n",
    "    \n",
    "    df['close_before'] = df['Close'].shift(1) \n",
    "    df['relative_price'] = df['Close'] - df['close_before']\n",
    "    df[\"Color\"] = np.where(df[\"relative_price\"]<0, 'red', 'green')\n",
    "    \n",
    "    df = df.iloc[::-1]\n",
    "    print(df)\n",
    "    \n",
    "    result = np.where(df['Color'][0]=='green' and df['Color'][1]=='red' and df['Color'][2]=='red' ,True,False)\n",
    "    #result = np.where(df['Color'][0]=='green' and df['Color'][1]=='red' and df['Color'][2]=='red' and df['Color'][3]=='red' ,True,False)\n",
    "\n",
    "    t1 = df[df['relative_price']<0]\n",
    "    t2 = df[df['relative_price']>=0]\n",
    "    plt.bar(t1['Date'], t1['Volume'], color='r')\n",
    "    plt.bar(t2['Date'], t2['Volume'], color='g')\n",
    "    return result\n",
    "    \n",
    "    "
   ]
  },
  {
   "cell_type": "code",
   "execution_count": 85,
   "metadata": {},
   "outputs": [],
   "source": [
    "class stock:\n",
    "    def __init__(self,stock = 'NIO'):\n",
    "        self.stock = stock\n",
    "    \n",
    "    def get_df(self):\n",
    "        start_date = datetime(2020,10,15)\n",
    "        end_date = datetime.now().date()\n",
    "        df = web.DataReader(self.stock, 'yahoo', start=start_date, end=end_date)\n",
    "        df = df.reset_index()\n",
    "\n",
    "        df['close_before'] = df['Close'].shift(1) \n",
    "        df['relative_price'] = df['Close'] - df['close_before']\n",
    "        df[\"Color\"] = np.where(df[\"relative_price\"]<0, 'red', 'green')\n",
    "\n",
    "        df = df.iloc[::-1]\n",
    "        df = df.reset_index(drop = True)\n",
    "        self.df = df\n",
    "        return self.df  \n",
    "    \n",
    "    def is_this_a_winner(self):\n",
    "        \n",
    "        df = self.df\n",
    "\n",
    "        result = np.where(df['Color'][0]=='green' and df['Color'][1]=='green' and df['Color'][2]=='green',True,False)\n",
    "        #result = np.where(df['Color'][0]=='green' and df['Color'][1]=='red' and df['Color'][2]=='red' and df['Color'][3]=='red' ,True,False)\n",
    "        return result[()]\n",
    "    \n",
    "    def plot_df(self):\n",
    "        \n",
    "        df = self.df\n",
    "\n",
    "        t1 = df[df['relative_price']<0]\n",
    "        t2 = df[df['relative_price']>=0]\n",
    "        plt.bar(t1['Date'], t1['Volume'], color='r')\n",
    "        plt.bar(t2['Date'], t2['Volume'], color='g')\n",
    "        plt.show()\n",
    "        return \n",
    "\n",
    "\n",
    "\n",
    "\n",
    "        "
   ]
  },
  {
   "cell_type": "code",
   "execution_count": null,
   "metadata": {},
   "outputs": [],
   "source": []
  },
  {
   "cell_type": "code",
   "execution_count": 59,
   "metadata": {},
   "outputs": [
    {
     "data": {
      "text/html": [
       "<div>\n",
       "<style scoped>\n",
       "    .dataframe tbody tr th:only-of-type {\n",
       "        vertical-align: middle;\n",
       "    }\n",
       "\n",
       "    .dataframe tbody tr th {\n",
       "        vertical-align: top;\n",
       "    }\n",
       "\n",
       "    .dataframe thead th {\n",
       "        text-align: right;\n",
       "    }\n",
       "</style>\n",
       "<table border=\"1\" class=\"dataframe\">\n",
       "  <thead>\n",
       "    <tr style=\"text-align: right;\">\n",
       "      <th></th>\n",
       "      <th>Date</th>\n",
       "      <th>High</th>\n",
       "      <th>Low</th>\n",
       "      <th>Open</th>\n",
       "      <th>Close</th>\n",
       "      <th>Volume</th>\n",
       "      <th>Adj Close</th>\n",
       "      <th>close_before</th>\n",
       "      <th>relative_price</th>\n",
       "      <th>Color</th>\n",
       "    </tr>\n",
       "  </thead>\n",
       "  <tbody>\n",
       "    <tr>\n",
       "      <th>0</th>\n",
       "      <td>2020-10-20</td>\n",
       "      <td>11.30</td>\n",
       "      <td>11.09</td>\n",
       "      <td>11.12</td>\n",
       "      <td>11.15</td>\n",
       "      <td>1994189</td>\n",
       "      <td>11.15</td>\n",
       "      <td>11.04</td>\n",
       "      <td>0.11</td>\n",
       "      <td>green</td>\n",
       "    </tr>\n",
       "    <tr>\n",
       "      <th>1</th>\n",
       "      <td>2020-10-19</td>\n",
       "      <td>11.14</td>\n",
       "      <td>10.88</td>\n",
       "      <td>10.97</td>\n",
       "      <td>11.04</td>\n",
       "      <td>2350700</td>\n",
       "      <td>11.04</td>\n",
       "      <td>10.91</td>\n",
       "      <td>0.13</td>\n",
       "      <td>green</td>\n",
       "    </tr>\n",
       "    <tr>\n",
       "      <th>2</th>\n",
       "      <td>2020-10-16</td>\n",
       "      <td>10.96</td>\n",
       "      <td>10.68</td>\n",
       "      <td>10.76</td>\n",
       "      <td>10.91</td>\n",
       "      <td>1295800</td>\n",
       "      <td>10.91</td>\n",
       "      <td>10.73</td>\n",
       "      <td>0.18</td>\n",
       "      <td>green</td>\n",
       "    </tr>\n",
       "    <tr>\n",
       "      <th>3</th>\n",
       "      <td>2020-10-15</td>\n",
       "      <td>10.74</td>\n",
       "      <td>10.34</td>\n",
       "      <td>10.46</td>\n",
       "      <td>10.73</td>\n",
       "      <td>2117200</td>\n",
       "      <td>10.73</td>\n",
       "      <td>NaN</td>\n",
       "      <td>NaN</td>\n",
       "      <td>green</td>\n",
       "    </tr>\n",
       "  </tbody>\n",
       "</table>\n",
       "</div>"
      ],
      "text/plain": [
       "        Date   High    Low   Open  Close   Volume  Adj Close  close_before  \\\n",
       "0 2020-10-20  11.30  11.09  11.12  11.15  1994189      11.15         11.04   \n",
       "1 2020-10-19  11.14  10.88  10.97  11.04  2350700      11.04         10.91   \n",
       "2 2020-10-16  10.96  10.68  10.76  10.91  1295800      10.91         10.73   \n",
       "3 2020-10-15  10.74  10.34  10.46  10.73  2117200      10.73           NaN   \n",
       "\n",
       "   relative_price  Color  \n",
       "0            0.11  green  \n",
       "1            0.13  green  \n",
       "2            0.18  green  \n",
       "3             NaN  green  "
      ]
     },
     "execution_count": 59,
     "metadata": {},
     "output_type": "execute_result"
    }
   ],
   "source": [
    "my_stock = stock('VG')\n",
    "my_stock.get_df()\n"
   ]
  },
  {
   "cell_type": "code",
   "execution_count": 63,
   "metadata": {},
   "outputs": [
    {
     "name": "stdout",
     "output_type": "stream",
     "text": [
      "True\n"
     ]
    },
    {
     "data": {
      "image/png": "[encoded data removed]",
      "text/plain": [
       "<Figure size 432x288 with 1 Axes>"
      ]
     },
     "metadata": {
      "needs_background": "light"
     },
     "output_type": "display_data"
    }
   ],
   "source": [
    "my_stock.is_this_a_winner()\n",
    "my_stock.plot_df()\n"
   ]
  },
  {
   "cell_type": "code",
   "execution_count": 44,
   "metadata": {},
   "outputs": [],
   "source": [
    "df = my_stock.get_df().reset_index(drop = True)"
   ]
  },
  {
   "cell_type": "code",
   "execution_count": 45,
   "metadata": {},
   "outputs": [
    {
     "data": {
      "text/plain": [
       "array(True)"
      ]
     },
     "execution_count": 45,
     "metadata": {},
     "output_type": "execute_result"
    }
   ],
   "source": [
    "np.where(df['Color'][0]=='green' and df['Color'][1]=='red' and df['Color'][2]=='green' ,True,False)"
   ]
  },
  {
   "cell_type": "code",
   "execution_count": 46,
   "metadata": {},
   "outputs": [
    {
     "data": {
      "text/plain": [
       "'red'"
      ]
     },
     "execution_count": 46,
     "metadata": {},
     "output_type": "execute_result"
    }
   ],
   "source": [
    "df['Color'][1]"
   ]
  },
  {
   "cell_type": "code",
   "execution_count": 47,
   "metadata": {},
   "outputs": [
    {
     "data": {
      "text/plain": [
       "'green'"
      ]
     },
     "execution_count": 47,
     "metadata": {},
     "output_type": "execute_result"
    }
   ],
   "source": [
    "df['Color'][0]"
   ]
  },
  {
   "cell_type": "code",
   "execution_count": 48,
   "metadata": {},
   "outputs": [
    {
     "data": {
      "text/plain": [
       "'red'"
      ]
     },
     "execution_count": 48,
     "metadata": {},
     "output_type": "execute_result"
    }
   ],
   "source": [
    "df['Color'][1]"
   ]
  },
  {
   "cell_type": "code",
   "execution_count": 49,
   "metadata": {},
   "outputs": [
    {
     "data": {
      "text/html": [
       "<div>\n",
       "<style scoped>\n",
       "    .dataframe tbody tr th:only-of-type {\n",
       "        vertical-align: middle;\n",
       "    }\n",
       "\n",
       "    .dataframe tbody tr th {\n",
       "        vertical-align: top;\n",
       "    }\n",
       "\n",
       "    .dataframe thead th {\n",
       "        text-align: right;\n",
       "    }\n",
       "</style>\n",
       "<table border=\"1\" class=\"dataframe\">\n",
       "  <thead>\n",
       "    <tr style=\"text-align: right;\">\n",
       "      <th></th>\n",
       "      <th>Date</th>\n",
       "      <th>High</th>\n",
       "      <th>Low</th>\n",
       "      <th>Open</th>\n",
       "      <th>Close</th>\n",
       "      <th>Volume</th>\n",
       "      <th>Adj Close</th>\n",
       "      <th>close_before</th>\n",
       "      <th>relative_price</th>\n",
       "      <th>Color</th>\n",
       "    </tr>\n",
       "  </thead>\n",
       "  <tbody>\n",
       "    <tr>\n",
       "      <th>0</th>\n",
       "      <td>2020-10-20</td>\n",
       "      <td>28.299999</td>\n",
       "      <td>27.049999</td>\n",
       "      <td>27.420000</td>\n",
       "      <td>27.959999</td>\n",
       "      <td>103936992</td>\n",
       "      <td>27.959999</td>\n",
       "      <td>27.629999</td>\n",
       "      <td>0.33</td>\n",
       "      <td>green</td>\n",
       "    </tr>\n",
       "    <tr>\n",
       "      <th>1</th>\n",
       "      <td>2020-10-19</td>\n",
       "      <td>28.559999</td>\n",
       "      <td>27.219999</td>\n",
       "      <td>28.209999</td>\n",
       "      <td>27.629999</td>\n",
       "      <td>114786600</td>\n",
       "      <td>27.629999</td>\n",
       "      <td>28.480000</td>\n",
       "      <td>-0.85</td>\n",
       "      <td>red</td>\n",
       "    </tr>\n",
       "    <tr>\n",
       "      <th>2</th>\n",
       "      <td>2020-10-16</td>\n",
       "      <td>29.400000</td>\n",
       "      <td>27.940001</td>\n",
       "      <td>29.180000</td>\n",
       "      <td>28.480000</td>\n",
       "      <td>186764700</td>\n",
       "      <td>28.480000</td>\n",
       "      <td>28.070000</td>\n",
       "      <td>0.41</td>\n",
       "      <td>green</td>\n",
       "    </tr>\n",
       "    <tr>\n",
       "      <th>3</th>\n",
       "      <td>2020-10-15</td>\n",
       "      <td>29.230000</td>\n",
       "      <td>25.780001</td>\n",
       "      <td>27.200001</td>\n",
       "      <td>28.070000</td>\n",
       "      <td>385210600</td>\n",
       "      <td>28.070000</td>\n",
       "      <td>NaN</td>\n",
       "      <td>NaN</td>\n",
       "      <td>green</td>\n",
       "    </tr>\n",
       "  </tbody>\n",
       "</table>\n",
       "</div>"
      ],
      "text/plain": [
       "        Date       High        Low       Open      Close     Volume  \\\n",
       "0 2020-10-20  28.299999  27.049999  27.420000  27.959999  103936992   \n",
       "1 2020-10-19  28.559999  27.219999  28.209999  27.629999  114786600   \n",
       "2 2020-10-16  29.400000  27.940001  29.180000  28.480000  186764700   \n",
       "3 2020-10-15  29.230000  25.780001  27.200001  28.070000  385210600   \n",
       "\n",
       "   Adj Close  close_before  relative_price  Color  \n",
       "0  27.959999     27.629999            0.33  green  \n",
       "1  27.629999     28.480000           -0.85    red  \n",
       "2  28.480000     28.070000            0.41  green  \n",
       "3  28.070000           NaN             NaN  green  "
      ]
     },
     "execution_count": 49,
     "metadata": {},
     "output_type": "execute_result"
    }
   ],
   "source": [
    "df"
   ]
  },
  {
   "cell_type": "code",
   "execution_count": null,
   "metadata": {},
   "outputs": [
    {
     "name": "stdout",
     "output_type": "stream",
     "text": [
      "Vonage Holdings Corp. - Common Stock is a winner\n"
     ]
    },
    {
     "data": {
      "image/png": "[encoded data removed]",
      "text/plain": [
       "<Figure size 432x288 with 1 Axes>"
      ]
     },
     "metadata": {
      "needs_background": "light"
     },
     "output_type": "display_data"
    },
    {
     "name": "stdout",
     "output_type": "stream",
     "text": [
      "Cadence Design Systems, Inc. - Common Stock is not a winner\n",
      "Urban One, Inc.  - Class A Common Stock is not a winner\n",
      "Broadcom Inc. - Common Stock is not a winner\n",
      "Adobe Inc. - Common Stock is not a winner\n",
      "Alexion Pharmaceuticals, Inc. - Common Stock is not a winner\n",
      "Limelight Networks, Inc. - Common Stock is not a winner\n",
      "Maxim Integrated Products, Inc. - Common Stock is not a winner\n",
      "Ares Capital Corporation - Closed End Fund is not a winner\n",
      "Costco Wholesale Corporation - Common Stock is not a winner\n",
      "Genius Brands International, Inc. - Common Stock is not a winner\n",
      "Foresight Autonomous Holdings Ltd. - American Depositary Shares is not a winner\n",
      "Curis, Inc. - Common Stock is not a winner\n",
      "NortonLifeLock Inc. - Common Stock is not a winner\n",
      "Gevo, Inc. - Common Stock is not a winner\n",
      "Digital Ally, Inc. - Common Stock is not a winner\n",
      "Qurate Retail, Inc. - Series A Common Stock is not a winner\n",
      "Marriott International - Class A Common Stock is not a winner\n",
      "Verastem, Inc. - Common Stock is not a winner\n",
      "MacroGenics, Inc. - Common Stock is not a winner\n",
      "Sabre Corporation - Common Stock is a winner\n"
     ]
    },
    {
     "data": {
      "image/png": "[encoded data removed]",
      "text/plain": [
       "<Figure size 432x288 with 1 Axes>"
      ]
     },
     "metadata": {
      "needs_background": "light"
     },
     "output_type": "display_data"
    },
    {
     "name": "stdout",
     "output_type": "stream",
     "text": [
      "Endo International plc - Ordinary Shares is not a winner\n",
      "Beyond Meat, Inc. - Common stock is not a winner\n",
      "Yandex N.V. - Class A Ordinary Shares is not a winner\n",
      "CommScope Holding Company, Inc. - Common Stock is not a winner\n",
      "Digital Turbine, Inc. - Common Stock is not a winner\n",
      "Duck Creek Technologies, Inc. - Common Stock is not a winner\n",
      "Agenus Inc. - Common Stock is not a winner\n",
      "Datadog, Inc. - Class A Common Stock is not a winner\n",
      "Precipio, Inc. - Common Stock is not a winner\n",
      "ZoomInfo Technologies Inc. - Class A Common Stock is not a winner\n",
      "The Michaels Companies, Inc. - Common Stock is not a winner\n",
      "eBay Inc. - Common Stock is not a winner\n",
      "Evofem Biosciences, Inc. - Common Stock is not a winner\n",
      "Chembio Diagnostics, Inc. - Common Stock is not a winner\n",
      "Bilibili Inc. - American Depositary Shares is a winner\n"
     ]
    },
    {
     "data": {
      "image/png": "[encoded data removed]",
      "text/plain": [
       "<Figure size 432x288 with 1 Axes>"
      ]
     },
     "metadata": {
      "needs_background": "light"
     },
     "output_type": "display_data"
    },
    {
     "name": "stdout",
     "output_type": "stream",
     "text": [
      "Zions Bancorporation N.A. - Common Stock is not a winner\n",
      "Zoom Video Communications, Inc. - Class A Common Stock is not a winner\n",
      "People's United Financial, Inc. - Common Stock is not a winner\n",
      "Zosano Pharma Corporation - Common Stock is not a winner\n",
      "DISH Network Corporation - Class A Common Stock is not a winner\n",
      "Infinera Corporation - Common Stock is not a winner\n",
      "ViacomCBS Inc. - Class B Common Stock is not a winner\n",
      "The Carlyle Group Inc. - Common Stock is not a winner\n",
      "OpGen, Inc. - Common Stock is not a winner\n",
      "PepsiCo, Inc. - Common Stock is not a winner\n",
      "Workday, Inc. - Class A Common Stock is not a winner\n",
      "ImmunoGen, Inc. - Common Stock is not a winner\n",
      "AYRO, Inc. - Common Stock is not a winner\n",
      "Vanguard Total International Bond ETF is not a winner\n",
      "Teradyne, Inc. - Common Stock is not a winner\n",
      "Zillow Group, Inc. - Class C Capital Stock is not a winner\n",
      "The Goodyear Tire & Rubber Company - Common Stock is not a winner\n",
      "NantKwest, Inc. - Common Stock is not a winner\n",
      "Dynavax Technologies Corporation - Common Stock is not a winner\n"
     ]
    }
   ],
   "source": [
    "winners = []\n",
    "for ticker, name in series_tickers.iteritems():\n",
    "    \n",
    "    my_stock = stock(ticker)\n",
    "    my_stock.get_df()\n",
    "    x = my_stock.is_this_a_winner()\n",
    "    if x == True:\n",
    "        print(name,'is a winner')\n",
    "        my_stock.plot_df()\n",
    "        winners.append(ticker)\n",
    "    else:\n",
    "        print(name,'is not a winner')\n",
    "\n"
   ]
  },
  {
   "cell_type": "code",
   "execution_count": 93,
   "metadata": {},
   "outputs": [
    {
     "data": {
      "text/plain": [
       "['VG']"
      ]
     },
     "execution_count": 93,
     "metadata": {},
     "output_type": "execute_result"
    }
   ],
   "source": [
    "\n",
    "winners"
   ]
  },
  {
   "cell_type": "code",
   "execution_count": 75,
   "metadata": {},
   "outputs": [
    {
     "data": {
      "text/html": [
       "<div>\n",
       "<style scoped>\n",
       "    .dataframe tbody tr th:only-of-type {\n",
       "        vertical-align: middle;\n",
       "    }\n",
       "\n",
       "    .dataframe tbody tr th {\n",
       "        vertical-align: top;\n",
       "    }\n",
       "\n",
       "    .dataframe thead th {\n",
       "        text-align: right;\n",
       "    }\n",
       "</style>\n",
       "<table border=\"1\" class=\"dataframe\">\n",
       "  <thead>\n",
       "    <tr style=\"text-align: right;\">\n",
       "      <th></th>\n",
       "      <th>Date</th>\n",
       "      <th>High</th>\n",
       "      <th>Low</th>\n",
       "      <th>Open</th>\n",
       "      <th>Close</th>\n",
       "      <th>Volume</th>\n",
       "      <th>Adj Close</th>\n",
       "      <th>close_before</th>\n",
       "      <th>relative_price</th>\n",
       "      <th>Color</th>\n",
       "    </tr>\n",
       "  </thead>\n",
       "  <tbody>\n",
       "    <tr>\n",
       "      <th>0</th>\n",
       "      <td>2020-10-20</td>\n",
       "      <td>11.30</td>\n",
       "      <td>11.09</td>\n",
       "      <td>11.12</td>\n",
       "      <td>11.15</td>\n",
       "      <td>1994189</td>\n",
       "      <td>11.15</td>\n",
       "      <td>11.04</td>\n",
       "      <td>0.11</td>\n",
       "      <td>green</td>\n",
       "    </tr>\n",
       "    <tr>\n",
       "      <th>1</th>\n",
       "      <td>2020-10-19</td>\n",
       "      <td>11.14</td>\n",
       "      <td>10.88</td>\n",
       "      <td>10.97</td>\n",
       "      <td>11.04</td>\n",
       "      <td>2350700</td>\n",
       "      <td>11.04</td>\n",
       "      <td>10.91</td>\n",
       "      <td>0.13</td>\n",
       "      <td>green</td>\n",
       "    </tr>\n",
       "    <tr>\n",
       "      <th>2</th>\n",
       "      <td>2020-10-16</td>\n",
       "      <td>10.96</td>\n",
       "      <td>10.68</td>\n",
       "      <td>10.76</td>\n",
       "      <td>10.91</td>\n",
       "      <td>1295800</td>\n",
       "      <td>10.91</td>\n",
       "      <td>10.73</td>\n",
       "      <td>0.18</td>\n",
       "      <td>green</td>\n",
       "    </tr>\n",
       "    <tr>\n",
       "      <th>3</th>\n",
       "      <td>2020-10-15</td>\n",
       "      <td>10.74</td>\n",
       "      <td>10.34</td>\n",
       "      <td>10.46</td>\n",
       "      <td>10.73</td>\n",
       "      <td>2117200</td>\n",
       "      <td>10.73</td>\n",
       "      <td>NaN</td>\n",
       "      <td>NaN</td>\n",
       "      <td>green</td>\n",
       "    </tr>\n",
       "  </tbody>\n",
       "</table>\n",
       "</div>"
      ],
      "text/plain": [
       "        Date   High    Low   Open  Close   Volume  Adj Close  close_before  \\\n",
       "0 2020-10-20  11.30  11.09  11.12  11.15  1994189      11.15         11.04   \n",
       "1 2020-10-19  11.14  10.88  10.97  11.04  2350700      11.04         10.91   \n",
       "2 2020-10-16  10.96  10.68  10.76  10.91  1295800      10.91         10.73   \n",
       "3 2020-10-15  10.74  10.34  10.46  10.73  2117200      10.73           NaN   \n",
       "\n",
       "   relative_price  Color  \n",
       "0            0.11  green  \n",
       "1            0.13  green  \n",
       "2            0.18  green  \n",
       "3             NaN  green  "
      ]
     },
     "execution_count": 75,
     "metadata": {},
     "output_type": "execute_result"
    }
   ],
   "source": [
    "my_stock = stock('VG')\n",
    "my_stock.get_df()\n"
   ]
  },
  {
   "cell_type": "code",
   "execution_count": 76,
   "metadata": {},
   "outputs": [],
   "source": [
    "x = my_stock.is_this_a_winner()\n"
   ]
  },
  {
   "cell_type": "code",
   "execution_count": 84,
   "metadata": {},
   "outputs": [
    {
     "data": {
      "text/plain": [
       "True"
      ]
     },
     "execution_count": 84,
     "metadata": {},
     "output_type": "execute_result"
    }
   ],
   "source": [
    "x[()]"
   ]
  },
  {
   "cell_type": "code",
   "execution_count": 17,
   "metadata": {},
   "outputs": [],
   "source": [
    "df = my_stock.get_df()\n"
   ]
  },
  {
   "cell_type": "code",
   "execution_count": 18,
   "metadata": {},
   "outputs": [
    {
     "data": {
      "text/plain": [
       "array(True)"
      ]
     },
     "execution_count": 18,
     "metadata": {},
     "output_type": "execute_result"
    }
   ],
   "source": [
    "np.where(df['Color'][0]=='green' and df['Color'][1]=='green' and df['Color'][2]=='green' ,True,False)"
   ]
  },
  {
   "cell_type": "code",
   "execution_count": null,
   "metadata": {},
   "outputs": [],
   "source": [
    "    start_date = datetime(2020,10,15)\n",
    "    end_date = datetime.now().date()"
   ]
  },
  {
   "cell_type": "code",
   "execution_count": null,
   "metadata": {},
   "outputs": [],
   "source": [
    "df = web.DataReader('NIO', 'yahoo', start=start_date, end=end_date)\n"
   ]
  },
  {
   "cell_type": "code",
   "execution_count": null,
   "metadata": {},
   "outputs": [],
   "source": [
    "df"
   ]
  },
  {
   "cell_type": "code",
   "execution_count": null,
   "metadata": {},
   "outputs": [],
   "source": [
    "df.iloc[::-1]"
   ]
  },
  {
   "cell_type": "code",
   "execution_count": null,
   "metadata": {},
   "outputs": [],
   "source": []
  }
 ],
 "metadata": {
  "kernelspec": {
   "display_name": "Python 3",
   "language": "python",
   "name": "python3"
  },
  "language_info": {
   "codemirror_mode": {
    "name": "ipython",
    "version": 3
   },
   "file_extension": ".py",
   "mimetype": "text/x-python",
   "name": "python",
   "nbconvert_exporter": "python",
   "pygments_lexer": "ipython3",
   "version": "3.8.3"
  }
 },
 "nbformat": 4,
 "nbformat_minor": 4
}
